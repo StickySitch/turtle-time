{
 "cells": [
  {
   "cell_type": "markdown",
   "id": "1101e5af",
   "metadata": {},
   "source": [
    "# UFC Fight Prediction\n"
   ]
  },
  {
   "cell_type": "code",
   "execution_count": null,
   "id": "2b4fae9e",
   "metadata": {},
   "outputs": [],
   "source": [
    "# Import dependencies\n",
    "import pandas as pd\n",
    "import matplotlib.pyplot as plt\n",
    "import os\n",
    "import numpy as np\n",
    "from sklearn.model_selection import train_test_split\n",
    "from sklearn.compose import ColumnTransformer\n",
    "from sklearn.pipeline import Pipeline\n",
    "from sklearn.impute import SimpleImputer\n",
    "from sklearn.preprocessing import StandardScaler, OneHotEncoder\n",
    "from sklearn.compose import make_column_selector as selector\n",
    "from sklearn.linear_model import LogisticRegression\n",
    "from sklearn import set_config\n",
    "from sklearn.metrics import classification_report\n",
    "from sklearn.metrics import ConfusionMatrixDisplay\n"
   ]
  },
  {
   "cell_type": "code",
   "execution_count": null,
   "id": "1faf8e79",
   "metadata": {},
   "outputs": [],
   "source": [
    "# Read in the CSV file (data.csv) as a DataFrame\n",
    "ufc_df = pd.read_csv(\"Resources/scraped_data.csv\")\n",
    "ufc_df.head()\n"
   ]
  },
  {
   "cell_type": "markdown",
   "id": "6d80d799",
   "metadata": {},
   "source": [
    "## Data Cleaning\n"
   ]
  },
  {
   "cell_type": "code",
   "execution_count": null,
   "id": "18a770e0",
   "metadata": {},
   "outputs": [],
   "source": [
    "# TODO: Look into what the mixed datatypes are in each column (from the warning message after reading the csv).\n",
    "# DtypeWarning: Columns (1,96,120,137,140,144,161,164,256,297,300,304,321,324) have mixed types.\n",
    "# ufc_df.iloc[:,96].unique()\n",
    "ufc_df.dtypes.value_counts()\n"
   ]
  },
  {
   "cell_type": "code",
   "execution_count": null,
   "id": "8ac8304f",
   "metadata": {},
   "outputs": [],
   "source": [
    "# TODO: Fix handling of `--`, `---`, or `No Time Limit`; I was unsure on what each value means so I just set them to NaN.\n",
    "ufc_df = ufc_df.replace(\"--\", np.NaN)\n",
    "ufc_df = ufc_df.replace(\"---\", np.NaN)\n",
    "ufc_df = ufc_df.replace(\"No Time Limit\", np.NaN)\n"
   ]
  },
  {
   "cell_type": "code",
   "execution_count": null,
   "id": "3fdf183c",
   "metadata": {},
   "outputs": [],
   "source": [
    "#  Infer best column dtype & add missing values to rows\n",
    "ufc_df = ufc_df.convert_dtypes()\n",
    "ufc_df.dtypes.value_counts()\n"
   ]
  },
  {
   "cell_type": "code",
   "execution_count": null,
   "id": "a1f04a4b",
   "metadata": {},
   "outputs": [],
   "source": [
    "ufc_df.head()\n"
   ]
  },
  {
   "cell_type": "markdown",
   "id": "fbb87721",
   "metadata": {},
   "source": [
    "## Data Exploration\n"
   ]
  },
  {
   "cell_type": "markdown",
   "id": "cad348fe",
   "metadata": {},
   "source": [
    "### Winner (Red vs. Blue)\n"
   ]
  },
  {
   "cell_type": "code",
   "execution_count": null,
   "id": "6a952d5c",
   "metadata": {
    "scrolled": true
   },
   "outputs": [],
   "source": [
    "# Pie chart, Red vs. Blue win rate\n",
    "pie_labels = ufc_df[\"Winner\"].value_counts().index\n",
    "pie_values = ufc_df[\"Winner\"].value_counts().values\n",
    "explode = (0, 0.1)  # only \"explode\" the 2nd slice\n",
    "\n",
    "fig1, ax1 = plt.subplots()\n",
    "\n",
    "ax1.pie(\n",
    "    x=pie_values,\n",
    "    labels=pie_labels,\n",
    "    colors=[\"red\", \"blue\"],\n",
    "    explode=explode,\n",
    "    autopct=\"%1.1f%%\",\n",
    "    shadow=True,\n",
    "    startangle=90,\n",
    ")\n",
    "ax1.axis(\"equal\")  # Equal aspect ratio ensures that pie is drawn as a circle.\n",
    "ax1.axes.set_title(\"Win Rate (Red vs. Blue)\")\n",
    "\n",
    "plt.show()\n"
   ]
  },
  {
   "cell_type": "markdown",
   "id": "ed8eb407",
   "metadata": {},
   "source": [
    "### Age\n"
   ]
  },
  {
   "cell_type": "code",
   "execution_count": null,
   "id": "11a58a2d",
   "metadata": {},
   "outputs": [],
   "source": [
    "# Generate descriptive statistics on Age columns (min, max, etc)\n",
    "ufc_df[[\"R_Age\", \"B_Age\"]].describe()\n"
   ]
  },
  {
   "cell_type": "code",
   "execution_count": null,
   "id": "576cc011",
   "metadata": {},
   "outputs": [],
   "source": [
    "# Use Box & Whisker plot to visualize Age outliers\n",
    "ufc_df.boxplot(column=[\"R_Age\", \"B_Age\"])\n"
   ]
  },
  {
   "cell_type": "markdown",
   "id": "19369aa4",
   "metadata": {},
   "source": [
    "### Height\n"
   ]
  },
  {
   "cell_type": "code",
   "execution_count": null,
   "id": "ff978f88",
   "metadata": {
    "scrolled": true
   },
   "outputs": [],
   "source": [
    "# Generate descriptive statistics on Height columns (min, max, etc)\n",
    "ufc_df[[\"R_Height\", \"B_Height\"]].describe()\n"
   ]
  },
  {
   "cell_type": "code",
   "execution_count": null,
   "id": "7c207a4e",
   "metadata": {
    "scrolled": true
   },
   "outputs": [],
   "source": [
    "# Use Box & Whisker plot to visualize Height outliers\n",
    "ufc_df.boxplot(column=[\"R_Height\", \"B_Height\"])\n"
   ]
  },
  {
   "cell_type": "markdown",
   "id": "6a249120",
   "metadata": {},
   "source": [
    "### Weight\n"
   ]
  },
  {
   "cell_type": "code",
   "execution_count": null,
   "id": "6bbbd280",
   "metadata": {},
   "outputs": [],
   "source": [
    "# Generate descriptive statistics on Weight columns (min, max, etc)\n",
    "ufc_df[[\"R_Weight\", \"B_Weight\"]].describe()\n"
   ]
  },
  {
   "cell_type": "code",
   "execution_count": null,
   "id": "570c7e6b",
   "metadata": {},
   "outputs": [],
   "source": [
    "# Use Box & Whisker plot to visualize Weight outliers\n",
    "ufc_df.boxplot(column=[\"R_Weight\", \"B_Weight\"])\n"
   ]
  },
  {
   "cell_type": "markdown",
   "id": "4d1f9ac2",
   "metadata": {},
   "source": [
    "## Feature Engineering\n"
   ]
  },
  {
   "cell_type": "markdown",
   "id": "52b8a474",
   "metadata": {},
   "source": [
    "### Feature Creation\n"
   ]
  },
  {
   "cell_type": "markdown",
   "id": "f09e9301",
   "metadata": {},
   "source": [
    "#### Age Bucket\n"
   ]
  },
  {
   "cell_type": "code",
   "execution_count": null,
   "id": "0386d9f5",
   "metadata": {},
   "outputs": [],
   "source": [
    "# Create four equal-sized buckets for the Age columns based on sample quantiles\n",
    "\n",
    "ufc_df[\"R_Age_Bucket\"] = pd.qcut(\n",
    "    x=ufc_df[\"R_Age\"], q=4, labels=None, retbins=False, precision=3\n",
    ")\n",
    "\n",
    "\n",
    "ufc_df[\"B_Age_Bucket\"] = pd.qcut(\n",
    "    x=ufc_df[\"B_Age\"], q=4, labels=None, retbins=False, precision=3\n",
    ")\n",
    "\n",
    "\n",
    "# Drop age columns\n",
    "# ufc_df = ufc_df.drop(columns=[\"R_Age\", \"B_Age\"])\n"
   ]
  },
  {
   "cell_type": "code",
   "execution_count": null,
   "id": "94d25ca2",
   "metadata": {},
   "outputs": [],
   "source": [
    "# Create a bar graph to visualize R_Age_Bucket\n",
    "ufc_df[\"R_Age_Bucket\"].value_counts().plot(\n",
    "    kind=\"bar\", color=\"red\", rot=0, title=\"Red Age Buckets\"\n",
    ")\n"
   ]
  },
  {
   "cell_type": "code",
   "execution_count": null,
   "id": "4a963000",
   "metadata": {},
   "outputs": [],
   "source": [
    "# Create a bar graph to visualize B_Age_Bucket\n",
    "ufc_df[\"B_Age_Bucket\"].value_counts().plot(\n",
    "    kind=\"bar\", color=\"blue\", rot=0, title=\"Blue Age Buckets\"\n",
    ")\n"
   ]
  },
  {
   "cell_type": "markdown",
   "id": "675e7c02",
   "metadata": {},
   "source": [
    "#### Height Bucket\n"
   ]
  },
  {
   "cell_type": "code",
   "execution_count": null,
   "id": "b77f761f",
   "metadata": {},
   "outputs": [],
   "source": [
    "# Create four equal-sized buckets for the Height columns based on sample quantiles\n",
    "\n",
    "ufc_df[\"R_Height_Bucket\"] = pd.qcut(\n",
    "    x=ufc_df[\"R_Height\"], q=4, labels=None, retbins=False, precision=3\n",
    ")\n",
    "\n",
    "ufc_df[\"B_Height_Bucket\"] = pd.qcut(\n",
    "    x=ufc_df[\"B_Height\"], q=4, labels=None, retbins=False, precision=3\n",
    ")\n",
    "\n",
    "# Drop height columns\n",
    "# ufc_df = ufc_df.drop(columns=[\"R_Height\", \"B_Height\"])\n"
   ]
  },
  {
   "cell_type": "code",
   "execution_count": null,
   "id": "64a9e7d0",
   "metadata": {},
   "outputs": [],
   "source": [
    "# Create a bar graph to visualize R_Height_Bucket\n",
    "ufc_df[\"R_Height_Bucket\"].value_counts().plot(\n",
    "    kind=\"bar\", color=\"red\", rot=0, title=\"Red Height Buckets\"\n",
    ")\n"
   ]
  },
  {
   "cell_type": "code",
   "execution_count": null,
   "id": "3bdccce5",
   "metadata": {},
   "outputs": [],
   "source": [
    "# Create a bar graph to visualize B_Height_Bucket\n",
    "ufc_df[\"B_Height_Bucket\"].value_counts().plot(\n",
    "    kind=\"bar\", color=\"blue\", rot=0, title=\"Blue Height Buckets\"\n",
    ")\n"
   ]
  },
  {
   "cell_type": "markdown",
   "id": "54e91880",
   "metadata": {},
   "source": [
    "#### Weight Class\n"
   ]
  },
  {
   "cell_type": "markdown",
   "id": "a8f9e3e6",
   "metadata": {},
   "source": [
    "|   Weight Class    | Minimum Weight (lb) | Maximum Weight (lb) |\n",
    "| :---------------: | :-----------------: | :-----------------: |\n",
    "|    Heavyweight    |         205         |         265         |\n",
    "| Light Heavyweight |         185         |         205         |\n",
    "|   Middleweight    |         170         |         185         |\n",
    "|   Welterweight    |         155         |         170         |\n",
    "|    Lightweight    |         145         |         155         |\n",
    "|   Featherweight   |         135         |         145         |\n",
    "|   Bantamweight    |         125         |         135         |\n",
    "|     Flyweight     |         115         |         125         |\n",
    "|   Strawweight\\*   |          0          |         115         |\n",
    "\n",
    "- \"The women’s UFC division is split into only 4 classes: strawweight, flyweight, bantamweight, and featherweight. The strawweight class is only used in the women’s division and men do not compete in it.\"\n"
   ]
  },
  {
   "cell_type": "code",
   "execution_count": null,
   "id": "3fdfe449",
   "metadata": {},
   "outputs": [],
   "source": [
    "ufc_df[[\"R_Weight\", \"B_Weight\"]].describe()\n"
   ]
  },
  {
   "cell_type": "code",
   "execution_count": null,
   "id": "d9fe64d3",
   "metadata": {},
   "outputs": [],
   "source": [
    "# Keep rows that contain standardized weight class\n",
    "ufc_df = ufc_df.loc[\n",
    "    (ufc_df.Weight_Class == \"Heavyweight\")\n",
    "    | (ufc_df.Weight_Class == \"Light Heavyweight\")\n",
    "    | (ufc_df.Weight_Class == \"Middleweight\")\n",
    "    | (ufc_df.Weight_Class == \"Welterweight\")\n",
    "    | (ufc_df.Weight_Class == \"Lightweight\")\n",
    "    | (ufc_df.Weight_Class == \"Featherweight\")\n",
    "    | (ufc_df.Weight_Class == \"Bantamweight\")\n",
    "    | (ufc_df.Weight_Class == \"Flyweight\")\n",
    "    | (ufc_df.Weight_Class == \"Strawweight\")\n",
    "    | (ufc_df.Weight_Class == \"Featherweight\")\n",
    "    | (ufc_df.Weight_Class == \"Bantamweight\")\n",
    "    | (ufc_df.Weight_Class == \"Flyweight\")\n",
    "    | (ufc_df.Weight_Class == \"Strawweight\")\n",
    "    | (ufc_df.Weight_Class == \"Women's Strawweight\")\n",
    "    | (ufc_df.Weight_Class == \"Women's Flyweight\")\n",
    "    | (ufc_df.Weight_Class == \"Women's Bantamweight\")\n",
    "    | (ufc_df.Weight_Class == \"Women's Featherweight\")\n",
    "    # TODO: Should we exclude \"Catch Weight\", \"Super Heavyweight\", and \"Open Weight\"?\n",
    "    # | (ufc_df.Weight_Class == \"Catch Weight\")\n",
    "    # | (ufc_df.Weight_Class == \"Super Heavyweight\")\n",
    "    # | (ufc_df.Weight_Class == \"Open Weight\")\n",
    "    # TODO: Create `other` category for anything that does not fall in Weight_Class (?)\n",
    "    # | (ufc_df.Winnner == \"Other\")\n",
    "]\n"
   ]
  },
  {
   "cell_type": "markdown",
   "id": "2dc09e86",
   "metadata": {},
   "source": [
    "#### Gender\n"
   ]
  },
  {
   "cell_type": "code",
   "execution_count": null,
   "id": "c3195daf",
   "metadata": {},
   "outputs": [],
   "source": [
    "# Create Gender Fight Class Column\n",
    "\n",
    "# TODO: There might be a *better* way of determining Gender, but this seems to works.\n",
    "ufc_df[\"Gender\"] = np.where(\n",
    "    ufc_df[\"Weight_Class\"].str.contains(\"Women's\"), \"Female\", \"Male\"\n",
    ")\n"
   ]
  },
  {
   "cell_type": "code",
   "execution_count": null,
   "id": "49562894",
   "metadata": {},
   "outputs": [],
   "source": [
    "# ufc_df.loc[\n",
    "#     (ufc_df.Weight_Class == \"Women's Strawweight\")\n",
    "#     | (ufc_df.Weight_Class == \"Women's Flyweight\")\n",
    "#     | (ufc_df.Weight_Class == \"Women's Bantamweight\")\n",
    "#     | (ufc_df.Weight_Class == \"Women's Featherweight\")\n",
    "# ].shape\n",
    "\n",
    "ufc_df[\"Gender\"].value_counts()\n"
   ]
  },
  {
   "cell_type": "markdown",
   "id": "eafaa80f",
   "metadata": {},
   "source": [
    "#### Body Mass Index (BMI)\n"
   ]
  },
  {
   "cell_type": "markdown",
   "id": "69c56f19",
   "metadata": {},
   "source": [
    "[Calculating BMI Using the English System](https://www.cdc.gov/nccdphp/dnpao/growthcharts/training/bmiage/page5_2.html)\n",
    "\n",
    "Formula:\n",
    "\n",
    "> **weight** (lb) / [**height** (in)]<sup>2</sup> \\* **703**\n"
   ]
  },
  {
   "cell_type": "markdown",
   "id": "4ec1b9db",
   "metadata": {},
   "source": [
    "> \"The normal BMI scores may not be accurate if you're very muscular because muscle can add extra kilos, resulting in a high BMI when you're not an unhealthy weight.\" ([National Health Service](https://www.nhs.uk/conditions/obesity/diagnosis/))\n"
   ]
  },
  {
   "cell_type": "code",
   "execution_count": null,
   "id": "360c4df4",
   "metadata": {},
   "outputs": [],
   "source": [
    "# Divide weight by height twice, multiply by 703, and round to one decimal place\n",
    "\n",
    "# Calculate Red fighter BMI\n",
    "ufc_df[\"R_BMI\"] = round(ufc_df[\"R_Weight\"] / ufc_df[\"R_Height\"] ** 2 * 703, 1)\n",
    "\n",
    "# Calculate Blue fighter BMI\n",
    "ufc_df[\"B_BMI\"] = round(ufc_df[\"B_Weight\"] / ufc_df[\"B_Height\"] ** 2 * 703, 1)\n"
   ]
  },
  {
   "cell_type": "markdown",
   "id": "cd516fd1",
   "metadata": {},
   "source": [
    "#### Proposed new BMI\n"
   ]
  },
  {
   "cell_type": "markdown",
   "id": "22b5eb70",
   "metadata": {},
   "source": [
    "[Proposed formula](https://web.archive.org/web/20220321050055/https://people.maths.ox.ac.uk/trefethen/bmi.html) by Nick Trefethen, Professor of numerical analysis at University of Oxford.\n",
    "\n",
    "New formula:\n",
    "\n",
    "> **5734** \\* **weight** (lb) / [**height** (in)]<sup>2.5</sup>\n"
   ]
  },
  {
   "cell_type": "code",
   "execution_count": null,
   "id": "4752d7a8",
   "metadata": {},
   "outputs": [],
   "source": [
    "# Calculate BMI with the new proposed formula.\n",
    "\n",
    "# Calculate Red fighter BMI under proposed BMI\n",
    "ufc_df[\"R_BMI_proposed\"] = round(\n",
    "    5734 * ufc_df[\"R_Weight\"] / ufc_df[\"R_Height\"] ** 2.5, 1\n",
    ")\n",
    "\n",
    "# Calculate Blue fighter BMI under proposed BMI\n",
    "ufc_df[\"B_BMI_proposed\"] = round(\n",
    "    5734 * ufc_df[\"B_Weight\"] / ufc_df[\"B_Height\"] ** 2.5, 1\n",
    ")\n"
   ]
  },
  {
   "cell_type": "markdown",
   "id": "1689477d",
   "metadata": {},
   "source": [
    "### Set Categories\n"
   ]
  },
  {
   "cell_type": "code",
   "execution_count": null,
   "id": "79f6a0b9",
   "metadata": {},
   "outputs": [],
   "source": [
    "# Convert `winby` column into a category dtype\n",
    "ufc_df[\"Win_By\"] = ufc_df[\"Win_By\"].astype(\"category\")\n",
    "\n",
    "# Convert stances column into a category dtype\n",
    "ufc_df[\"R_Stance\"] = ufc_df[\"R_Stance\"].astype(\"category\")\n",
    "ufc_df[\"B_Stance\"] = ufc_df[\"B_Stance\"].astype(\"category\")\n",
    "\n",
    "# Convert Weight_Class column into a category dtype\n",
    "ufc_df[\"Weight_Class\"] = ufc_df[\"Weight_Class\"].astype(\"category\")\n",
    "\n",
    "# Convert Gender column into a category dtype\n",
    "ufc_df[\"Gender\"] = ufc_df[\"Gender\"].astype(\"category\")\n"
   ]
  },
  {
   "cell_type": "code",
   "execution_count": null,
   "id": "a2692394",
   "metadata": {},
   "outputs": [],
   "source": [
    "# TODO: View & check all `category` dtypes\n",
    "# TODO: View & check all `object` dtypes\n"
   ]
  },
  {
   "cell_type": "markdown",
   "id": "ba643290",
   "metadata": {},
   "source": [
    "### Select Features\n"
   ]
  },
  {
   "cell_type": "code",
   "execution_count": null,
   "id": "85274821",
   "metadata": {},
   "outputs": [],
   "source": [
    "numerical_cols = [\n",
    "    \"Max_Rounds\",\n",
    "    \"Ending_Round\",\n",
    "    \"B_Age\",\n",
    "    \"R_Age\",\n",
    "    \"B_Reach\",\n",
    "    \"R_Reach\",\n",
    "    \"B_Height\",\n",
    "    \"R_Height\",\n",
    "    \"B_Weight\",\n",
    "    \"R_Weight\",\n",
    "    \"R_BMI\",\n",
    "    \"B_BMI\",\n",
    "    # \"R_BMI_proposed\",\n",
    "    # \"B_BMI_proposed\",\n",
    "    \"B_Career_Significant_Strikes_Landed_PM\",\n",
    "    \"R_Career_Significant_Strikes_Landed_PM\",\n",
    "    \"R_Career_Striking_Accuracy\",\n",
    "    \"R_Career_Significant_Strike_Defence\",\n",
    "    \"R_Career_Takedown_Average\",\n",
    "    \"R_Career_Takedown_Accuracy\",\n",
    "    \"R_Career_Takedown_Defence\",\n",
    "    \"R_Career_Submission_Average\",\n",
    "    \"B_Career_Striking_Accuracy\",\n",
    "    \"B_Career_Significant_Strike_Defence\",\n",
    "    \"B_Career_Takedown_Average\",\n",
    "    \"B_Career_Takedown_Accuracy\",\n",
    "    \"B_Career_Takedown_Defence\",\n",
    "    \"B_Career_Submission_Average\",\n",
    "]\n",
    "categorical_cols = [\"Win_By\", \"B_Stance\", \"R_Stance\", \"Weight_Class\", \"Gender\"]\n",
    "\n",
    "# numerical_cols = selector(dtype_include=\"number\")\n",
    "# categorical_cols = selector(dtype_include=\"category\")\n",
    "\n",
    "target = \"Winner\"\n"
   ]
  },
  {
   "cell_type": "markdown",
   "id": "64bb0159",
   "metadata": {},
   "source": [
    "## Split Train-Test\n"
   ]
  },
  {
   "cell_type": "code",
   "execution_count": null,
   "id": "ed187a1d",
   "metadata": {},
   "outputs": [],
   "source": [
    "X = ufc_df.drop(target, axis=1)\n",
    "y = ufc_df[target]\n",
    "\n",
    "X_train, X_test, y_train, y_test = train_test_split(X, y, test_size=0.2, random_state=1)\n"
   ]
  },
  {
   "cell_type": "markdown",
   "id": "841f3b01",
   "metadata": {},
   "source": [
    "## Machine Learning Model\n"
   ]
  },
  {
   "cell_type": "markdown",
   "id": "d0c13209",
   "metadata": {},
   "source": [
    "### Logistic Regression Pipeline\n"
   ]
  },
  {
   "cell_type": "code",
   "execution_count": null,
   "id": "df604031",
   "metadata": {},
   "outputs": [],
   "source": [
    "# Imputation transformer to replace missing values using null values along each column.\n",
    "# Standardize features by removing the mean and scaling to unit variance with `StandardScalar()`.\n",
    "numeric_transformer = Pipeline(\n",
    "    steps=[\n",
    "        (\"imputer\", SimpleImputer(strategy=\"constant\", add_indicator=True)),\n",
    "        (\"scaler\", StandardScaler()),\n",
    "    ]\n",
    ")\n",
    "\n",
    "# categorical_transformer = OneHotEncoder(handle_unknown=\"ignore\")\n",
    "categorical_transformer = Pipeline(\n",
    "    steps=[\n",
    "        (\"onehot\", OneHotEncoder(handle_unknown=\"ignore\")),\n",
    "    ]\n",
    ")\n",
    "\n",
    "\n",
    "preprocessor = ColumnTransformer(\n",
    "    transformers=[\n",
    "        (\"num\", numeric_transformer, numerical_cols),\n",
    "        (\"cat\", categorical_transformer, categorical_cols),\n",
    "    ]\n",
    ")\n",
    "\n",
    "# Append classifier to preprocessing pipeline.\n",
    "# Now we have a full prediction pipeline.\n",
    "clf = Pipeline(\n",
    "    steps=[\n",
    "        (\"preprocessor\", preprocessor),\n",
    "        (\"classifier\", LogisticRegression(max_iter=500)),\n",
    "    ]\n",
    ")\n",
    "\n",
    "\n",
    "clf.fit(X_train, y_train)\n",
    "print(\"model score: %.3f\" % clf.score(X_test, y_test))\n"
   ]
  },
  {
   "cell_type": "markdown",
   "id": "e5115714",
   "metadata": {},
   "source": [
    "### Display Diagram of Pipeline\n"
   ]
  },
  {
   "cell_type": "code",
   "execution_count": null,
   "id": "00ddddfd",
   "metadata": {},
   "outputs": [],
   "source": [
    "set_config(display=\"diagram\")\n",
    "clf\n"
   ]
  },
  {
   "cell_type": "markdown",
   "id": "558f902c",
   "metadata": {},
   "source": [
    "### Classification Report\n"
   ]
  },
  {
   "cell_type": "code",
   "execution_count": null,
   "id": "ac143585",
   "metadata": {},
   "outputs": [],
   "source": [
    "y_pred = clf.predict(X_test)\n",
    "print(classification_report(y_test, y_pred))\n"
   ]
  },
  {
   "cell_type": "markdown",
   "id": "a6d72481",
   "metadata": {},
   "source": [
    "### Confusion Matrix\n"
   ]
  },
  {
   "cell_type": "code",
   "execution_count": null,
   "id": "193aae49",
   "metadata": {},
   "outputs": [],
   "source": [
    "disp = ConfusionMatrixDisplay.from_predictions(\n",
    "    y_test, y_pred, cmap=\"Blues\", values_format=\"d\"\n",
    ")\n",
    "plt.show()\n"
   ]
  },
  {
   "cell_type": "markdown",
   "id": "6f5a5e75",
   "metadata": {},
   "source": [
    "### Model Persistence\n"
   ]
  },
  {
   "cell_type": "code",
   "execution_count": null,
   "id": "0aaa082e",
   "metadata": {},
   "outputs": [],
   "source": [
    "# from joblib import dump, load\n",
    "\n",
    "# dump(clf, \"clf.joblib\")\n",
    "\n",
    "# !!! WARNING: DO NOT LOAD RANDOM OBJECTS !!!\n",
    "# clf = load(\"clf.joblib\")\n",
    "\n",
    "# # Prediction based on saved pipeline.\n",
    "# selection = X.iloc[[5]]\n",
    "# clf.predict(selection)\n"
   ]
  },
  {
   "cell_type": "markdown",
   "id": "e2ccbc2b",
   "metadata": {},
   "source": [
    "## Export Dataset\n"
   ]
  },
  {
   "cell_type": "code",
   "execution_count": null,
   "id": "ed615f9a",
   "metadata": {},
   "outputs": [],
   "source": [
    "# Export dataset to CSV\n",
    "ufc_df.to_csv(\"Resources/new_data.csv\", index=False)\n"
   ]
  }
 ],
 "metadata": {
  "interpreter": {
   "hash": "6d13ba43a92555a83a91537475403bd0fdb075d2524ba3a00b200fd1cb72e7c9"
  },
  "kernelspec": {
   "display_name": "mlenv",
   "language": "python",
   "name": "python3"
  },
  "language_info": {
   "codemirror_mode": {
    "name": "ipython",
    "version": 3
   },
   "file_extension": ".py",
   "mimetype": "text/x-python",
   "name": "python",
   "nbconvert_exporter": "python",
   "pygments_lexer": "ipython3",
   "version": "3.7.11"
  }
 },
 "nbformat": 4,
 "nbformat_minor": 5
}
