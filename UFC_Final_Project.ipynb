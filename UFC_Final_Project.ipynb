{
 "cells": [
  {
   "cell_type": "markdown",
   "id": "1101e5af",
   "metadata": {},
   "source": [
    "# Data Exploration\n"
   ]
  },
  {
   "cell_type": "code",
   "execution_count": 1,
   "id": "2b4fae9e",
   "metadata": {},
   "outputs": [],
   "source": [
    "# Import dependencies\n",
    "import pandas as pd\n",
    "import matplotlib.pyplot as plt\n",
    "import os\n"
   ]
  },
  {
   "cell_type": "code",
   "execution_count": 2,
   "id": "1faf8e79",
   "metadata": {},
   "outputs": [
    {
     "data": {
      "text/html": [
       "<div>\n",
       "<style scoped>\n",
       "    .dataframe tbody tr th:only-of-type {\n",
       "        vertical-align: middle;\n",
       "    }\n",
       "\n",
       "    .dataframe tbody tr th {\n",
       "        vertical-align: top;\n",
       "    }\n",
       "\n",
       "    .dataframe thead th {\n",
       "        text-align: right;\n",
       "    }\n",
       "</style>\n",
       "<table border=\"1\" class=\"dataframe\">\n",
       "  <thead>\n",
       "    <tr style=\"text-align: right;\">\n",
       "      <th></th>\n",
       "      <th>BPrev</th>\n",
       "      <th>BStreak</th>\n",
       "      <th>B_Age</th>\n",
       "      <th>B_Height</th>\n",
       "      <th>B_HomeTown</th>\n",
       "      <th>B_ID</th>\n",
       "      <th>B_Location</th>\n",
       "      <th>B_Name</th>\n",
       "      <th>B_Weight</th>\n",
       "      <th>B__Round1_Grappling_Reversals_Landed</th>\n",
       "      <th>...</th>\n",
       "      <th>R__Round5_TIP_Ground Time</th>\n",
       "      <th>R__Round5_TIP_Guard Control Time</th>\n",
       "      <th>R__Round5_TIP_Half Guard Control Time</th>\n",
       "      <th>R__Round5_TIP_Misc. Ground Control Time</th>\n",
       "      <th>R__Round5_TIP_Mount Control Time</th>\n",
       "      <th>R__Round5_TIP_Neutral Time</th>\n",
       "      <th>R__Round5_TIP_Side Control Time</th>\n",
       "      <th>R__Round5_TIP_Standing Time</th>\n",
       "      <th>winby</th>\n",
       "      <th>winner</th>\n",
       "    </tr>\n",
       "  </thead>\n",
       "  <tbody>\n",
       "    <tr>\n",
       "      <th>0</th>\n",
       "      <td>0</td>\n",
       "      <td>0</td>\n",
       "      <td>38.0</td>\n",
       "      <td>193.0</td>\n",
       "      <td>Hounslow England</td>\n",
       "      <td>808</td>\n",
       "      <td>Amsterdam The Netherlands</td>\n",
       "      <td>Alistair Overeem</td>\n",
       "      <td>120.0</td>\n",
       "      <td>NaN</td>\n",
       "      <td>...</td>\n",
       "      <td>NaN</td>\n",
       "      <td>NaN</td>\n",
       "      <td>NaN</td>\n",
       "      <td>NaN</td>\n",
       "      <td>NaN</td>\n",
       "      <td>NaN</td>\n",
       "      <td>NaN</td>\n",
       "      <td>NaN</td>\n",
       "      <td>DEC</td>\n",
       "      <td>blue</td>\n",
       "    </tr>\n",
       "    <tr>\n",
       "      <th>1</th>\n",
       "      <td>0</td>\n",
       "      <td>0</td>\n",
       "      <td>36.0</td>\n",
       "      <td>172.0</td>\n",
       "      <td>Chicago, Illinois United States</td>\n",
       "      <td>1054</td>\n",
       "      <td>Chicago, Illinois United States</td>\n",
       "      <td>Ricardo Lamas</td>\n",
       "      <td>65.0</td>\n",
       "      <td>NaN</td>\n",
       "      <td>...</td>\n",
       "      <td>NaN</td>\n",
       "      <td>NaN</td>\n",
       "      <td>NaN</td>\n",
       "      <td>NaN</td>\n",
       "      <td>NaN</td>\n",
       "      <td>NaN</td>\n",
       "      <td>NaN</td>\n",
       "      <td>NaN</td>\n",
       "      <td>DEC</td>\n",
       "      <td>red</td>\n",
       "    </tr>\n",
       "    <tr>\n",
       "      <th>2</th>\n",
       "      <td>0</td>\n",
       "      <td>0</td>\n",
       "      <td>39.0</td>\n",
       "      <td>167.0</td>\n",
       "      <td>Isla Vista , California USA</td>\n",
       "      <td>959</td>\n",
       "      <td>Sacramento, California USA</td>\n",
       "      <td>Urijah Faber</td>\n",
       "      <td>61.0</td>\n",
       "      <td>NaN</td>\n",
       "      <td>...</td>\n",
       "      <td>NaN</td>\n",
       "      <td>NaN</td>\n",
       "      <td>NaN</td>\n",
       "      <td>NaN</td>\n",
       "      <td>NaN</td>\n",
       "      <td>NaN</td>\n",
       "      <td>NaN</td>\n",
       "      <td>NaN</td>\n",
       "      <td>KO/TKO</td>\n",
       "      <td>red</td>\n",
       "    </tr>\n",
       "    <tr>\n",
       "      <th>3</th>\n",
       "      <td>0</td>\n",
       "      <td>0</td>\n",
       "      <td>33.0</td>\n",
       "      <td>167.0</td>\n",
       "      <td>San Diego, CA USA</td>\n",
       "      <td>1056</td>\n",
       "      <td>San Diego, CA USA</td>\n",
       "      <td>Danny Martinez</td>\n",
       "      <td>56.0</td>\n",
       "      <td>NaN</td>\n",
       "      <td>...</td>\n",
       "      <td>NaN</td>\n",
       "      <td>NaN</td>\n",
       "      <td>NaN</td>\n",
       "      <td>NaN</td>\n",
       "      <td>NaN</td>\n",
       "      <td>NaN</td>\n",
       "      <td>NaN</td>\n",
       "      <td>NaN</td>\n",
       "      <td>DEC</td>\n",
       "      <td>red</td>\n",
       "    </tr>\n",
       "    <tr>\n",
       "      <th>4</th>\n",
       "      <td>0</td>\n",
       "      <td>0</td>\n",
       "      <td>36.0</td>\n",
       "      <td>185.0</td>\n",
       "      <td>Southampton England</td>\n",
       "      <td>2005</td>\n",
       "      <td>Southampton England</td>\n",
       "      <td>Tom Watson</td>\n",
       "      <td>84.0</td>\n",
       "      <td>NaN</td>\n",
       "      <td>...</td>\n",
       "      <td>NaN</td>\n",
       "      <td>NaN</td>\n",
       "      <td>NaN</td>\n",
       "      <td>NaN</td>\n",
       "      <td>NaN</td>\n",
       "      <td>NaN</td>\n",
       "      <td>NaN</td>\n",
       "      <td>NaN</td>\n",
       "      <td>DEC</td>\n",
       "      <td>red</td>\n",
       "    </tr>\n",
       "  </tbody>\n",
       "</table>\n",
       "<p>5 rows × 894 columns</p>\n",
       "</div>"
      ],
      "text/plain": [
       "   BPrev  BStreak  B_Age  B_Height                       B_HomeTown  B_ID  \\\n",
       "0      0        0   38.0     193.0                 Hounslow England   808   \n",
       "1      0        0   36.0     172.0  Chicago, Illinois United States  1054   \n",
       "2      0        0   39.0     167.0      Isla Vista , California USA   959   \n",
       "3      0        0   33.0     167.0                San Diego, CA USA  1056   \n",
       "4      0        0   36.0     185.0              Southampton England  2005   \n",
       "\n",
       "                        B_Location            B_Name  B_Weight  \\\n",
       "0        Amsterdam The Netherlands  Alistair Overeem     120.0   \n",
       "1  Chicago, Illinois United States     Ricardo Lamas      65.0   \n",
       "2       Sacramento, California USA      Urijah Faber      61.0   \n",
       "3                San Diego, CA USA    Danny Martinez      56.0   \n",
       "4              Southampton England        Tom Watson      84.0   \n",
       "\n",
       "   B__Round1_Grappling_Reversals_Landed  ...  R__Round5_TIP_Ground Time  \\\n",
       "0                                   NaN  ...                        NaN   \n",
       "1                                   NaN  ...                        NaN   \n",
       "2                                   NaN  ...                        NaN   \n",
       "3                                   NaN  ...                        NaN   \n",
       "4                                   NaN  ...                        NaN   \n",
       "\n",
       "   R__Round5_TIP_Guard Control Time  R__Round5_TIP_Half Guard Control Time  \\\n",
       "0                               NaN                                    NaN   \n",
       "1                               NaN                                    NaN   \n",
       "2                               NaN                                    NaN   \n",
       "3                               NaN                                    NaN   \n",
       "4                               NaN                                    NaN   \n",
       "\n",
       "   R__Round5_TIP_Misc. Ground Control Time  R__Round5_TIP_Mount Control Time  \\\n",
       "0                                      NaN                               NaN   \n",
       "1                                      NaN                               NaN   \n",
       "2                                      NaN                               NaN   \n",
       "3                                      NaN                               NaN   \n",
       "4                                      NaN                               NaN   \n",
       "\n",
       "   R__Round5_TIP_Neutral Time  R__Round5_TIP_Side Control Time  \\\n",
       "0                         NaN                              NaN   \n",
       "1                         NaN                              NaN   \n",
       "2                         NaN                              NaN   \n",
       "3                         NaN                              NaN   \n",
       "4                         NaN                              NaN   \n",
       "\n",
       "   R__Round5_TIP_Standing Time   winby  winner  \n",
       "0                          NaN     DEC    blue  \n",
       "1                          NaN     DEC     red  \n",
       "2                          NaN  KO/TKO     red  \n",
       "3                          NaN     DEC     red  \n",
       "4                          NaN     DEC     red  \n",
       "\n",
       "[5 rows x 894 columns]"
      ]
     },
     "execution_count": 2,
     "metadata": {},
     "output_type": "execute_result"
    }
   ],
   "source": [
    "# Read in the CSV file (data.csv) as a DataFrame\n",
    "ufc_df = pd.read_csv(\"Resources/data.csv\")\n",
    "ufc_df.head()\n"
   ]
  },
  {
   "cell_type": "code",
   "execution_count": 3,
   "id": "8aad8c4f",
   "metadata": {},
   "outputs": [],
   "source": [
    "#  Infer best column dtype & add missing values to rows\n",
    "ufc_df = ufc_df.convert_dtypes()\n"
   ]
  },
  {
   "cell_type": "code",
   "execution_count": 4,
   "id": "5eeccefc",
   "metadata": {},
   "outputs": [],
   "source": [
    "# Convert `winby` column into a category dtype\n",
    "ufc_df[\"winby\"] = ufc_df[\"winby\"].astype(\"category\")\n"
   ]
  },
  {
   "cell_type": "code",
   "execution_count": 5,
   "id": "f42ccbea",
   "metadata": {
    "scrolled": true
   },
   "outputs": [
    {
     "data": {
      "text/html": [
       "<div>\n",
       "<style scoped>\n",
       "    .dataframe tbody tr th:only-of-type {\n",
       "        vertical-align: middle;\n",
       "    }\n",
       "\n",
       "    .dataframe tbody tr th {\n",
       "        vertical-align: top;\n",
       "    }\n",
       "\n",
       "    .dataframe thead th {\n",
       "        text-align: right;\n",
       "    }\n",
       "</style>\n",
       "<table border=\"1\" class=\"dataframe\">\n",
       "  <thead>\n",
       "    <tr style=\"text-align: right;\">\n",
       "      <th></th>\n",
       "      <th>B_Age</th>\n",
       "      <th>B_Height</th>\n",
       "      <th>B_Name</th>\n",
       "      <th>B_Weight</th>\n",
       "      <th>B__Round1_Grappling_Reversals_Landed</th>\n",
       "      <th>B__Round1_Grappling_Standups_Landed</th>\n",
       "      <th>B__Round1_Grappling_Submissions_Attempts</th>\n",
       "      <th>B__Round1_Grappling_Takedowns_Attempts</th>\n",
       "      <th>B__Round1_Grappling_Takedowns_Landed</th>\n",
       "      <th>B__Round1_Strikes_Body Significant Strikes_Attempts</th>\n",
       "      <th>...</th>\n",
       "      <th>R__Round5_TIP_Ground Time</th>\n",
       "      <th>R__Round5_TIP_Guard Control Time</th>\n",
       "      <th>R__Round5_TIP_Half Guard Control Time</th>\n",
       "      <th>R__Round5_TIP_Misc. Ground Control Time</th>\n",
       "      <th>R__Round5_TIP_Mount Control Time</th>\n",
       "      <th>R__Round5_TIP_Neutral Time</th>\n",
       "      <th>R__Round5_TIP_Side Control Time</th>\n",
       "      <th>R__Round5_TIP_Standing Time</th>\n",
       "      <th>winby</th>\n",
       "      <th>winner</th>\n",
       "    </tr>\n",
       "  </thead>\n",
       "  <tbody>\n",
       "    <tr>\n",
       "      <th>0</th>\n",
       "      <td>38</td>\n",
       "      <td>193</td>\n",
       "      <td>Alistair Overeem</td>\n",
       "      <td>120</td>\n",
       "      <td>&lt;NA&gt;</td>\n",
       "      <td>&lt;NA&gt;</td>\n",
       "      <td>&lt;NA&gt;</td>\n",
       "      <td>&lt;NA&gt;</td>\n",
       "      <td>&lt;NA&gt;</td>\n",
       "      <td>&lt;NA&gt;</td>\n",
       "      <td>...</td>\n",
       "      <td>&lt;NA&gt;</td>\n",
       "      <td>&lt;NA&gt;</td>\n",
       "      <td>&lt;NA&gt;</td>\n",
       "      <td>&lt;NA&gt;</td>\n",
       "      <td>&lt;NA&gt;</td>\n",
       "      <td>&lt;NA&gt;</td>\n",
       "      <td>&lt;NA&gt;</td>\n",
       "      <td>&lt;NA&gt;</td>\n",
       "      <td>DEC</td>\n",
       "      <td>blue</td>\n",
       "    </tr>\n",
       "    <tr>\n",
       "      <th>1</th>\n",
       "      <td>36</td>\n",
       "      <td>172</td>\n",
       "      <td>Ricardo Lamas</td>\n",
       "      <td>65</td>\n",
       "      <td>&lt;NA&gt;</td>\n",
       "      <td>&lt;NA&gt;</td>\n",
       "      <td>&lt;NA&gt;</td>\n",
       "      <td>&lt;NA&gt;</td>\n",
       "      <td>&lt;NA&gt;</td>\n",
       "      <td>&lt;NA&gt;</td>\n",
       "      <td>...</td>\n",
       "      <td>&lt;NA&gt;</td>\n",
       "      <td>&lt;NA&gt;</td>\n",
       "      <td>&lt;NA&gt;</td>\n",
       "      <td>&lt;NA&gt;</td>\n",
       "      <td>&lt;NA&gt;</td>\n",
       "      <td>&lt;NA&gt;</td>\n",
       "      <td>&lt;NA&gt;</td>\n",
       "      <td>&lt;NA&gt;</td>\n",
       "      <td>DEC</td>\n",
       "      <td>red</td>\n",
       "    </tr>\n",
       "    <tr>\n",
       "      <th>2</th>\n",
       "      <td>39</td>\n",
       "      <td>167</td>\n",
       "      <td>Urijah Faber</td>\n",
       "      <td>61</td>\n",
       "      <td>&lt;NA&gt;</td>\n",
       "      <td>&lt;NA&gt;</td>\n",
       "      <td>&lt;NA&gt;</td>\n",
       "      <td>&lt;NA&gt;</td>\n",
       "      <td>&lt;NA&gt;</td>\n",
       "      <td>&lt;NA&gt;</td>\n",
       "      <td>...</td>\n",
       "      <td>&lt;NA&gt;</td>\n",
       "      <td>&lt;NA&gt;</td>\n",
       "      <td>&lt;NA&gt;</td>\n",
       "      <td>&lt;NA&gt;</td>\n",
       "      <td>&lt;NA&gt;</td>\n",
       "      <td>&lt;NA&gt;</td>\n",
       "      <td>&lt;NA&gt;</td>\n",
       "      <td>&lt;NA&gt;</td>\n",
       "      <td>KO/TKO</td>\n",
       "      <td>red</td>\n",
       "    </tr>\n",
       "    <tr>\n",
       "      <th>3</th>\n",
       "      <td>33</td>\n",
       "      <td>167</td>\n",
       "      <td>Danny Martinez</td>\n",
       "      <td>56</td>\n",
       "      <td>&lt;NA&gt;</td>\n",
       "      <td>&lt;NA&gt;</td>\n",
       "      <td>&lt;NA&gt;</td>\n",
       "      <td>&lt;NA&gt;</td>\n",
       "      <td>&lt;NA&gt;</td>\n",
       "      <td>&lt;NA&gt;</td>\n",
       "      <td>...</td>\n",
       "      <td>&lt;NA&gt;</td>\n",
       "      <td>&lt;NA&gt;</td>\n",
       "      <td>&lt;NA&gt;</td>\n",
       "      <td>&lt;NA&gt;</td>\n",
       "      <td>&lt;NA&gt;</td>\n",
       "      <td>&lt;NA&gt;</td>\n",
       "      <td>&lt;NA&gt;</td>\n",
       "      <td>&lt;NA&gt;</td>\n",
       "      <td>DEC</td>\n",
       "      <td>red</td>\n",
       "    </tr>\n",
       "    <tr>\n",
       "      <th>4</th>\n",
       "      <td>36</td>\n",
       "      <td>185</td>\n",
       "      <td>Tom Watson</td>\n",
       "      <td>84</td>\n",
       "      <td>&lt;NA&gt;</td>\n",
       "      <td>&lt;NA&gt;</td>\n",
       "      <td>&lt;NA&gt;</td>\n",
       "      <td>&lt;NA&gt;</td>\n",
       "      <td>&lt;NA&gt;</td>\n",
       "      <td>&lt;NA&gt;</td>\n",
       "      <td>...</td>\n",
       "      <td>&lt;NA&gt;</td>\n",
       "      <td>&lt;NA&gt;</td>\n",
       "      <td>&lt;NA&gt;</td>\n",
       "      <td>&lt;NA&gt;</td>\n",
       "      <td>&lt;NA&gt;</td>\n",
       "      <td>&lt;NA&gt;</td>\n",
       "      <td>&lt;NA&gt;</td>\n",
       "      <td>&lt;NA&gt;</td>\n",
       "      <td>DEC</td>\n",
       "      <td>red</td>\n",
       "    </tr>\n",
       "  </tbody>\n",
       "</table>\n",
       "<p>5 rows × 882 columns</p>\n",
       "</div>"
      ],
      "text/plain": [
       "   B_Age  B_Height            B_Name  B_Weight  \\\n",
       "0     38       193  Alistair Overeem       120   \n",
       "1     36       172     Ricardo Lamas        65   \n",
       "2     39       167      Urijah Faber        61   \n",
       "3     33       167    Danny Martinez        56   \n",
       "4     36       185        Tom Watson        84   \n",
       "\n",
       "   B__Round1_Grappling_Reversals_Landed  B__Round1_Grappling_Standups_Landed  \\\n",
       "0                                  <NA>                                 <NA>   \n",
       "1                                  <NA>                                 <NA>   \n",
       "2                                  <NA>                                 <NA>   \n",
       "3                                  <NA>                                 <NA>   \n",
       "4                                  <NA>                                 <NA>   \n",
       "\n",
       "   B__Round1_Grappling_Submissions_Attempts  \\\n",
       "0                                      <NA>   \n",
       "1                                      <NA>   \n",
       "2                                      <NA>   \n",
       "3                                      <NA>   \n",
       "4                                      <NA>   \n",
       "\n",
       "   B__Round1_Grappling_Takedowns_Attempts  \\\n",
       "0                                    <NA>   \n",
       "1                                    <NA>   \n",
       "2                                    <NA>   \n",
       "3                                    <NA>   \n",
       "4                                    <NA>   \n",
       "\n",
       "   B__Round1_Grappling_Takedowns_Landed  \\\n",
       "0                                  <NA>   \n",
       "1                                  <NA>   \n",
       "2                                  <NA>   \n",
       "3                                  <NA>   \n",
       "4                                  <NA>   \n",
       "\n",
       "   B__Round1_Strikes_Body Significant Strikes_Attempts  ...  \\\n",
       "0                                               <NA>    ...   \n",
       "1                                               <NA>    ...   \n",
       "2                                               <NA>    ...   \n",
       "3                                               <NA>    ...   \n",
       "4                                               <NA>    ...   \n",
       "\n",
       "   R__Round5_TIP_Ground Time  R__Round5_TIP_Guard Control Time  \\\n",
       "0                       <NA>                              <NA>   \n",
       "1                       <NA>                              <NA>   \n",
       "2                       <NA>                              <NA>   \n",
       "3                       <NA>                              <NA>   \n",
       "4                       <NA>                              <NA>   \n",
       "\n",
       "   R__Round5_TIP_Half Guard Control Time  \\\n",
       "0                                   <NA>   \n",
       "1                                   <NA>   \n",
       "2                                   <NA>   \n",
       "3                                   <NA>   \n",
       "4                                   <NA>   \n",
       "\n",
       "   R__Round5_TIP_Misc. Ground Control Time  R__Round5_TIP_Mount Control Time  \\\n",
       "0                                     <NA>                              <NA>   \n",
       "1                                     <NA>                              <NA>   \n",
       "2                                     <NA>                              <NA>   \n",
       "3                                     <NA>                              <NA>   \n",
       "4                                     <NA>                              <NA>   \n",
       "\n",
       "   R__Round5_TIP_Neutral Time  R__Round5_TIP_Side Control Time  \\\n",
       "0                        <NA>                             <NA>   \n",
       "1                        <NA>                             <NA>   \n",
       "2                        <NA>                             <NA>   \n",
       "3                        <NA>                             <NA>   \n",
       "4                        <NA>                             <NA>   \n",
       "\n",
       "   R__Round5_TIP_Standing Time   winby  winner  \n",
       "0                         <NA>     DEC    blue  \n",
       "1                         <NA>     DEC     red  \n",
       "2                         <NA>  KO/TKO     red  \n",
       "3                         <NA>     DEC     red  \n",
       "4                         <NA>     DEC     red  \n",
       "\n",
       "[5 rows x 882 columns]"
      ]
     },
     "execution_count": 5,
     "metadata": {},
     "output_type": "execute_result"
    }
   ],
   "source": [
    "# Drop the non-beneficial columns\n",
    "ufc_df = ufc_df.drop(\n",
    "    columns=[\n",
    "        \"BPrev\",\n",
    "        \"RPrev\",\n",
    "        \"BStreak\",\n",
    "        \"B_Location\",\n",
    "        \"R_Location\",\n",
    "        \"Event_ID\",\n",
    "        \"Fight_ID\",\n",
    "        \"B_ID\",\n",
    "        \"R_ID\",\n",
    "        \"B_HomeTown\",\n",
    "        \"R_HomeTown\",\n",
    "        \"Date\",\n",
    "    ]\n",
    ")\n",
    "ufc_df.head()\n"
   ]
  },
  {
   "cell_type": "code",
   "execution_count": 6,
   "id": "ba89a579",
   "metadata": {},
   "outputs": [],
   "source": [
    "# Drops draws and no contest decisions from 'winner' column\n",
    "# line 6 in the cell below renders this redundant, while this cell renders the 'before and after'\n",
    "#    in the following cell redundant. We'll keep both for now and clean up later.\n",
    "ufc_df = ufc_df[(ufc_df.winner != \"draw\")]\n",
    "ufc_df = ufc_df[(ufc_df.winner != \"no contest\")]\n"
   ]
  },
  {
   "cell_type": "code",
   "execution_count": 7,
   "id": "264da689",
   "metadata": {},
   "outputs": [
    {
     "name": "stdout",
     "output_type": "stream",
     "text": [
      "Before\n",
      "--------------------\n",
      "red     1327\n",
      "blue     951\n",
      "Name: winner, dtype: Int64\n",
      "--------------------\n",
      "\n",
      "\n",
      "After\n",
      "--------------------\n",
      "red     1327\n",
      "blue     951\n",
      "Name: winner, dtype: Int64\n",
      "--------------------\n"
     ]
    }
   ],
   "source": [
    "# Keep only wins and losses (i.e., Red & Blue)\n",
    "\n",
    "# Display `value_counts()` on `winner` column before modification\n",
    "print(\"Before\", \"-\" * 20, ufc_df.winner.value_counts(), \"-\" * 20, \"\\n\", sep=os.linesep)\n",
    "\n",
    "ufc_df = ufc_df.loc[(ufc_df.winner == \"blue\") | (ufc_df.winner == \"red\")]\n",
    "\n",
    "# Display results\n",
    "print(\"After\", \"-\" * 20, ufc_df.winner.value_counts(), \"-\" * 20, sep=os.linesep)\n"
   ]
  },
  {
   "cell_type": "code",
   "execution_count": 8,
   "id": "6a952d5c",
   "metadata": {
    "scrolled": true
   },
   "outputs": [
    {
     "data": {
      "image/png": "[encoded data removed]",
      "text/plain": [
       "<Figure size 432x288 with 1 Axes>"
      ]
     },
     "metadata": {},
     "output_type": "display_data"
    }
   ],
   "source": [
    "# Pie chart, Red vs. Blue win rate\n",
    "pie_labels = ufc_df[\"winner\"].value_counts().index\n",
    "pie_values = ufc_df[\"winner\"].value_counts().values\n",
    "explode = (0, 0.1)  # only \"explode\" the 2nd slice\n",
    "\n",
    "fig1, ax1 = plt.subplots()\n",
    "\n",
    "ax1.pie(\n",
    "    x=pie_values,\n",
    "    labels=pie_labels,\n",
    "    colors=[\"red\", \"blue\"],\n",
    "    explode=explode,\n",
    "    autopct=\"%1.1f%%\",\n",
    "    shadow=True,\n",
    "    startangle=90,\n",
    ")\n",
    "ax1.axis(\"equal\")  # Equal aspect ratio ensures that pie is drawn as a circle.\n",
    "ax1.axes.set_title(\"Win Rate (Red vs. Blue)\")\n",
    "\n",
    "plt.show()\n"
   ]
  },
  {
   "cell_type": "markdown",
   "id": "ed8eb407",
   "metadata": {},
   "source": [
    "## Data Exploration: Age\n"
   ]
  },
  {
   "cell_type": "code",
   "execution_count": 9,
   "id": "11a58a2d",
   "metadata": {},
   "outputs": [
    {
     "data": {
      "text/html": [
       "<div>\n",
       "<style scoped>\n",
       "    .dataframe tbody tr th:only-of-type {\n",
       "        vertical-align: middle;\n",
       "    }\n",
       "\n",
       "    .dataframe tbody tr th {\n",
       "        vertical-align: top;\n",
       "    }\n",
       "\n",
       "    .dataframe thead th {\n",
       "        text-align: right;\n",
       "    }\n",
       "</style>\n",
       "<table border=\"1\" class=\"dataframe\">\n",
       "  <thead>\n",
       "    <tr style=\"text-align: right;\">\n",
       "      <th></th>\n",
       "      <th>R_Age</th>\n",
       "      <th>B_Age</th>\n",
       "    </tr>\n",
       "  </thead>\n",
       "  <tbody>\n",
       "    <tr>\n",
       "      <th>count</th>\n",
       "      <td>2253.000000</td>\n",
       "      <td>2261.000000</td>\n",
       "    </tr>\n",
       "    <tr>\n",
       "      <th>mean</th>\n",
       "      <td>32.421216</td>\n",
       "      <td>31.768244</td>\n",
       "    </tr>\n",
       "    <tr>\n",
       "      <th>std</th>\n",
       "      <td>4.203064</td>\n",
       "      <td>4.156803</td>\n",
       "    </tr>\n",
       "    <tr>\n",
       "      <th>min</th>\n",
       "      <td>20.000000</td>\n",
       "      <td>20.000000</td>\n",
       "    </tr>\n",
       "    <tr>\n",
       "      <th>25%</th>\n",
       "      <td>29.000000</td>\n",
       "      <td>29.000000</td>\n",
       "    </tr>\n",
       "    <tr>\n",
       "      <th>50%</th>\n",
       "      <td>32.000000</td>\n",
       "      <td>31.000000</td>\n",
       "    </tr>\n",
       "    <tr>\n",
       "      <th>75%</th>\n",
       "      <td>35.000000</td>\n",
       "      <td>35.000000</td>\n",
       "    </tr>\n",
       "    <tr>\n",
       "      <th>max</th>\n",
       "      <td>48.000000</td>\n",
       "      <td>48.000000</td>\n",
       "    </tr>\n",
       "  </tbody>\n",
       "</table>\n",
       "</div>"
      ],
      "text/plain": [
       "             R_Age        B_Age\n",
       "count  2253.000000  2261.000000\n",
       "mean     32.421216    31.768244\n",
       "std       4.203064     4.156803\n",
       "min      20.000000    20.000000\n",
       "25%      29.000000    29.000000\n",
       "50%      32.000000    31.000000\n",
       "75%      35.000000    35.000000\n",
       "max      48.000000    48.000000"
      ]
     },
     "execution_count": 9,
     "metadata": {},
     "output_type": "execute_result"
    }
   ],
   "source": [
    "# Find the max value in the Age columns\n",
    "ufc_df[[\"R_Age\", \"B_Age\"]].describe()\n"
   ]
  },
  {
   "cell_type": "code",
   "execution_count": 10,
   "id": "576cc011",
   "metadata": {},
   "outputs": [
    {
     "data": {
      "text/plain": [
       "<AxesSubplot:>"
      ]
     },
     "execution_count": 10,
     "metadata": {},
     "output_type": "execute_result"
    },
    {
     "data": {
      "image/png": "[encoded data removed]",
      "text/plain": [
       "<Figure size 432x288 with 1 Axes>"
      ]
     },
     "metadata": {
      "needs_background": "light"
     },
     "output_type": "display_data"
    }
   ],
   "source": [
    "# Use Box & Whisker plot to visualize outliers\n",
    "ufc_df.boxplot(column=[\"R_Age\", \"B_Age\"])\n"
   ]
  },
  {
   "cell_type": "code",
   "execution_count": 11,
   "id": "790fac28",
   "metadata": {},
   "outputs": [
    {
     "name": "stderr",
     "output_type": "stream",
     "text": [
      "/opt/anaconda3/envs/mlenv/lib/python3.7/site-packages/ipykernel_launcher.py:4: PerformanceWarning: DataFrame is highly fragmented.  This is usually the result of calling `frame.insert` many times, which has poor performance.  Consider joining all columns at once using pd.concat(axis=1) instead.  To get a de-fragmented frame, use `newframe = frame.copy()`\n",
      "  after removing the cwd from sys.path.\n",
      "/opt/anaconda3/envs/mlenv/lib/python3.7/site-packages/ipykernel_launcher.py:9: PerformanceWarning: DataFrame is highly fragmented.  This is usually the result of calling `frame.insert` many times, which has poor performance.  Consider joining all columns at once using pd.concat(axis=1) instead.  To get a de-fragmented frame, use `newframe = frame.copy()`\n",
      "  if __name__ == '__main__':\n"
     ]
    },
    {
     "data": {
      "text/html": [
       "<div>\n",
       "<style scoped>\n",
       "    .dataframe tbody tr th:only-of-type {\n",
       "        vertical-align: middle;\n",
       "    }\n",
       "\n",
       "    .dataframe tbody tr th {\n",
       "        vertical-align: top;\n",
       "    }\n",
       "\n",
       "    .dataframe thead th {\n",
       "        text-align: right;\n",
       "    }\n",
       "</style>\n",
       "<table border=\"1\" class=\"dataframe\">\n",
       "  <thead>\n",
       "    <tr style=\"text-align: right;\">\n",
       "      <th></th>\n",
       "      <th>B_Age</th>\n",
       "      <th>B_Height</th>\n",
       "      <th>B_Name</th>\n",
       "      <th>B_Weight</th>\n",
       "      <th>B__Round1_Grappling_Reversals_Landed</th>\n",
       "      <th>B__Round1_Grappling_Standups_Landed</th>\n",
       "      <th>B__Round1_Grappling_Submissions_Attempts</th>\n",
       "      <th>B__Round1_Grappling_Takedowns_Attempts</th>\n",
       "      <th>B__Round1_Grappling_Takedowns_Landed</th>\n",
       "      <th>B__Round1_Strikes_Body Significant Strikes_Attempts</th>\n",
       "      <th>...</th>\n",
       "      <th>R__Round5_TIP_Half Guard Control Time</th>\n",
       "      <th>R__Round5_TIP_Misc. Ground Control Time</th>\n",
       "      <th>R__Round5_TIP_Mount Control Time</th>\n",
       "      <th>R__Round5_TIP_Neutral Time</th>\n",
       "      <th>R__Round5_TIP_Side Control Time</th>\n",
       "      <th>R__Round5_TIP_Standing Time</th>\n",
       "      <th>winby</th>\n",
       "      <th>winner</th>\n",
       "      <th>B_Age_Bucket</th>\n",
       "      <th>R_Age_Bucket</th>\n",
       "    </tr>\n",
       "  </thead>\n",
       "  <tbody>\n",
       "    <tr>\n",
       "      <th>0</th>\n",
       "      <td>38</td>\n",
       "      <td>193</td>\n",
       "      <td>Alistair Overeem</td>\n",
       "      <td>120</td>\n",
       "      <td>&lt;NA&gt;</td>\n",
       "      <td>&lt;NA&gt;</td>\n",
       "      <td>&lt;NA&gt;</td>\n",
       "      <td>&lt;NA&gt;</td>\n",
       "      <td>&lt;NA&gt;</td>\n",
       "      <td>&lt;NA&gt;</td>\n",
       "      <td>...</td>\n",
       "      <td>&lt;NA&gt;</td>\n",
       "      <td>&lt;NA&gt;</td>\n",
       "      <td>&lt;NA&gt;</td>\n",
       "      <td>&lt;NA&gt;</td>\n",
       "      <td>&lt;NA&gt;</td>\n",
       "      <td>&lt;NA&gt;</td>\n",
       "      <td>DEC</td>\n",
       "      <td>blue</td>\n",
       "      <td>(35.0, 48.0]</td>\n",
       "      <td>(35.0, 48.0]</td>\n",
       "    </tr>\n",
       "    <tr>\n",
       "      <th>1</th>\n",
       "      <td>36</td>\n",
       "      <td>172</td>\n",
       "      <td>Ricardo Lamas</td>\n",
       "      <td>65</td>\n",
       "      <td>&lt;NA&gt;</td>\n",
       "      <td>&lt;NA&gt;</td>\n",
       "      <td>&lt;NA&gt;</td>\n",
       "      <td>&lt;NA&gt;</td>\n",
       "      <td>&lt;NA&gt;</td>\n",
       "      <td>&lt;NA&gt;</td>\n",
       "      <td>...</td>\n",
       "      <td>&lt;NA&gt;</td>\n",
       "      <td>&lt;NA&gt;</td>\n",
       "      <td>&lt;NA&gt;</td>\n",
       "      <td>&lt;NA&gt;</td>\n",
       "      <td>&lt;NA&gt;</td>\n",
       "      <td>&lt;NA&gt;</td>\n",
       "      <td>DEC</td>\n",
       "      <td>red</td>\n",
       "      <td>(35.0, 48.0]</td>\n",
       "      <td>(29.0, 32.0]</td>\n",
       "    </tr>\n",
       "    <tr>\n",
       "      <th>2</th>\n",
       "      <td>39</td>\n",
       "      <td>167</td>\n",
       "      <td>Urijah Faber</td>\n",
       "      <td>61</td>\n",
       "      <td>&lt;NA&gt;</td>\n",
       "      <td>&lt;NA&gt;</td>\n",
       "      <td>&lt;NA&gt;</td>\n",
       "      <td>&lt;NA&gt;</td>\n",
       "      <td>&lt;NA&gt;</td>\n",
       "      <td>&lt;NA&gt;</td>\n",
       "      <td>...</td>\n",
       "      <td>&lt;NA&gt;</td>\n",
       "      <td>&lt;NA&gt;</td>\n",
       "      <td>&lt;NA&gt;</td>\n",
       "      <td>&lt;NA&gt;</td>\n",
       "      <td>&lt;NA&gt;</td>\n",
       "      <td>&lt;NA&gt;</td>\n",
       "      <td>KO/TKO</td>\n",
       "      <td>red</td>\n",
       "      <td>(35.0, 48.0]</td>\n",
       "      <td>(29.0, 32.0]</td>\n",
       "    </tr>\n",
       "    <tr>\n",
       "      <th>3</th>\n",
       "      <td>33</td>\n",
       "      <td>167</td>\n",
       "      <td>Danny Martinez</td>\n",
       "      <td>56</td>\n",
       "      <td>&lt;NA&gt;</td>\n",
       "      <td>&lt;NA&gt;</td>\n",
       "      <td>&lt;NA&gt;</td>\n",
       "      <td>&lt;NA&gt;</td>\n",
       "      <td>&lt;NA&gt;</td>\n",
       "      <td>&lt;NA&gt;</td>\n",
       "      <td>...</td>\n",
       "      <td>&lt;NA&gt;</td>\n",
       "      <td>&lt;NA&gt;</td>\n",
       "      <td>&lt;NA&gt;</td>\n",
       "      <td>&lt;NA&gt;</td>\n",
       "      <td>&lt;NA&gt;</td>\n",
       "      <td>&lt;NA&gt;</td>\n",
       "      <td>DEC</td>\n",
       "      <td>red</td>\n",
       "      <td>(31.0, 35.0]</td>\n",
       "      <td>(35.0, 48.0]</td>\n",
       "    </tr>\n",
       "    <tr>\n",
       "      <th>4</th>\n",
       "      <td>36</td>\n",
       "      <td>185</td>\n",
       "      <td>Tom Watson</td>\n",
       "      <td>84</td>\n",
       "      <td>&lt;NA&gt;</td>\n",
       "      <td>&lt;NA&gt;</td>\n",
       "      <td>&lt;NA&gt;</td>\n",
       "      <td>&lt;NA&gt;</td>\n",
       "      <td>&lt;NA&gt;</td>\n",
       "      <td>&lt;NA&gt;</td>\n",
       "      <td>...</td>\n",
       "      <td>&lt;NA&gt;</td>\n",
       "      <td>&lt;NA&gt;</td>\n",
       "      <td>&lt;NA&gt;</td>\n",
       "      <td>&lt;NA&gt;</td>\n",
       "      <td>&lt;NA&gt;</td>\n",
       "      <td>&lt;NA&gt;</td>\n",
       "      <td>DEC</td>\n",
       "      <td>red</td>\n",
       "      <td>(35.0, 48.0]</td>\n",
       "      <td>(35.0, 48.0]</td>\n",
       "    </tr>\n",
       "  </tbody>\n",
       "</table>\n",
       "<p>5 rows × 884 columns</p>\n",
       "</div>"
      ],
      "text/plain": [
       "   B_Age  B_Height            B_Name  B_Weight  \\\n",
       "0     38       193  Alistair Overeem       120   \n",
       "1     36       172     Ricardo Lamas        65   \n",
       "2     39       167      Urijah Faber        61   \n",
       "3     33       167    Danny Martinez        56   \n",
       "4     36       185        Tom Watson        84   \n",
       "\n",
       "   B__Round1_Grappling_Reversals_Landed  B__Round1_Grappling_Standups_Landed  \\\n",
       "0                                  <NA>                                 <NA>   \n",
       "1                                  <NA>                                 <NA>   \n",
       "2                                  <NA>                                 <NA>   \n",
       "3                                  <NA>                                 <NA>   \n",
       "4                                  <NA>                                 <NA>   \n",
       "\n",
       "   B__Round1_Grappling_Submissions_Attempts  \\\n",
       "0                                      <NA>   \n",
       "1                                      <NA>   \n",
       "2                                      <NA>   \n",
       "3                                      <NA>   \n",
       "4                                      <NA>   \n",
       "\n",
       "   B__Round1_Grappling_Takedowns_Attempts  \\\n",
       "0                                    <NA>   \n",
       "1                                    <NA>   \n",
       "2                                    <NA>   \n",
       "3                                    <NA>   \n",
       "4                                    <NA>   \n",
       "\n",
       "   B__Round1_Grappling_Takedowns_Landed  \\\n",
       "0                                  <NA>   \n",
       "1                                  <NA>   \n",
       "2                                  <NA>   \n",
       "3                                  <NA>   \n",
       "4                                  <NA>   \n",
       "\n",
       "   B__Round1_Strikes_Body Significant Strikes_Attempts  ...  \\\n",
       "0                                               <NA>    ...   \n",
       "1                                               <NA>    ...   \n",
       "2                                               <NA>    ...   \n",
       "3                                               <NA>    ...   \n",
       "4                                               <NA>    ...   \n",
       "\n",
       "   R__Round5_TIP_Half Guard Control Time  \\\n",
       "0                                   <NA>   \n",
       "1                                   <NA>   \n",
       "2                                   <NA>   \n",
       "3                                   <NA>   \n",
       "4                                   <NA>   \n",
       "\n",
       "   R__Round5_TIP_Misc. Ground Control Time  R__Round5_TIP_Mount Control Time  \\\n",
       "0                                     <NA>                              <NA>   \n",
       "1                                     <NA>                              <NA>   \n",
       "2                                     <NA>                              <NA>   \n",
       "3                                     <NA>                              <NA>   \n",
       "4                                     <NA>                              <NA>   \n",
       "\n",
       "   R__Round5_TIP_Neutral Time  R__Round5_TIP_Side Control Time  \\\n",
       "0                        <NA>                             <NA>   \n",
       "1                        <NA>                             <NA>   \n",
       "2                        <NA>                             <NA>   \n",
       "3                        <NA>                             <NA>   \n",
       "4                        <NA>                             <NA>   \n",
       "\n",
       "   R__Round5_TIP_Standing Time   winby  winner  B_Age_Bucket  R_Age_Bucket  \n",
       "0                         <NA>     DEC    blue  (35.0, 48.0]  (35.0, 48.0]  \n",
       "1                         <NA>     DEC     red  (35.0, 48.0]  (29.0, 32.0]  \n",
       "2                         <NA>  KO/TKO     red  (35.0, 48.0]  (29.0, 32.0]  \n",
       "3                         <NA>     DEC     red  (31.0, 35.0]  (35.0, 48.0]  \n",
       "4                         <NA>     DEC     red  (35.0, 48.0]  (35.0, 48.0]  \n",
       "\n",
       "[5 rows x 884 columns]"
      ]
     },
     "execution_count": 11,
     "metadata": {},
     "output_type": "execute_result"
    }
   ],
   "source": [
    "# Create four equal-sized buckets for the Age columns based on sample quantiles\n",
    "\n",
    "ufc_df[\"B_Age_Bucket\"] = pd.qcut(\n",
    "    x=ufc_df[\"B_Age\"], q=4, labels=None, retbins=False, precision=3\n",
    ")\n",
    "\n",
    "\n",
    "ufc_df[\"R_Age_Bucket\"] = pd.qcut(\n",
    "    x=ufc_df[\"R_Age\"], q=4, labels=None, retbins=False, precision=3\n",
    ")\n",
    "\n",
    "ufc_df.head()"
   ]
  },
  {
   "cell_type": "code",
   "execution_count": 12,
   "id": "4f617941",
   "metadata": {},
   "outputs": [
    {
     "data": {
      "text/plain": [
       "<AxesSubplot:title={'center':'Red Age Buckets'}>"
      ]
     },
     "execution_count": 12,
     "metadata": {},
     "output_type": "execute_result"
    },
    {
     "data": {
      "image/png": "[encoded data removed]",
      "text/plain": [
       "<Figure size 432x288 with 1 Axes>"
      ]
     },
     "metadata": {
      "needs_background": "light"
     },
     "output_type": "display_data"
    }
   ],
   "source": [
    "# Create a bar graph to visualize R_Age_Bucket\n",
    "ufc_df[\"R_Age_Bucket\"].value_counts().plot(\n",
    "    kind=\"bar\", color=\"red\", rot=0, title=\"Red Age Buckets\"\n",
    ")\n"
   ]
  },
  {
   "cell_type": "code",
   "execution_count": 13,
   "id": "b35f0367",
   "metadata": {},
   "outputs": [
    {
     "data": {
      "text/plain": [
       "<AxesSubplot:title={'center':'Blue Age Buckets'}>"
      ]
     },
     "execution_count": 13,
     "metadata": {},
     "output_type": "execute_result"
    },
    {
     "data": {
      "image/png": "[encoded data removed]",
      "text/plain": [
       "<Figure size 432x288 with 1 Axes>"
      ]
     },
     "metadata": {
      "needs_background": "light"
     },
     "output_type": "display_data"
    }
   ],
   "source": [
    "# Create a bar graph to visualize B_Age_Bucket\n",
    "ufc_df[\"B_Age_Bucket\"].value_counts().plot(\n",
    "    kind=\"bar\", color=\"blue\", rot=0, title=\"Blue Age Buckets\"\n",
    ")\n"
   ]
  },
  {
   "cell_type": "code",
   "execution_count": 14,
   "id": "6a993a9f",
   "metadata": {},
   "outputs": [],
   "source": [
    "# Drop age columns; I do not think we should follow through with bucketing based on age other than for visualizations.\n",
    "# ufc_df = ufc_df.drop(columns=[\"R_Age\", \"B_Age\"])\n"
   ]
  },
  {
   "cell_type": "markdown",
   "id": "19369aa4",
   "metadata": {},
   "source": [
    "## Data Exploration: Height"
   ]
  },
  {
   "cell_type": "code",
   "execution_count": 15,
   "id": "ff978f88",
   "metadata": {
    "scrolled": true
   },
   "outputs": [
    {
     "data": {
      "text/html": [
       "<div>\n",
       "<style scoped>\n",
       "    .dataframe tbody tr th:only-of-type {\n",
       "        vertical-align: middle;\n",
       "    }\n",
       "\n",
       "    .dataframe tbody tr th {\n",
       "        vertical-align: top;\n",
       "    }\n",
       "\n",
       "    .dataframe thead th {\n",
       "        text-align: right;\n",
       "    }\n",
       "</style>\n",
       "<table border=\"1\" class=\"dataframe\">\n",
       "  <thead>\n",
       "    <tr style=\"text-align: right;\">\n",
       "      <th></th>\n",
       "      <th>R_Height</th>\n",
       "      <th>B_Height</th>\n",
       "    </tr>\n",
       "  </thead>\n",
       "  <tbody>\n",
       "    <tr>\n",
       "      <th>count</th>\n",
       "      <td>2255.000000</td>\n",
       "      <td>2261.000000</td>\n",
       "    </tr>\n",
       "    <tr>\n",
       "      <th>mean</th>\n",
       "      <td>177.142350</td>\n",
       "      <td>177.321539</td>\n",
       "    </tr>\n",
       "    <tr>\n",
       "      <th>std</th>\n",
       "      <td>8.918623</td>\n",
       "      <td>8.830489</td>\n",
       "    </tr>\n",
       "    <tr>\n",
       "      <th>min</th>\n",
       "      <td>152.000000</td>\n",
       "      <td>152.000000</td>\n",
       "    </tr>\n",
       "    <tr>\n",
       "      <th>25%</th>\n",
       "      <td>170.000000</td>\n",
       "      <td>172.000000</td>\n",
       "    </tr>\n",
       "    <tr>\n",
       "      <th>50%</th>\n",
       "      <td>177.000000</td>\n",
       "      <td>177.000000</td>\n",
       "    </tr>\n",
       "    <tr>\n",
       "      <th>75%</th>\n",
       "      <td>185.000000</td>\n",
       "      <td>182.000000</td>\n",
       "    </tr>\n",
       "    <tr>\n",
       "      <th>max</th>\n",
       "      <td>213.000000</td>\n",
       "      <td>213.000000</td>\n",
       "    </tr>\n",
       "  </tbody>\n",
       "</table>\n",
       "</div>"
      ],
      "text/plain": [
       "          R_Height     B_Height\n",
       "count  2255.000000  2261.000000\n",
       "mean    177.142350   177.321539\n",
       "std       8.918623     8.830489\n",
       "min     152.000000   152.000000\n",
       "25%     170.000000   172.000000\n",
       "50%     177.000000   177.000000\n",
       "75%     185.000000   182.000000\n",
       "max     213.000000   213.000000"
      ]
     },
     "execution_count": 15,
     "metadata": {},
     "output_type": "execute_result"
    }
   ],
   "source": [
    "# Find the max value in the Height columns\n",
    "ufc_df[[\"R_Height\", \"B_Height\"]].describe()\n"
   ]
  },
  {
   "cell_type": "code",
   "execution_count": 16,
   "id": "7c207a4e",
   "metadata": {
    "scrolled": true
   },
   "outputs": [
    {
     "data": {
      "text/plain": [
       "<AxesSubplot:>"
      ]
     },
     "execution_count": 16,
     "metadata": {},
     "output_type": "execute_result"
    },
    {
     "data": {
      "image/png": "[encoded data removed]",
      "text/plain": [
       "<Figure size 432x288 with 1 Axes>"
      ]
     },
     "metadata": {
      "needs_background": "light"
     },
     "output_type": "display_data"
    }
   ],
   "source": [
    "# Use Box & Whisker plot to visualize Height outliers\n",
    "ufc_df.boxplot(column=[\"R_Height\", \"B_Height\"])\n"
   ]
  },
  {
   "cell_type": "code",
   "execution_count": 17,
   "id": "d12d274c",
   "metadata": {},
   "outputs": [
    {
     "name": "stderr",
     "output_type": "stream",
     "text": [
      "/opt/anaconda3/envs/mlenv/lib/python3.7/site-packages/ipykernel_launcher.py:4: PerformanceWarning: DataFrame is highly fragmented.  This is usually the result of calling `frame.insert` many times, which has poor performance.  Consider joining all columns at once using pd.concat(axis=1) instead.  To get a de-fragmented frame, use `newframe = frame.copy()`\n",
      "  after removing the cwd from sys.path.\n",
      "/opt/anaconda3/envs/mlenv/lib/python3.7/site-packages/ipykernel_launcher.py:9: PerformanceWarning: DataFrame is highly fragmented.  This is usually the result of calling `frame.insert` many times, which has poor performance.  Consider joining all columns at once using pd.concat(axis=1) instead.  To get a de-fragmented frame, use `newframe = frame.copy()`\n",
      "  if __name__ == '__main__':\n"
     ]
    },
    {
     "data": {
      "text/html": [
       "<div>\n",
       "<style scoped>\n",
       "    .dataframe tbody tr th:only-of-type {\n",
       "        vertical-align: middle;\n",
       "    }\n",
       "\n",
       "    .dataframe tbody tr th {\n",
       "        vertical-align: top;\n",
       "    }\n",
       "\n",
       "    .dataframe thead th {\n",
       "        text-align: right;\n",
       "    }\n",
       "</style>\n",
       "<table border=\"1\" class=\"dataframe\">\n",
       "  <thead>\n",
       "    <tr style=\"text-align: right;\">\n",
       "      <th></th>\n",
       "      <th>B_Age</th>\n",
       "      <th>B_Height</th>\n",
       "      <th>B_Name</th>\n",
       "      <th>B_Weight</th>\n",
       "      <th>B__Round1_Grappling_Reversals_Landed</th>\n",
       "      <th>B__Round1_Grappling_Standups_Landed</th>\n",
       "      <th>B__Round1_Grappling_Submissions_Attempts</th>\n",
       "      <th>B__Round1_Grappling_Takedowns_Attempts</th>\n",
       "      <th>B__Round1_Grappling_Takedowns_Landed</th>\n",
       "      <th>B__Round1_Strikes_Body Significant Strikes_Attempts</th>\n",
       "      <th>...</th>\n",
       "      <th>R__Round5_TIP_Mount Control Time</th>\n",
       "      <th>R__Round5_TIP_Neutral Time</th>\n",
       "      <th>R__Round5_TIP_Side Control Time</th>\n",
       "      <th>R__Round5_TIP_Standing Time</th>\n",
       "      <th>winby</th>\n",
       "      <th>winner</th>\n",
       "      <th>B_Age_Bucket</th>\n",
       "      <th>R_Age_Bucket</th>\n",
       "      <th>B_Height_Bucket</th>\n",
       "      <th>R_Height_Bucket</th>\n",
       "    </tr>\n",
       "  </thead>\n",
       "  <tbody>\n",
       "    <tr>\n",
       "      <th>0</th>\n",
       "      <td>38</td>\n",
       "      <td>193</td>\n",
       "      <td>Alistair Overeem</td>\n",
       "      <td>120</td>\n",
       "      <td>&lt;NA&gt;</td>\n",
       "      <td>&lt;NA&gt;</td>\n",
       "      <td>&lt;NA&gt;</td>\n",
       "      <td>&lt;NA&gt;</td>\n",
       "      <td>&lt;NA&gt;</td>\n",
       "      <td>&lt;NA&gt;</td>\n",
       "      <td>...</td>\n",
       "      <td>&lt;NA&gt;</td>\n",
       "      <td>&lt;NA&gt;</td>\n",
       "      <td>&lt;NA&gt;</td>\n",
       "      <td>&lt;NA&gt;</td>\n",
       "      <td>DEC</td>\n",
       "      <td>blue</td>\n",
       "      <td>(35.0, 48.0]</td>\n",
       "      <td>(35.0, 48.0]</td>\n",
       "      <td>(182.0, 213.0]</td>\n",
       "      <td>(185.0, 213.0]</td>\n",
       "    </tr>\n",
       "    <tr>\n",
       "      <th>1</th>\n",
       "      <td>36</td>\n",
       "      <td>172</td>\n",
       "      <td>Ricardo Lamas</td>\n",
       "      <td>65</td>\n",
       "      <td>&lt;NA&gt;</td>\n",
       "      <td>&lt;NA&gt;</td>\n",
       "      <td>&lt;NA&gt;</td>\n",
       "      <td>&lt;NA&gt;</td>\n",
       "      <td>&lt;NA&gt;</td>\n",
       "      <td>&lt;NA&gt;</td>\n",
       "      <td>...</td>\n",
       "      <td>&lt;NA&gt;</td>\n",
       "      <td>&lt;NA&gt;</td>\n",
       "      <td>&lt;NA&gt;</td>\n",
       "      <td>&lt;NA&gt;</td>\n",
       "      <td>DEC</td>\n",
       "      <td>red</td>\n",
       "      <td>(35.0, 48.0]</td>\n",
       "      <td>(29.0, 32.0]</td>\n",
       "      <td>(151.999, 172.0]</td>\n",
       "      <td>(151.999, 170.0]</td>\n",
       "    </tr>\n",
       "    <tr>\n",
       "      <th>2</th>\n",
       "      <td>39</td>\n",
       "      <td>167</td>\n",
       "      <td>Urijah Faber</td>\n",
       "      <td>61</td>\n",
       "      <td>&lt;NA&gt;</td>\n",
       "      <td>&lt;NA&gt;</td>\n",
       "      <td>&lt;NA&gt;</td>\n",
       "      <td>&lt;NA&gt;</td>\n",
       "      <td>&lt;NA&gt;</td>\n",
       "      <td>&lt;NA&gt;</td>\n",
       "      <td>...</td>\n",
       "      <td>&lt;NA&gt;</td>\n",
       "      <td>&lt;NA&gt;</td>\n",
       "      <td>&lt;NA&gt;</td>\n",
       "      <td>&lt;NA&gt;</td>\n",
       "      <td>KO/TKO</td>\n",
       "      <td>red</td>\n",
       "      <td>(35.0, 48.0]</td>\n",
       "      <td>(29.0, 32.0]</td>\n",
       "      <td>(151.999, 172.0]</td>\n",
       "      <td>(151.999, 170.0]</td>\n",
       "    </tr>\n",
       "    <tr>\n",
       "      <th>3</th>\n",
       "      <td>33</td>\n",
       "      <td>167</td>\n",
       "      <td>Danny Martinez</td>\n",
       "      <td>56</td>\n",
       "      <td>&lt;NA&gt;</td>\n",
       "      <td>&lt;NA&gt;</td>\n",
       "      <td>&lt;NA&gt;</td>\n",
       "      <td>&lt;NA&gt;</td>\n",
       "      <td>&lt;NA&gt;</td>\n",
       "      <td>&lt;NA&gt;</td>\n",
       "      <td>...</td>\n",
       "      <td>&lt;NA&gt;</td>\n",
       "      <td>&lt;NA&gt;</td>\n",
       "      <td>&lt;NA&gt;</td>\n",
       "      <td>&lt;NA&gt;</td>\n",
       "      <td>DEC</td>\n",
       "      <td>red</td>\n",
       "      <td>(31.0, 35.0]</td>\n",
       "      <td>(35.0, 48.0]</td>\n",
       "      <td>(151.999, 172.0]</td>\n",
       "      <td>(151.999, 170.0]</td>\n",
       "    </tr>\n",
       "    <tr>\n",
       "      <th>4</th>\n",
       "      <td>36</td>\n",
       "      <td>185</td>\n",
       "      <td>Tom Watson</td>\n",
       "      <td>84</td>\n",
       "      <td>&lt;NA&gt;</td>\n",
       "      <td>&lt;NA&gt;</td>\n",
       "      <td>&lt;NA&gt;</td>\n",
       "      <td>&lt;NA&gt;</td>\n",
       "      <td>&lt;NA&gt;</td>\n",
       "      <td>&lt;NA&gt;</td>\n",
       "      <td>...</td>\n",
       "      <td>&lt;NA&gt;</td>\n",
       "      <td>&lt;NA&gt;</td>\n",
       "      <td>&lt;NA&gt;</td>\n",
       "      <td>&lt;NA&gt;</td>\n",
       "      <td>DEC</td>\n",
       "      <td>red</td>\n",
       "      <td>(35.0, 48.0]</td>\n",
       "      <td>(35.0, 48.0]</td>\n",
       "      <td>(182.0, 213.0]</td>\n",
       "      <td>(177.0, 185.0]</td>\n",
       "    </tr>\n",
       "  </tbody>\n",
       "</table>\n",
       "<p>5 rows × 886 columns</p>\n",
       "</div>"
      ],
      "text/plain": [
       "   B_Age  B_Height            B_Name  B_Weight  \\\n",
       "0     38       193  Alistair Overeem       120   \n",
       "1     36       172     Ricardo Lamas        65   \n",
       "2     39       167      Urijah Faber        61   \n",
       "3     33       167    Danny Martinez        56   \n",
       "4     36       185        Tom Watson        84   \n",
       "\n",
       "   B__Round1_Grappling_Reversals_Landed  B__Round1_Grappling_Standups_Landed  \\\n",
       "0                                  <NA>                                 <NA>   \n",
       "1                                  <NA>                                 <NA>   \n",
       "2                                  <NA>                                 <NA>   \n",
       "3                                  <NA>                                 <NA>   \n",
       "4                                  <NA>                                 <NA>   \n",
       "\n",
       "   B__Round1_Grappling_Submissions_Attempts  \\\n",
       "0                                      <NA>   \n",
       "1                                      <NA>   \n",
       "2                                      <NA>   \n",
       "3                                      <NA>   \n",
       "4                                      <NA>   \n",
       "\n",
       "   B__Round1_Grappling_Takedowns_Attempts  \\\n",
       "0                                    <NA>   \n",
       "1                                    <NA>   \n",
       "2                                    <NA>   \n",
       "3                                    <NA>   \n",
       "4                                    <NA>   \n",
       "\n",
       "   B__Round1_Grappling_Takedowns_Landed  \\\n",
       "0                                  <NA>   \n",
       "1                                  <NA>   \n",
       "2                                  <NA>   \n",
       "3                                  <NA>   \n",
       "4                                  <NA>   \n",
       "\n",
       "   B__Round1_Strikes_Body Significant Strikes_Attempts  ...  \\\n",
       "0                                               <NA>    ...   \n",
       "1                                               <NA>    ...   \n",
       "2                                               <NA>    ...   \n",
       "3                                               <NA>    ...   \n",
       "4                                               <NA>    ...   \n",
       "\n",
       "   R__Round5_TIP_Mount Control Time  R__Round5_TIP_Neutral Time  \\\n",
       "0                              <NA>                        <NA>   \n",
       "1                              <NA>                        <NA>   \n",
       "2                              <NA>                        <NA>   \n",
       "3                              <NA>                        <NA>   \n",
       "4                              <NA>                        <NA>   \n",
       "\n",
       "   R__Round5_TIP_Side Control Time  R__Round5_TIP_Standing Time   winby  \\\n",
       "0                             <NA>                         <NA>     DEC   \n",
       "1                             <NA>                         <NA>     DEC   \n",
       "2                             <NA>                         <NA>  KO/TKO   \n",
       "3                             <NA>                         <NA>     DEC   \n",
       "4                             <NA>                         <NA>     DEC   \n",
       "\n",
       "   winner  B_Age_Bucket  R_Age_Bucket   B_Height_Bucket   R_Height_Bucket  \n",
       "0    blue  (35.0, 48.0]  (35.0, 48.0]    (182.0, 213.0]    (185.0, 213.0]  \n",
       "1     red  (35.0, 48.0]  (29.0, 32.0]  (151.999, 172.0]  (151.999, 170.0]  \n",
       "2     red  (35.0, 48.0]  (29.0, 32.0]  (151.999, 172.0]  (151.999, 170.0]  \n",
       "3     red  (31.0, 35.0]  (35.0, 48.0]  (151.999, 172.0]  (151.999, 170.0]  \n",
       "4     red  (35.0, 48.0]  (35.0, 48.0]    (182.0, 213.0]    (177.0, 185.0]  \n",
       "\n",
       "[5 rows x 886 columns]"
      ]
     },
     "execution_count": 17,
     "metadata": {},
     "output_type": "execute_result"
    }
   ],
   "source": [
    "# Create four equal-sized buckets for the Height columns based on sample quantiles\n",
    "\n",
    "ufc_df[\"B_Height_Bucket\"] = pd.qcut(\n",
    "    x=ufc_df[\"B_Height\"], q=4, labels=None, retbins=False, precision=3\n",
    ")\n",
    "\n",
    "\n",
    "ufc_df[\"R_Height_Bucket\"] = pd.qcut(\n",
    "    x=ufc_df[\"R_Height\"], q=4, labels=None, retbins=False, precision=3\n",
    ")\n",
    "\n",
    "ufc_df.head()"
   ]
  },
  {
   "cell_type": "code",
   "execution_count": 18,
   "id": "6f44169b",
   "metadata": {},
   "outputs": [
    {
     "data": {
      "text/plain": [
       "<AxesSubplot:title={'center':'Red Height Buckets'}>"
      ]
     },
     "execution_count": 18,
     "metadata": {},
     "output_type": "execute_result"
    },
    {
     "data": {
      "image/png": "[encoded data removed]",
      "text/plain": [
       "<Figure size 432x288 with 1 Axes>"
      ]
     },
     "metadata": {
      "needs_background": "light"
     },
     "output_type": "display_data"
    }
   ],
   "source": [
    "# Create a bar graph to visualize R_Height_Bucket\n",
    "ufc_df[\"R_Height_Bucket\"].value_counts().plot(\n",
    "    kind=\"bar\", color=\"red\", rot=0, title=\"Red Height Buckets\"\n",
    ")\n"
   ]
  },
  {
   "cell_type": "code",
   "execution_count": 19,
   "id": "596d0dbf",
   "metadata": {},
   "outputs": [
    {
     "data": {
      "text/plain": [
       "<AxesSubplot:title={'center':'Blue Height Buckets'}>"
      ]
     },
     "execution_count": 19,
     "metadata": {},
     "output_type": "execute_result"
    },
    {
     "data": {
      "image/png": "[encoded data removed]",
      "text/plain": [
       "<Figure size 432x288 with 1 Axes>"
      ]
     },
     "metadata": {
      "needs_background": "light"
     },
     "output_type": "display_data"
    }
   ],
   "source": [
    "# Create a bar graph to visualize B_Height_Bucket\n",
    "ufc_df[\"B_Height_Bucket\"].value_counts().plot(\n",
    "    kind=\"bar\", color=\"blue\", rot=0, title=\"Blue Height Buckets\"\n",
    ")\n"
   ]
  },
  {
   "cell_type": "markdown",
   "id": "6a249120",
   "metadata": {},
   "source": [
    "## Data Exploration: Weight\n"
   ]
  },
  {
   "cell_type": "markdown",
   "id": "8b89e7a1",
   "metadata": {},
   "source": [
    "|   Weight Class    | Minimum Weight | Maximum Weight |\n",
    "| :---------------: | :------------: | :------------: |\n",
    "|    Heavyweight    |       93       |      120       |\n",
    "| Light Heavyweight |      83.9      |       93       |\n",
    "|   Middleweight    |      77.1      |      83.9      |\n",
    "|   Welterweight    |      70.3      |      77.1      |\n",
    "|    Lightweight    |      65.8      |      70.3      |\n",
    "|   Featherweight   |      61.2      |      65.8      |\n",
    "|   Bantamweight    |      56.7      |      61.2      |\n",
    "|     Flyweight     |      52.2      |      56.7      |\n",
    "|   Strawweight\\*   |       0        |      52.2      |\n",
    "\n",
    "- \"The women’s UFC division is split into only 4 classes: strawweight, flyweight, bantamweight, and featherweight. The strawweight class is only used in the women’s division and men do not compete in it.\"\n"
   ]
  },
  {
   "cell_type": "code",
   "execution_count": 20,
   "id": "7537a2b2",
   "metadata": {},
   "outputs": [],
   "source": [
    "bins = [0, 52.2, 56.7, 61.2, 65.8, 70.3, 77.1, 83.9, 93, 120]\n",
    "labels = [\n",
    "    \"Strawweight\",\n",
    "    \"Flyweight\",\n",
    "    \"Bantamweight\",\n",
    "    \"Featherweight\",\n",
    "    \"Lightweight\",\n",
    "    \"Welterweight\",\n",
    "    \"Middleweight\",\n",
    "    \"Light Heavyweight\",\n",
    "    \"Heavyweight\",\n",
    "]\n"
   ]
  },
  {
   "cell_type": "markdown",
   "id": "de5c8378",
   "metadata": {},
   "source": [
    "### Red Weight\n"
   ]
  },
  {
   "cell_type": "code",
   "execution_count": 21,
   "id": "6bbbd280",
   "metadata": {},
   "outputs": [
    {
     "data": {
      "text/plain": [
       "count    2257.000000\n",
       "mean       73.813026\n",
       "std        15.494381\n",
       "min        52.000000\n",
       "25%        61.000000\n",
       "50%        70.000000\n",
       "75%        84.000000\n",
       "max       120.000000\n",
       "Name: R_Weight, dtype: float64"
      ]
     },
     "execution_count": 21,
     "metadata": {},
     "output_type": "execute_result"
    }
   ],
   "source": [
    "ufc_df[\"R_Weight\"].describe()\n"
   ]
  },
  {
   "cell_type": "code",
   "execution_count": 22,
   "id": "570c7e6b",
   "metadata": {},
   "outputs": [
    {
     "data": {
      "text/plain": [
       "<AxesSubplot:>"
      ]
     },
     "execution_count": 22,
     "metadata": {},
     "output_type": "execute_result"
    },
    {
     "data": {
      "image/png": "[encoded data removed]",
      "text/plain": [
       "<Figure size 432x288 with 1 Axes>"
      ]
     },
     "metadata": {
      "needs_background": "light"
     },
     "output_type": "display_data"
    }
   ],
   "source": [
    "ufc_df.boxplot(column=\"R_Weight\")\n"
   ]
  },
  {
   "cell_type": "code",
   "execution_count": 23,
   "id": "85bc639c",
   "metadata": {},
   "outputs": [
    {
     "name": "stderr",
     "output_type": "stream",
     "text": [
      "/opt/anaconda3/envs/mlenv/lib/python3.7/site-packages/ipykernel_launcher.py:2: PerformanceWarning: DataFrame is highly fragmented.  This is usually the result of calling `frame.insert` many times, which has poor performance.  Consider joining all columns at once using pd.concat(axis=1) instead.  To get a de-fragmented frame, use `newframe = frame.copy()`\n",
      "  \n"
     ]
    }
   ],
   "source": [
    "# Assign bucket by UFC weight class\n",
    "ufc_df[\"R_Weight_Class\"] = pd.cut(ufc_df[\"R_Weight\"], bins=bins, labels=labels)\n"
   ]
  },
  {
   "cell_type": "markdown",
   "id": "25fd2433",
   "metadata": {},
   "source": [
    "### Blue Weight\n"
   ]
  },
  {
   "cell_type": "code",
   "execution_count": 24,
   "id": "01e683fb",
   "metadata": {},
   "outputs": [
    {
     "data": {
      "text/plain": [
       "count    2266.000000\n",
       "mean       73.674757\n",
       "std        15.413696\n",
       "min        52.000000\n",
       "25%        61.000000\n",
       "50%        70.000000\n",
       "75%        84.000000\n",
       "max       120.000000\n",
       "Name: B_Weight, dtype: float64"
      ]
     },
     "execution_count": 24,
     "metadata": {},
     "output_type": "execute_result"
    }
   ],
   "source": [
    "ufc_df[\"B_Weight\"].describe()\n"
   ]
  },
  {
   "cell_type": "code",
   "execution_count": 25,
   "id": "a5f55bb4",
   "metadata": {},
   "outputs": [
    {
     "data": {
      "text/plain": [
       "<AxesSubplot:>"
      ]
     },
     "execution_count": 25,
     "metadata": {},
     "output_type": "execute_result"
    },
    {
     "data": {
      "image/png": "[encoded data removed]",
      "text/plain": [
       "<Figure size 432x288 with 1 Axes>"
      ]
     },
     "metadata": {
      "needs_background": "light"
     },
     "output_type": "display_data"
    }
   ],
   "source": [
    "ufc_df.boxplot(column=\"B_Weight\")\n"
   ]
  },
  {
   "cell_type": "code",
   "execution_count": 26,
   "id": "920770c0",
   "metadata": {},
   "outputs": [
    {
     "name": "stderr",
     "output_type": "stream",
     "text": [
      "/opt/anaconda3/envs/mlenv/lib/python3.7/site-packages/ipykernel_launcher.py:2: PerformanceWarning: DataFrame is highly fragmented.  This is usually the result of calling `frame.insert` many times, which has poor performance.  Consider joining all columns at once using pd.concat(axis=1) instead.  To get a de-fragmented frame, use `newframe = frame.copy()`\n",
      "  \n"
     ]
    }
   ],
   "source": [
    "# Assign bucket by UFC weight class\n",
    "ufc_df[\"B_Weight_Class\"] = pd.cut(ufc_df[\"B_Weight\"], bins=bins, labels=labels)\n"
   ]
  },
  {
   "cell_type": "markdown",
   "id": "bb50c6c7",
   "metadata": {},
   "source": [
    "## Testing\n",
    "\n",
    "Making sure `R_Weight_Class` == `B_Weight_Class`; we should not need two columns for this.\n"
   ]
  },
  {
   "cell_type": "code",
   "execution_count": 27,
   "id": "d7b5b214",
   "metadata": {},
   "outputs": [
    {
     "data": {
      "text/plain": [
       "True     1860\n",
       "False     418\n",
       "dtype: int64"
      ]
     },
     "execution_count": 27,
     "metadata": {},
     "output_type": "execute_result"
    }
   ],
   "source": [
    "pd.DataFrame(\n",
    "    ufc_df[\"R_Weight_Class\"] == ufc_df[\"B_Weight_Class\"]\n",
    ").value_counts()  # lol.\n"
   ]
  },
  {
   "cell_type": "code",
   "execution_count": 28,
   "id": "7d879bbb",
   "metadata": {},
   "outputs": [
    {
     "data": {
      "text/html": [
       "<div>\n",
       "<style scoped>\n",
       "    .dataframe tbody tr th:only-of-type {\n",
       "        vertical-align: middle;\n",
       "    }\n",
       "\n",
       "    .dataframe tbody tr th {\n",
       "        vertical-align: top;\n",
       "    }\n",
       "\n",
       "    .dataframe thead th {\n",
       "        text-align: right;\n",
       "    }\n",
       "</style>\n",
       "<table border=\"1\" class=\"dataframe\">\n",
       "  <thead>\n",
       "    <tr style=\"text-align: right;\">\n",
       "      <th></th>\n",
       "      <th>R_Weight</th>\n",
       "      <th>B_Weight</th>\n",
       "      <th>R_Weight_Class</th>\n",
       "      <th>B_Weight_Class</th>\n",
       "      <th>R_Name</th>\n",
       "      <th>B_Name</th>\n",
       "    </tr>\n",
       "  </thead>\n",
       "  <tbody>\n",
       "    <tr>\n",
       "      <th>9</th>\n",
       "      <td>61</td>\n",
       "      <td>56</td>\n",
       "      <td>Bantamweight</td>\n",
       "      <td>Flyweight</td>\n",
       "      <td>John Lineker</td>\n",
       "      <td>Ali Bagautinov</td>\n",
       "    </tr>\n",
       "    <tr>\n",
       "      <th>14</th>\n",
       "      <td>70</td>\n",
       "      <td>77</td>\n",
       "      <td>Lightweight</td>\n",
       "      <td>Welterweight</td>\n",
       "      <td>Cristiano Marcello</td>\n",
       "      <td>Joe Proctor</td>\n",
       "    </tr>\n",
       "    <tr>\n",
       "      <th>16</th>\n",
       "      <td>70</td>\n",
       "      <td>65</td>\n",
       "      <td>Lightweight</td>\n",
       "      <td>Featherweight</td>\n",
       "      <td>Charles Oliveira</td>\n",
       "      <td>Andy Ogle</td>\n",
       "    </tr>\n",
       "    <tr>\n",
       "      <th>17</th>\n",
       "      <td>61</td>\n",
       "      <td>65</td>\n",
       "      <td>Bantamweight</td>\n",
       "      <td>Featherweight</td>\n",
       "      <td>Douglas Silva de Andrade</td>\n",
       "      <td>Zubaira Tukhugov</td>\n",
       "    </tr>\n",
       "    <tr>\n",
       "      <th>19</th>\n",
       "      <td>61</td>\n",
       "      <td>56</td>\n",
       "      <td>Bantamweight</td>\n",
       "      <td>Flyweight</td>\n",
       "      <td>Iuri Alcantara</td>\n",
       "      <td>Wilson Reis</td>\n",
       "    </tr>\n",
       "    <tr>\n",
       "      <th>...</th>\n",
       "      <td>...</td>\n",
       "      <td>...</td>\n",
       "      <td>...</td>\n",
       "      <td>...</td>\n",
       "      <td>...</td>\n",
       "      <td>...</td>\n",
       "    </tr>\n",
       "    <tr>\n",
       "      <th>2307</th>\n",
       "      <td>77</td>\n",
       "      <td>70</td>\n",
       "      <td>Welterweight</td>\n",
       "      <td>Lightweight</td>\n",
       "      <td>Ryan LaFlare</td>\n",
       "      <td>Tony Martin</td>\n",
       "    </tr>\n",
       "    <tr>\n",
       "      <th>2308</th>\n",
       "      <td>61</td>\n",
       "      <td>65</td>\n",
       "      <td>Bantamweight</td>\n",
       "      <td>Featherweight</td>\n",
       "      <td>Lina Lansberg</td>\n",
       "      <td>Yana Kunitskaya</td>\n",
       "    </tr>\n",
       "    <tr>\n",
       "      <th>2312</th>\n",
       "      <td>118</td>\n",
       "      <td>65</td>\n",
       "      <td>Heavyweight</td>\n",
       "      <td>Featherweight</td>\n",
       "      <td>Derrick Lewis</td>\n",
       "      <td>Alexander Volkov</td>\n",
       "    </tr>\n",
       "    <tr>\n",
       "      <th>2313</th>\n",
       "      <td>65</td>\n",
       "      <td>70</td>\n",
       "      <td>Featherweight</td>\n",
       "      <td>Lightweight</td>\n",
       "      <td>Gray Maynard</td>\n",
       "      <td>Nik Lentz</td>\n",
       "    </tr>\n",
       "    <tr>\n",
       "      <th>2317</th>\n",
       "      <td>77</td>\n",
       "      <td>70</td>\n",
       "      <td>Welterweight</td>\n",
       "      <td>Lightweight</td>\n",
       "      <td>Vicente Luque</td>\n",
       "      <td>Jalin Turner</td>\n",
       "    </tr>\n",
       "  </tbody>\n",
       "</table>\n",
       "<p>418 rows × 6 columns</p>\n",
       "</div>"
      ],
      "text/plain": [
       "      R_Weight  B_Weight R_Weight_Class B_Weight_Class  \\\n",
       "9           61        56   Bantamweight      Flyweight   \n",
       "14          70        77    Lightweight   Welterweight   \n",
       "16          70        65    Lightweight  Featherweight   \n",
       "17          61        65   Bantamweight  Featherweight   \n",
       "19          61        56   Bantamweight      Flyweight   \n",
       "...        ...       ...            ...            ...   \n",
       "2307        77        70   Welterweight    Lightweight   \n",
       "2308        61        65   Bantamweight  Featherweight   \n",
       "2312       118        65    Heavyweight  Featherweight   \n",
       "2313        65        70  Featherweight    Lightweight   \n",
       "2317        77        70   Welterweight    Lightweight   \n",
       "\n",
       "                        R_Name            B_Name  \n",
       "9                 John Lineker    Ali Bagautinov  \n",
       "14          Cristiano Marcello       Joe Proctor  \n",
       "16            Charles Oliveira         Andy Ogle  \n",
       "17    Douglas Silva de Andrade  Zubaira Tukhugov  \n",
       "19              Iuri Alcantara       Wilson Reis  \n",
       "...                        ...               ...  \n",
       "2307              Ryan LaFlare       Tony Martin  \n",
       "2308             Lina Lansberg   Yana Kunitskaya  \n",
       "2312             Derrick Lewis  Alexander Volkov  \n",
       "2313              Gray Maynard         Nik Lentz  \n",
       "2317             Vicente Luque      Jalin Turner  \n",
       "\n",
       "[418 rows x 6 columns]"
      ]
     },
     "execution_count": 28,
     "metadata": {},
     "output_type": "execute_result"
    }
   ],
   "source": [
    "# TODO: Our current dataset has issues with weight.\n",
    "# There are a bunch of outputs where the weight classes are not matching up (fighter_r vs. fighter_b).\n",
    "# The weights are given in kg, but there are no decimal points, so the numbers are rounded.\n",
    "# Also, the weight classes have historically changed.\n",
    "\n",
    "# For #2312:\n",
    "# Fight outcome: http://ufcstats.com/fight-details/397ace87deeb8697\n",
    "# Matchup stats: http://ufcstats.com/fight-details/06641a8c62e45661\n",
    "\n",
    "# Is the ufcstats showing the weight they had during that fight or their current weight?\n",
    "\n",
    "ufc_df[\n",
    "    [\"R_Weight\", \"B_Weight\", \"R_Weight_Class\", \"B_Weight_Class\", \"R_Name\", \"B_Name\"]\n",
    "].loc[ufc_df[\"R_Weight_Class\"] != ufc_df[\"B_Weight_Class\"]]\n"
   ]
  },
  {
   "cell_type": "code",
   "execution_count": 29,
   "id": "652e49e0",
   "metadata": {},
   "outputs": [],
   "source": [
    "# Save mismatched weightclasses to csv file\n",
    "\n",
    "# ufc_df.loc[ufc_df[\"R_Weight_Class\"] != ufc_df[\"B_Weight_Class\"]].to_csv(\n",
    "#     \"out.csv\",\n",
    "#     columns=[\n",
    "#         \"R_Weight\",\n",
    "#         \"B_Weight\",\n",
    "#         \"R_Weight_Class\",\n",
    "#         \"B_Weight_Class\",\n",
    "#         \"R_Name\",\n",
    "#         \"B_Name\",\n",
    "#     ],\n",
    "# )\n"
   ]
  },
  {
   "cell_type": "code",
   "execution_count": 30,
   "id": "1c3b5122",
   "metadata": {},
   "outputs": [
    {
     "name": "stdout",
     "output_type": "stream",
     "text": [
      "21\n",
      "21\n",
      "12\n",
      "12\n"
     ]
    }
   ],
   "source": [
    "# Red weight nulls\n",
    "print(ufc_df[\"R_Weight\"].isnull().sum())\n",
    "print(ufc_df[\"R_Weight_Class\"].isnull().sum())\n",
    "\n",
    "# Blue weight nulls\n",
    "print(ufc_df[\"B_Weight\"].isnull().sum())\n",
    "print(ufc_df[\"B_Weight_Class\"].isnull().sum())\n"
   ]
  },
  {
   "cell_type": "markdown",
   "id": "841f3b01",
   "metadata": {},
   "source": [
    "# Machine Learning Model\n"
   ]
  },
  {
   "cell_type": "markdown",
   "id": "d0c13209",
   "metadata": {},
   "source": [
    "## Logistic Regression\n"
   ]
  },
  {
   "cell_type": "code",
   "execution_count": 31,
   "id": "df604031",
   "metadata": {},
   "outputs": [
    {
     "name": "stdout",
     "output_type": "stream",
     "text": [
      "model score: 0.601\n"
     ]
    }
   ],
   "source": [
    "from sklearn.model_selection import train_test_split\n",
    "from sklearn.compose import ColumnTransformer\n",
    "from sklearn.pipeline import Pipeline\n",
    "from sklearn.impute import SimpleImputer\n",
    "from sklearn.preprocessing import StandardScaler, OneHotEncoder\n",
    "from sklearn.compose import make_column_selector as selector\n",
    "from sklearn.linear_model import LogisticRegression\n",
    "\n",
    "\n",
    "numerical_cols = [\n",
    "    \"Last_round\",\n",
    "    \"Max_round\",\n",
    "    \"B_Height\",\n",
    "    \"B_Weight\",\n",
    "    \"R_Height\",\n",
    "    \"R_Weight\",\n",
    "    \"B_Age\",\n",
    "    \"R_Age\",\n",
    "]\n",
    "categorical_cols = [\"winby\"]\n",
    "\n",
    "# numerical_cols = selector(dtype_include=\"number\")\n",
    "# categorical_cols = selector(dtype_include=\"category\")\n",
    "\n",
    "# Imputation transformer for completing missing values.\n",
    "# Standardize features by removing the mean and scaling to unit variance with `StandardScalar()`.\n",
    "numeric_transformer = Pipeline(\n",
    "    steps=[\n",
    "        (\"imputer\", SimpleImputer(strategy=\"constant\")),\n",
    "        (\"scaler\", StandardScaler()),\n",
    "    ]\n",
    ")\n",
    "\n",
    "# categorical_transformer = OneHotEncoder(handle_unknown=\"ignore\")\n",
    "categorical_transformer = Pipeline(\n",
    "    steps=[\n",
    "        (\"onehot\", OneHotEncoder(handle_unknown=\"ignore\")),\n",
    "    ]\n",
    ")\n",
    "\n",
    "\n",
    "preprocessor = ColumnTransformer(\n",
    "    transformers=[\n",
    "        (\"num\", numeric_transformer, numerical_cols),\n",
    "        (\"cat\", categorical_transformer, categorical_cols),\n",
    "    ]\n",
    ")\n",
    "\n",
    "# Append classifier to preprocessing pipeline.\n",
    "# Now we have a full prediction pipeline.\n",
    "clf = Pipeline(\n",
    "    steps=[\n",
    "        (\"preprocessor\", preprocessor),\n",
    "        (\"classifier\", LogisticRegression(max_iter=500)),\n",
    "    ]\n",
    ")\n",
    "\n",
    "X = ufc_df.drop(\"winner\", axis=1)\n",
    "y = ufc_df[\"winner\"]\n",
    "\n",
    "X_train, X_test, y_train, y_test = train_test_split(X, y, test_size=0.2, random_state=1)\n",
    "\n",
    "clf.fit(X_train, y_train)\n",
    "print(\"model score: %.3f\" % clf.score(X_test, y_test))\n"
   ]
  },
  {
   "cell_type": "markdown",
   "id": "e5115714",
   "metadata": {},
   "source": [
    "### Display Diagram of Pipeline\n"
   ]
  },
  {
   "cell_type": "code",
   "execution_count": 32,
   "id": "00ddddfd",
   "metadata": {},
   "outputs": [
    {
     "data": {
      "text/html": [
       "<style>#sk-1fb27e0d-7cc0-4b8e-8d70-e06388180184 {color: black;background-color: white;}#sk-1fb27e0d-7cc0-4b8e-8d70-e06388180184 pre{padding: 0;}#sk-1fb27e0d-7cc0-4b8e-8d70-e06388180184 div.sk-toggleable {background-color: white;}#sk-1fb27e0d-7cc0-4b8e-8d70-e06388180184 label.sk-toggleable__label {cursor: pointer;display: block;width: 100%;margin-bottom: 0;padding: 0.3em;box-sizing: border-box;text-align: center;}#sk-1fb27e0d-7cc0-4b8e-8d70-e06388180184 label.sk-toggleable__label-arrow:before {content: \"▸\";float: left;margin-right: 0.25em;color: #696969;}#sk-1fb27e0d-7cc0-4b8e-8d70-e06388180184 label.sk-toggleable__label-arrow:hover:before {color: black;}#sk-1fb27e0d-7cc0-4b8e-8d70-e06388180184 div.sk-estimator:hover label.sk-toggleable__label-arrow:before {color: black;}#sk-1fb27e0d-7cc0-4b8e-8d70-e06388180184 div.sk-toggleable__content {max-height: 0;max-width: 0;overflow: hidden;text-align: left;background-color: #f0f8ff;}#sk-1fb27e0d-7cc0-4b8e-8d70-e06388180184 div.sk-toggleable__content pre {margin: 0.2em;color: black;border-radius: 0.25em;background-color: #f0f8ff;}#sk-1fb27e0d-7cc0-4b8e-8d70-e06388180184 input.sk-toggleable__control:checked~div.sk-toggleable__content {max-height: 200px;max-width: 100%;overflow: auto;}#sk-1fb27e0d-7cc0-4b8e-8d70-e06388180184 input.sk-toggleable__control:checked~label.sk-toggleable__label-arrow:before {content: \"▾\";}#sk-1fb27e0d-7cc0-4b8e-8d70-e06388180184 div.sk-estimator input.sk-toggleable__control:checked~label.sk-toggleable__label {background-color: #d4ebff;}#sk-1fb27e0d-7cc0-4b8e-8d70-e06388180184 div.sk-label input.sk-toggleable__control:checked~label.sk-toggleable__label {background-color: #d4ebff;}#sk-1fb27e0d-7cc0-4b8e-8d70-e06388180184 input.sk-hidden--visually {border: 0;clip: rect(1px 1px 1px 1px);clip: rect(1px, 1px, 1px, 1px);height: 1px;margin: -1px;overflow: hidden;padding: 0;position: absolute;width: 1px;}#sk-1fb27e0d-7cc0-4b8e-8d70-e06388180184 div.sk-estimator {font-family: monospace;background-color: #f0f8ff;border: 1px dotted black;border-radius: 0.25em;box-sizing: border-box;margin-bottom: 0.5em;}#sk-1fb27e0d-7cc0-4b8e-8d70-e06388180184 div.sk-estimator:hover {background-color: #d4ebff;}#sk-1fb27e0d-7cc0-4b8e-8d70-e06388180184 div.sk-parallel-item::after {content: \"\";width: 100%;border-bottom: 1px solid gray;flex-grow: 1;}#sk-1fb27e0d-7cc0-4b8e-8d70-e06388180184 div.sk-label:hover label.sk-toggleable__label {background-color: #d4ebff;}#sk-1fb27e0d-7cc0-4b8e-8d70-e06388180184 div.sk-serial::before {content: \"\";position: absolute;border-left: 1px solid gray;box-sizing: border-box;top: 2em;bottom: 0;left: 50%;}#sk-1fb27e0d-7cc0-4b8e-8d70-e06388180184 div.sk-serial {display: flex;flex-direction: column;align-items: center;background-color: white;padding-right: 0.2em;padding-left: 0.2em;}#sk-1fb27e0d-7cc0-4b8e-8d70-e06388180184 div.sk-item {z-index: 1;}#sk-1fb27e0d-7cc0-4b8e-8d70-e06388180184 div.sk-parallel {display: flex;align-items: stretch;justify-content: center;background-color: white;}#sk-1fb27e0d-7cc0-4b8e-8d70-e06388180184 div.sk-parallel::before {content: \"\";position: absolute;border-left: 1px solid gray;box-sizing: border-box;top: 2em;bottom: 0;left: 50%;}#sk-1fb27e0d-7cc0-4b8e-8d70-e06388180184 div.sk-parallel-item {display: flex;flex-direction: column;position: relative;background-color: white;}#sk-1fb27e0d-7cc0-4b8e-8d70-e06388180184 div.sk-parallel-item:first-child::after {align-self: flex-end;width: 50%;}#sk-1fb27e0d-7cc0-4b8e-8d70-e06388180184 div.sk-parallel-item:last-child::after {align-self: flex-start;width: 50%;}#sk-1fb27e0d-7cc0-4b8e-8d70-e06388180184 div.sk-parallel-item:only-child::after {width: 0;}#sk-1fb27e0d-7cc0-4b8e-8d70-e06388180184 div.sk-dashed-wrapped {border: 1px dashed gray;margin: 0 0.4em 0.5em 0.4em;box-sizing: border-box;padding-bottom: 0.4em;background-color: white;position: relative;}#sk-1fb27e0d-7cc0-4b8e-8d70-e06388180184 div.sk-label label {font-family: monospace;font-weight: bold;background-color: white;display: inline-block;line-height: 1.2em;}#sk-1fb27e0d-7cc0-4b8e-8d70-e06388180184 div.sk-label-container {position: relative;z-index: 2;text-align: center;}#sk-1fb27e0d-7cc0-4b8e-8d70-e06388180184 div.sk-container {/* jupyter's `normalize.less` sets `[hidden] { display: none; }` but bootstrap.min.css set `[hidden] { display: none !important; }` so we also need the `!important` here to be able to override the default hidden behavior on the sphinx rendered scikit-learn.org. See: https://github.com/scikit-learn/scikit-learn/issues/21755 */display: inline-block !important;position: relative;}#sk-1fb27e0d-7cc0-4b8e-8d70-e06388180184 div.sk-text-repr-fallback {display: none;}</style><div id=\"sk-1fb27e0d-7cc0-4b8e-8d70-e06388180184\" class=\"sk-top-container\"><div class=\"sk-text-repr-fallback\"><pre>Pipeline(steps=[(&#x27;preprocessor&#x27;,\n",
       "                 ColumnTransformer(transformers=[(&#x27;num&#x27;,\n",
       "                                                  Pipeline(steps=[(&#x27;imputer&#x27;,\n",
       "                                                                   SimpleImputer(strategy=&#x27;constant&#x27;)),\n",
       "                                                                  (&#x27;scaler&#x27;,\n",
       "                                                                   StandardScaler())]),\n",
       "                                                  [&#x27;Last_round&#x27;, &#x27;Max_round&#x27;,\n",
       "                                                   &#x27;B_Height&#x27;, &#x27;B_Weight&#x27;,\n",
       "                                                   &#x27;R_Height&#x27;, &#x27;R_Weight&#x27;,\n",
       "                                                   &#x27;B_Age&#x27;, &#x27;R_Age&#x27;]),\n",
       "                                                 (&#x27;cat&#x27;,\n",
       "                                                  Pipeline(steps=[(&#x27;onehot&#x27;,\n",
       "                                                                   OneHotEncoder(handle_unknown=&#x27;ignore&#x27;))]),\n",
       "                                                  [&#x27;winby&#x27;])])),\n",
       "                (&#x27;classifier&#x27;, LogisticRegression(max_iter=500))])</pre><b>Please rerun this cell to show the HTML repr or trust the notebook.</b></div><div class=\"sk-container\" hidden><div class=\"sk-item sk-dashed-wrapped\"><div class=\"sk-label-container\"><div class=\"sk-label sk-toggleable\"><input class=\"sk-toggleable__control sk-hidden--visually\" id=\"0a0a6d98-53b4-43a8-bdfc-5b78021191a0\" type=\"checkbox\" ><label for=\"0a0a6d98-53b4-43a8-bdfc-5b78021191a0\" class=\"sk-toggleable__label sk-toggleable__label-arrow\">Pipeline</label><div class=\"sk-toggleable__content\"><pre>Pipeline(steps=[(&#x27;preprocessor&#x27;,\n",
       "                 ColumnTransformer(transformers=[(&#x27;num&#x27;,\n",
       "                                                  Pipeline(steps=[(&#x27;imputer&#x27;,\n",
       "                                                                   SimpleImputer(strategy=&#x27;constant&#x27;)),\n",
       "                                                                  (&#x27;scaler&#x27;,\n",
       "                                                                   StandardScaler())]),\n",
       "                                                  [&#x27;Last_round&#x27;, &#x27;Max_round&#x27;,\n",
       "                                                   &#x27;B_Height&#x27;, &#x27;B_Weight&#x27;,\n",
       "                                                   &#x27;R_Height&#x27;, &#x27;R_Weight&#x27;,\n",
       "                                                   &#x27;B_Age&#x27;, &#x27;R_Age&#x27;]),\n",
       "                                                 (&#x27;cat&#x27;,\n",
       "                                                  Pipeline(steps=[(&#x27;onehot&#x27;,\n",
       "                                                                   OneHotEncoder(handle_unknown=&#x27;ignore&#x27;))]),\n",
       "                                                  [&#x27;winby&#x27;])])),\n",
       "                (&#x27;classifier&#x27;, LogisticRegression(max_iter=500))])</pre></div></div></div><div class=\"sk-serial\"><div class=\"sk-item sk-dashed-wrapped\"><div class=\"sk-label-container\"><div class=\"sk-label sk-toggleable\"><input class=\"sk-toggleable__control sk-hidden--visually\" id=\"9bad4df8-5303-47df-923d-1bef1c426a90\" type=\"checkbox\" ><label for=\"9bad4df8-5303-47df-923d-1bef1c426a90\" class=\"sk-toggleable__label sk-toggleable__label-arrow\">preprocessor: ColumnTransformer</label><div class=\"sk-toggleable__content\"><pre>ColumnTransformer(transformers=[(&#x27;num&#x27;,\n",
       "                                 Pipeline(steps=[(&#x27;imputer&#x27;,\n",
       "                                                  SimpleImputer(strategy=&#x27;constant&#x27;)),\n",
       "                                                 (&#x27;scaler&#x27;, StandardScaler())]),\n",
       "                                 [&#x27;Last_round&#x27;, &#x27;Max_round&#x27;, &#x27;B_Height&#x27;,\n",
       "                                  &#x27;B_Weight&#x27;, &#x27;R_Height&#x27;, &#x27;R_Weight&#x27;, &#x27;B_Age&#x27;,\n",
       "                                  &#x27;R_Age&#x27;]),\n",
       "                                (&#x27;cat&#x27;,\n",
       "                                 Pipeline(steps=[(&#x27;onehot&#x27;,\n",
       "                                                  OneHotEncoder(handle_unknown=&#x27;ignore&#x27;))]),\n",
       "                                 [&#x27;winby&#x27;])])</pre></div></div></div><div class=\"sk-parallel\"><div class=\"sk-parallel-item\"><div class=\"sk-item\"><div class=\"sk-label-container\"><div class=\"sk-label sk-toggleable\"><input class=\"sk-toggleable__control sk-hidden--visually\" id=\"328b1881-ad18-4712-9e40-a57563a65a08\" type=\"checkbox\" ><label for=\"328b1881-ad18-4712-9e40-a57563a65a08\" class=\"sk-toggleable__label sk-toggleable__label-arrow\">num</label><div class=\"sk-toggleable__content\"><pre>[&#x27;Last_round&#x27;, &#x27;Max_round&#x27;, &#x27;B_Height&#x27;, &#x27;B_Weight&#x27;, &#x27;R_Height&#x27;, &#x27;R_Weight&#x27;, &#x27;B_Age&#x27;, &#x27;R_Age&#x27;]</pre></div></div></div><div class=\"sk-serial\"><div class=\"sk-item\"><div class=\"sk-serial\"><div class=\"sk-item\"><div class=\"sk-estimator sk-toggleable\"><input class=\"sk-toggleable__control sk-hidden--visually\" id=\"c1616705-1393-4bb4-a999-2ca016223685\" type=\"checkbox\" ><label for=\"c1616705-1393-4bb4-a999-2ca016223685\" class=\"sk-toggleable__label sk-toggleable__label-arrow\">SimpleImputer</label><div class=\"sk-toggleable__content\"><pre>SimpleImputer(strategy=&#x27;constant&#x27;)</pre></div></div></div><div class=\"sk-item\"><div class=\"sk-estimator sk-toggleable\"><input class=\"sk-toggleable__control sk-hidden--visually\" id=\"fa369fc0-a1e0-4374-8b92-9f1a8e0ff8ad\" type=\"checkbox\" ><label for=\"fa369fc0-a1e0-4374-8b92-9f1a8e0ff8ad\" class=\"sk-toggleable__label sk-toggleable__label-arrow\">StandardScaler</label><div class=\"sk-toggleable__content\"><pre>StandardScaler()</pre></div></div></div></div></div></div></div></div><div class=\"sk-parallel-item\"><div class=\"sk-item\"><div class=\"sk-label-container\"><div class=\"sk-label sk-toggleable\"><input class=\"sk-toggleable__control sk-hidden--visually\" id=\"8b06a123-34a5-4655-96fd-77f6f522eb35\" type=\"checkbox\" ><label for=\"8b06a123-34a5-4655-96fd-77f6f522eb35\" class=\"sk-toggleable__label sk-toggleable__label-arrow\">cat</label><div class=\"sk-toggleable__content\"><pre>[&#x27;winby&#x27;]</pre></div></div></div><div class=\"sk-serial\"><div class=\"sk-item\"><div class=\"sk-serial\"><div class=\"sk-item\"><div class=\"sk-estimator sk-toggleable\"><input class=\"sk-toggleable__control sk-hidden--visually\" id=\"fe887523-9e04-4b01-829c-a93296126f41\" type=\"checkbox\" ><label for=\"fe887523-9e04-4b01-829c-a93296126f41\" class=\"sk-toggleable__label sk-toggleable__label-arrow\">OneHotEncoder</label><div class=\"sk-toggleable__content\"><pre>OneHotEncoder(handle_unknown=&#x27;ignore&#x27;)</pre></div></div></div></div></div></div></div></div></div></div><div class=\"sk-item\"><div class=\"sk-estimator sk-toggleable\"><input class=\"sk-toggleable__control sk-hidden--visually\" id=\"10509f14-2d54-40a4-b58d-70293f6e0714\" type=\"checkbox\" ><label for=\"10509f14-2d54-40a4-b58d-70293f6e0714\" class=\"sk-toggleable__label sk-toggleable__label-arrow\">LogisticRegression</label><div class=\"sk-toggleable__content\"><pre>LogisticRegression(max_iter=500)</pre></div></div></div></div></div></div></div>"
      ],
      "text/plain": [
       "Pipeline(steps=[('preprocessor',\n",
       "                 ColumnTransformer(transformers=[('num',\n",
       "                                                  Pipeline(steps=[('imputer',\n",
       "                                                                   SimpleImputer(strategy='constant')),\n",
       "                                                                  ('scaler',\n",
       "                                                                   StandardScaler())]),\n",
       "                                                  ['Last_round', 'Max_round',\n",
       "                                                   'B_Height', 'B_Weight',\n",
       "                                                   'R_Height', 'R_Weight',\n",
       "                                                   'B_Age', 'R_Age']),\n",
       "                                                 ('cat',\n",
       "                                                  Pipeline(steps=[('onehot',\n",
       "                                                                   OneHotEncoder(handle_unknown='ignore'))]),\n",
       "                                                  ['winby'])])),\n",
       "                ('classifier', LogisticRegression(max_iter=500))])"
      ]
     },
     "execution_count": 32,
     "metadata": {},
     "output_type": "execute_result"
    }
   ],
   "source": [
    "from sklearn import set_config\n",
    "\n",
    "set_config(display=\"diagram\")\n",
    "clf\n"
   ]
  },
  {
   "cell_type": "markdown",
   "id": "558f902c",
   "metadata": {},
   "source": [
    "### Classification Report\n"
   ]
  },
  {
   "cell_type": "code",
   "execution_count": 33,
   "id": "ac143585",
   "metadata": {},
   "outputs": [
    {
     "name": "stdout",
     "output_type": "stream",
     "text": [
      "              precision    recall  f1-score   support\n",
      "\n",
      "        blue       0.57      0.29      0.38       195\n",
      "         red       0.61      0.84      0.71       261\n",
      "\n",
      "    accuracy                           0.60       456\n",
      "   macro avg       0.59      0.56      0.54       456\n",
      "weighted avg       0.59      0.60      0.57       456\n",
      "\n"
     ]
    }
   ],
   "source": [
    "from sklearn.metrics import classification_report\n",
    "\n",
    "y_pred = clf.predict(X_test)\n",
    "print(classification_report(y_test, y_pred))\n"
   ]
  },
  {
   "cell_type": "markdown",
   "id": "6f5a5e75",
   "metadata": {},
   "source": [
    "### Model Persistence\n"
   ]
  },
  {
   "cell_type": "code",
   "execution_count": 34,
   "id": "0aaa082e",
   "metadata": {},
   "outputs": [],
   "source": [
    "# from joblib import dump, load\n",
    "\n",
    "# dump(clf, \"clf.joblib\")\n",
    "\n",
    "# !!! WARNING: DO NOT LOAD RANDOM OBJECTS !!!\n",
    "# clf = load(\"clf.joblib\")\n",
    "\n",
    "# # Prediction based on saved pipeline.\n",
    "# selection = X.iloc[[5]]\n",
    "# clf.predict(selection)\n"
   ]
  },
  {
   "cell_type": "markdown",
   "id": "e2ccbc2b",
   "metadata": {},
   "source": [
    "### Export Dataset\n"
   ]
  },
  {
   "cell_type": "code",
   "execution_count": 35,
   "id": "ed615f9a",
   "metadata": {},
   "outputs": [],
   "source": [
    "# Export dataset to CSV\n",
    "ufc_df.to_csv(\"Resources/new_data.csv\", index=False)\n"
   ]
  }
 ],
 "metadata": {
  "interpreter": {
   "hash": "6d13ba43a92555a83a91537475403bd0fdb075d2524ba3a00b200fd1cb72e7c9"
  },
  "kernelspec": {
   "display_name": "mlenv",
   "language": "python",
   "name": "mlenv"
  },
  "language_info": {
   "codemirror_mode": {
    "name": "ipython",
    "version": 3
   },
   "file_extension": ".py",
   "mimetype": "text/x-python",
   "name": "python",
   "nbconvert_exporter": "python",
   "pygments_lexer": "ipython3",
   "version": "3.7.11"
  }
 },
 "nbformat": 4,
 "nbformat_minor": 5
}
