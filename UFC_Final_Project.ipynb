{
 "cells": [
  {
   "cell_type": "markdown",
   "id": "1101e5af",
   "metadata": {},
   "source": [
    "# UFC Fight Prediction\n"
   ]
  },
  {
   "cell_type": "code",
   "execution_count": null,
   "id": "2b4fae9e",
   "metadata": {},
   "outputs": [],
   "source": [
    "# Import dependencies\n",
    "import pandas as pd\n",
    "import matplotlib.pyplot as plt\n",
    "import os\n",
    "import numpy as np\n",
    "import psycopg2\n",
    "from config import password\n",
    "from sqlalchemy import create_engine\n",
    "import io\n"
   ]
  },
  {
   "cell_type": "code",
   "execution_count": null,
   "id": "1faf8e79",
   "metadata": {},
   "outputs": [],
   "source": [
    "# Read in the CSV file (data.csv) as a DataFrame\n",
    "ufc_df = pd.read_csv(\"Resources/scraped_data.csv\", low_memory=False)\n",
    "ufc_df\n",
    "\n",
    "# DtypeWarning: Columns (2,98,122,139,142,146,163,166,259,300,303,307,324,327) have mixed types.\n",
    "# FIX: To ensure no mixed types either set low_memory=False in read_csv(),\n",
    "# or specify the type with the dtype parameter. Specifying the datatype may result in memory improvements.\n"
   ]
  },
  {
   "cell_type": "markdown",
   "id": "6d80d799",
   "metadata": {},
   "source": [
    "## Data Cleaning\n"
   ]
  },
  {
   "cell_type": "code",
   "execution_count": null,
   "id": "39f1c2ac",
   "metadata": {
    "pycharm": {
     "name": "#%%\n"
    }
   },
   "outputs": [],
   "source": [
    "# View duplicated rows.\n",
    "display(ufc_df[ufc_df.duplicated()])\n",
    "\n",
    "# Dropping duplicate rows. Can happen sometimes due to the new event being scraped.\n",
    "ufc_df = ufc_df.drop_duplicates()\n",
    "display(ufc_df)\n",
    "\n",
    "# If the subset of columns contains a duplicate row then Raise SystemExit exception; historically, this has not occurred before.\n",
    "if len(ufc_df[ufc_df.duplicated(subset=[\"Event_Date\", \"B_Name\", \"R_Name\"])]) != 0:\n",
    "    raise SystemExit(\"Duplicate events found!\")\n"
   ]
  },
  {
   "cell_type": "code",
   "execution_count": null,
   "id": "ea310fa1",
   "metadata": {
    "pycharm": {
     "name": "#%%\n"
    }
   },
   "outputs": [],
   "source": [
    "# Converting Event_Date column values to datetime64 to drop older fights below\n",
    "ufc_df[\"Event_Date\"] = pd.to_datetime(ufc_df[\"Event_Date\"])\n"
   ]
  },
  {
   "cell_type": "code",
   "execution_count": null,
   "id": "b79754f0",
   "metadata": {
    "pycharm": {
     "name": "#%%\n"
    }
   },
   "outputs": [],
   "source": [
    "# Removing old fights due to the lack of rule consistency\n",
    "ufc_df = ufc_df[ufc_df[\"Event_Date\"] >= pd.to_datetime(\"5/3/2001\")]\n"
   ]
  },
  {
   "cell_type": "code",
   "execution_count": null,
   "id": "8ac8304f",
   "metadata": {},
   "outputs": [],
   "source": [
    "# TODO: Fix handling of `--`, `---`, or `No Time Limit`; I was unsure on what each value means so I just set them to NaN.\n",
    "ufc_df = ufc_df.replace(\"--\", np.NaN)\n",
    "ufc_df = ufc_df.replace(\"---\", np.NaN)\n",
    "ufc_df = ufc_df.replace(\"No Time Limit\", np.NaN)\n"
   ]
  },
  {
   "cell_type": "code",
   "execution_count": null,
   "id": "ecdcd9f3",
   "metadata": {},
   "outputs": [],
   "source": [
    "# Extract number inside the parenthesis using Regex matching; no contest(s) amount\n",
    "ufc_df[\"R_No_Contest\"] = ufc_df[\"R_Draws\"].str.extract(\"\\((\\d+)\\sNC\\)\", expand=False)\n",
    "ufc_df[\"B_No_Contest\"] = ufc_df[\"B_Draws\"].str.extract(\"\\((\\d+)\\sNC\\)\", expand=False)\n",
    "\n",
    "# Extract first number at start of string using Regex matching; draw(s) amount\n",
    "ufc_df[\"R_Draws\"] = ufc_df[\"R_Draws\"].str.extract(\"^(\\d+)\", expand=False)\n",
    "ufc_df[\"B_Draws\"] = ufc_df[\"B_Draws\"].str.extract(\"^(\\d+)\", expand=False)\n"
   ]
  },
  {
   "cell_type": "markdown",
   "id": "9d646229",
   "metadata": {},
   "source": [
    "|   Weight Class    | Minimum Weight (lb) | Maximum Weight (lb) |\n",
    "| :---------------: | :-----------------: | :-----------------: |\n",
    "|    Heavyweight    |         205         |         265         |\n",
    "| Light Heavyweight |         185         |         205         |\n",
    "|   Middleweight    |         170         |         185         |\n",
    "|   Welterweight    |         155         |         170         |\n",
    "|    Lightweight    |         145         |         155         |\n",
    "|   Featherweight   |         135         |         145         |\n",
    "|   Bantamweight    |         125         |         135         |\n",
    "|     Flyweight     |         115         |         125         |\n",
    "|   Strawweight\\*   |          0          |         115         |\n",
    "\n",
    "- \"The women’s UFC division is split into only 4 classes: strawweight, flyweight, bantamweight, and featherweight. The strawweight class is only used in the women’s division and men do not compete in it.\"\n"
   ]
  },
  {
   "cell_type": "code",
   "execution_count": null,
   "id": "12d90b08",
   "metadata": {},
   "outputs": [],
   "source": [
    "# View descriptive statistics (central tendency, dispersion and shape of a dataset’s distribution, excluding NaN values)\n",
    "# before removing rows that do not contain a standardized weight class\n",
    "display(ufc_df[[\"R_Weight\", \"B_Weight\"]].describe())\n",
    "display(ufc_df.Weight_Class.value_counts())\n",
    "\n",
    "# Keep rows that contain standardized weight class\n",
    "ufc_df = ufc_df.loc[\n",
    "    (ufc_df.Weight_Class == \"Heavyweight\")\n",
    "    | (ufc_df.Weight_Class == \"Light Heavyweight\")\n",
    "    | (ufc_df.Weight_Class == \"Middleweight\")\n",
    "    | (ufc_df.Weight_Class == \"Welterweight\")\n",
    "    | (ufc_df.Weight_Class == \"Lightweight\")\n",
    "    | (ufc_df.Weight_Class == \"Featherweight\")\n",
    "    | (ufc_df.Weight_Class == \"Bantamweight\")\n",
    "    | (ufc_df.Weight_Class == \"Flyweight\")\n",
    "    | (ufc_df.Weight_Class == \"Strawweight\")\n",
    "    | (ufc_df.Weight_Class == \"Women's Strawweight\")\n",
    "    | (ufc_df.Weight_Class == \"Women's Flyweight\")\n",
    "    | (ufc_df.Weight_Class == \"Women's Bantamweight\")\n",
    "    | (ufc_df.Weight_Class == \"Women's Featherweight\")\n",
    "    # TODO: Should \"Catch Weight\" be excluded?\n",
    "    # | (ufc_df.Weight_Class == \"Catch Weight\")\n",
    "    # | (ufc_df.Weight_Class == \"Super Heavyweight\")  # no longer a weight class or part of dataset\n",
    "    # | (ufc_df.Weight_Class == \"Open Weight\")  # no longer a weight class or part of dataset\n",
    "    # TODO: Create `other` category for anything that does not fall in standardized Weight_Class (?)\n",
    "    # | (ufc_df.Winnner == \"Other\")\n",
    "]\n",
    "\n",
    "# View descriptive statistics (central tendency, dispersion and shape of a dataset’s distribution, excluding NaN values)\n",
    "# after removing rows that do not contain a standardized weight class\n",
    "display(\"-\" * 50)\n",
    "display(ufc_df[[\"R_Weight\", \"B_Weight\"]].describe())\n",
    "display(ufc_df.Weight_Class.value_counts())\n"
   ]
  },
  {
   "cell_type": "code",
   "execution_count": null,
   "id": "75993da4",
   "metadata": {},
   "outputs": [],
   "source": [
    "# Converting blue corner values to the correct dtype (Categorical or numeric)\n",
    "ufc_df = ufc_df.astype(\n",
    "    {\n",
    "        \"B_Name\": \"category\",\n",
    "        \"B_Reach\": \"float\",        \n",
    "        \"B_Significant_Strike_Perc\": \"float\",\n",
    "        \"B_Takedown_Perc\": \"float\",\n",
    "        \"B_Round_One_Significant_Strike_Perc\": \"float\",\n",
    "        \"B_Round_One_Takedown_Perc\": \"float\",\n",
    "        \"B_Round_Two_Significant_Strike_Perc\": \"float\",\n",
    "        \"B_Round_Two_Takedown_Perc\": \"float\",\n",
    "        \"B_Round_Three_Significant_Strike_Perc\": \"float\",\n",
    "        \"B_Round_Three_Takedown_Perc\": \"float\",\n",
    "        \"B_Round_Four_Takedown_Perc\": \"float\",\n",
    "        \"B_Round_Five_Takedown_Perc\": \"float\",\n",
    "        \"B_Round_Four_Significant_Strike_Perc\": \"float\",\n",
    "        \"B_Round_Five_Significant_Strike_Perc\": \"float\",\n",
    "        \"B_Draws\": \"float\",\n",
    "        \"B_No_Contest\": \"float\",\n",
    "    }\n",
    ")\n",
    "\n",
    "# Converting red corner values to the correct dtype (Categorical or numeric)\n",
    "ufc_df = ufc_df.astype(\n",
    "    {\n",
    "        \"R_Name\": \"category\",\n",
    "        \"R_Reach\": \"float\",\n",
    "        \"R_Significant_Strike_Perc\": \"float\",\n",
    "        \"R_Takedown_Perc\": \"float\",\n",
    "        \"R_Round_One_Significant_Strike_Perc\": \"float\",\n",
    "        \"R_Round_One_Takedown_Perc\": \"float\",\n",
    "        \"R_Round_Two_Significant_Strike_Perc\": \"float\",\n",
    "        \"R_Round_Two_Takedown_Perc\": \"float\",\n",
    "        \"R_Round_Three_Significant_Strike_Perc\": \"float\",\n",
    "        \"R_Round_Three_Takedown_Perc\": \"float\",\n",
    "        \"R_Round_Four_Takedown_Perc\": \"float\",\n",
    "        \"R_Round_Five_Takedown_Perc\": \"float\",\n",
    "        \"R_Round_Five_Significant_Strike_Perc\": \"float\",\n",
    "        \"R_Draws\": \"float\",\n",
    "        \"R_No_Contest\": \"float\",\n",
    "    }\n",
    ")\n",
    "\n",
    "# Convert Max_Rounds to Integer\n",
    "# TODO: Why is `Max_Rounds` being inferred as a object and not `Ending_Round`?\n",
    "ufc_df[\"Max_Rounds\"] = ufc_df[\"Max_Rounds\"].astype(\"int64\") \n"
   ]
  },
  {
   "cell_type": "code",
   "execution_count": null,
   "id": "19c5fca8",
   "metadata": {
    "pycharm": {
     "name": "#%%\n"
    }
   },
   "outputs": [],
   "source": [
    "# Alphabetically sort column names\n",
    "original_column_list = ufc_df.columns.tolist()\n",
    "sorted_column_list = sorted(ufc_df.columns.tolist())\n",
    "# TODO: Is there a benefit of using .reindex instead?\n",
    "ufc_df = ufc_df[sorted_column_list]\n"
   ]
  },
  {
   "cell_type": "code",
   "execution_count": null,
   "id": "2e4e20fa",
   "metadata": {},
   "outputs": [],
   "source": [
    "# Symmetric difference between original & sorted column names to ensure no columns are not missing.\n",
    "set(original_column_list) ^ set(sorted_column_list)\n"
   ]
  },
  {
   "cell_type": "code",
   "execution_count": null,
   "id": "3fdf183c",
   "metadata": {
    "scrolled": true
   },
   "outputs": [],
   "source": [
    "#  Infer best column dtype & add missing values to rows\n",
    "ufc_df = ufc_df.convert_dtypes()\n",
    "ufc_df.dtypes.value_counts()\n"
   ]
  },
  {
   "cell_type": "code",
   "execution_count": null,
   "id": "a1f04a4b",
   "metadata": {
    "scrolled": false
   },
   "outputs": [],
   "source": [
    "ufc_df.head()\n"
   ]
  },
  {
   "cell_type": "markdown",
   "id": "fbb87721",
   "metadata": {},
   "source": [
    "## Data Exploration\n"
   ]
  },
  {
   "cell_type": "markdown",
   "id": "cad348fe",
   "metadata": {},
   "source": [
    "### Winner (Red vs. Blue)\n"
   ]
  },
  {
   "cell_type": "code",
   "execution_count": null,
   "id": "6a952d5c",
   "metadata": {
    "scrolled": true
   },
   "outputs": [],
   "source": [
    "# Pie chart, Red vs. Blue win rate\n",
    "pie_labels = ufc_df[\"Winner\"].value_counts().index\n",
    "pie_values = ufc_df[\"Winner\"].value_counts().values\n",
    "explode = (0, 0.1)  # only \"explode\" the 2nd slice\n",
    "\n",
    "fig1, ax1 = plt.subplots()\n",
    "\n",
    "ax1.pie(\n",
    "    x=pie_values,\n",
    "    labels=pie_labels,\n",
    "    colors=[\"red\", \"blue\"],\n",
    "    explode=explode,\n",
    "    autopct=\"%1.1f%%\",\n",
    "    shadow=True,\n",
    "    startangle=90,\n",
    ")\n",
    "ax1.axis(\"equal\")  # Equal aspect ratio ensures that pie is drawn as a circle.\n",
    "ax1.axes.set_title(\"Win Rate (Red vs. Blue)\")\n",
    "\n",
    "plt.show()\n"
   ]
  },
  {
   "cell_type": "markdown",
   "id": "ed8eb407",
   "metadata": {},
   "source": [
    "### Age\n"
   ]
  },
  {
   "cell_type": "code",
   "execution_count": null,
   "id": "11a58a2d",
   "metadata": {},
   "outputs": [],
   "source": [
    "# Generate descriptive statistics on Age columns (min, max, etc)\n",
    "ufc_df[[\"R_Age\", \"B_Age\"]].describe()\n"
   ]
  },
  {
   "cell_type": "code",
   "execution_count": null,
   "id": "576cc011",
   "metadata": {},
   "outputs": [],
   "source": [
    "# Use Box & Whisker plot to visualize Age outliers\n",
    "ufc_df.boxplot(column=[\"R_Age\", \"B_Age\"])\n"
   ]
  },
  {
   "cell_type": "markdown",
   "id": "19369aa4",
   "metadata": {},
   "source": [
    "### Height\n"
   ]
  },
  {
   "cell_type": "code",
   "execution_count": null,
   "id": "ff978f88",
   "metadata": {
    "scrolled": true
   },
   "outputs": [],
   "source": [
    "# Generate descriptive statistics on Height columns (min, max, etc)\n",
    "ufc_df[[\"R_Height\", \"B_Height\"]].describe()\n"
   ]
  },
  {
   "cell_type": "code",
   "execution_count": null,
   "id": "7c207a4e",
   "metadata": {
    "scrolled": true
   },
   "outputs": [],
   "source": [
    "# Use Box & Whisker plot to visualize Height outliers\n",
    "ufc_df.boxplot(column=[\"R_Height\", \"B_Height\"])\n"
   ]
  },
  {
   "cell_type": "markdown",
   "id": "6a249120",
   "metadata": {},
   "source": [
    "### Weight\n"
   ]
  },
  {
   "cell_type": "code",
   "execution_count": null,
   "id": "6bbbd280",
   "metadata": {},
   "outputs": [],
   "source": [
    "# Generate descriptive statistics on Weight columns (min, max, etc)\n",
    "ufc_df[[\"R_Weight\", \"B_Weight\"]].describe()\n"
   ]
  },
  {
   "cell_type": "code",
   "execution_count": null,
   "id": "570c7e6b",
   "metadata": {},
   "outputs": [],
   "source": [
    "# Use Box & Whisker plot to visualize Weight outliers\n",
    "ufc_df.boxplot(column=[\"R_Weight\", \"B_Weight\"])\n"
   ]
  },
  {
   "cell_type": "markdown",
   "id": "4d1f9ac2",
   "metadata": {},
   "source": [
    "## Feature Engineering\n"
   ]
  },
  {
   "cell_type": "markdown",
   "id": "52b8a474",
   "metadata": {},
   "source": [
    "### Feature Creation\n"
   ]
  },
  {
   "cell_type": "markdown",
   "id": "f09e9301",
   "metadata": {},
   "source": [
    "#### Age Bucket\n"
   ]
  },
  {
   "cell_type": "code",
   "execution_count": null,
   "id": "0386d9f5",
   "metadata": {},
   "outputs": [],
   "source": [
    "# Create four equal-sized buckets for the Age columns based on sample quantiles\n",
    "\n",
    "ufc_df[\"R_Age_Bucket\"] = pd.qcut(\n",
    "    x=ufc_df[\"R_Age\"], q=4, labels=None, retbins=False, precision=3\n",
    ")\n",
    "\n",
    "\n",
    "ufc_df[\"B_Age_Bucket\"] = pd.qcut(\n",
    "    x=ufc_df[\"B_Age\"], q=4, labels=None, retbins=False, precision=3\n",
    ")\n",
    "\n",
    "\n",
    "# Drop age columns\n",
    "# ufc_df = ufc_df.drop(columns=[\"R_Age\", \"B_Age\"])\n"
   ]
  },
  {
   "cell_type": "code",
   "execution_count": null,
   "id": "94d25ca2",
   "metadata": {},
   "outputs": [],
   "source": [
    "# Create a bar graph to visualize R_Age_Bucket\n",
    "ufc_df[\"R_Age_Bucket\"].value_counts().plot(\n",
    "    kind=\"bar\", color=\"red\", rot=0, title=\"Red Age Buckets\"\n",
    ")\n"
   ]
  },
  {
   "cell_type": "code",
   "execution_count": null,
   "id": "4a963000",
   "metadata": {},
   "outputs": [],
   "source": [
    "# Create a bar graph to visualize B_Age_Bucket\n",
    "ufc_df[\"B_Age_Bucket\"].value_counts().plot(\n",
    "    kind=\"bar\", color=\"blue\", rot=0, title=\"Blue Age Buckets\"\n",
    ")\n"
   ]
  },
  {
   "cell_type": "markdown",
   "id": "675e7c02",
   "metadata": {},
   "source": [
    "#### Height Bucket\n"
   ]
  },
  {
   "cell_type": "code",
   "execution_count": null,
   "id": "b77f761f",
   "metadata": {},
   "outputs": [],
   "source": [
    "# Create four equal-sized buckets for the Height columns based on sample quantiles\n",
    "\n",
    "ufc_df[\"R_Height_Bucket\"] = pd.qcut(\n",
    "    x=ufc_df[\"R_Height\"], q=4, labels=None, retbins=False, precision=3\n",
    ")\n",
    "\n",
    "ufc_df[\"B_Height_Bucket\"] = pd.qcut(\n",
    "    x=ufc_df[\"B_Height\"], q=4, labels=None, retbins=False, precision=3\n",
    ")\n",
    "\n",
    "# Drop height columns\n",
    "# ufc_df = ufc_df.drop(columns=[\"R_Height\", \"B_Height\"])\n"
   ]
  },
  {
   "cell_type": "code",
   "execution_count": null,
   "id": "64a9e7d0",
   "metadata": {},
   "outputs": [],
   "source": [
    "# Create a bar graph to visualize R_Height_Bucket\n",
    "ufc_df[\"R_Height_Bucket\"].value_counts().plot(\n",
    "    kind=\"bar\", color=\"red\", rot=0, title=\"Red Height Buckets\"\n",
    ")\n"
   ]
  },
  {
   "cell_type": "code",
   "execution_count": null,
   "id": "3bdccce5",
   "metadata": {},
   "outputs": [],
   "source": [
    "# Create a bar graph to visualize B_Height_Bucket\n",
    "ufc_df[\"B_Height_Bucket\"].value_counts().plot(\n",
    "    kind=\"bar\", color=\"blue\", rot=0, title=\"Blue Height Buckets\"\n",
    ")\n"
   ]
  },
  {
   "cell_type": "markdown",
   "id": "2dc09e86",
   "metadata": {},
   "source": [
    "#### Gender\n"
   ]
  },
  {
   "cell_type": "code",
   "execution_count": null,
   "id": "c3195daf",
   "metadata": {},
   "outputs": [],
   "source": [
    "# Create Gender Fight Class Column\n",
    "\n",
    "# TODO: There might be a *better* way of determining Gender, but this seems to works.\n",
    "# ufc_df[\"Gender\"] = np.where(\n",
    "#     ufc_df[\"Weight_Class\"].str.contains(\"Women's\"), \"Female\", \"Male\"\n",
    "# )\n",
    "\n",
    "ufc_df[\"Gender\"] = np.where(\n",
    "    ufc_df[\"Weight_Class\"].str.contains(\"Women's\"), 0, 1\n",
    ")  # Gender (sex) is 0 if female and 1 if male.\n"
   ]
  },
  {
   "cell_type": "code",
   "execution_count": null,
   "id": "49562894",
   "metadata": {},
   "outputs": [],
   "source": [
    "# display(\n",
    "#     ufc_df.loc[\n",
    "#         (ufc_df.Weight_Class == \"Women's Strawweight\")\n",
    "#         | (ufc_df.Weight_Class == \"Women's Flyweight\")\n",
    "#         | (ufc_df.Weight_Class == \"Women's Bantamweight\")\n",
    "#         | (ufc_df.Weight_Class == \"Women's Featherweight\")\n",
    "#     ].shape[0]\n",
    "# )\n",
    "\n",
    "ufc_df[\"Gender\"].value_counts()\n"
   ]
  },
  {
   "cell_type": "markdown",
   "id": "eafaa80f",
   "metadata": {},
   "source": [
    "#### Body Mass Index (BMI)\n"
   ]
  },
  {
   "cell_type": "markdown",
   "id": "69c56f19",
   "metadata": {},
   "source": [
    "[Calculating BMI Using the English System](https://www.cdc.gov/nccdphp/dnpao/growthcharts/training/bmiage/page5_2.html)\n",
    "\n",
    "Formula:\n",
    "\n",
    "> **weight** (lb) / [**height** (in)]<sup>2</sup> \\* **703**\n"
   ]
  },
  {
   "cell_type": "markdown",
   "id": "4ec1b9db",
   "metadata": {},
   "source": [
    "> \"The normal BMI scores may not be accurate if you're very muscular because muscle can add extra kilos, resulting in a high BMI when you're not an unhealthy weight.\" ([National Health Service](https://www.nhs.uk/conditions/obesity/diagnosis/))\n"
   ]
  },
  {
   "cell_type": "code",
   "execution_count": null,
   "id": "360c4df4",
   "metadata": {},
   "outputs": [],
   "source": [
    "# Divide weight by height twice, multiply by 703, and round to one decimal place\n",
    "\n",
    "# Calculate Red fighter BMI\n",
    "ufc_df[\"R_BMI\"] = round(ufc_df[\"R_Weight\"] / ufc_df[\"R_Height\"] ** 2 * 703, 1)\n",
    "\n",
    "# Calculate Blue fighter BMI\n",
    "ufc_df[\"B_BMI\"] = round(ufc_df[\"B_Weight\"] / ufc_df[\"B_Height\"] ** 2 * 703, 1)\n"
   ]
  },
  {
   "cell_type": "markdown",
   "id": "cd516fd1",
   "metadata": {},
   "source": [
    "#### Proposed new BMI\n"
   ]
  },
  {
   "cell_type": "markdown",
   "id": "22b5eb70",
   "metadata": {},
   "source": [
    "[Proposed formula](https://web.archive.org/web/20220321050055/https://people.maths.ox.ac.uk/trefethen/bmi.html) by Nick Trefethen, Professor of numerical analysis at University of Oxford.\n",
    "\n",
    "New formula:\n",
    "\n",
    "> **5734** \\* **weight** (lb) / [**height** (in)]<sup>2.5</sup>\n"
   ]
  },
  {
   "cell_type": "code",
   "execution_count": null,
   "id": "4752d7a8",
   "metadata": {},
   "outputs": [],
   "source": [
    "# Calculate BMI with the new proposed formula.\n",
    "\n",
    "# Calculate Red fighter BMI under proposed BMI\n",
    "ufc_df[\"R_BMI_proposed\"] = round(\n",
    "    5734 * ufc_df[\"R_Weight\"] / ufc_df[\"R_Height\"] ** 2.5, 1\n",
    ")\n",
    "\n",
    "# Calculate Blue fighter BMI under proposed BMI\n",
    "ufc_df[\"B_BMI_proposed\"] = round(\n",
    "    5734 * ufc_df[\"B_Weight\"] / ufc_df[\"B_Height\"] ** 2.5, 1\n",
    ")\n"
   ]
  },
  {
   "cell_type": "markdown",
   "id": "397c502c",
   "metadata": {},
   "source": [
    "#### Estimation of Body Fat\n"
   ]
  },
  {
   "cell_type": "markdown",
   "id": "79007a56",
   "metadata": {},
   "source": [
    "Adult Body Fat Percentage\n",
    "\n",
    "Formula:\n",
    "\n",
    "> Body fat % = (1.39 \\* BMI) + (0.16 \\* Age) - (10.34 \\* Gender) - 9)\n",
    "\n",
    "- Where gender (sex) is 0 if female and 1 if male to account for the lower body fat percentage of men (International Journal of Obesity and Related Metabolic Disorders in 2002)\n"
   ]
  },
  {
   "cell_type": "code",
   "execution_count": null,
   "id": "f4421c40",
   "metadata": {},
   "outputs": [],
   "source": [
    "# Estimate Red Fighter Body Fat Percentage\n",
    "ufc_df[\"R_Body_Fat_Percentage\"] = (1.39 * ufc_df[\"R_BMI\"]) + (0.16 * ufc_df[\"R_Age\"] - (10.34 * ufc_df[\"Gender\"]) - 9)\n",
    "\n",
    "# Estimate Blue Fighter Body Fat Percentage\n",
    "ufc_df[\"B_Body_Fat_Percentage\"] = (1.39 * ufc_df[\"R_BMI\"]) + (0.16 * ufc_df[\"R_Age\"] - (10.34 * ufc_df[\"Gender\"]) - 9)\n"
   ]
  },
  {
   "cell_type": "markdown",
   "id": "2e9d67ee",
   "metadata": {},
   "source": [
    "#### Lean Body Mass\n"
   ]
  },
  {
   "cell_type": "markdown",
   "id": "d7ae01dc",
   "metadata": {},
   "source": [
    "\"For calculating lean body mass, body fat percentage was subtracted from 100 to get the lean mass percentage and lean mass percentage was divided by 100 to calculate the decimal for lean mass percentage, and then lean mass decimal was multiplied with total body weight.\" [(Prakash KO, Choudhary R, Singh G. Lean body mass, body fat percentage, and handgrip strength as predictors of bone mineral density in postmenopausal women. J Mid-life Health 2021;12:299-303)](https://www.jmidlifehealth.org/text.asp?2021/12/4/299/336149)\n",
    "\n",
    "Formula(s):\n",
    "\n",
    "> Lean Mass Percentage = 100 - Body Fat Percentage\n",
    "\n",
    "> Lean Mass Decimal = Lean Mass Percentage / 100\n",
    "\n",
    "> Lean Body Mass = Lean Mass Decimal \\* Total Body Weight\n",
    "\n",
    "> Lean Body Mass = ((100 - Body Fat Percentage) / 100) \\* Total Body Weight\n"
   ]
  },
  {
   "cell_type": "code",
   "execution_count": null,
   "id": "18f71bde",
   "metadata": {},
   "outputs": [],
   "source": [
    "# Estimate Red Fighter Lean Body Mass\n",
    "ufc_df[\"R_Lean_Body_Mass\"] = ((100 - ufc_df[\"R_Body_Fat_Percentage\"]) / 100) * ufc_df[\"R_Weight\"]\n",
    "\n",
    "# Estimate Blue Fighter Lean Body Mass\n",
    "ufc_df[\"B_Lean_Body_Mass\"] = ((100 - ufc_df[\"B_Body_Fat_Percentage\"]) / 100) * ufc_df[\"B_Weight\"]\n"
   ]
  },
  {
   "cell_type": "markdown",
   "id": "1689477d",
   "metadata": {},
   "source": [
    "### Set Categories\n"
   ]
  },
  {
   "cell_type": "code",
   "execution_count": null,
   "id": "79f6a0b9",
   "metadata": {},
   "outputs": [],
   "source": [
    "# Convert `winby` column into a category dtype\n",
    "ufc_df[\"Win_By\"] = ufc_df[\"Win_By\"].astype(\"category\")\n",
    "\n",
    "# Convert stances column into a category dtype\n",
    "ufc_df[\"R_Stance\"] = ufc_df[\"R_Stance\"].astype(\"category\")\n",
    "ufc_df[\"B_Stance\"] = ufc_df[\"B_Stance\"].astype(\"category\")\n",
    "\n",
    "# Convert Weight_Class column into a category dtype\n",
    "ufc_df[\"Weight_Class\"] = ufc_df[\"Weight_Class\"].astype(\"category\")\n",
    "\n",
    "# Convert Gender column into a category dtype\n",
    "ufc_df[\"Gender\"] = ufc_df[\"Gender\"].astype(\"category\")\n",
    "ufc_df[\"Gender\"] = ufc_df[\"Gender\"].cat.rename_categories({0: \"Female\", 1: \"Male\"})\n"
   ]
  },
  {
   "cell_type": "markdown",
   "id": "b64f3ff9",
   "metadata": {},
   "source": [
    "### View Features\n"
   ]
  },
  {
   "cell_type": "code",
   "execution_count": null,
   "id": "2908e86b",
   "metadata": {},
   "outputs": [],
   "source": [
    "# View category dtypes\n",
    "ufc_df.select_dtypes(include=[\"category\"]).columns.tolist()\n"
   ]
  },
  {
   "cell_type": "code",
   "execution_count": null,
   "id": "a2692394",
   "metadata": {},
   "outputs": [],
   "source": [
    "# View numerical values\n",
    "ufc_df.select_dtypes(include=[\"number\"]).columns.tolist()\n"
   ]
  },
  {
   "cell_type": "code",
   "execution_count": null,
   "id": "9fa17e03",
   "metadata": {},
   "outputs": [],
   "source": [
    "# TODO: Convert time to correct datatype\n",
    "display(ufc_df.select_dtypes(include=[\"string\"]).columns.tolist())\n"
   ]
  },
  {
   "cell_type": "code",
   "execution_count": null,
   "id": "31a4b4fe",
   "metadata": {},
   "outputs": [],
   "source": [
    "ufc_df.head()\n"
   ]
  },
  {
   "cell_type": "code",
   "execution_count": null,
   "id": "9d52107c",
   "metadata": {
    "scrolled": false
   },
   "outputs": [],
   "source": [
    "# Display the data types of all columns\n",
    "with pd.option_context(\"display.max_rows\", None):\n",
    "    print(ufc_df.dtypes)\n"
   ]
  },
  {
   "cell_type": "markdown",
   "id": "4546c5ed",
   "metadata": {},
   "source": [
    "### Export Dataset\n"
   ]
  },
  {
   "cell_type": "code",
   "execution_count": null,
   "id": "1278c8ee",
   "metadata": {
    "pycharm": {
     "name": "#%%\n"
    }
   },
   "outputs": [],
   "source": [
    "ufc_df.to_csv(\"Resources/clean_scraped_data.csv\")\n"
   ]
  },
  {
   "cell_type": "markdown",
   "id": "5e8cfb5e",
   "metadata": {},
   "source": [
    "## Database Integration\n"
   ]
  },
  {
   "cell_type": "code",
   "execution_count": null,
   "id": "3a79fedf",
   "metadata": {},
   "outputs": [],
   "source": [
    "# Database configuration\n",
    "username = \"turtleuser\"\n",
    "db = \"turtletime\"\n",
    "host = \"51.81.87.76\"\n",
    "port = \"5432\"\n"
   ]
  },
  {
   "cell_type": "code",
   "execution_count": null,
   "id": "d071b570",
   "metadata": {},
   "outputs": [],
   "source": [
    "# Connect to pgAdmin\n",
    "conn = psycopg2.connect(\n",
    "    f\"host={host} dbname={db} user={username} password={password} port={port}\"\n",
    ")\n",
    "\n",
    "# Open a cursor to perform database operations\n",
    "cur = conn.cursor()\n",
    "\n",
    "# Create engine\n",
    "engine = create_engine(\n",
    "    f\"postgresql+psycopg2://{username}:{password}@{host}:{port}/{db}\"\n",
    ")\n"
   ]
  },
  {
   "cell_type": "code",
   "execution_count": null,
   "id": "599ddaf9",
   "metadata": {},
   "outputs": [],
   "source": [
    "ufc_df.shape\n"
   ]
  },
  {
   "cell_type": "code",
   "execution_count": null,
   "id": "36235c63",
   "metadata": {},
   "outputs": [],
   "source": [
    "# Create ufc_table\n",
    "# cur.execute(\"CREATE TABLE ufc_table(FIELD1 INTEGER NOT NULL, Event_Date DATE NOT NULL, Weight_Class VARCHAR(21) NOT NULL, Max_Rounds INTEGER NOT NULL, Ending_Round INTEGER NOT NULL, Winner VARCHAR(4) NOT NULL, Win_By VARCHAR(6), B_Name VARCHAR(25) NOT NULL, B_Age INTEGER NOT NULL, B_Height INTEGER NOT NULL, B_Weight INTEGER NOT NULL, B_Reach INTEGER, B_Stance VARCHAR(11), B_Wins INTEGER NOT NULL, B_Losses INTEGER NOT NULL, B_Draws INTEGER NOT NULL, B_No_Contest INTEGER, B_Career_Significant_Strikes_Landed_PM NUMERIC(52) NOT NULL, B_Career_Striking_Accuracy INTEGER NOT NULL, B_Career_Significant_Strike_Defence INTEGER NOT NULL, B_Career_Takedown_Average NUMERIC(52) NOT NULL, B_Career_Takedown_Accuracy INTEGER NOT NULL, B_Career_Takedown_Defence INTEGER NOT NULL, B_Career_Submission_Average NUMERIC(41) NOT NULL, B_Knockdowns INTEGER NOT NULL, B_Significant_Strikes_Landed INTEGER NOT NULL, B_Significant_Strikes_Attempted INTEGER NOT NULL, B_Significant_Strike_Perc INTEGER, B_Significant_Strikes_Distance_Landed INTEGER NOT NULL, B_Significant_Strikes_Distance_Attempted INTEGER NOT NULL, B_Significant_Strikes_Clinch_Landed INTEGER NOT NULL, B_Significant_Strikes_Clinch_Attempted INTEGER NOT NULL, B_Significant_Strikes_Ground_Landed INTEGER NOT NULL, B_Significant_Strikes_Ground_Attempted INTEGER NOT NULL, B_Head_Significant_Strikes_Attempted INTEGER NOT NULL, B_Head_Significant_Strikes_Landed INTEGER NOT NULL, B_Body_Significant_Strikes_Attempted INTEGER NOT NULL, B_Body_Significant_Strikes_Landed INTEGER NOT NULL, B_Leg_Significant_Strikes_Attempted INTEGER NOT NULL, B_Leg_Significant_Strikes_Landed INTEGER NOT NULL, B_Total_Strikes_Attempted INTEGER NOT NULL, B_Total_Strikes_Landed INTEGER NOT NULL, B_Takedowns_Attempted INTEGER NOT NULL, B_Takedowns_Landed INTEGER NOT NULL, B_Takedown_Perc INTEGER, B_Submission_Attempts INTEGER NOT NULL, B_Grappling_Reversals INTEGER NOT NULL, B_Grappling_Control_Time VARCHAR(5) NOT NULL, B_Round_One_Knockdowns INTEGER NOT NULL, B_Round_One_Significant_Strikes_Landed INTEGER NOT NULL, B_Round_One_Significant_Strikes_Attempted INTEGER NOT NULL, B_Round_One_Significant_Strike_Perc INTEGER, B_Round_One_Significant_Strikes_Distance_Landed INTEGER NOT NULL, B_Round_One_Significant_Strikes_Distance_Attempted INTEGER NOT NULL, B_Round_One_Significant_Strikes_Clinch_Landed INTEGER NOT NULL, B_Round_One_Significant_Strikes_Clinch_Attempted INTEGER NOT NULL, B_Round_One_Significant_Strikes_Ground_Landed INTEGER NOT NULL, B_Round_One_Significant_Strikes_Ground_Attempted INTEGER NOT NULL, B_Round_One_Head_Significant_Strikes_Attempted INTEGER NOT NULL, B_Round_One_Head_Significant_Strikes_Landed INTEGER NOT NULL, B_Round_One_Body_Significant_Strikes_Attempted INTEGER NOT NULL, B_Round_One_Body_Significant_Strikes_Landed INTEGER NOT NULL, B_Round_One_Leg_Significant_Strikes_Attempted INTEGER NOT NULL, B_Round_One_Leg_Significant_Strikes_Landed INTEGER NOT NULL, B_Round_One_Total_Strikes_Attempted INTEGER NOT NULL, B_Round_One_Total_Strikes_Landed INTEGER NOT NULL, B_Round_One_Takedowns_Attempted INTEGER NOT NULL, B_Round_One_Takedowns_Landed INTEGER NOT NULL, B_Round_One_Takedown_Perc INTEGER, B_Round_One_Submission_Attempts INTEGER NOT NULL, B_Round_One_Grappling_Reversals INTEGER NOT NULL, B_Round_One_Grappling_Control_Time VARCHAR(4) NOT NULL, B_Round_Two_Knockdowns INTEGER, B_Round_Two_Significant_Strikes_Landed INTEGER, B_Round_Two_Significant_Strikes_Attempted INTEGER, B_Round_Two_Significant_Strike_Perc INTEGER, B_Round_Two_Significant_Strikes_Distance_Landed INTEGER, B_Round_Two_Significant_Strikes_Distance_Attempted INTEGER, B_Round_Two_Significant_Strikes_Clinch_Landed INTEGER, B_Round_Two_Significant_Strikes_Clinch_Attempted INTEGER, B_Round_Two_Significant_Strikes_Ground_Landed INTEGER, B_Round_Two_Significant_Strikes_Ground_Attempted INTEGER, B_Round_Two_Head_Significant_Strikes_Attempted INTEGER, B_Round_Two_Head_Significant_Strikes_Landed INTEGER, B_Round_Two_Body_Significant_Strikes_Attempted INTEGER, B_Round_Two_Body_Significant_Strikes_Landed INTEGER, B_Round_Two_Leg_Significant_Strikes_Attempted INTEGER, B_Round_Two_Leg_Significant_Strikes_Landed INTEGER, B_Round_Two_Total_Strikes_Attempted INTEGER, B_Round_Two_Total_Strikes_Landed INTEGER, B_Round_Two_Takedowns_Attempted INTEGER, B_Round_Two_Takedowns_Landed INTEGER, B_Round_Two_Takedown_Perc INTEGER, B_Round_Two_Submission_Attempts INTEGER, B_Round_Two_Grappling_Reversals INTEGER, B_Round_Two_Grappling_Control_Time VARCHAR(4), B_Round_Three_Knockdowns INTEGER, B_Round_Three_Significant_Strikes_Landed INTEGER, B_Round_Three_Significant_Strikes_Attempted INTEGER, B_Round_Three_Significant_Strike_Perc INTEGER, B_Round_Three_Significant_Strikes_Distance_Landed INTEGER, B_Round_Three_Significant_Strikes_Distance_Attempted INTEGER, B_Round_Three_Significant_Strikes_Clinch_Landed INTEGER, B_Round_Three_Significant_Strikes_Clinch_Attempted INTEGER, B_Round_Three_Significant_Strikes_Ground_Landed INTEGER, B_Round_Three_Significant_Strikes_Ground_Attempted INTEGER, B_Round_Three_Head_Significant_Strikes_Attempted INTEGER, B_Round_Three_Head_Significant_Strikes_Landed INTEGER, B_Round_Three_Body_Significant_Strikes_Attempted INTEGER, B_Round_Three_Body_Significant_Strikes_Landed INTEGER, B_Round_Three_Leg_Significant_Strikes_Attempted INTEGER, B_Round_Three_Leg_Significant_Strikes_Landed INTEGER, B_Round_Three_Total_Strikes_Attempted INTEGER, B_Round_Three_Total_Strikes_Landed INTEGER, B_Round_Three_Takedowns_Attempted INTEGER, B_Round_Three_Takedowns_Landed INTEGER, B_Round_Three_Takedown_Perc INTEGER, B_Round_Three_Submission_Attempts INTEGER, B_Round_Three_Grappling_Reversals INTEGER, B_Round_Three_Grappling_Control_Time VARCHAR(4), B_Round_Four_Knockdowns INTEGER, B_Round_Four_Significant_Strikes_Landed INTEGER, B_Round_Four_Significant_Strikes_Attempted INTEGER, B_Round_Four_Significant_Strike_Perc NUMERIC(41), B_Round_Four_Significant_Strikes_Distance_Landed INTEGER, B_Round_Four_Significant_Strikes_Distance_Attempted INTEGER, B_Round_Four_Significant_Strikes_Clinch_Landed INTEGER, B_Round_Four_Significant_Strikes_Clinch_Attempted INTEGER, B_Round_Four_Significant_Strikes_Ground_Landed INTEGER, B_Round_Four_Significant_Strikes_Ground_Attempted INTEGER, B_Round_Four_Head_Significant_Strikes_Attempted INTEGER, B_Round_Four_Head_Significant_Strikes_Landed INTEGER, B_Round_Four_Body_Significant_Strikes_Attempted INTEGER, B_Round_Four_Body_Significant_Strikes_Landed INTEGER, B_Round_Four_Leg_Significant_Strikes_Attempted INTEGER, B_Round_Four_Leg_Significant_Strikes_Landed INTEGER, B_Round_Four_Total_Strikes_Attempted INTEGER, B_Round_Four_Total_Strikes_Landed INTEGER, B_Round_Four_Takedowns_Attempted INTEGER, B_Round_Four_Takedowns_Landed INTEGER, B_Round_Four_Takedown_Perc INTEGER, B_Round_Four_Submission_Attempts INTEGER, B_Round_Four_Grappling_Reversals INTEGER, B_Round_Four_Grappling_Control_Time VARCHAR(4), B_Round_Five_Knockdowns INTEGER, B_Round_Five_Significant_Strikes_Landed INTEGER, B_Round_Five_Significant_Strikes_Attempted INTEGER, B_Round_Five_Significant_Strike_Perc NUMERIC(41), B_Round_Five_Significant_Strikes_Distance_Landed INTEGER, B_Round_Five_Significant_Strikes_Distance_Attempted INTEGER, B_Round_Five_Significant_Strikes_Clinch_Landed INTEGER, B_Round_Five_Significant_Strikes_Clinch_Attempted INTEGER, B_Round_Five_Significant_Strikes_Ground_Landed INTEGER, B_Round_Five_Significant_Strikes_Ground_Attempted INTEGER, B_Round_Five_Head_Significant_Strikes_Attempted INTEGER, B_Round_Five_Head_Significant_Strikes_Landed INTEGER, B_Round_Five_Body_Significant_Strikes_Attempted INTEGER, B_Round_Five_Body_Significant_Strikes_Landed INTEGER, B_Round_Five_Leg_Significant_Strikes_Attempted INTEGER, B_Round_Five_Leg_Significant_Strikes_Landed INTEGER, B_Round_Five_Total_Strikes_Attempted INTEGER, B_Round_Five_Total_Strikes_Landed INTEGER, B_Round_Five_Takedowns_Attempted INTEGER, B_Round_Five_Takedowns_Landed INTEGER, B_Round_Five_Takedown_Perc INTEGER, B_Round_Five_Submission_Attempts INTEGER, B_Round_Five_Grappling_Reversals INTEGER, B_Round_Five_Grappling_Control_Time VARCHAR(4), R_Name VARCHAR(25) NOT NULL, R_Age INTEGER NOT NULL, R_Height INTEGER NOT NULL, R_Weight INTEGER NOT NULL, R_Reach INTEGER, R_Stance VARCHAR(11), R_Wins INTEGER NOT NULL, R_Losses INTEGER NOT NULL, R_Draws INTEGER NOT NULL, R_No_Contest INTEGER, R_Career_Significant_Strikes_Landed_PM NUMERIC(52) NOT NULL, R_Career_Striking_Accuracy INTEGER NOT NULL, R_Career_Significant_Strike_Defence INTEGER NOT NULL, R_Career_Takedown_Average NUMERIC(52) NOT NULL, R_Career_Takedown_Accuracy INTEGER NOT NULL, R_Career_Takedown_Defence INTEGER NOT NULL, R_Career_Submission_Average NUMERIC(41) NOT NULL, R_Knockdowns INTEGER NOT NULL, R_Significant_Strikes_Landed INTEGER NOT NULL, R_Significant_Strikes_Attempted INTEGER NOT NULL, R_Significant_Strike_Perc INTEGER, R_Significant_Strikes_Distance_Landed INTEGER NOT NULL, R_Significant_Strikes_Distance_Attempted INTEGER NOT NULL, R_Significant_Strikes_Clinch_Landed INTEGER NOT NULL, R_Significant_Strikes_Clinch_Attempted INTEGER NOT NULL, R_Significant_Strikes_Ground_Landed INTEGER NOT NULL, R_Significant_Strikes_Ground_Attempted INTEGER NOT NULL, R_Head_Significant_Strikes_Attempted INTEGER NOT NULL, R_Head_Significant_Strikes_Landed INTEGER NOT NULL, R_Body_Significant_Strikes_Attempted INTEGER NOT NULL, R_Body_Significant_Strikes_Landed INTEGER NOT NULL, R_Leg_Significant_Strikes_Attempted INTEGER NOT NULL, R_Leg_Significant_Strikes_Landed INTEGER NOT NULL, R_Total_Strikes_Attempted INTEGER NOT NULL, R_Total_Strikes_Landed INTEGER NOT NULL, R_Takedowns_Attempted INTEGER NOT NULL, R_Takedowns_Landed INTEGER NOT NULL, R_Takedown_Perc INTEGER, R_Submission_Attempts INTEGER NOT NULL, R_Grappling_Reversals INTEGER NOT NULL, R_Grappling_Control_Time VARCHAR(5) NOT NULL, R_Round_One_Knockdowns INTEGER NOT NULL, R_Round_One_Significant_Strikes_Landed INTEGER NOT NULL, R_Round_One_Significant_Strikes_Attempted INTEGER NOT NULL, R_Round_One_Significant_Strike_Perc INTEGER, R_Round_One_Significant_Strikes_Distance_Attempted INTEGER NOT NULL, R_Round_One_Significant_Strikes_Distance_Landed INTEGER NOT NULL, R_Round_One_Significant_Strikes_Clinch_Attempted INTEGER NOT NULL, R_Round_One_Significant_Strikes_Clinch_Landed INTEGER NOT NULL, R_Round_One_Significant_Strikes_Ground_Attempted INTEGER NOT NULL, R_Round_One_Significant_Strikes_Ground_Landed INTEGER NOT NULL, R_Round_One_Head_Significant_Strikes_Attempted INTEGER NOT NULL, R_Round_One_Head_Significant_Strikes_Landed INTEGER NOT NULL, R_Round_One_Body_Significant_Strikes_Attempted INTEGER NOT NULL, R_Round_One_Body_Significant_Strikes_Landed INTEGER NOT NULL, R_Round_One_Leg_Significant_Strikes_Attempted INTEGER NOT NULL, R_Round_One_Leg_Significant_Strikes_Landed INTEGER NOT NULL, R_Round_One_Total_Strikes_Attempted INTEGER NOT NULL, R_Round_One_Total_Strikes_Landed INTEGER NOT NULL, R_Round_One_Takedowns_Attempted INTEGER NOT NULL, R_Round_One_Takedowns_Landed INTEGER NOT NULL, R_Round_One_Takedown_Perc INTEGER, R_Round_One_Submission_Attempts INTEGER NOT NULL, R_Round_One_Grappling_Reversals INTEGER NOT NULL, R_Round_One_Grappling_Control_Time VARCHAR(4) NOT NULL, R_Round_Two_Knockdowns INTEGER, R_Round_Two_Significant_Strikes_Landed INTEGER, R_Round_Two_Significant_Strikes_Attempted INTEGER, R_Round_Two_Significant_Strike_Perc INTEGER, R_Round_Two_Significant_Strikes_Distance_Attempted INTEGER, R_Round_Two_Significant_Strikes_Distance_Landed INTEGER, R_Round_Two_Significant_Strikes_Clinch_Attempted INTEGER, R_Round_Two_Significant_Strikes_Clinch_Landed INTEGER, R_Round_Two_Significant_Strikes_Ground_Attempted INTEGER, R_Round_Two_Significant_Strikes_Ground_Landed INTEGER, R_Round_Two_Head_Significant_Strikes_Attempted INTEGER, R_Round_Two_Head_Significant_Strikes_Landed INTEGER, R_Round_Two_Body_Significant_Strikes_Attempted INTEGER, R_Round_Two_Body_Significant_Strikes_Landed INTEGER, R_Round_Two_Leg_Significant_Strikes_Attempted INTEGER, R_Round_Two_Leg_Significant_Strikes_Landed INTEGER, R_Round_Two_Total_Strikes_Attempted INTEGER, R_Round_Two_Total_Strikes_Landed INTEGER, R_Round_Two_Takedowns_Attempted INTEGER, R_Round_Two_Takedowns_Landed INTEGER, R_Round_Two_Takedown_Perc INTEGER, R_Round_Two_Submission_Attempts INTEGER, R_Round_Two_Grappling_Reversals INTEGER, R_Round_Two_Grappling_Control_Time VARCHAR(4), R_Round_Three_Knockdowns INTEGER, R_Round_Three_Significant_Strikes_Landed INTEGER, R_Round_Three_Significant_Strikes_Attempted INTEGER, R_Round_Three_Significant_Strike_Perc INTEGER, R_Round_Three_Significant_Strikes_Distance_Attempted INTEGER, R_Round_Three_Significant_Strikes_Distance_Landed INTEGER, R_Round_Three_Significant_Strikes_Clinch_Attempted INTEGER, R_Round_Three_Significant_Strikes_Clinch_Landed INTEGER, R_Round_Three_Significant_Strikes_Ground_Attempted INTEGER, R_Round_Three_Significant_Strikes_Ground_Landed INTEGER, R_Round_Three_Head_Significant_Strikes_Attempted INTEGER, R_Round_Three_Head_Significant_Strikes_Landed INTEGER, R_Round_Three_Body_Significant_Strikes_Attempted INTEGER, R_Round_Three_Body_Significant_Strikes_Landed INTEGER, R_Round_Three_Leg_Significant_Strikes_Attempted INTEGER, R_Round_Three_Leg_Significant_Strikes_Landed INTEGER, R_Round_Three_Total_Strikes_Attempted INTEGER, R_Round_Three_Total_Strikes_Landed INTEGER, R_Round_Three_Takedowns_Attempted INTEGER, R_Round_Three_Takedowns_Landed INTEGER, R_Round_Three_Takedown_Perc INTEGER, R_Round_Three_Submission_Attempts INTEGER, R_Round_Three_Grappling_Reversals INTEGER, R_Round_Three_Grappling_Control_Time VARCHAR(4), R_Round_Four_Knockdowns INTEGER, R_Round_Four_Significant_Strikes_Landed INTEGER, R_Round_Four_Significant_Strikes_Attempted INTEGER, R_Round_Four_Significant_Strike_Perc INTEGER, R_Round_Four_Significant_Strikes_Distance_Attempted INTEGER, R_Round_Four_Significant_Strikes_Distance_Landed INTEGER, R_Round_Four_Significant_Strikes_Clinch_Attempted INTEGER, R_Round_Four_Significant_Strikes_Clinch_Landed INTEGER, R_Round_Four_Significant_Strikes_Ground_Attempted INTEGER, R_Round_Four_Significant_Strikes_Ground_Landed INTEGER, R_Round_Four_Head_Significant_Strikes_Attempted INTEGER, R_Round_Four_Head_Significant_Strikes_Landed INTEGER, R_Round_Four_Body_Significant_Strikes_Attempted INTEGER, R_Round_Four_Body_Significant_Strikes_Landed INTEGER, R_Round_Four_Leg_Significant_Strikes_Attempted INTEGER, R_Round_Four_Leg_Significant_Strikes_Landed INTEGER, R_Round_Four_Total_Strikes_Attempted INTEGER, R_Round_Four_Total_Strikes_Landed INTEGER, R_Round_Four_Takedowns_Attempted INTEGER, R_Round_Four_Takedowns_Landed INTEGER, R_Round_Four_Takedown_Perc INTEGER, R_Round_Four_Submission_Attempts INTEGER, R_Round_Four_Grappling_Reversals INTEGER, R_Round_Four_Grappling_Control_Time VARCHAR(4), R_Round_Five_Knockdowns INTEGER, R_Round_Five_Significant_Strikes_Landed INTEGER, R_Round_Five_Significant_Strikes_Attempted INTEGER, R_Round_Five_Significant_Strike_Perc NUMERIC(51), R_Round_Five_Significant_Strikes_Distance_Attempted INTEGER, R_Round_Five_Significant_Strikes_Distance_Landed INTEGER, R_Round_Five_Significant_Strikes_Clinch_Attempted INTEGER, R_Round_Five_Significant_Strikes_Clinch_Landed INTEGER, R_Round_Five_Significant_Strikes_Ground_Attempted INTEGER, R_Round_Five_Significant_Strikes_Ground_Landed INTEGER, R_Round_Five_Head_Significant_Strikes_Attempted INTEGER, R_Round_Five_Head_Significant_Strikes_Landed INTEGER, R_Round_Five_Body_Significant_Strikes_Attempted INTEGER, R_Round_Five_Body_Significant_Strikes_Landed INTEGER, R_Round_Five_Leg_Significant_Strikes_Attempted INTEGER, R_Round_Five_Leg_Significant_Strikes_Landed INTEGER, R_Round_Five_Total_Strikes_Attempted INTEGER, R_Round_Five_Total_Strikes_Landed INTEGER, R_Round_Five_Takedowns_Attempted INTEGER, R_Round_Five_Takedowns_Landed INTEGER, R_Round_Five_Takedown_Perc INTEGER, R_Round_Five_Submission_Attempts INTEGER, R_Round_Five_Grappling_Reversals INTEGER, R_Round_Five_Grappling_Control_Time VARCHAR(4), R_Age_Bucket VARCHAR(14) NOT NULL, B_Age_Bucket VARCHAR(14) NOT NULL, R_Height_Bucket VARCHAR(14) NOT NULL, B_Height_Bucket VARCHAR(14) NOT NULL, Gender BIT NOT NULL, FOREIGN KEY (B_Name) REFERENCES ufc_table (B_Name), FOREIGN KEY (R_Name) REFERENCES ufc_table (R_Name), PRIMARY KEY (B_Name, R_Name));\")\n",
    "\n",
    "# Pass ufc_df data to ufc_table in Postgres\n",
    "ufc_df.head(0).to_sql(\n",
    "    \"ufc_table\", engine, if_exists=\"replace\", index=False\n",
    ")  # drops old table and creates new empty table\n",
    "\n",
    "conn = engine.raw_connection()\n",
    "cur = conn.cursor()\n",
    "output = io.StringIO()\n",
    "ufc_df.to_csv(output, sep=\"\\t\", header=False, index=False)\n",
    "output.seek(0)\n",
    "contents = output.getvalue()\n",
    "cur.copy_from(output, \"ufc_table\", null=\"\")  # null values become ''\n",
    "conn.commit()  # Make the changes to the database persistent\n",
    "\n",
    "# Query the database and obtain data as Python objects\n",
    "# cur.execute(\"SELECT * FROM ufc_table;\")\n",
    "# print(cur.fetchone())\n",
    "\n",
    "# Drop ufc_table\n",
    "# cur.execute(\"DROP TABLE ufc_table;\")\n",
    "\n",
    "# Count number of rows in ufc_table\n",
    "cur.execute(\"SELECT COUNT(*) FROM ufc_table\")\n",
    "print(cur.fetchone())\n",
    "\n",
    "# Count number of columns in ufc_table\n",
    "cur.execute(\n",
    "    \"SELECT COUNT(*) FROM INFORMATION_SCHEMA.COLUMNS WHERE table_name = 'ufc_table'\"\n",
    ")\n",
    "print(cur.fetchone())\n"
   ]
  },
  {
   "cell_type": "code",
   "execution_count": null,
   "id": "5fccbff0",
   "metadata": {},
   "outputs": [],
   "source": [
    "# Create fighter_stats_df\n",
    "fighter_stats_df = ufc_df[\n",
    "    [\n",
    "        \"Weight_Class\",\n",
    "        \"Gender\",\n",
    "        \"B_Name\",\n",
    "        \"B_Stance\",\n",
    "        \"B_Age_Bucket\",\n",
    "        \"B_Height_Bucket\",\n",
    "        \"B_Age\",\n",
    "        \"B_Height\",\n",
    "        \"B_Weight\",\n",
    "        \"B_Reach\",\n",
    "        \"B_Wins\",\n",
    "        \"B_Losses\",\n",
    "        \"B_Draws\",\n",
    "        \"B_No_Contest\",\n",
    "        \"B_Career_Significant_Strikes_Landed_PM\",\n",
    "        \"B_Career_Striking_Accuracy\",\n",
    "        \"B_Career_Significant_Strike_Defence\",\n",
    "        \"B_Career_Takedown_Average\",\n",
    "        \"B_Career_Takedown_Accuracy\",\n",
    "        \"B_Career_Takedown_Defence\",\n",
    "        \"B_Career_Submission_Average\",\n",
    "        \"B_Knockdowns\",\n",
    "        \"R_Name\",\n",
    "        \"R_Stance\",\n",
    "        \"R_Age_Bucket\",\n",
    "        \"R_Height_Bucket\",\n",
    "        \"R_Age\",\n",
    "        \"R_Height\",\n",
    "        \"R_Weight\",\n",
    "        \"R_Reach\",\n",
    "        \"R_Wins\",\n",
    "        \"R_Losses\",\n",
    "        \"R_Draws\",\n",
    "        \"R_No_Contest\",\n",
    "        \"R_Career_Significant_Strikes_Landed_PM\",\n",
    "        \"R_Career_Striking_Accuracy\",\n",
    "        \"R_Career_Significant_Strike_Defence\",\n",
    "        \"R_Career_Takedown_Average\",\n",
    "        \"R_Career_Takedown_Accuracy\",\n",
    "        \"R_Career_Takedown_Defence\",\n",
    "        \"R_Career_Submission_Average\",\n",
    "        \"R_Knockdowns\",\n",
    "    ]\n",
    "]\n",
    "\n",
    "fighter_stats_df.shape\n"
   ]
  },
  {
   "cell_type": "code",
   "execution_count": null,
   "id": "c03fe814",
   "metadata": {
    "scrolled": true
   },
   "outputs": [],
   "source": [
    "# Create fighter_stats table\n",
    "# cur.execute(\"CREATE TABLE fighter_stats(weight_class VARCHAR, Gender VARCHAR, B_Name VARCHAR, B_Stance VARCHAR, B_Age_Bucket VARCHAR, B_Height_Bucket VARCHAR, B_Age INT, B_Height INT, B_Weight INT, B_Reach VARCHAR, B_Wins INT, B_Losses INT, B_Draws INT, B_No_Contest INT, B_Career_Significant_Strikes_Landed_PM INT, B_Career_Striking_Accuracy INT, B_Career_Significant_Strike_Defence INT, B_Career_Takedown_Average INT, B_Career_Takedown_Accuracy INT, B_Career_Takedown_Defence INT, B_Career_Submission_Average INT, B_Knockdowns INT, R_Name VARCHAR, R_Stance VARCHAR, R_Age_Bucket VARCHAR, R_Height_Bucket VARCHAR, R_Age INT, R_Height INT, R_Weight INT, R_Reach INT, R_Wins INT, R_Losses INT, R_Draws INT, R_No_Contest INT, R_Career_Significant_Strikes_Landed_PM INT, R_Career_Striking_Accuracy INT, R_Career_Significant_Strike_Defence INT, R_Career_Takedown_Average INT, R_Career_Takedown_Accuracy INT, R_Career_Takedown_Defence INT, R_Career_Submission_Average INT, R_Knockdowns INT, FOREIGN KEY (B_Name) REFERENCES ufc_table (B_Name), FOREIGN KEY (R_Name) REFERENCES ufc_table (R_Name), PRIMARY KEY (B_Name, R_Name));\")\n",
    "\n",
    "# Pass ufc_df data to fighter_stats in Postgres\n",
    "fighter_stats_df.head(0).to_sql(\n",
    "    \"fighter_stats\", engine, if_exists=\"replace\", index=False\n",
    ")  # drops old table and creates new empty table\n",
    "\n",
    "conn = engine.raw_connection()\n",
    "cur = conn.cursor()\n",
    "output = io.StringIO()\n",
    "fighter_stats_df.to_csv(output, sep=\"\\t\", header=False, index=False)\n",
    "output.seek(0)\n",
    "contents = output.getvalue()\n",
    "cur.copy_from(output, \"fighter_stats\", null=\"\")  # null values become ''\n",
    "conn.commit()  # Make the changes to the database persistent\n",
    "\n",
    "# Query the database and obtain data as Python objects\n",
    "# cur.execute(\"SELECT * FROM fighter_stats;\")\n",
    "# print(cur.fetchone())\n",
    "\n",
    "# Drop fighter_stats\n",
    "# cur.execute(\"DROP TABLE fighter_stats;\")\n",
    "\n",
    "# Count number of rows in fighter_stats\n",
    "cur.execute(\"SELECT COUNT(*) FROM fighter_stats\")\n",
    "print(cur.fetchone())\n",
    "\n",
    "# Count number of columns in fighter_stats\n",
    "cur.execute(\n",
    "    \"SELECT COUNT(*) FROM INFORMATION_SCHEMA.COLUMNS WHERE table_name = 'fighter_stats'\"\n",
    ")\n",
    "print(cur.fetchone())\n"
   ]
  },
  {
   "cell_type": "code",
   "execution_count": null,
   "id": "33a403d4",
   "metadata": {},
   "outputs": [],
   "source": [
    "fight_stats_df = ufc_df[\n",
    "    [\n",
    "        \"B_Name\",\n",
    "        \"B_Knockdowns\",\n",
    "        \"B_Significant_Strikes_Landed\",\n",
    "        \"B_Significant_Strikes_Attempted\",\n",
    "        \"B_Significant_Strike_Perc\",\n",
    "        \"B_Significant_Strikes_Distance_Landed\",\n",
    "        \"B_Significant_Strikes_Distance_Attempted\",\n",
    "        \"B_Significant_Strikes_Clinch_Landed\",\n",
    "        \"B_Significant_Strikes_Clinch_Attempted\",\n",
    "        \"B_Significant_Strikes_Ground_Landed\",\n",
    "        \"B_Significant_Strikes_Ground_Attempted\",\n",
    "        \"B_Head_Significant_Strikes_Attempted\",\n",
    "        \"B_Head_Significant_Strikes_Landed\",\n",
    "        \"B_Body_Significant_Strikes_Attempted\",\n",
    "        \"B_Body_Significant_Strikes_Landed\",\n",
    "        \"B_Leg_Significant_Strikes_Attempted\",\n",
    "        \"B_Leg_Significant_Strikes_Landed\",\n",
    "        \"B_Total_Strikes_Attempted\",\n",
    "        \"B_Total_Strikes_Landed\",\n",
    "        \"B_Takedowns_Attempted\",\n",
    "        \"B_Takedowns_Landed\",\n",
    "        \"B_Takedown_Perc\",\n",
    "        \"B_Submission_Attempts\",\n",
    "        \"B_Grappling_Reversals\",\n",
    "        \"B_Round_One_Knockdowns\",\n",
    "        \"B_Round_One_Significant_Strikes_Landed\",\n",
    "        \"B_Round_One_Significant_Strikes_Attempted\",\n",
    "        \"B_Round_One_Significant_Strike_Perc\",\n",
    "        \"B_Round_One_Significant_Strikes_Distance_Landed\",\n",
    "        \"B_Round_One_Significant_Strikes_Distance_Attempted\",\n",
    "        \"B_Round_One_Significant_Strikes_Clinch_Landed\",\n",
    "        \"B_Round_One_Significant_Strikes_Clinch_Attempted\",\n",
    "        \"B_Round_One_Significant_Strikes_Ground_Landed\",\n",
    "        \"B_Round_One_Significant_Strikes_Ground_Attempted\",\n",
    "        \"B_Round_One_Head_Significant_Strikes_Attempted\",\n",
    "        \"B_Round_One_Head_Significant_Strikes_Landed\",\n",
    "        \"B_Round_One_Body_Significant_Strikes_Attempted\",\n",
    "        \"B_Round_One_Body_Significant_Strikes_Landed\",\n",
    "        \"B_Round_One_Leg_Significant_Strikes_Attempted\",\n",
    "        \"B_Round_One_Leg_Significant_Strikes_Landed\",\n",
    "        \"B_Round_One_Total_Strikes_Attempted\",\n",
    "        \"B_Round_One_Total_Strikes_Landed\",\n",
    "        \"B_Round_One_Takedowns_Attempted\",\n",
    "        \"B_Round_One_Takedowns_Landed\",\n",
    "        \"B_Round_One_Takedown_Perc\",\n",
    "        \"B_Round_One_Submission_Attempts\",\n",
    "        \"B_Round_One_Grappling_Reversals\",\n",
    "        \"B_Round_Two_Knockdowns\",\n",
    "        \"B_Round_Two_Significant_Strikes_Landed\",\n",
    "        \"B_Round_Two_Significant_Strikes_Attempted\",\n",
    "        \"B_Round_Two_Significant_Strike_Perc\",\n",
    "        \"B_Round_Two_Significant_Strikes_Distance_Landed\",\n",
    "        \"B_Round_Two_Significant_Strikes_Distance_Attempted\",\n",
    "        \"B_Round_Two_Significant_Strikes_Clinch_Landed\",\n",
    "        \"B_Round_Two_Significant_Strikes_Clinch_Attempted\",\n",
    "        \"B_Round_Two_Significant_Strikes_Ground_Landed\",\n",
    "        \"B_Round_Two_Significant_Strikes_Ground_Attempted\",\n",
    "        \"B_Round_Two_Head_Significant_Strikes_Attempted\",\n",
    "        \"B_Round_Two_Head_Significant_Strikes_Landed\",\n",
    "        \"B_Round_Two_Body_Significant_Strikes_Attempted\",\n",
    "        \"B_Round_Two_Body_Significant_Strikes_Landed\",\n",
    "        \"B_Round_Two_Leg_Significant_Strikes_Attempted\",\n",
    "        \"B_Round_Two_Leg_Significant_Strikes_Landed\",\n",
    "        \"B_Round_Two_Total_Strikes_Attempted\",\n",
    "        \"B_Round_Two_Total_Strikes_Landed\",\n",
    "        \"B_Round_Two_Takedowns_Attempted\",\n",
    "        \"B_Round_Two_Takedowns_Landed\",\n",
    "        \"B_Round_Two_Takedown_Perc\",\n",
    "        \"B_Round_Two_Submission_Attempts\",\n",
    "        \"B_Round_Two_Grappling_Reversals\",\n",
    "        \"B_Round_Three_Knockdowns\",\n",
    "        \"B_Round_Three_Significant_Strikes_Landed\",\n",
    "        \"B_Round_Three_Significant_Strikes_Attempted\",\n",
    "        \"B_Round_Three_Significant_Strike_Perc\",\n",
    "        \"B_Round_Three_Significant_Strikes_Distance_Landed\",\n",
    "        \"B_Round_Three_Significant_Strikes_Distance_Attempted\",\n",
    "        \"B_Round_Three_Significant_Strikes_Clinch_Landed\",\n",
    "        \"B_Round_Three_Significant_Strikes_Clinch_Attempted\",\n",
    "        \"B_Round_Three_Significant_Strikes_Ground_Landed\",\n",
    "        \"B_Round_Three_Significant_Strikes_Ground_Attempted\",\n",
    "        \"B_Round_Three_Head_Significant_Strikes_Attempted\",\n",
    "        \"B_Round_Three_Head_Significant_Strikes_Landed\",\n",
    "        \"B_Round_Three_Body_Significant_Strikes_Attempted\",\n",
    "        \"B_Round_Three_Body_Significant_Strikes_Landed\",\n",
    "        \"B_Round_Three_Leg_Significant_Strikes_Attempted\",\n",
    "        \"B_Round_Three_Leg_Significant_Strikes_Landed\",\n",
    "        \"B_Round_Three_Total_Strikes_Attempted\",\n",
    "        \"B_Round_Three_Total_Strikes_Landed\",\n",
    "        \"B_Round_Three_Takedowns_Attempted\",\n",
    "        \"B_Round_Three_Takedowns_Landed\",\n",
    "        \"B_Round_Three_Takedown_Perc\",\n",
    "        \"B_Round_Three_Submission_Attempts\",\n",
    "        \"B_Round_Three_Grappling_Reversals\",\n",
    "        \"B_Round_Four_Knockdowns\",\n",
    "        \"B_Round_Four_Significant_Strikes_Landed\",\n",
    "        \"B_Round_Four_Significant_Strikes_Attempted\",\n",
    "        \"B_Round_Four_Significant_Strike_Perc\",\n",
    "        \"B_Round_Four_Significant_Strikes_Distance_Landed\",\n",
    "        \"B_Round_Four_Significant_Strikes_Distance_Attempted\",\n",
    "        \"B_Round_Four_Significant_Strikes_Clinch_Landed\",\n",
    "        \"B_Round_Four_Significant_Strikes_Clinch_Attempted\",\n",
    "        \"B_Round_Four_Significant_Strikes_Ground_Landed\",\n",
    "        \"B_Round_Four_Significant_Strikes_Ground_Attempted\",\n",
    "        \"B_Round_Four_Head_Significant_Strikes_Attempted\",\n",
    "        \"B_Round_Four_Head_Significant_Strikes_Landed\",\n",
    "        \"B_Round_Four_Body_Significant_Strikes_Attempted\",\n",
    "        \"B_Round_Four_Body_Significant_Strikes_Landed\",\n",
    "        \"B_Round_Four_Leg_Significant_Strikes_Attempted\",\n",
    "        \"B_Round_Four_Leg_Significant_Strikes_Landed\",\n",
    "        \"B_Round_Four_Total_Strikes_Attempted\",\n",
    "        \"B_Round_Four_Total_Strikes_Landed\",\n",
    "        \"B_Round_Four_Takedowns_Attempted\",\n",
    "        \"B_Round_Four_Takedowns_Landed\",\n",
    "        \"B_Round_Four_Takedown_Perc\",\n",
    "        \"B_Round_Four_Submission_Attempts\",\n",
    "        \"B_Round_Four_Grappling_Reversals\",\n",
    "        \"B_Round_Five_Knockdowns\",\n",
    "        \"B_Round_Five_Significant_Strikes_Landed\",\n",
    "        \"B_Round_Five_Significant_Strikes_Attempted\",\n",
    "        \"B_Round_Five_Significant_Strike_Perc\",\n",
    "        \"B_Round_Five_Significant_Strikes_Distance_Landed\",\n",
    "        \"B_Round_Five_Significant_Strikes_Distance_Attempted\",\n",
    "        \"B_Round_Five_Significant_Strikes_Clinch_Landed\",\n",
    "        \"B_Round_Five_Significant_Strikes_Clinch_Attempted\",\n",
    "        \"B_Round_Five_Significant_Strikes_Ground_Landed\",\n",
    "        \"B_Round_Five_Significant_Strikes_Ground_Attempted\",\n",
    "        \"B_Round_Five_Head_Significant_Strikes_Attempted\",\n",
    "        \"B_Round_Five_Head_Significant_Strikes_Landed\",\n",
    "        \"B_Round_Five_Body_Significant_Strikes_Attempted\",\n",
    "        \"B_Round_Five_Body_Significant_Strikes_Landed\",\n",
    "        \"B_Round_Five_Leg_Significant_Strikes_Attempted\",\n",
    "        \"B_Round_Five_Leg_Significant_Strikes_Landed\",\n",
    "        \"B_Round_Five_Total_Strikes_Attempted\",\n",
    "        \"B_Round_Five_Total_Strikes_Landed\",\n",
    "        \"B_Round_Five_Takedowns_Attempted\",\n",
    "        \"B_Round_Five_Takedowns_Landed\",\n",
    "        \"B_Round_Five_Takedown_Perc\",\n",
    "        \"B_Round_Five_Submission_Attempts\",\n",
    "        \"B_Round_Five_Grappling_Reversals\",\n",
    "        \"R_Name\",\n",
    "        \"R_Knockdowns\",\n",
    "        \"R_Significant_Strikes_Landed\",\n",
    "        \"R_Significant_Strikes_Attempted\",\n",
    "        \"R_Significant_Strike_Perc\",\n",
    "        \"R_Significant_Strikes_Distance_Landed\",\n",
    "        \"R_Significant_Strikes_Distance_Attempted\",\n",
    "        \"R_Significant_Strikes_Clinch_Landed\",\n",
    "        \"R_Significant_Strikes_Clinch_Attempted\",\n",
    "        \"R_Significant_Strikes_Ground_Landed\",\n",
    "        \"R_Significant_Strikes_Ground_Attempted\",\n",
    "        \"R_Head_Significant_Strikes_Attempted\",\n",
    "        \"R_Head_Significant_Strikes_Landed\",\n",
    "        \"R_Body_Significant_Strikes_Attempted\",\n",
    "        \"R_Body_Significant_Strikes_Landed\",\n",
    "        \"R_Leg_Significant_Strikes_Attempted\",\n",
    "        \"R_Leg_Significant_Strikes_Landed\",\n",
    "        \"R_Total_Strikes_Attempted\",\n",
    "        \"R_Total_Strikes_Landed\",\n",
    "        \"R_Takedowns_Attempted\",\n",
    "        \"R_Takedowns_Landed\",\n",
    "        \"R_Takedown_Perc\",\n",
    "        \"R_Submission_Attempts\",\n",
    "        \"R_Grappling_Reversals\",\n",
    "        \"R_Round_One_Knockdowns\",\n",
    "        \"R_Round_One_Significant_Strikes_Landed\",\n",
    "        \"R_Round_One_Significant_Strikes_Attempted\",\n",
    "        \"R_Round_One_Significant_Strike_Perc\",\n",
    "        \"R_Round_One_Significant_Strikes_Distance_Attempted\",\n",
    "        \"R_Round_One_Significant_Strikes_Distance_Landed\",\n",
    "        \"R_Round_One_Significant_Strikes_Clinch_Attempted\",\n",
    "        \"R_Round_One_Significant_Strikes_Clinch_Landed\",\n",
    "        \"R_Round_One_Significant_Strikes_Ground_Attempted\",\n",
    "        \"R_Round_One_Significant_Strikes_Ground_Landed\",\n",
    "        \"R_Round_One_Head_Significant_Strikes_Attempted\",\n",
    "        \"R_Round_One_Head_Significant_Strikes_Landed\",\n",
    "        \"R_Round_One_Body_Significant_Strikes_Attempted\",\n",
    "        \"R_Round_One_Body_Significant_Strikes_Landed\",\n",
    "        \"R_Round_One_Leg_Significant_Strikes_Attempted\",\n",
    "        \"R_Round_One_Leg_Significant_Strikes_Landed\",\n",
    "        \"R_Round_One_Total_Strikes_Attempted\",\n",
    "        \"R_Round_One_Total_Strikes_Landed\",\n",
    "        \"R_Round_One_Takedowns_Attempted\",\n",
    "        \"R_Round_One_Takedowns_Landed\",\n",
    "        \"R_Round_One_Takedown_Perc\",\n",
    "        \"R_Round_One_Submission_Attempts\",\n",
    "        \"R_Round_One_Grappling_Reversals\",\n",
    "        \"R_Round_Two_Knockdowns\",\n",
    "        \"R_Round_Two_Significant_Strikes_Landed\",\n",
    "        \"R_Round_Two_Significant_Strikes_Attempted\",\n",
    "        \"R_Round_Two_Significant_Strike_Perc\",\n",
    "        \"R_Round_Two_Significant_Strikes_Distance_Attempted\",\n",
    "        \"R_Round_Two_Significant_Strikes_Distance_Landed\",\n",
    "        \"R_Round_Two_Significant_Strikes_Clinch_Attempted\",\n",
    "        \"R_Round_Two_Significant_Strikes_Clinch_Landed\",\n",
    "        \"R_Round_Two_Significant_Strikes_Ground_Attempted\",\n",
    "        \"R_Round_Two_Significant_Strikes_Ground_Landed\",\n",
    "        \"R_Round_Two_Head_Significant_Strikes_Attempted\",\n",
    "        \"R_Round_Two_Head_Significant_Strikes_Landed\",\n",
    "        \"R_Round_Two_Body_Significant_Strikes_Attempted\",\n",
    "        \"R_Round_Two_Body_Significant_Strikes_Landed\",\n",
    "        \"R_Round_Two_Leg_Significant_Strikes_Attempted\",\n",
    "        \"R_Round_Two_Leg_Significant_Strikes_Landed\",\n",
    "        \"R_Round_Two_Total_Strikes_Attempted\",\n",
    "        \"R_Round_Two_Total_Strikes_Landed\",\n",
    "        \"R_Round_Two_Takedowns_Attempted\",\n",
    "        \"R_Round_Two_Takedowns_Landed\",\n",
    "        \"R_Round_Two_Takedown_Perc\",\n",
    "        \"R_Round_Two_Submission_Attempts\",\n",
    "        \"R_Round_Two_Grappling_Reversals\",\n",
    "        \"R_Round_Three_Knockdowns\",\n",
    "        \"R_Round_Three_Significant_Strikes_Landed\",\n",
    "        \"R_Round_Three_Significant_Strikes_Attempted\",\n",
    "        \"R_Round_Three_Significant_Strike_Perc\",\n",
    "        \"R_Round_Three_Significant_Strikes_Distance_Attempted\",\n",
    "        \"R_Round_Three_Significant_Strikes_Distance_Landed\",\n",
    "        \"R_Round_Three_Significant_Strikes_Clinch_Attempted\",\n",
    "        \"R_Round_Three_Significant_Strikes_Clinch_Landed\",\n",
    "        \"R_Round_Three_Significant_Strikes_Ground_Attempted\",\n",
    "        \"R_Round_Three_Significant_Strikes_Ground_Landed\",\n",
    "        \"R_Round_Three_Head_Significant_Strikes_Attempted\",\n",
    "        \"R_Round_Three_Head_Significant_Strikes_Landed\",\n",
    "        \"R_Round_Three_Body_Significant_Strikes_Attempted\",\n",
    "        \"R_Round_Three_Body_Significant_Strikes_Landed\",\n",
    "        \"R_Round_Three_Leg_Significant_Strikes_Attempted\",\n",
    "        \"R_Round_Three_Leg_Significant_Strikes_Landed\",\n",
    "        \"R_Round_Three_Total_Strikes_Attempted\",\n",
    "        \"R_Round_Three_Total_Strikes_Landed\",\n",
    "        \"R_Round_Three_Takedowns_Attempted\",\n",
    "        \"R_Round_Three_Takedowns_Landed\",\n",
    "        \"R_Round_Three_Takedown_Perc\",\n",
    "        \"R_Round_Three_Submission_Attempts\",\n",
    "        \"R_Round_Three_Grappling_Reversals\",\n",
    "        \"R_Round_Four_Knockdowns\",\n",
    "        \"R_Round_Four_Significant_Strikes_Landed\",\n",
    "        \"R_Round_Four_Significant_Strikes_Attempted\",\n",
    "        \"R_Round_Four_Significant_Strike_Perc\",\n",
    "        \"R_Round_Four_Significant_Strikes_Distance_Attempted\",\n",
    "        \"R_Round_Four_Significant_Strikes_Distance_Landed\",\n",
    "        \"R_Round_Four_Significant_Strikes_Clinch_Attempted\",\n",
    "        \"R_Round_Four_Significant_Strikes_Clinch_Landed\",\n",
    "        \"R_Round_Four_Significant_Strikes_Ground_Attempted\",\n",
    "        \"R_Round_Four_Significant_Strikes_Ground_Landed\",\n",
    "        \"R_Round_Four_Head_Significant_Strikes_Attempted\",\n",
    "        \"R_Round_Four_Head_Significant_Strikes_Landed\",\n",
    "        \"R_Round_Four_Body_Significant_Strikes_Attempted\",\n",
    "        \"R_Round_Four_Body_Significant_Strikes_Landed\",\n",
    "        \"R_Round_Four_Leg_Significant_Strikes_Attempted\",\n",
    "        \"R_Round_Four_Leg_Significant_Strikes_Landed\",\n",
    "        \"R_Round_Four_Total_Strikes_Attempted\",\n",
    "        \"R_Round_Four_Total_Strikes_Landed\",\n",
    "        \"R_Round_Four_Takedowns_Attempted\",\n",
    "        \"R_Round_Four_Takedowns_Landed\",\n",
    "        \"R_Round_Four_Takedown_Perc\",\n",
    "        \"R_Round_Four_Submission_Attempts\",\n",
    "        \"R_Round_Four_Grappling_Reversals\",\n",
    "        \"R_Round_Five_Knockdowns\",\n",
    "        \"R_Round_Five_Significant_Strikes_Landed\",\n",
    "        \"R_Round_Five_Significant_Strikes_Attempted\",\n",
    "        \"R_Round_Five_Significant_Strike_Perc\",\n",
    "        \"R_Round_Five_Significant_Strikes_Distance_Attempted\",\n",
    "        \"R_Round_Five_Significant_Strikes_Distance_Landed\",\n",
    "        \"R_Round_Five_Significant_Strikes_Clinch_Attempted\",\n",
    "        \"R_Round_Five_Significant_Strikes_Clinch_Landed\",\n",
    "        \"R_Round_Five_Significant_Strikes_Ground_Attempted\",\n",
    "        \"R_Round_Five_Significant_Strikes_Ground_Landed\",\n",
    "        \"R_Round_Five_Head_Significant_Strikes_Attempted\",\n",
    "        \"R_Round_Five_Head_Significant_Strikes_Landed\",\n",
    "        \"R_Round_Five_Body_Significant_Strikes_Attempted\",\n",
    "        \"R_Round_Five_Body_Significant_Strikes_Landed\",\n",
    "        \"R_Round_Five_Leg_Significant_Strikes_Attempted\",\n",
    "        \"R_Round_Five_Leg_Significant_Strikes_Landed\",\n",
    "        \"R_Round_Five_Total_Strikes_Attempted\",\n",
    "        \"R_Round_Five_Total_Strikes_Landed\",\n",
    "        \"R_Round_Five_Takedowns_Attempted\",\n",
    "        \"R_Round_Five_Takedowns_Landed\",\n",
    "        \"R_Round_Five_Takedown_Perc\",\n",
    "        \"R_Round_Five_Submission_Attempts\",\n",
    "        \"R_Round_Five_Grappling_Reversals\",\n",
    "    ]\n",
    "]\n",
    "\n",
    "fight_stats_df.shape\n"
   ]
  },
  {
   "cell_type": "code",
   "execution_count": null,
   "id": "04f6a02c",
   "metadata": {},
   "outputs": [],
   "source": [
    "# Create fight_stats table\n",
    "# cur.execute(\"CREATE TABLE fight_stats(B_Name VARCHAR, B_Knockdowns INT, B_Significant_Strikes_Landed INT, B_Significant_Strikes_Attempted INT, B_Significant_Strike_Perc VARCHAR, B_Significant_Strikes_Distance_Landed INT, B_Significant_Strikes_Distance_Attempted INT, B_Significant_Strikes_Clinch_Landed INT, B_Significant_Strikes_Clinch_Attempted INT, B_Significant_Strikes_Ground_Landed INT, B_Significant_Strikes_Ground_Attempted INT, B_Head_Significant_Strikes_Attempted INT, B_Head_Significant_Strikes_Landed INT, B_Body_Significant_Strikes_Attempted INT, B_Body_Significant_Strikes_Landed INT, B_Leg_Significant_Strikes_Attempted INT, B_Leg_Significant_Strikes_Landed INT, B_Total_Strikes_Attempted INT, B_Total_Strikes_Landed INT, B_Takedowns_Attempted INT, B_Takedowns_Landed INT, B_Takedown_Perc VARCHAR, B_Submission_Attempts INT, B_Grappling_Reversals INT, B_Round_One_Knockdowns INT, B_Round_One_Significant_Strikes_Landed INT, B_Round_One_Significant_Strikes_Attempted INT, B_Round_One_Significant_Strike_Perc VARCHAR, B_Round_One_Significant_Strikes_Distance_Landed INT, B_Round_One_Significant_Strikes_Distance_Attempted INT, B_Round_One_Significant_Strikes_Clinch_Landed INT, B_Round_One_Significant_Strikes_Clinch_Attempted INT, B_Round_One_Significant_Strikes_Ground_Landed INT, B_Round_One_Significant_Strikes_Ground_Attempted INT, B_Round_One_Head_Significant_Strikes_Attempted INT, B_Round_One_Head_Significant_Strikes_Landed INT, B_Round_One_Body_Significant_Strikes_Attempted INT, B_Round_One_Body_Significant_Strikes_Landed INT, B_Round_One_Leg_Significant_Strikes_Attempted INT, B_Round_One_Leg_Significant_Strikes_Landed INT, B_Round_One_Total_Strikes_Attempted INT, B_Round_One_Total_Strikes_Landed INT, B_Round_One_Takedowns_Attempted INT, B_Round_One_Takedowns_Landed INT, B_Round_One_Takedown_Perc VARCHAR, B_Round_One_Submission_Attempts INT, B_Round_One_Grappling_Reversals INT, B_Round_Two_Knockdowns INT, B_Round_Two_Significant_Strikes_Landed INT, B_Round_Two_Significant_Strikes_Attempted INT, B_Round_Two_Significant_Strike_Perc VARCHAR, B_Round_Two_Significant_Strikes_Distance_Landed INT, B_Round_Two_Significant_Strikes_Distance_Attempted INT, B_Round_Two_Significant_Strikes_Clinch_Landed INT, B_Round_Two_Significant_Strikes_Clinch_Attempted INT, B_Round_Two_Significant_Strikes_Ground_Landed INT, B_Round_Two_Significant_Strikes_Ground_Attempted INT, B_Round_Two_Head_Significant_Strikes_Attempted INT, B_Round_Two_Head_Significant_Strikes_Landed INT, B_Round_Two_Body_Significant_Strikes_Attempted INT, B_Round_Two_Body_Significant_Strikes_Landed INT, B_Round_Two_Leg_Significant_Strikes_Attempted INT, B_Round_Two_Leg_Significant_Strikes_Landed INT, B_Round_Two_Total_Strikes_Attempted INT, B_Round_Two_Total_Strikes_Landed INT, B_Round_Two_Takedowns_Attempted INT, B_Round_Two_Takedowns_Landed INT, B_Round_Two_Takedown_Perc VARCHAR, B_Round_Two_Submission_Attempts INT, B_Round_Two_Grappling_Reversals INT, B_Round_Three_Knockdowns INT, B_Round_Three_Significant_Strikes_Landed INT, B_Round_Three_Significant_Strikes_Attempted INT, B_Round_Three_Significant_Strike_Perc VARCHAR, B_Round_Three_Significant_Strikes_Distance_Landed INT, B_Round_Three_Significant_Strikes_Distance_Attempted INT, B_Round_Three_Significant_Strikes_Clinch_Landed INT, B_Round_Three_Significant_Strikes_Clinch_Attempted INT, B_Round_Three_Significant_Strikes_Ground_Landed INT, B_Round_Three_Significant_Strikes_Ground_Attempted INT, B_Round_Three_Head_Significant_Strikes_Attempted INT, B_Round_Three_Head_Significant_Strikes_Landed INT, B_Round_Three_Body_Significant_Strikes_Attempted INT, B_Round_Three_Body_Significant_Strikes_Landed INT, B_Round_Three_Leg_Significant_Strikes_Attempted INT, B_Round_Three_Leg_Significant_Strikes_Landed INT, B_Round_Three_Total_Strikes_Attempted INT, B_Round_Three_Total_Strikes_Landed INT, B_Round_Three_Takedowns_Attempted INT, B_Round_Three_Takedowns_Landed INT, B_Round_Three_Takedown_Perc VARCHAR, B_Round_Three_Submission_Attempts INT, B_Round_Three_Grappling_Reversals INT, B_Round_Four_Knockdowns INT, B_Round_Four_Significant_Strikes_Landed INT, B_Round_Four_Significant_Strikes_Attempted INT, B_Round_Four_Significant_Strike_Perc VARCHAR, B_Round_Four_Significant_Strikes_Distance_Landed INT, B_Round_Four_Significant_Strikes_Distance_Attempted INT, B_Round_Four_Significant_Strikes_Clinch_Landed INT, B_Round_Four_Significant_Strikes_Clinch_Attempted INT, B_Round_Four_Significant_Strikes_Ground_Landed INT, B_Round_Four_Significant_Strikes_Ground_Attempted INT, B_Round_Four_Head_Significant_Strikes_Attempted INT, B_Round_Four_Head_Significant_Strikes_Landed INT, B_Round_Four_Body_Significant_Strikes_Attempted INT, B_Round_Four_Body_Significant_Strikes_Landed INT, B_Round_Four_Leg_Significant_Strikes_Attempted INT, B_Round_Four_Leg_Significant_Strikes_Landed INT, B_Round_Four_Total_Strikes_Attempted INT, B_Round_Four_Total_Strikes_Landed INT, B_Round_Four_Takedowns_Attempted INT, B_Round_Four_Takedowns_Landed INT, B_Round_Four_Takedown_Perc VARCHAR, B_Round_Four_Submission_Attempts INT, B_Round_Four_Grappling_Reversals INT, B_Round_Five_Knockdowns INT, B_Round_Five_Significant_Strikes_Landed INT, B_Round_Five_Significant_Strikes_Attempted INT, B_Round_Five_Significant_Strike_Perc VARCHAR, B_Round_Five_Significant_Strikes_Distance_Landed INT, B_Round_Five_Significant_Strikes_Distance_Attempted INT, B_Round_Five_Significant_Strikes_Clinch_Landed INT, B_Round_Five_Significant_Strikes_Clinch_Attempted INT, B_Round_Five_Significant_Strikes_Ground_Landed INT, B_Round_Five_Significant_Strikes_Ground_Attempted INT, B_Round_Five_Head_Significant_Strikes_Attempted INT, B_Round_Five_Head_Significant_Strikes_Landed INT, B_Round_Five_Body_Significant_Strikes_Attempted INT, B_Round_Five_Body_Significant_Strikes_Landed INT, B_Round_Five_Leg_Significant_Strikes_Attempted INT, B_Round_Five_Leg_Significant_Strikes_Landed INT, B_Round_Five_Total_Strikes_Attempted INT, B_Round_Five_Total_Strikes_Landed INT, B_Round_Five_Takedowns_Attempted INT, B_Round_Five_Takedowns_Landed INT, B_Round_Five_Takedown_Perc VARCHAR, B_Round_Five_Submission_Attempts INT, B_Round_Five_Grappling_Reversals INT, R_Name VARCHAR, R_Knockdowns INT, R_Significant_Strikes_Landed INT, R_Significant_Strikes_Attempted INT, R_Significant_Strike_Perc VARCHAR, R_Significant_Strikes_Distance_Landed INT, R_Significant_Strikes_Distance_Attempted INT, R_Significant_Strikes_Clinch_Landed INT, R_Significant_Strikes_Clinch_Attempted INT, R_Significant_Strikes_Ground_Landed INT, R_Significant_Strikes_Ground_Attempted INT, R_Head_Significant_Strikes_Attempted INT, R_Head_Significant_Strikes_Landed INT, R_Body_Significant_Strikes_Attempted INT, R_Body_Significant_Strikes_Landed INT, R_Leg_Significant_Strikes_Attempted INT, R_Leg_Significant_Strikes_Landed INT, R_Total_Strikes_Attempted INT, R_Total_Strikes_Landed INT, R_Takedowns_Attempted INT, R_Takedowns_Landed INT, R_Takedown_Perc VARCHAR, R_Submission_Attempts INT, R_Grappling_Reversals INT, R_Round_One_Knockdowns INT, R_Round_One_Significant_Strikes_Landed INT, R_Round_One_Significant_Strikes_Attempted INT, R_Round_One_Significant_Strike_Perc VARCHAR, R_Round_One_Significant_Strikes_Distance_Attempted INT, R_Round_One_Significant_Strikes_Distance_Landed INT, R_Round_One_Significant_Strikes_Clinch_Attempted INT, R_Round_One_Significant_Strikes_Clinch_Landed INT, R_Round_One_Significant_Strikes_Ground_Attempted INT, R_Round_One_Significant_Strikes_Ground_Landed INT, R_Round_One_Head_Significant_Strikes_Attempted INT, R_Round_One_Head_Significant_Strikes_Landed INT, R_Round_One_Body_Significant_Strikes_Attempted INT, R_Round_One_Body_Significant_Strikes_Landed INT, R_Round_One_Leg_Significant_Strikes_Attempted INT, R_Round_One_Leg_Significant_Strikes_Landed INT, R_Round_One_Total_Strikes_Attempted INT, R_Round_One_Total_Strikes_Landed INT, R_Round_One_Takedowns_Attempted INT, R_Round_One_Takedowns_Landed INT, R_Round_One_Takedown_Perc VARCHAR, R_Round_One_Submission_Attempts INT, R_Round_One_Grappling_Reversals INT, R_Round_Two_Knockdowns INT, R_Round_Two_Significant_Strikes_Landed INT, R_Round_Two_Significant_Strikes_Attempted INT, R_Round_Two_Significant_Strike_Perc VARCHAR, R_Round_Two_Significant_Strikes_Distance_Attempted INT, R_Round_Two_Significant_Strikes_Distance_Landed INT, R_Round_Two_Significant_Strikes_Clinch_Attempted INT, R_Round_Two_Significant_Strikes_Clinch_Landed INT, R_Round_Two_Significant_Strikes_Ground_Attempted INT, R_Round_Two_Significant_Strikes_Ground_Landed INT, R_Round_Two_Head_Significant_Strikes_Attempted INT, R_Round_Two_Head_Significant_Strikes_Landed INT, R_Round_Two_Body_Significant_Strikes_Attempted INT, R_Round_Two_Body_Significant_Strikes_Landed INT, R_Round_Two_Leg_Significant_Strikes_Attempted INT, R_Round_Two_Leg_Significant_Strikes_Landed INT, R_Round_Two_Total_Strikes_Attempted INT, R_Round_Two_Total_Strikes_Landed INT, R_Round_Two_Takedowns_Attempted INT, R_Round_Two_Takedowns_Landed INT, R_Round_Two_Takedown_Perc VARCHAR, R_Round_Two_Submission_Attempts INT, R_Round_Two_Grappling_Reversals INT, R_Round_Three_Knockdowns INT, R_Round_Three_Significant_Strikes_Landed INT, R_Round_Three_Significant_Strikes_Attempted INT, R_Round_Three_Significant_Strike_Perc VARCHAR, R_Round_Three_Significant_Strikes_Distance_Attempted INT, R_Round_Three_Significant_Strikes_Distance_Landed INT, R_Round_Three_Significant_Strikes_Clinch_Attempted INT, R_Round_Three_Significant_Strikes_Clinch_Landed INT, R_Round_Three_Significant_Strikes_Ground_Attempted INT, R_Round_Three_Significant_Strikes_Ground_Landed INT, R_Round_Three_Head_Significant_Strikes_Attempted INT, R_Round_Three_Head_Significant_Strikes_Landed INT, R_Round_Three_Body_Significant_Strikes_Attempted INT, R_Round_Three_Body_Significant_Strikes_Landed INT, R_Round_Three_Leg_Significant_Strikes_Attempted INT, R_Round_Three_Leg_Significant_Strikes_Landed INT, R_Round_Three_Total_Strikes_Attempted INT, R_Round_Three_Total_Strikes_Landed INT, R_Round_Three_Takedowns_Attempted INT, R_Round_Three_Takedowns_Landed INT, R_Round_Three_Takedown_Perc VARCHAR, R_Round_Three_Submission_Attempts INT, R_Round_Three_Grappling_Reversals INT, R_Round_Four_Knockdowns INT, R_Round_Four_Significant_Strikes_Landed INT, R_Round_Four_Significant_Strikes_Attempted INT, R_Round_Four_Significant_Strike_Perc VARCHAR, R_Round_Four_Significant_Strikes_Distance_Attempted INT, R_Round_Four_Significant_Strikes_Distance_Landed INT, R_Round_Four_Significant_Strikes_Clinch_Attempted INT, R_Round_Four_Significant_Strikes_Clinch_Landed INT, R_Round_Four_Significant_Strikes_Ground_Attempted INT, R_Round_Four_Significant_Strikes_Ground_Landed INT, R_Round_Four_Head_Significant_Strikes_Attempted INT, R_Round_Four_Head_Significant_Strikes_Landed INT, R_Round_Four_Body_Significant_Strikes_Attempted INT, R_Round_Four_Body_Significant_Strikes_Landed INT, R_Round_Four_Leg_Significant_Strikes_Attempted INT, R_Round_Four_Leg_Significant_Strikes_Landed INT, R_Round_Four_Total_Strikes_Attempted INT, R_Round_Four_Total_Strikes_Landed INT, R_Round_Four_Takedowns_Attempted INT, R_Round_Four_Takedowns_Landed INT, R_Round_Four_Takedown_Perc VARCHAR, R_Round_Four_Submission_Attempts INT, R_Round_Four_Grappling_Reversals INT, R_Round_Five_Knockdowns INT, R_Round_Five_Significant_Strikes_Landed INT, R_Round_Five_Significant_Strikes_Attempted INT, R_Round_Five_Significant_Strike_Perc VARCHAR, R_Round_Five_Significant_Strikes_Distance_Attempted INT, R_Round_Five_Significant_Strikes_Distance_Landed INT, R_Round_Five_Significant_Strikes_Clinch_Attempted INT, R_Round_Five_Significant_Strikes_Clinch_Landed INT, R_Round_Five_Significant_Strikes_Ground_Attempted INT, R_Round_Five_Significant_Strikes_Ground_Landed INT, R_Round_Five_Head_Significant_Strikes_Attempted INT, R_Round_Five_Head_Significant_Strikes_Landed INT, R_Round_Five_Body_Significant_Strikes_Attempted INT, R_Round_Five_Body_Significant_Strikes_Landed INT, R_Round_Five_Leg_Significant_Strikes_Attempted INT, R_Round_Five_Leg_Significant_Strikes_Landed INT, R_Round_Five_Total_Strikes_Attempted INT, R_Round_Five_Total_Strikes_Landed INT, R_Round_Five_Takedowns_Attempted INT, R_Round_Five_Takedowns_Landed INT, R_Round_Five_Takedown_Perc VARCHAR, R_Round_Five_Submission_Attempts INT, R_Round_Five_Grappling_Reversals INT, FOREIGN KEY (B_Name) REFERENCES ufc_table (B_Name), FOREIGN KEY (R_Name) REFERENCES ufc_table (R_Name), PRIMARY KEY (B_Name, R_Name));)\n",
    "\n",
    "# Pass ufc_df data to fight_stats in Postgres\n",
    "fight_stats_df.head(0).to_sql(\n",
    "    \"fight_stats\", engine, if_exists=\"replace\", index=False\n",
    ")  # drops old table and creates new empty table\n",
    "\n",
    "conn = engine.raw_connection()\n",
    "cur = conn.cursor()\n",
    "output = io.StringIO()\n",
    "fight_stats_df.to_csv(output, sep=\"\\t\", header=False, index=False)\n",
    "output.seek(0)\n",
    "contents = output.getvalue()\n",
    "cur.copy_from(output, \"fight_stats\", null=\"\")  # null values become ''\n",
    "conn.commit()  # Make the changes to the database persistent\n",
    "\n",
    "# Query the database and obtain data as Python objects\n",
    "# cur.execute(\"SELECT * FROM fight_stats;\")\n",
    "# print(cur.fetchone())\n",
    "\n",
    "# Drop fight_stats\n",
    "# cur.execute(\"DROP TABLE fight_stats;\")\n",
    "\n",
    "# Count number of rows in fight_stats\n",
    "cur.execute(\"SELECT COUNT(*) FROM fight_stats\")\n",
    "print(cur.fetchone())\n",
    "\n",
    "# Count number of columns in ufc_table\n",
    "cur.execute(\n",
    "    \"SELECT COUNT(*) FROM INFORMATION_SCHEMA.COLUMNS WHERE table_name = 'fight_stats'\"\n",
    ")\n",
    "print(cur.fetchone())\n"
   ]
  },
  {
   "cell_type": "code",
   "execution_count": null,
   "id": "3c9ebc39",
   "metadata": {},
   "outputs": [],
   "source": [
    "# Close communication with the database\n",
    "cur.close()\n",
    "conn.close()\n"
   ]
  }
 ],
 "metadata": {
  "interpreter": {
   "hash": "6d13ba43a92555a83a91537475403bd0fdb075d2524ba3a00b200fd1cb72e7c9"
  },
  "kernelspec": {
   "display_name": "mlenv",
   "language": "python",
   "name": "mlenv"
  },
  "language_info": {
   "codemirror_mode": {
    "name": "ipython",
    "version": 3
   },
   "file_extension": ".py",
   "mimetype": "text/x-python",
   "name": "python",
   "nbconvert_exporter": "python",
   "pygments_lexer": "ipython3",
   "version": "3.7.11"
  }
 },
 "nbformat": 4,
 "nbformat_minor": 5
}
