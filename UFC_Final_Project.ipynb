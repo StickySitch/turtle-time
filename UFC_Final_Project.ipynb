{
 "cells": [
  {
   "cell_type": "markdown",
   "id": "1101e5af",
   "metadata": {},
   "source": [
    "# Data Exploration\n"
   ]
  },
  {
   "cell_type": "code",
   "execution_count": null,
   "id": "2b4fae9e",
   "metadata": {},
   "outputs": [],
   "source": [
    "# Import dependencies\n",
    "import pandas as pd\n",
    "import matplotlib.pyplot as plt\n",
    "import os\n"
   ]
  },
  {
   "cell_type": "code",
   "execution_count": null,
   "id": "1faf8e79",
   "metadata": {},
   "outputs": [],
   "source": [
    "# Read in the CSV file (data.csv) as a DataFrame\n",
    "ufc_df = pd.read_csv(\"Resources/data.csv\")\n",
    "ufc_df.head()\n"
   ]
  },
  {
   "cell_type": "code",
   "execution_count": null,
   "id": "8aad8c4f",
   "metadata": {},
   "outputs": [],
   "source": [
    "#  Infer best column dtype & add missing values to rows\n",
    "ufc_df = ufc_df.convert_dtypes()\n"
   ]
  },
  {
   "cell_type": "code",
   "execution_count": null,
   "id": "5eeccefc",
   "metadata": {},
   "outputs": [],
   "source": [
    "# Convert `winby` column into a category dtype\n",
    "ufc_df[\"winby\"] = ufc_df[\"winby\"].astype(\"category\")\n"
   ]
  },
  {
   "cell_type": "code",
   "execution_count": null,
   "id": "f42ccbea",
   "metadata": {
    "scrolled": true
   },
   "outputs": [],
   "source": [
    "# Drop the non-beneficial columns\n",
    "ufc_df = ufc_df.drop(\n",
    "    columns=[\n",
    "        \"BPrev\",\n",
    "        \"RPrev\",\n",
    "        \"BStreak\",\n",
    "        \"B_Location\",\n",
    "        \"R_Location\",\n",
    "        \"Event_ID\",\n",
    "        \"Fight_ID\",\n",
    "        \"B_ID\",\n",
    "        \"R_ID\",\n",
    "        \"B_HomeTown\",\n",
    "        \"R_HomeTown\",\n",
    "        \"Date\",\n",
    "    ]\n",
    ")\n",
    "ufc_df.head()\n"
   ]
  },
  {
   "cell_type": "code",
   "execution_count": null,
   "id": "ba89a579",
   "metadata": {},
   "outputs": [],
   "source": [
    "# Drops draws and no contest decisions from 'winner' column\n",
    "# line 6 in the cell below renders this redundant, while this cell renders the 'before and after'\n",
    "#    in the following cell redundant. We'll keep both for now and clean up later.\n",
    "ufc_df = ufc_df[(ufc_df.winner != \"draw\")]\n",
    "ufc_df = ufc_df[(ufc_df.winner != \"no contest\")]\n"
   ]
  },
  {
   "cell_type": "code",
   "execution_count": null,
   "id": "264da689",
   "metadata": {},
   "outputs": [],
   "source": [
    "# Keep only wins and losses (i.e., Red & Blue)\n",
    "\n",
    "# Display `value_counts()` on `winner` column before modification\n",
    "print(\"Before\", \"-\" * 20, ufc_df.winner.value_counts(), \"-\" * 20, \"\\n\", sep=os.linesep)\n",
    "\n",
    "ufc_df = ufc_df.loc[(ufc_df.winner == \"blue\") | (ufc_df.winner == \"red\")]\n",
    "\n",
    "# Display results\n",
    "print(\"After\", \"-\" * 20, ufc_df.winner.value_counts(), \"-\" * 20, sep=os.linesep)\n"
   ]
  },
  {
   "cell_type": "code",
   "execution_count": null,
   "id": "6a952d5c",
   "metadata": {
    "scrolled": true
   },
   "outputs": [],
   "source": [
    "# Pie chart, Red vs. Blue win rate\n",
    "pie_labels = ufc_df[\"winner\"].value_counts().index\n",
    "pie_values = ufc_df[\"winner\"].value_counts().values\n",
    "explode = (0, 0.1)  # only \"explode\" the 2nd slice\n",
    "\n",
    "fig1, ax1 = plt.subplots()\n",
    "\n",
    "ax1.pie(\n",
    "    x=pie_values,\n",
    "    labels=pie_labels,\n",
    "    colors=[\"red\", \"blue\"],\n",
    "    explode=explode,\n",
    "    autopct=\"%1.1f%%\",\n",
    "    shadow=True,\n",
    "    startangle=90,\n",
    ")\n",
    "ax1.axis(\"equal\")  # Equal aspect ratio ensures that pie is drawn as a circle.\n",
    "ax1.axes.set_title(\"Win Rate (Red vs. Blue)\")\n",
    "\n",
    "plt.show()\n"
   ]
  },
  {
   "cell_type": "markdown",
   "id": "ed8eb407",
   "metadata": {},
   "source": [
    "## Data Exploration: Age\n"
   ]
  },
  {
   "cell_type": "code",
   "execution_count": null,
   "id": "11a58a2d",
   "metadata": {},
   "outputs": [],
   "source": [
    "# Find the max value in the Age columns\n",
    "ufc_df[[\"R_Age\", \"B_Age\"]].describe()\n"
   ]
  },
  {
   "cell_type": "code",
   "execution_count": null,
   "id": "576cc011",
   "metadata": {},
   "outputs": [],
   "source": [
    "# Use Box & Whisker plot to visualize outliers\n",
    "ufc_df.boxplot(column=[\"R_Age\", \"B_Age\"])\n"
   ]
  },
  {
   "cell_type": "code",
   "execution_count": null,
   "id": "790fac28",
   "metadata": {},
   "outputs": [],
   "source": [
    "# Create four equal-sized buckets for the Age columns based on sample quantiles\n",
    "\n",
    "ufc_df[\"B_Age_Bucket\"] = pd.qcut(\n",
    "    x=ufc_df[\"B_Age\"], q=4, labels=None, retbins=False, precision=3\n",
    ")\n",
    "\n",
    "\n",
    "ufc_df[\"R_Age_Bucket\"] = pd.qcut(\n",
    "    x=ufc_df[\"R_Age\"], q=4, labels=None, retbins=False, precision=3\n",
    ")\n",
    "\n",
    "ufc_df.head()\n"
   ]
  },
  {
   "cell_type": "code",
   "execution_count": null,
   "id": "4f617941",
   "metadata": {},
   "outputs": [],
   "source": [
    "# Create a bar graph to visualize R_Age_Bucket\n",
    "ufc_df[\"R_Age_Bucket\"].value_counts().plot(\n",
    "    kind=\"bar\", color=\"red\", rot=0, title=\"Red Age Buckets\"\n",
    ")\n"
   ]
  },
  {
   "cell_type": "code",
   "execution_count": null,
   "id": "b35f0367",
   "metadata": {},
   "outputs": [],
   "source": [
    "# Create a bar graph to visualize B_Age_Bucket\n",
    "ufc_df[\"B_Age_Bucket\"].value_counts().plot(\n",
    "    kind=\"bar\", color=\"blue\", rot=0, title=\"Blue Age Buckets\"\n",
    ")\n"
   ]
  },
  {
   "cell_type": "code",
   "execution_count": null,
   "id": "6a993a9f",
   "metadata": {},
   "outputs": [],
   "source": [
    "# Drop age columns; I do not think we should follow through with bucketing based on age other than for visualizations.\n",
    "# ufc_df = ufc_df.drop(columns=[\"R_Age\", \"B_Age\"])\n"
   ]
  },
  {
   "cell_type": "markdown",
   "id": "19369aa4",
   "metadata": {},
   "source": [
    "## Data Exploration: Height\n"
   ]
  },
  {
   "cell_type": "code",
   "execution_count": null,
   "id": "ff978f88",
   "metadata": {
    "scrolled": true
   },
   "outputs": [],
   "source": [
    "# Find the max value in the Height columns\n",
    "ufc_df[[\"R_Height\", \"B_Height\"]].describe()\n"
   ]
  },
  {
   "cell_type": "code",
   "execution_count": null,
   "id": "7c207a4e",
   "metadata": {
    "scrolled": true
   },
   "outputs": [],
   "source": [
    "# Use Box & Whisker plot to visualize Height outliers\n",
    "ufc_df.boxplot(column=[\"R_Height\", \"B_Height\"])\n"
   ]
  },
  {
   "cell_type": "code",
   "execution_count": null,
   "id": "d12d274c",
   "metadata": {},
   "outputs": [],
   "source": [
    "# Create four equal-sized buckets for the Height columns based on sample quantiles\n",
    "\n",
    "ufc_df[\"B_Height_Bucket\"] = pd.qcut(\n",
    "    x=ufc_df[\"B_Height\"], q=4, labels=None, retbins=False, precision=3\n",
    ")\n",
    "\n",
    "\n",
    "ufc_df[\"R_Height_Bucket\"] = pd.qcut(\n",
    "    x=ufc_df[\"R_Height\"], q=4, labels=None, retbins=False, precision=3\n",
    ")\n",
    "\n",
    "ufc_df.head()\n"
   ]
  },
  {
   "cell_type": "code",
   "execution_count": null,
   "id": "6f44169b",
   "metadata": {},
   "outputs": [],
   "source": [
    "# Create a bar graph to visualize R_Height_Bucket\n",
    "ufc_df[\"R_Height_Bucket\"].value_counts().plot(\n",
    "    kind=\"bar\", color=\"red\", rot=0, title=\"Red Height Buckets\"\n",
    ")\n"
   ]
  },
  {
   "cell_type": "code",
   "execution_count": null,
   "id": "596d0dbf",
   "metadata": {},
   "outputs": [],
   "source": [
    "# Create a bar graph to visualize B_Height_Bucket\n",
    "ufc_df[\"B_Height_Bucket\"].value_counts().plot(\n",
    "    kind=\"bar\", color=\"blue\", rot=0, title=\"Blue Height Buckets\"\n",
    ")\n"
   ]
  },
  {
   "cell_type": "markdown",
   "id": "6a249120",
   "metadata": {},
   "source": [
    "## Data Exploration: Weight\n"
   ]
  },
  {
   "cell_type": "markdown",
   "id": "8b89e7a1",
   "metadata": {},
   "source": [
    "|   Weight Class    | Minimum Weight | Maximum Weight |\n",
    "| :---------------: | :------------: | :------------: |\n",
    "|    Heavyweight    |       93       |      120       |\n",
    "| Light Heavyweight |      83.9      |       93       |\n",
    "|   Middleweight    |      77.1      |      83.9      |\n",
    "|   Welterweight    |      70.3      |      77.1      |\n",
    "|    Lightweight    |      65.8      |      70.3      |\n",
    "|   Featherweight   |      61.2      |      65.8      |\n",
    "|   Bantamweight    |      56.7      |      61.2      |\n",
    "|     Flyweight     |      52.2      |      56.7      |\n",
    "|   Strawweight\\*   |       0        |      52.2      |\n",
    "\n",
    "- \"The women’s UFC division is split into only 4 classes: strawweight, flyweight, bantamweight, and featherweight. The strawweight class is only used in the women’s division and men do not compete in it.\"\n"
   ]
  },
  {
   "cell_type": "code",
   "execution_count": null,
   "id": "7537a2b2",
   "metadata": {},
   "outputs": [],
   "source": [
    "bins = [0, 52.2, 56.7, 61.2, 65.8, 70.3, 77.1, 83.9, 93, 120]\n",
    "labels = [\n",
    "    \"Strawweight\",\n",
    "    \"Flyweight\",\n",
    "    \"Bantamweight\",\n",
    "    \"Featherweight\",\n",
    "    \"Lightweight\",\n",
    "    \"Welterweight\",\n",
    "    \"Middleweight\",\n",
    "    \"Light Heavyweight\",\n",
    "    \"Heavyweight\",\n",
    "]\n"
   ]
  },
  {
   "cell_type": "markdown",
   "id": "de5c8378",
   "metadata": {},
   "source": [
    "### Red Weight\n"
   ]
  },
  {
   "cell_type": "code",
   "execution_count": null,
   "id": "6bbbd280",
   "metadata": {},
   "outputs": [],
   "source": [
    "ufc_df[\"R_Weight\"].describe()\n"
   ]
  },
  {
   "cell_type": "code",
   "execution_count": null,
   "id": "570c7e6b",
   "metadata": {},
   "outputs": [],
   "source": [
    "ufc_df.boxplot(column=\"R_Weight\")\n"
   ]
  },
  {
   "cell_type": "code",
   "execution_count": null,
   "id": "85bc639c",
   "metadata": {},
   "outputs": [],
   "source": [
    "# Assign bucket by UFC weight class\n",
    "ufc_df[\"R_Weight_Class\"] = pd.cut(ufc_df[\"R_Weight\"], bins=bins, labels=labels)\n"
   ]
  },
  {
   "cell_type": "markdown",
   "id": "25fd2433",
   "metadata": {},
   "source": [
    "### Blue Weight\n"
   ]
  },
  {
   "cell_type": "code",
   "execution_count": null,
   "id": "01e683fb",
   "metadata": {},
   "outputs": [],
   "source": [
    "ufc_df[\"B_Weight\"].describe()\n"
   ]
  },
  {
   "cell_type": "code",
   "execution_count": null,
   "id": "a5f55bb4",
   "metadata": {},
   "outputs": [],
   "source": [
    "ufc_df.boxplot(column=\"B_Weight\")\n"
   ]
  },
  {
   "cell_type": "code",
   "execution_count": null,
   "id": "920770c0",
   "metadata": {},
   "outputs": [],
   "source": [
    "# Assign bucket by UFC weight class\n",
    "ufc_df[\"B_Weight_Class\"] = pd.cut(ufc_df[\"B_Weight\"], bins=bins, labels=labels)\n"
   ]
  },
  {
   "cell_type": "markdown",
   "id": "bb50c6c7",
   "metadata": {},
   "source": [
    "## Testing\n",
    "\n",
    "Making sure `R_Weight_Class` == `B_Weight_Class`; we should not need two columns for this.\n"
   ]
  },
  {
   "cell_type": "code",
   "execution_count": null,
   "id": "d7b5b214",
   "metadata": {},
   "outputs": [],
   "source": [
    "pd.DataFrame(\n",
    "    ufc_df[\"R_Weight_Class\"] == ufc_df[\"B_Weight_Class\"]\n",
    ").value_counts()  # lol.\n"
   ]
  },
  {
   "cell_type": "code",
   "execution_count": null,
   "id": "7d879bbb",
   "metadata": {},
   "outputs": [],
   "source": [
    "# TODO: Our current dataset has issues with weight.\n",
    "# There are a bunch of outputs where the weight classes are not matching up (fighter_r vs. fighter_b).\n",
    "# The weights are given in kg, but there are no decimal points, so the numbers are rounded.\n",
    "# Also, the weight classes have historically changed.\n",
    "\n",
    "# For #2312:\n",
    "# Fight outcome: http://ufcstats.com/fight-details/397ace87deeb8697\n",
    "# Matchup stats: http://ufcstats.com/fight-details/06641a8c62e45661\n",
    "\n",
    "# Is the ufcstats showing the weight they had during that fight or their current weight?\n",
    "\n",
    "ufc_df[\n",
    "    [\"R_Weight\", \"B_Weight\", \"R_Weight_Class\", \"B_Weight_Class\", \"R_Name\", \"B_Name\"]\n",
    "].loc[ufc_df[\"R_Weight_Class\"] != ufc_df[\"B_Weight_Class\"]]\n"
   ]
  },
  {
   "cell_type": "code",
   "execution_count": null,
   "id": "652e49e0",
   "metadata": {},
   "outputs": [],
   "source": [
    "# Save mismatched weightclasses to csv file\n",
    "\n",
    "# ufc_df.loc[ufc_df[\"R_Weight_Class\"] != ufc_df[\"B_Weight_Class\"]].to_csv(\n",
    "#     \"out.csv\",\n",
    "#     columns=[\n",
    "#         \"R_Weight\",\n",
    "#         \"B_Weight\",\n",
    "#         \"R_Weight_Class\",\n",
    "#         \"B_Weight_Class\",\n",
    "#         \"R_Name\",\n",
    "#         \"B_Name\",\n",
    "#     ],\n",
    "# )\n"
   ]
  },
  {
   "cell_type": "code",
   "execution_count": null,
   "id": "1c3b5122",
   "metadata": {},
   "outputs": [],
   "source": [
    "# Red weight nulls\n",
    "print(ufc_df[\"R_Weight\"].isnull().sum())\n",
    "print(ufc_df[\"R_Weight_Class\"].isnull().sum())\n",
    "\n",
    "# Blue weight nulls\n",
    "print(ufc_df[\"B_Weight\"].isnull().sum())\n",
    "print(ufc_df[\"B_Weight_Class\"].isnull().sum())\n"
   ]
  },
  {
   "cell_type": "markdown",
   "id": "841f3b01",
   "metadata": {},
   "source": [
    "# Machine Learning Model\n"
   ]
  },
  {
   "cell_type": "markdown",
   "id": "d0c13209",
   "metadata": {},
   "source": [
    "## Logistic Regression\n"
   ]
  },
  {
   "cell_type": "code",
   "execution_count": null,
   "id": "df604031",
   "metadata": {},
   "outputs": [],
   "source": [
    "from sklearn.model_selection import train_test_split\n",
    "from sklearn.compose import ColumnTransformer\n",
    "from sklearn.pipeline import Pipeline\n",
    "from sklearn.impute import SimpleImputer\n",
    "from sklearn.preprocessing import StandardScaler, OneHotEncoder\n",
    "from sklearn.compose import make_column_selector as selector\n",
    "from sklearn.linear_model import LogisticRegression\n",
    "\n",
    "\n",
    "numerical_cols = [\n",
    "    \"Last_round\",\n",
    "    \"Max_round\",\n",
    "    \"B_Height\",\n",
    "    # \"B_Weight\",\n",
    "    \"R_Height\",\n",
    "    # \"R_Weight\",\n",
    "    \"B_Age\",\n",
    "    \"R_Age\",\n",
    "]\n",
    "categorical_cols = [\n",
    "    \"winby\",\n",
    "    \"B_Weight_Class\",\n",
    "    \"R_Weight_Class\",\n",
    "]  # TODO: There should only be a single weight class\n",
    "\n",
    "# numerical_cols = selector(dtype_include=\"number\")\n",
    "# categorical_cols = selector(dtype_include=\"category\")\n",
    "\n",
    "# Imputation transformer to replace missing values using the median along each column.\n",
    "# Standardize features by removing the mean and scaling to unit variance with `StandardScalar()`.\n",
    "numeric_transformer = Pipeline(\n",
    "    steps=[\n",
    "        (\"imputer\", SimpleImputer(strategy=\"constant\")),\n",
    "        (\"scaler\", StandardScaler()),\n",
    "    ]\n",
    ")\n",
    "\n",
    "# categorical_transformer = OneHotEncoder(handle_unknown=\"ignore\")\n",
    "categorical_transformer = Pipeline(\n",
    "    steps=[\n",
    "        (\"onehot\", OneHotEncoder(handle_unknown=\"ignore\")),\n",
    "    ]\n",
    ")\n",
    "\n",
    "\n",
    "preprocessor = ColumnTransformer(\n",
    "    transformers=[\n",
    "        (\"num\", numeric_transformer, numerical_cols),\n",
    "        (\"cat\", categorical_transformer, categorical_cols),\n",
    "    ]\n",
    ")\n",
    "\n",
    "# Append classifier to preprocessing pipeline.\n",
    "# Now we have a full prediction pipeline.\n",
    "clf = Pipeline(\n",
    "    steps=[\n",
    "        (\"preprocessor\", preprocessor),\n",
    "        (\"classifier\", LogisticRegression(max_iter=500)),\n",
    "    ]\n",
    ")\n",
    "\n",
    "X = ufc_df.drop(\"winner\", axis=1)\n",
    "y = ufc_df[\"winner\"]\n",
    "\n",
    "X_train, X_test, y_train, y_test = train_test_split(X, y, test_size=0.2, random_state=1)\n",
    "\n",
    "clf.fit(X_train, y_train)\n",
    "print(\"model score: %.3f\" % clf.score(X_test, y_test))\n"
   ]
  },
  {
   "cell_type": "markdown",
   "id": "e5115714",
   "metadata": {},
   "source": [
    "### Display Diagram of Pipeline\n"
   ]
  },
  {
   "cell_type": "code",
   "execution_count": null,
   "id": "00ddddfd",
   "metadata": {},
   "outputs": [],
   "source": [
    "from sklearn import set_config\n",
    "\n",
    "set_config(display=\"diagram\")\n",
    "clf\n"
   ]
  },
  {
   "cell_type": "markdown",
   "id": "558f902c",
   "metadata": {},
   "source": [
    "### Classification Report\n"
   ]
  },
  {
   "cell_type": "code",
   "execution_count": null,
   "id": "ac143585",
   "metadata": {},
   "outputs": [],
   "source": [
    "from sklearn.metrics import classification_report\n",
    "\n",
    "y_pred = clf.predict(X_test)\n",
    "print(classification_report(y_test, y_pred))\n"
   ]
  },
  {
   "cell_type": "markdown",
   "id": "6f5a5e75",
   "metadata": {},
   "source": [
    "### Model Persistence\n"
   ]
  },
  {
   "cell_type": "code",
   "execution_count": null,
   "id": "0aaa082e",
   "metadata": {},
   "outputs": [],
   "source": [
    "# from joblib import dump, load\n",
    "\n",
    "# dump(clf, \"clf.joblib\")\n",
    "\n",
    "# !!! WARNING: DO NOT LOAD RANDOM OBJECTS !!!\n",
    "# clf = load(\"clf.joblib\")\n",
    "\n",
    "# # Prediction based on saved pipeline.\n",
    "# selection = X.iloc[[5]]\n",
    "# clf.predict(selection)\n"
   ]
  },
  {
   "cell_type": "markdown",
   "id": "e2ccbc2b",
   "metadata": {},
   "source": [
    "### Export Dataset\n"
   ]
  },
  {
   "cell_type": "code",
   "execution_count": null,
   "id": "ed615f9a",
   "metadata": {},
   "outputs": [],
   "source": [
    "# Export dataset to CSV\n",
    "ufc_df.to_csv(\"Resources/new_data.csv\", index=False)\n"
   ]
  }
 ],
 "metadata": {
  "interpreter": {
   "hash": "6d13ba43a92555a83a91537475403bd0fdb075d2524ba3a00b200fd1cb72e7c9"
  },
  "kernelspec": {
   "display_name": "mlenv",
   "language": "python",
   "name": "mlenv"
  },
  "language_info": {
   "codemirror_mode": {
    "name": "ipython",
    "version": 3
   },
   "file_extension": ".py",
   "mimetype": "text/x-python",
   "name": "python",
   "nbconvert_exporter": "python",
   "pygments_lexer": "ipython3",
   "version": "3.7.11"
  }
 },
 "nbformat": 4,
 "nbformat_minor": 5
}
