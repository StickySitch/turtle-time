{
 "cells": [
  {
   "cell_type": "code",
   "execution_count": null,
   "id": "2b4fae9e",
   "metadata": {},
   "outputs": [],
   "source": [
    "# Import dependencies\n",
    "import pandas as pd\n",
    "import matplotlib.pyplot as plt\n",
    "import os\n"
   ]
  },
  {
   "cell_type": "code",
   "execution_count": null,
   "id": "1faf8e79",
   "metadata": {},
   "outputs": [],
   "source": [
    "# Read in the CSV file (data.csv) as a DataFrame\n",
    "ufc_df = pd.read_csv(\"Resources/data.csv\")\n",
    "ufc_df.head()\n"
   ]
  },
  {
   "cell_type": "code",
   "execution_count": null,
   "id": "f42ccbea",
   "metadata": {},
   "outputs": [],
   "source": [
    "# Drop the non-beneficial columns\n",
    "ufc_df = ufc_df.drop(columns=[\"B_Location\", \"R_Location\", \"Event_ID\", \"Fight_ID\", \"B_Name\", \"R_Name\", \"BStreak\",\n",
    "                             \"R_ID\"])\n",
    "ufc_df.head()\n"
   ]
  },
  {
   "cell_type": "code",
   "execution_count": null,
   "id": "1486d94b",
   "metadata": {},
   "outputs": [],
   "source": [
    "# Keep only wins and losses (i.e., Red & Blue)\n",
    "\n",
    "# Display `value_counts()` on `winner` column before modification\n",
    "print(\"Before\", \"-\" * 20, ufc_df.winner.value_counts(), \"-\" * 20, \"\\n\", sep=os.linesep)\n",
    "\n",
    "ufc_df = ufc_df.loc[(ufc_df.winner == \"blue\") | (ufc_df.winner == \"red\")]\n",
    "\n",
    "# Display results\n",
    "print(\"After\", \"-\" * 20, ufc_df.winner.value_counts(), \"-\" * 20, sep=os.linesep)\n"
   ]
  },
  {
   "cell_type": "code",
   "execution_count": null,
   "id": "6a952d5c",
   "metadata": {},
   "outputs": [],
   "source": [
    "# Pie chart, Red vs. Blue win rate\n",
    "pie_labels = ufc_df[\"winner\"].value_counts().index\n",
    "pie_values = ufc_df[\"winner\"].value_counts().values\n",
    "explode = (0, 0.1)  # only \"explode\" the 2nd slice\n",
    "\n",
    "fig1, ax1 = plt.subplots()\n",
    "\n",
    "ax1.pie(\n",
    "    x=pie_values,\n",
    "    labels=pie_labels,\n",
    "    colors=[\"red\", \"blue\"],\n",
    "    explode=explode,\n",
    "    autopct=\"%1.1f%%\",\n",
    "    shadow=True,\n",
    "    startangle=90,\n",
    ")\n",
    "ax1.axis(\"equal\")  # Equal aspect ratio ensures that pie is drawn as a circle.\n",
    "ax1.axes.set_title(\"Win Rate (Red vs. Blue)\")\n",
    "\n",
    "plt.show()\n"
   ]
  },
  {
   "cell_type": "markdown",
   "id": "d0c13209",
   "metadata": {},
   "source": [
    "## Logistic Regression\n"
   ]
  },
  {
   "cell_type": "code",
   "execution_count": null,
   "id": "df604031",
   "metadata": {},
   "outputs": [],
   "source": [
    "from sklearn.model_selection import train_test_split\n",
    "from sklearn.compose import ColumnTransformer\n",
    "from sklearn.pipeline import Pipeline\n",
    "from sklearn.impute import SimpleImputer\n",
    "from sklearn.preprocessing import StandardScaler, OneHotEncoder\n",
    "from sklearn.compose import make_column_selector as selector\n",
    "from sklearn.linear_model import LogisticRegression\n",
    "\n",
    "# Imputation transformer for completing missing values.\n",
    "# Standardize features by removing the mean and scaling to unit variance with `StandardScalar()`.\n",
    "numeric_transformer = Pipeline(\n",
    "    steps=[(\"imputer\", SimpleImputer(strategy=\"median\")), (\"scaler\", StandardScaler())]\n",
    ")\n",
    "\n",
    "categorical_transformer = OneHotEncoder(handle_unknown=\"ignore\")\n",
    "\n",
    "preprocessor = ColumnTransformer(\n",
    "    transformers=[\n",
    "        (\"num\", numeric_transformer, selector(dtype_exclude=\"object\")),\n",
    "        (\"cat\", categorical_transformer, selector(dtype_include=\"object\")),\n",
    "    ]\n",
    ")\n",
    "\n",
    "# Append classifier to preprocessing pipeline.\n",
    "# Now we have a full prediction pipeline.\n",
    "clf = Pipeline(\n",
    "    steps=[\n",
    "        (\"preprocessor\", preprocessor),\n",
    "        (\"classifier\", LogisticRegression(max_iter=500)),\n",
    "    ]\n",
    ")\n",
    "\n",
    "X = ufc_df.drop(\"winner\", axis=1)\n",
    "y = ufc_df[\"winner\"]\n",
    "\n",
    "X_train, X_test, y_train, y_test = train_test_split(X, y, test_size=0.2, random_state=1)\n",
    "\n",
    "clf.fit(X_train, y_train)\n",
    "print(\"model score: %.3f\" % clf.score(X_test, y_test))\n"
   ]
  },
  {
   "cell_type": "markdown",
   "id": "e5115714",
   "metadata": {},
   "source": [
    "### Display Diagram of Pipeline\n"
   ]
  },
  {
   "cell_type": "code",
   "execution_count": null,
   "id": "00ddddfd",
   "metadata": {},
   "outputs": [],
   "source": [
    "from sklearn import set_config\n",
    "\n",
    "set_config(display=\"diagram\")\n",
    "clf\n"
   ]
  },
  {
   "cell_type": "markdown",
   "id": "558f902c",
   "metadata": {},
   "source": [
    "### Classification Report\n"
   ]
  },
  {
   "cell_type": "code",
   "execution_count": null,
   "id": "ac143585",
   "metadata": {},
   "outputs": [],
   "source": [
    "from sklearn.metrics import classification_report\n",
    "\n",
    "y_pred = clf.predict(X_test)\n",
    "print(classification_report(y_test, y_pred))\n"
   ]
  }
 ],
 "metadata": {
  "interpreter": {
   "hash": "6d13ba43a92555a83a91537475403bd0fdb075d2524ba3a00b200fd1cb72e7c9"
  },
  "kernelspec": {
   "display_name": "mlenv",
   "language": "python",
   "name": "mlenv"
  },
  "language_info": {
   "codemirror_mode": {
    "name": "ipython",
    "version": 3
   },
   "file_extension": ".py",
   "mimetype": "text/x-python",
   "name": "python",
   "nbconvert_exporter": "python",
   "pygments_lexer": "ipython3",
   "version": "3.7.11"
  }
 },
 "nbformat": 4,
 "nbformat_minor": 5
}
