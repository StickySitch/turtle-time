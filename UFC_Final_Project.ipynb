{
 "cells": [
  {
   "cell_type": "markdown",
   "id": "1101e5af",
   "metadata": {},
   "source": [
    "# UFC Fight Prediction\n"
   ]
  },
  {
   "cell_type": "code",
   "execution_count": 46,
   "id": "2b4fae9e",
   "metadata": {},
   "outputs": [],
   "source": [
    "# Import dependencies\n",
    "import pandas as pd\n",
    "import matplotlib.pyplot as plt\n",
    "import os\n",
    "import numpy as np\n",
    "from sklearn.model_selection import train_test_split\n",
    "from sklearn.compose import ColumnTransformer\n",
    "from sklearn.pipeline import Pipeline\n",
    "from sklearn.impute import SimpleImputer\n",
    "from sklearn.preprocessing import StandardScaler, OneHotEncoder\n",
    "from sklearn.compose import make_column_selector as selector\n",
    "from sklearn.linear_model import LogisticRegression\n",
    "from sklearn import set_config\n",
    "from sklearn.metrics import classification_report\n",
    "from sklearn.metrics import ConfusionMatrixDisplay\n"
   ]
  },
  {
   "cell_type": "code",
   "execution_count": 47,
   "id": "1faf8e79",
   "metadata": {},
   "outputs": [
    {
     "name": "stderr",
     "output_type": "stream",
     "text": [
      "/var/folders/mq/wg6dg8r9037_fwnm9jjlmff40000gn/T/ipykernel_7629/1440273265.py:2: DtypeWarning: Columns (2,98,122,139,142,146,163,166,259,300,303,307,324,327) have mixed types. Specify dtype option on import or set low_memory=False.\n",
      "  ufc_df = pd.read_csv(\"Resources/scraped_data.csv\")\n"
     ]
    },
    {
     "data": {
      "text/html": [
       "<div>\n",
       "<style scoped>\n",
       "    .dataframe tbody tr th:only-of-type {\n",
       "        vertical-align: middle;\n",
       "    }\n",
       "\n",
       "    .dataframe tbody tr th {\n",
       "        vertical-align: top;\n",
       "    }\n",
       "\n",
       "    .dataframe thead th {\n",
       "        text-align: right;\n",
       "    }\n",
       "</style>\n",
       "<table border=\"1\" class=\"dataframe\">\n",
       "  <thead>\n",
       "    <tr style=\"text-align: right;\">\n",
       "      <th></th>\n",
       "      <th>Event_Date</th>\n",
       "      <th>Weight_Class</th>\n",
       "      <th>Max_Rounds</th>\n",
       "      <th>Ending_Round</th>\n",
       "      <th>Winner</th>\n",
       "      <th>Win_By</th>\n",
       "      <th>B_Name</th>\n",
       "      <th>B_Age</th>\n",
       "      <th>B_Height</th>\n",
       "      <th>B_Weight</th>\n",
       "      <th>...</th>\n",
       "      <th>R_Round_Five_Leg_Significant_Strikes_Attempted</th>\n",
       "      <th>R_Round_Five_Leg_Significant_Strikes_Landed</th>\n",
       "      <th>R_Round_Five_Total_Strikes_Attempted</th>\n",
       "      <th>R_Round_Five_Total_Strikes_Landed</th>\n",
       "      <th>R_Round_Five_Takedowns_Attempted</th>\n",
       "      <th>R_Round_Five_Takedowns_Landed</th>\n",
       "      <th>R_Round_Five_Takedown_Perc</th>\n",
       "      <th>R_Round_Five_Submission_Attempts</th>\n",
       "      <th>R_Round_Five_Grappling_Reversals</th>\n",
       "      <th>R_Round_Five_Grappling_Control_Time</th>\n",
       "    </tr>\n",
       "  </thead>\n",
       "  <tbody>\n",
       "    <tr>\n",
       "      <th>0</th>\n",
       "      <td>2022-03-19</td>\n",
       "      <td>Heavyweight</td>\n",
       "      <td>5</td>\n",
       "      <td>1</td>\n",
       "      <td>Blue</td>\n",
       "      <td>SUB</td>\n",
       "      <td>Tom Aspinall</td>\n",
       "      <td>28</td>\n",
       "      <td>77</td>\n",
       "      <td>256</td>\n",
       "      <td>...</td>\n",
       "      <td>NaN</td>\n",
       "      <td>NaN</td>\n",
       "      <td>NaN</td>\n",
       "      <td>NaN</td>\n",
       "      <td>NaN</td>\n",
       "      <td>NaN</td>\n",
       "      <td>NaN</td>\n",
       "      <td>NaN</td>\n",
       "      <td>NaN</td>\n",
       "      <td>NaN</td>\n",
       "    </tr>\n",
       "    <tr>\n",
       "      <th>1</th>\n",
       "      <td>2022-03-19</td>\n",
       "      <td>Featherweight</td>\n",
       "      <td>3</td>\n",
       "      <td>1</td>\n",
       "      <td>Red</td>\n",
       "      <td>KO/TKO</td>\n",
       "      <td>Dan Hooker</td>\n",
       "      <td>32</td>\n",
       "      <td>72</td>\n",
       "      <td>145</td>\n",
       "      <td>...</td>\n",
       "      <td>NaN</td>\n",
       "      <td>NaN</td>\n",
       "      <td>NaN</td>\n",
       "      <td>NaN</td>\n",
       "      <td>NaN</td>\n",
       "      <td>NaN</td>\n",
       "      <td>NaN</td>\n",
       "      <td>NaN</td>\n",
       "      <td>NaN</td>\n",
       "      <td>NaN</td>\n",
       "    </tr>\n",
       "    <tr>\n",
       "      <th>2</th>\n",
       "      <td>2022-03-19</td>\n",
       "      <td>Lightweight</td>\n",
       "      <td>3</td>\n",
       "      <td>1</td>\n",
       "      <td>Red</td>\n",
       "      <td>SUB</td>\n",
       "      <td>Kazula Vargas</td>\n",
       "      <td>36</td>\n",
       "      <td>68</td>\n",
       "      <td>155</td>\n",
       "      <td>...</td>\n",
       "      <td>NaN</td>\n",
       "      <td>NaN</td>\n",
       "      <td>NaN</td>\n",
       "      <td>NaN</td>\n",
       "      <td>NaN</td>\n",
       "      <td>NaN</td>\n",
       "      <td>NaN</td>\n",
       "      <td>NaN</td>\n",
       "      <td>NaN</td>\n",
       "      <td>NaN</td>\n",
       "    </tr>\n",
       "    <tr>\n",
       "      <th>3</th>\n",
       "      <td>2022-03-19</td>\n",
       "      <td>Welterweight</td>\n",
       "      <td>3</td>\n",
       "      <td>3</td>\n",
       "      <td>Red</td>\n",
       "      <td>DEC</td>\n",
       "      <td>Takashi Sato</td>\n",
       "      <td>31</td>\n",
       "      <td>70</td>\n",
       "      <td>170</td>\n",
       "      <td>...</td>\n",
       "      <td>NaN</td>\n",
       "      <td>NaN</td>\n",
       "      <td>NaN</td>\n",
       "      <td>NaN</td>\n",
       "      <td>NaN</td>\n",
       "      <td>NaN</td>\n",
       "      <td>NaN</td>\n",
       "      <td>NaN</td>\n",
       "      <td>NaN</td>\n",
       "      <td>NaN</td>\n",
       "    </tr>\n",
       "    <tr>\n",
       "      <th>4</th>\n",
       "      <td>2022-03-19</td>\n",
       "      <td>Women's Flyweight</td>\n",
       "      <td>3</td>\n",
       "      <td>3</td>\n",
       "      <td>Red</td>\n",
       "      <td>KO/TKO</td>\n",
       "      <td>Luana Carolina</td>\n",
       "      <td>28</td>\n",
       "      <td>66</td>\n",
       "      <td>125</td>\n",
       "      <td>...</td>\n",
       "      <td>NaN</td>\n",
       "      <td>NaN</td>\n",
       "      <td>NaN</td>\n",
       "      <td>NaN</td>\n",
       "      <td>NaN</td>\n",
       "      <td>NaN</td>\n",
       "      <td>NaN</td>\n",
       "      <td>NaN</td>\n",
       "      <td>NaN</td>\n",
       "      <td>NaN</td>\n",
       "    </tr>\n",
       "    <tr>\n",
       "      <th>...</th>\n",
       "      <td>...</td>\n",
       "      <td>...</td>\n",
       "      <td>...</td>\n",
       "      <td>...</td>\n",
       "      <td>...</td>\n",
       "      <td>...</td>\n",
       "      <td>...</td>\n",
       "      <td>...</td>\n",
       "      <td>...</td>\n",
       "      <td>...</td>\n",
       "      <td>...</td>\n",
       "      <td>...</td>\n",
       "      <td>...</td>\n",
       "      <td>...</td>\n",
       "      <td>...</td>\n",
       "      <td>...</td>\n",
       "      <td>...</td>\n",
       "      <td>...</td>\n",
       "      <td>...</td>\n",
       "      <td>...</td>\n",
       "      <td>...</td>\n",
       "    </tr>\n",
       "    <tr>\n",
       "      <th>6198</th>\n",
       "      <td>1994-12-16</td>\n",
       "      <td>UFC 4 Tournament Title</td>\n",
       "      <td>No Time Limit</td>\n",
       "      <td>1</td>\n",
       "      <td>Red</td>\n",
       "      <td>SUB</td>\n",
       "      <td>Dan Severn</td>\n",
       "      <td>36</td>\n",
       "      <td>74</td>\n",
       "      <td>250</td>\n",
       "      <td>...</td>\n",
       "      <td>NaN</td>\n",
       "      <td>NaN</td>\n",
       "      <td>NaN</td>\n",
       "      <td>NaN</td>\n",
       "      <td>NaN</td>\n",
       "      <td>NaN</td>\n",
       "      <td>NaN</td>\n",
       "      <td>NaN</td>\n",
       "      <td>NaN</td>\n",
       "      <td>NaN</td>\n",
       "    </tr>\n",
       "    <tr>\n",
       "      <th>6199</th>\n",
       "      <td>1994-12-16</td>\n",
       "      <td>Open Weight</td>\n",
       "      <td>No Time Limit</td>\n",
       "      <td>1</td>\n",
       "      <td>Red</td>\n",
       "      <td>SUB</td>\n",
       "      <td>Ron van Clief</td>\n",
       "      <td>51</td>\n",
       "      <td>70</td>\n",
       "      <td>190</td>\n",
       "      <td>...</td>\n",
       "      <td>NaN</td>\n",
       "      <td>NaN</td>\n",
       "      <td>NaN</td>\n",
       "      <td>NaN</td>\n",
       "      <td>NaN</td>\n",
       "      <td>NaN</td>\n",
       "      <td>NaN</td>\n",
       "      <td>NaN</td>\n",
       "      <td>NaN</td>\n",
       "      <td>NaN</td>\n",
       "    </tr>\n",
       "    <tr>\n",
       "      <th>6200</th>\n",
       "      <td>1994-09-09</td>\n",
       "      <td>Open Weight</td>\n",
       "      <td>No Time Limit</td>\n",
       "      <td>1</td>\n",
       "      <td>Red</td>\n",
       "      <td>SUB</td>\n",
       "      <td>Kimo Leopoldo</td>\n",
       "      <td>26</td>\n",
       "      <td>75</td>\n",
       "      <td>235</td>\n",
       "      <td>...</td>\n",
       "      <td>NaN</td>\n",
       "      <td>NaN</td>\n",
       "      <td>NaN</td>\n",
       "      <td>NaN</td>\n",
       "      <td>NaN</td>\n",
       "      <td>NaN</td>\n",
       "      <td>NaN</td>\n",
       "      <td>NaN</td>\n",
       "      <td>NaN</td>\n",
       "      <td>NaN</td>\n",
       "    </tr>\n",
       "    <tr>\n",
       "      <th>6201</th>\n",
       "      <td>1994-03-11</td>\n",
       "      <td>UFC 2 Tournament Title</td>\n",
       "      <td>No Time Limit</td>\n",
       "      <td>1</td>\n",
       "      <td>Red</td>\n",
       "      <td>KO/TKO</td>\n",
       "      <td>Patrick Smith</td>\n",
       "      <td>30</td>\n",
       "      <td>74</td>\n",
       "      <td>225</td>\n",
       "      <td>...</td>\n",
       "      <td>NaN</td>\n",
       "      <td>NaN</td>\n",
       "      <td>NaN</td>\n",
       "      <td>NaN</td>\n",
       "      <td>NaN</td>\n",
       "      <td>NaN</td>\n",
       "      <td>NaN</td>\n",
       "      <td>NaN</td>\n",
       "      <td>NaN</td>\n",
       "      <td>NaN</td>\n",
       "    </tr>\n",
       "    <tr>\n",
       "      <th>6202</th>\n",
       "      <td>1994-03-11</td>\n",
       "      <td>Open Weight</td>\n",
       "      <td>No Time Limit</td>\n",
       "      <td>1</td>\n",
       "      <td>Red</td>\n",
       "      <td>SUB</td>\n",
       "      <td>Jason DeLucia</td>\n",
       "      <td>24</td>\n",
       "      <td>71</td>\n",
       "      <td>190</td>\n",
       "      <td>...</td>\n",
       "      <td>NaN</td>\n",
       "      <td>NaN</td>\n",
       "      <td>NaN</td>\n",
       "      <td>NaN</td>\n",
       "      <td>NaN</td>\n",
       "      <td>NaN</td>\n",
       "      <td>NaN</td>\n",
       "      <td>NaN</td>\n",
       "      <td>NaN</td>\n",
       "      <td>NaN</td>\n",
       "    </tr>\n",
       "  </tbody>\n",
       "</table>\n",
       "<p>6203 rows × 328 columns</p>\n",
       "</div>"
      ],
      "text/plain": [
       "      Event_Date            Weight_Class     Max_Rounds  Ending_Round Winner  \\\n",
       "0     2022-03-19             Heavyweight              5             1   Blue   \n",
       "1     2022-03-19           Featherweight              3             1    Red   \n",
       "2     2022-03-19             Lightweight              3             1    Red   \n",
       "3     2022-03-19            Welterweight              3             3    Red   \n",
       "4     2022-03-19       Women's Flyweight              3             3    Red   \n",
       "...          ...                     ...            ...           ...    ...   \n",
       "6198  1994-12-16  UFC 4 Tournament Title  No Time Limit             1    Red   \n",
       "6199  1994-12-16             Open Weight  No Time Limit             1    Red   \n",
       "6200  1994-09-09             Open Weight  No Time Limit             1    Red   \n",
       "6201  1994-03-11  UFC 2 Tournament Title  No Time Limit             1    Red   \n",
       "6202  1994-03-11             Open Weight  No Time Limit             1    Red   \n",
       "\n",
       "      Win_By          B_Name  B_Age  B_Height  B_Weight  ...  \\\n",
       "0        SUB    Tom Aspinall     28        77       256  ...   \n",
       "1     KO/TKO      Dan Hooker     32        72       145  ...   \n",
       "2        SUB   Kazula Vargas     36        68       155  ...   \n",
       "3        DEC    Takashi Sato     31        70       170  ...   \n",
       "4     KO/TKO  Luana Carolina     28        66       125  ...   \n",
       "...      ...             ...    ...       ...       ...  ...   \n",
       "6198     SUB      Dan Severn     36        74       250  ...   \n",
       "6199     SUB   Ron van Clief     51        70       190  ...   \n",
       "6200     SUB   Kimo Leopoldo     26        75       235  ...   \n",
       "6201  KO/TKO   Patrick Smith     30        74       225  ...   \n",
       "6202     SUB   Jason DeLucia     24        71       190  ...   \n",
       "\n",
       "     R_Round_Five_Leg_Significant_Strikes_Attempted  \\\n",
       "0                                               NaN   \n",
       "1                                               NaN   \n",
       "2                                               NaN   \n",
       "3                                               NaN   \n",
       "4                                               NaN   \n",
       "...                                             ...   \n",
       "6198                                            NaN   \n",
       "6199                                            NaN   \n",
       "6200                                            NaN   \n",
       "6201                                            NaN   \n",
       "6202                                            NaN   \n",
       "\n",
       "     R_Round_Five_Leg_Significant_Strikes_Landed  \\\n",
       "0                                            NaN   \n",
       "1                                            NaN   \n",
       "2                                            NaN   \n",
       "3                                            NaN   \n",
       "4                                            NaN   \n",
       "...                                          ...   \n",
       "6198                                         NaN   \n",
       "6199                                         NaN   \n",
       "6200                                         NaN   \n",
       "6201                                         NaN   \n",
       "6202                                         NaN   \n",
       "\n",
       "      R_Round_Five_Total_Strikes_Attempted  R_Round_Five_Total_Strikes_Landed  \\\n",
       "0                                      NaN                                NaN   \n",
       "1                                      NaN                                NaN   \n",
       "2                                      NaN                                NaN   \n",
       "3                                      NaN                                NaN   \n",
       "4                                      NaN                                NaN   \n",
       "...                                    ...                                ...   \n",
       "6198                                   NaN                                NaN   \n",
       "6199                                   NaN                                NaN   \n",
       "6200                                   NaN                                NaN   \n",
       "6201                                   NaN                                NaN   \n",
       "6202                                   NaN                                NaN   \n",
       "\n",
       "     R_Round_Five_Takedowns_Attempted  R_Round_Five_Takedowns_Landed  \\\n",
       "0                                 NaN                            NaN   \n",
       "1                                 NaN                            NaN   \n",
       "2                                 NaN                            NaN   \n",
       "3                                 NaN                            NaN   \n",
       "4                                 NaN                            NaN   \n",
       "...                               ...                            ...   \n",
       "6198                              NaN                            NaN   \n",
       "6199                              NaN                            NaN   \n",
       "6200                              NaN                            NaN   \n",
       "6201                              NaN                            NaN   \n",
       "6202                              NaN                            NaN   \n",
       "\n",
       "      R_Round_Five_Takedown_Perc  R_Round_Five_Submission_Attempts  \\\n",
       "0                            NaN                               NaN   \n",
       "1                            NaN                               NaN   \n",
       "2                            NaN                               NaN   \n",
       "3                            NaN                               NaN   \n",
       "4                            NaN                               NaN   \n",
       "...                          ...                               ...   \n",
       "6198                         NaN                               NaN   \n",
       "6199                         NaN                               NaN   \n",
       "6200                         NaN                               NaN   \n",
       "6201                         NaN                               NaN   \n",
       "6202                         NaN                               NaN   \n",
       "\n",
       "      R_Round_Five_Grappling_Reversals  R_Round_Five_Grappling_Control_Time  \n",
       "0                                  NaN                                  NaN  \n",
       "1                                  NaN                                  NaN  \n",
       "2                                  NaN                                  NaN  \n",
       "3                                  NaN                                  NaN  \n",
       "4                                  NaN                                  NaN  \n",
       "...                                ...                                  ...  \n",
       "6198                               NaN                                  NaN  \n",
       "6199                               NaN                                  NaN  \n",
       "6200                               NaN                                  NaN  \n",
       "6201                               NaN                                  NaN  \n",
       "6202                               NaN                                  NaN  \n",
       "\n",
       "[6203 rows x 328 columns]"
      ]
     },
     "execution_count": 47,
     "metadata": {},
     "output_type": "execute_result"
    }
   ],
   "source": [
    "# Read in the CSV file (data.csv) as a DataFrame\n",
    "ufc_df = pd.read_csv(\"Resources/scraped_data.csv\")\n",
    "ufc_df\n"
   ]
  },
  {
   "cell_type": "markdown",
   "id": "6d80d799",
   "metadata": {},
   "source": [
    "## Data Cleaning\n"
   ]
  },
  {
   "cell_type": "code",
   "execution_count": 48,
   "id": "39f1c2ac",
   "metadata": {
    "pycharm": {
     "name": "#%%\n"
    }
   },
   "outputs": [],
   "source": [
    "# Dropping duplicate rows. Can happen sometimes due to the new even being scraped.\n",
    "ufc_df = ufc_df.drop_duplicates([\"Event_Date\", \"B_Name\", \"R_Name\"])\n"
   ]
  },
  {
   "cell_type": "code",
   "execution_count": 49,
   "id": "ea310fa1",
   "metadata": {
    "pycharm": {
     "name": "#%%\n"
    }
   },
   "outputs": [],
   "source": [
    "# Converting Event_Date column values to datetime64 to drop older fights below\n",
    "ufc_df[\"Event_Date\"] = pd.to_datetime(ufc_df[\"Event_Date\"])\n"
   ]
  },
  {
   "cell_type": "code",
   "execution_count": 50,
   "id": "b79754f0",
   "metadata": {
    "pycharm": {
     "name": "#%%\n"
    }
   },
   "outputs": [],
   "source": [
    "# Removing old fights due to the lack of rule consistency\n",
    "ufc_df = ufc_df[ufc_df[\"Event_Date\"] >= pd.to_datetime(\"5/3/2001\")]\n"
   ]
  },
  {
   "cell_type": "code",
   "execution_count": 51,
   "id": "18a770e0",
   "metadata": {},
   "outputs": [
    {
     "data": {
      "text/plain": [
       "float64           177\n",
       "int64             103\n",
       "object             47\n",
       "datetime64[ns]      1\n",
       "dtype: int64"
      ]
     },
     "execution_count": 51,
     "metadata": {},
     "output_type": "execute_result"
    }
   ],
   "source": [
    "# TODO: Look into what the mixed datatypes are in each column (from the warning message after reading the csv).\n",
    "# DtypeWarning: Columns (2,97,121,138,141,145,162,165,257,298,301,305,322,325) have mixed types.\n",
    "# ufc_df.iloc[:,2].unique()\n",
    "ufc_df.dtypes.value_counts()\n"
   ]
  },
  {
   "cell_type": "code",
   "execution_count": 52,
   "id": "8ac8304f",
   "metadata": {},
   "outputs": [],
   "source": [
    "# TODO: Fix handling of `--`, `---`, or `No Time Limit`; I was unsure on what each value means so I just set them to NaN.\n",
    "ufc_df = ufc_df.replace(\"--\", np.NaN)\n",
    "ufc_df = ufc_df.replace(\"---\", np.NaN)\n",
    "ufc_df = ufc_df.replace(\"No Time Limit\", np.NaN)\n"
   ]
  },
  {
   "cell_type": "code",
   "execution_count": 53,
   "id": "cf95b1b1",
   "metadata": {
    "pycharm": {
     "name": "#%%\n"
    }
   },
   "outputs": [],
   "source": [
    "# Splitting in order to get the No contest value\n",
    "B_Draws_Split = ufc_df[\"B_Draws\"].str.split(\"(\", n=1, expand=True)\n",
    "ufc_df[\"B_No_Contest\"] = B_Draws_Split[1]\n",
    "\n",
    "# Keeping only the draws in the column\n",
    "ufc_df[\"B_Draws\"] = B_Draws_Split[0]\n"
   ]
  },
  {
   "cell_type": "code",
   "execution_count": 54,
   "id": "a79b11e8",
   "metadata": {
    "pycharm": {
     "name": "#%%\n"
    }
   },
   "outputs": [
    {
     "data": {
      "text/plain": [
       "0       NaN\n",
       "1       NaN\n",
       "2       NaN\n",
       "3       NaN\n",
       "4       NaN\n",
       "       ... \n",
       "6095    NaN\n",
       "6096    NaN\n",
       "6097    NaN\n",
       "6098    NaN\n",
       "6099     1 \n",
       "Name: B_No_Contest, Length: 6100, dtype: object"
      ]
     },
     "execution_count": 54,
     "metadata": {},
     "output_type": "execute_result"
    }
   ],
   "source": [
    "# Stripping the NC and filling \"None\" with NaN\n",
    "ufc_df[\"B_No_Contest\"] = ufc_df[\"B_No_Contest\"].str.strip(\"NC)\")\n",
    "ufc_df[\"B_No_Contest\"].fillna(np.nan, inplace=True)\n",
    "ufc_df[\"B_No_Contest\"]\n"
   ]
  },
  {
   "cell_type": "code",
   "execution_count": 55,
   "id": "8fd896b3",
   "metadata": {
    "pycharm": {
     "name": "#%%\n"
    }
   },
   "outputs": [],
   "source": [
    "# Splitting in order to get the No contest value\n",
    "R_Draws_Split = ufc_df[\"R_Draws\"].str.split(\"(\", n=1, expand=True)\n",
    "ufc_df[\"R_No_Contest\"] = R_Draws_Split[1]\n",
    "\n",
    "# Keeping only the draws in the column\n",
    "ufc_df[\"R_Draws\"] = R_Draws_Split[0]\n"
   ]
  },
  {
   "cell_type": "code",
   "execution_count": 56,
   "id": "c69a2c15",
   "metadata": {
    "pycharm": {
     "name": "#%%\n"
    }
   },
   "outputs": [
    {
     "data": {
      "text/plain": [
       "0       NaN\n",
       "1       NaN\n",
       "2       NaN\n",
       "3       NaN\n",
       "4       NaN\n",
       "       ... \n",
       "6095     1 \n",
       "6096    NaN\n",
       "6097    NaN\n",
       "6098    NaN\n",
       "6099    NaN\n",
       "Name: R_No_Contest, Length: 6100, dtype: object"
      ]
     },
     "execution_count": 56,
     "metadata": {},
     "output_type": "execute_result"
    }
   ],
   "source": [
    "# Stripping the NC and filling \"None\" with NaN\n",
    "ufc_df[\"R_No_Contest\"] = ufc_df[\"R_No_Contest\"].str.strip(\"NC)\")\n",
    "ufc_df[\"R_No_Contest\"].fillna(np.nan, inplace=True)\n",
    "ufc_df[\"R_No_Contest\"]\n"
   ]
  },
  {
   "cell_type": "code",
   "execution_count": 57,
   "id": "19c5fca8",
   "metadata": {
    "pycharm": {
     "name": "#%%\n"
    }
   },
   "outputs": [],
   "source": [
    "# NEW COLUMN ORDER\n",
    "new_column_order = [\n",
    "    \"Event_Date\",\n",
    "    \"Weight_Class\",\n",
    "    \"Max_Rounds\",\n",
    "    \"Ending_Round\",\n",
    "    \"Winner\",\n",
    "    \"Win_By\",\n",
    "    \"B_Name\",\n",
    "    \"B_Age\",\n",
    "    \"B_Height\",\n",
    "    \"B_Weight\",\n",
    "    \"B_Reach\",\n",
    "    \"B_Stance\",\n",
    "    \"B_Wins\",\n",
    "    \"B_Losses\",\n",
    "    \"B_Draws\",\n",
    "    \"B_No_Contest\",\n",
    "    \"B_Career_Significant_Strikes_Landed_PM\",\n",
    "    \"B_Career_Striking_Accuracy\",\n",
    "    \"B_Career_Significant_Strike_Defence\",\n",
    "    \"B_Career_Takedown_Average\",\n",
    "    \"B_Career_Takedown_Accuracy\",\n",
    "    \"B_Career_Takedown_Defence\",\n",
    "    \"B_Career_Submission_Average\",\n",
    "    \"B_Knockdowns\",\n",
    "    \"B_Significant_Strikes_Landed\",\n",
    "    \"B_Significant_Strikes_Attempted\",\n",
    "    \"B_Significant_Strike_Perc\",\n",
    "    \"B_Significant_Strikes_Distance_Landed\",\n",
    "    \"B_Significant_Strikes_Distance_Attempted\",\n",
    "    \"B_Significant_Strikes_Clinch_Landed\",\n",
    "    \"B_Significant_Strikes_Clinch_Attempted\",\n",
    "    \"B_Significant_Strikes_Ground_Landed\",\n",
    "    \"B_Significant_Strikes_Ground_Attempted\",\n",
    "    \"B_Head_Significant_Strikes_Attempted\",\n",
    "    \"B_Head_Significant_Strikes_Landed\",\n",
    "    \"B_Body_Significant_Strikes_Attempted\",\n",
    "    \"B_Body_Significant_Strikes_Landed\",\n",
    "    \"B_Leg_Significant_Strikes_Attempted\",\n",
    "    \"B_Leg_Significant_Strikes_Landed\",\n",
    "    \"B_Total_Strikes_Attempted\",\n",
    "    \"B_Total_Strikes_Landed\",\n",
    "    \"B_Takedowns_Attempted\",\n",
    "    \"B_Takedowns_Landed\",\n",
    "    \"B_Takedown_Perc\",\n",
    "    \"B_Submission_Attempts\",\n",
    "    \"B_Grappling_Reversals\",\n",
    "    \"B_Grappling_Control_Time\",\n",
    "    \"B_Round_One_Knockdowns\",\n",
    "    \"B_Round_One_Significant_Strikes_Landed\",\n",
    "    \"B_Round_One_Significant_Strikes_Attempted\",\n",
    "    \"B_Round_One_Significant_Strike_Perc\",\n",
    "    \"B_Round_One_Significant_Strikes_Distance_Landed\",\n",
    "    \"B_Round_One_Significant_Strikes_Distance_Attempted\",\n",
    "    \"B_Round_One_Significant_Strikes_Clinch_Landed\",\n",
    "    \"B_Round_One_Significant_Strikes_Clinch_Attempted\",\n",
    "    \"B_Round_One_Significant_Strikes_Ground_Landed\",\n",
    "    \"B_Round_One_Significant_Strikes_Ground_Attempted\",\n",
    "    \"B_Round_One_Head_Significant_Strikes_Attempted\",\n",
    "    \"B_Round_One_Head_Significant_Strikes_Landed\",\n",
    "    \"B_Round_One_Body_Significant_Strikes_Attempted\",\n",
    "    \"B_Round_One_Body_Significant_Strikes_Landed\",\n",
    "    \"B_Round_One_Leg_Significant_Strikes_Attempted\",\n",
    "    \"B_Round_One_Leg_Significant_Strikes_Landed\",\n",
    "    \"B_Round_One_Total_Strikes_Attempted\",\n",
    "    \"B_Round_One_Total_Strikes_Landed\",\n",
    "    \"B_Round_One_Takedowns_Attempted\",\n",
    "    \"B_Round_One_Takedowns_Landed\",\n",
    "    \"B_Round_One_Takedown_Perc\",\n",
    "    \"B_Round_One_Submission_Attempts\",\n",
    "    \"B_Round_One_Grappling_Reversals\",\n",
    "    \"B_Round_One_Grappling_Control_Time\",\n",
    "    \"B_Round_Two_Knockdowns\",\n",
    "    \"B_Round_Two_Significant_Strikes_Landed\",\n",
    "    \"B_Round_Two_Significant_Strikes_Attempted\",\n",
    "    \"B_Round_Two_Significant_Strike_Perc\",\n",
    "    \"B_Round_Two_Significant_Strikes_Distance_Landed\",\n",
    "    \"B_Round_Two_Significant_Strikes_Distance_Attempted\",\n",
    "    \"B_Round_Two_Significant_Strikes_Clinch_Landed\",\n",
    "    \"B_Round_Two_Significant_Strikes_Clinch_Attempted\",\n",
    "    \"B_Round_Two_Significant_Strikes_Ground_Landed\",\n",
    "    \"B_Round_Two_Significant_Strikes_Ground_Attempted\",\n",
    "    \"B_Round_Two_Head_Significant_Strikes_Attempted\",\n",
    "    \"B_Round_Two_Head_Significant_Strikes_Landed\",\n",
    "    \"B_Round_Two_Body_Significant_Strikes_Attempted\",\n",
    "    \"B_Round_Two_Body_Significant_Strikes_Landed\",\n",
    "    \"B_Round_Two_Leg_Significant_Strikes_Attempted\",\n",
    "    \"B_Round_Two_Leg_Significant_Strikes_Landed\",\n",
    "    \"B_Round_Two_Total_Strikes_Attempted\",\n",
    "    \"B_Round_Two_Total_Strikes_Landed\",\n",
    "    \"B_Round_Two_Takedowns_Attempted\",\n",
    "    \"B_Round_Two_Takedowns_Landed\",\n",
    "    \"B_Round_Two_Takedown_Perc\",\n",
    "    \"B_Round_Two_Submission_Attempts\",\n",
    "    \"B_Round_Two_Grappling_Reversals\",\n",
    "    \"B_Round_Two_Grappling_Control_Time\",\n",
    "    \"B_Round_Three_Knockdowns\",\n",
    "    \"B_Round_Three_Significant_Strikes_Landed\",\n",
    "    \"B_Round_Three_Significant_Strikes_Attempted\",\n",
    "    \"B_Round_Three_Significant_Strike_Perc\",\n",
    "    \"B_Round_Three_Significant_Strikes_Distance_Landed\",\n",
    "    \"B_Round_Three_Significant_Strikes_Distance_Attempted\",\n",
    "    \"B_Round_Three_Significant_Strikes_Clinch_Landed\",\n",
    "    \"B_Round_Three_Significant_Strikes_Clinch_Attempted\",\n",
    "    \"B_Round_Three_Significant_Strikes_Ground_Landed\",\n",
    "    \"B_Round_Three_Significant_Strikes_Ground_Attempted\",\n",
    "    \"B_Round_Three_Head_Significant_Strikes_Attempted\",\n",
    "    \"B_Round_Three_Head_Significant_Strikes_Landed\",\n",
    "    \"B_Round_Three_Body_Significant_Strikes_Attempted\",\n",
    "    \"B_Round_Three_Body_Significant_Strikes_Landed\",\n",
    "    \"B_Round_Three_Leg_Significant_Strikes_Attempted\",\n",
    "    \"B_Round_Three_Leg_Significant_Strikes_Landed\",\n",
    "    \"B_Round_Three_Total_Strikes_Attempted\",\n",
    "    \"B_Round_Three_Total_Strikes_Landed\",\n",
    "    \"B_Round_Three_Takedowns_Attempted\",\n",
    "    \"B_Round_Three_Takedowns_Landed\",\n",
    "    \"B_Round_Three_Takedown_Perc\",\n",
    "    \"B_Round_Three_Submission_Attempts\",\n",
    "    \"B_Round_Three_Grappling_Reversals\",\n",
    "    \"B_Round_Three_Grappling_Control_Time\",\n",
    "    \"B_Round_Four_Knockdowns\",\n",
    "    \"B_Round_Four_Significant_Strikes_Landed\",\n",
    "    \"B_Round_Four_Significant_Strikes_Attempted\",\n",
    "    \"B_Round_Four_Significant_Strike_Perc\",\n",
    "    \"B_Round_Four_Significant_Strikes_Distance_Landed\",\n",
    "    \"B_Round_Four_Significant_Strikes_Distance_Attempted\",\n",
    "    \"B_Round_Four_Significant_Strikes_Clinch_Landed\",\n",
    "    \"B_Round_Four_Significant_Strikes_Clinch_Attempted\",\n",
    "    \"B_Round_Four_Significant_Strikes_Ground_Landed\",\n",
    "    \"B_Round_Four_Significant_Strikes_Ground_Attempted\",\n",
    "    \"B_Round_Four_Head_Significant_Strikes_Attempted\",\n",
    "    \"B_Round_Four_Head_Significant_Strikes_Landed\",\n",
    "    \"B_Round_Four_Body_Significant_Strikes_Attempted\",\n",
    "    \"B_Round_Four_Body_Significant_Strikes_Landed\",\n",
    "    \"B_Round_Four_Leg_Significant_Strikes_Attempted\",\n",
    "    \"B_Round_Four_Leg_Significant_Strikes_Landed\",\n",
    "    \"B_Round_Four_Total_Strikes_Attempted\",\n",
    "    \"B_Round_Four_Total_Strikes_Landed\",\n",
    "    \"B_Round_Four_Takedowns_Attempted\",\n",
    "    \"B_Round_Four_Takedowns_Landed\",\n",
    "    \"B_Round_Four_Takedown_Perc\",\n",
    "    \"B_Round_Four_Submission_Attempts\",\n",
    "    \"B_Round_Four_Grappling_Reversals\",\n",
    "    \"B_Round_Four_Grappling_Control_Time\",\n",
    "    \"B_Round_Five_Knockdowns\",\n",
    "    \"B_Round_Five_Significant_Strikes_Landed\",\n",
    "    \"B_Round_Five_Significant_Strikes_Attempted\",\n",
    "    \"B_Round_Five_Significant_Strike_Perc\",\n",
    "    \"B_Round_Five_Significant_Strikes_Distance_Landed\",\n",
    "    \"B_Round_Five_Significant_Strikes_Distance_Attempted\",\n",
    "    \"B_Round_Five_Significant_Strikes_Clinch_Landed\",\n",
    "    \"B_Round_Five_Significant_Strikes_Clinch_Attempted\",\n",
    "    \"B_Round_Five_Significant_Strikes_Ground_Landed\",\n",
    "    \"B_Round_Five_Significant_Strikes_Ground_Attempted\",\n",
    "    \"B_Round_Five_Head_Significant_Strikes_Attempted\",\n",
    "    \"B_Round_Five_Head_Significant_Strikes_Landed\",\n",
    "    \"B_Round_Five_Body_Significant_Strikes_Attempted\",\n",
    "    \"B_Round_Five_Body_Significant_Strikes_Landed\",\n",
    "    \"B_Round_Five_Leg_Significant_Strikes_Attempted\",\n",
    "    \"B_Round_Five_Leg_Significant_Strikes_Landed\",\n",
    "    \"B_Round_Five_Total_Strikes_Attempted\",\n",
    "    \"B_Round_Five_Total_Strikes_Landed\",\n",
    "    \"B_Round_Five_Takedowns_Attempted\",\n",
    "    \"B_Round_Five_Takedowns_Landed\",\n",
    "    \"B_Round_Five_Takedown_Perc\",\n",
    "    \"B_Round_Five_Submission_Attempts\",\n",
    "    \"B_Round_Five_Grappling_Reversals\",\n",
    "    \"B_Round_Five_Grappling_Control_Time\",\n",
    "    \"R_Name\",\n",
    "    \"R_Age\",\n",
    "    \"R_Height\",\n",
    "    \"R_Weight\",\n",
    "    \"R_Reach\",\n",
    "    \"R_Stance\",\n",
    "    \"R_Wins\",\n",
    "    \"R_Losses\",\n",
    "    \"R_Draws\",\n",
    "    \"R_No_Contest\",\n",
    "    \"R_Career_Significant_Strikes_Landed_PM\",\n",
    "    \"R_Career_Striking_Accuracy\",\n",
    "    \"R_Career_Significant_Strike_Defence\",\n",
    "    \"R_Career_Takedown_Average\",\n",
    "    \"R_Career_Takedown_Accuracy\",\n",
    "    \"R_Career_Takedown_Defence\",\n",
    "    \"R_Career_Submission_Average\",\n",
    "    \"R_Knockdowns\",\n",
    "    \"R_Significant_Strikes_Landed\",\n",
    "    \"R_Significant_Strikes_Attempted\",\n",
    "    \"R_Significant_Strike_Perc\",\n",
    "    \"R_Significant_Strikes_Distance_Landed\",\n",
    "    \"R_Significant_Strikes_Distance_Attempted\",\n",
    "    \"R_Significant_Strikes_Clinch_Landed\",\n",
    "    \"R_Significant_Strikes_Clinch_Attempted\",\n",
    "    \"R_Significant_Strikes_Ground_Landed\",\n",
    "    \"R_Significant_Strikes_Ground_Attempted\",\n",
    "    \"R_Head_Significant_Strikes_Attempted\",\n",
    "    \"R_Head_Significant_Strikes_Landed\",\n",
    "    \"R_Body_Significant_Strikes_Attempted\",\n",
    "    \"R_Body_Significant_Strikes_Landed\",\n",
    "    \"R_Leg_Significant_Strikes_Attempted\",\n",
    "    \"R_Leg_Significant_Strikes_Landed\",\n",
    "    \"R_Total_Strikes_Attempted\",\n",
    "    \"R_Total_Strikes_Landed\",\n",
    "    \"R_Takedowns_Attempted\",\n",
    "    \"R_Takedowns_Landed\",\n",
    "    \"R_Takedown_Perc\",\n",
    "    \"R_Submission_Attempts\",\n",
    "    \"R_Grappling_Reversals\",\n",
    "    \"R_Grappling_Control_Time\",\n",
    "    \"R_Round_One_Knockdowns\",\n",
    "    \"R_Round_One_Significant_Strikes_Landed\",\n",
    "    \"R_Round_One_Significant_Strikes_Attempted\",\n",
    "    \"R_Round_One_Significant_Strike_Perc\",\n",
    "    \"R_Round_One_Significant_Strikes_Distance_Attempted\",\n",
    "    \"R_Round_One_Significant_Strikes_Distance_Landed\",\n",
    "    \"R_Round_One_Significant_Strikes_Clinch_Attempted\",\n",
    "    \"R_Round_One_Significant_Strikes_Clinch_Landed\",\n",
    "    \"R_Round_One_Significant_Strikes_Ground_Attempted\",\n",
    "    \"R_Round_One_Significant_Strikes_Ground_Landed\",\n",
    "    \"R_Round_One_Head_Significant_Strikes_Attempted\",\n",
    "    \"R_Round_One_Head_Significant_Strikes_Landed\",\n",
    "    \"R_Round_One_Body_Significant_Strikes_Attempted\",\n",
    "    \"R_Round_One_Body_Significant_Strikes_Landed\",\n",
    "    \"R_Round_One_Leg_Significant_Strikes_Attempted\",\n",
    "    \"R_Round_One_Leg_Significant_Strikes_Landed\",\n",
    "    \"R_Round_One_Total_Strikes_Attempted\",\n",
    "    \"R_Round_One_Total_Strikes_Landed\",\n",
    "    \"R_Round_One_Takedowns_Attempted\",\n",
    "    \"R_Round_One_Takedowns_Landed\",\n",
    "    \"R_Round_One_Takedown_Perc\",\n",
    "    \"R_Round_One_Submission_Attempts\",\n",
    "    \"R_Round_One_Grappling_Reversals\",\n",
    "    \"R_Round_One_Grappling_Control_Time\",\n",
    "    \"R_Round_Two_Knockdowns\",\n",
    "    \"R_Round_Two_Significant_Strikes_Landed\",\n",
    "    \"R_Round_Two_Significant_Strikes_Attempted\",\n",
    "    \"R_Round_Two_Significant_Strike_Perc\",\n",
    "    \"R_Round_Two_Significant_Strikes_Distance_Attempted\",\n",
    "    \"R_Round_Two_Significant_Strikes_Distance_Landed\",\n",
    "    \"R_Round_Two_Significant_Strikes_Clinch_Attempted\",\n",
    "    \"R_Round_Two_Significant_Strikes_Clinch_Landed\",\n",
    "    \"R_Round_Two_Significant_Strikes_Ground_Attempted\",\n",
    "    \"R_Round_Two_Significant_Strikes_Ground_Landed\",\n",
    "    \"R_Round_Two_Head_Significant_Strikes_Attempted\",\n",
    "    \"R_Round_Two_Head_Significant_Strikes_Landed\",\n",
    "    \"R_Round_Two_Body_Significant_Strikes_Attempted\",\n",
    "    \"R_Round_Two_Body_Significant_Strikes_Landed\",\n",
    "    \"R_Round_Two_Leg_Significant_Strikes_Attempted\",\n",
    "    \"R_Round_Two_Leg_Significant_Strikes_Landed\",\n",
    "    \"R_Round_Two_Total_Strikes_Attempted\",\n",
    "    \"R_Round_Two_Total_Strikes_Landed\",\n",
    "    \"R_Round_Two_Takedowns_Attempted\",\n",
    "    \"R_Round_Two_Takedowns_Landed\",\n",
    "    \"R_Round_Two_Takedown_Perc\",\n",
    "    \"R_Round_Two_Submission_Attempts\",\n",
    "    \"R_Round_Two_Grappling_Reversals\",\n",
    "    \"R_Round_Two_Grappling_Control_Time\",\n",
    "    \"R_Round_Three_Knockdowns\",\n",
    "    \"R_Round_Three_Significant_Strikes_Landed\",\n",
    "    \"R_Round_Three_Significant_Strikes_Attempted\",\n",
    "    \"R_Round_Three_Significant_Strike_Perc\",\n",
    "    \"R_Round_Three_Significant_Strikes_Distance_Attempted\",\n",
    "    \"R_Round_Three_Significant_Strikes_Distance_Landed\",\n",
    "    \"R_Round_Three_Significant_Strikes_Clinch_Attempted\",\n",
    "    \"R_Round_Three_Significant_Strikes_Clinch_Landed\",\n",
    "    \"R_Round_Three_Significant_Strikes_Ground_Attempted\",\n",
    "    \"R_Round_Three_Significant_Strikes_Ground_Landed\",\n",
    "    \"R_Round_Three_Head_Significant_Strikes_Attempted\",\n",
    "    \"R_Round_Three_Head_Significant_Strikes_Landed\",\n",
    "    \"R_Round_Three_Body_Significant_Strikes_Attempted\",\n",
    "    \"R_Round_Three_Body_Significant_Strikes_Landed\",\n",
    "    \"R_Round_Three_Leg_Significant_Strikes_Attempted\",\n",
    "    \"R_Round_Three_Leg_Significant_Strikes_Landed\",\n",
    "    \"R_Round_Three_Total_Strikes_Attempted\",\n",
    "    \"R_Round_Three_Total_Strikes_Landed\",\n",
    "    \"R_Round_Three_Takedowns_Attempted\",\n",
    "    \"R_Round_Three_Takedowns_Landed\",\n",
    "    \"R_Round_Three_Takedown_Perc\",\n",
    "    \"R_Round_Three_Submission_Attempts\",\n",
    "    \"R_Round_Three_Grappling_Reversals\",\n",
    "    \"R_Round_Three_Grappling_Control_Time\",\n",
    "    \"R_Round_Four_Knockdowns\",\n",
    "    \"R_Round_Four_Significant_Strikes_Landed\",\n",
    "    \"R_Round_Four_Significant_Strikes_Attempted\",\n",
    "    \"R_Round_Four_Significant_Strike_Perc\",\n",
    "    \"R_Round_Four_Significant_Strikes_Distance_Attempted\",\n",
    "    \"R_Round_Four_Significant_Strikes_Distance_Landed\",\n",
    "    \"R_Round_Four_Significant_Strikes_Clinch_Attempted\",\n",
    "    \"R_Round_Four_Significant_Strikes_Clinch_Landed\",\n",
    "    \"R_Round_Four_Significant_Strikes_Ground_Attempted\",\n",
    "    \"R_Round_Four_Significant_Strikes_Ground_Landed\",\n",
    "    \"R_Round_Four_Head_Significant_Strikes_Attempted\",\n",
    "    \"R_Round_Four_Head_Significant_Strikes_Landed\",\n",
    "    \"R_Round_Four_Body_Significant_Strikes_Attempted\",\n",
    "    \"R_Round_Four_Body_Significant_Strikes_Landed\",\n",
    "    \"R_Round_Four_Leg_Significant_Strikes_Attempted\",\n",
    "    \"R_Round_Four_Leg_Significant_Strikes_Landed\",\n",
    "    \"R_Round_Four_Total_Strikes_Attempted\",\n",
    "    \"R_Round_Four_Total_Strikes_Landed\",\n",
    "    \"R_Round_Four_Takedowns_Attempted\",\n",
    "    \"R_Round_Four_Takedowns_Landed\",\n",
    "    \"R_Round_Four_Takedown_Perc\",\n",
    "    \"R_Round_Four_Submission_Attempts\",\n",
    "    \"R_Round_Four_Grappling_Reversals\",\n",
    "    \"R_Round_Four_Grappling_Control_Time\",\n",
    "    \"R_Round_Five_Knockdowns\",\n",
    "    \"R_Round_Five_Significant_Strikes_Landed\",\n",
    "    \"R_Round_Five_Significant_Strikes_Attempted\",\n",
    "    \"R_Round_Five_Significant_Strike_Perc\",\n",
    "    \"R_Round_Five_Significant_Strikes_Distance_Attempted\",\n",
    "    \"R_Round_Five_Significant_Strikes_Distance_Landed\",\n",
    "    \"R_Round_Five_Significant_Strikes_Clinch_Attempted\",\n",
    "    \"R_Round_Five_Significant_Strikes_Clinch_Landed\",\n",
    "    \"R_Round_Five_Significant_Strikes_Ground_Attempted\",\n",
    "    \"R_Round_Five_Significant_Strikes_Ground_Landed\",\n",
    "    \"R_Round_Five_Head_Significant_Strikes_Attempted\",\n",
    "    \"R_Round_Five_Head_Significant_Strikes_Landed\",\n",
    "    \"R_Round_Five_Body_Significant_Strikes_Attempted\",\n",
    "    \"R_Round_Five_Body_Significant_Strikes_Landed\",\n",
    "    \"R_Round_Five_Leg_Significant_Strikes_Attempted\",\n",
    "    \"R_Round_Five_Leg_Significant_Strikes_Landed\",\n",
    "    \"R_Round_Five_Total_Strikes_Attempted\",\n",
    "    \"R_Round_Five_Total_Strikes_Landed\",\n",
    "    \"R_Round_Five_Takedowns_Attempted\",\n",
    "    \"R_Round_Five_Takedowns_Landed\",\n",
    "    \"R_Round_Five_Takedown_Perc\",\n",
    "    \"R_Round_Five_Submission_Attempts\",\n",
    "    \"R_Round_Five_Grappling_Reversals\",\n",
    "    \"R_Round_Five_Grappling_Control_Time\",\n",
    "]\n"
   ]
  },
  {
   "cell_type": "code",
   "execution_count": 58,
   "id": "fdd2c274",
   "metadata": {
    "pycharm": {
     "name": "#%%\n"
    }
   },
   "outputs": [],
   "source": [
    "ufc_df = ufc_df.reindex(columns=new_column_order)\n"
   ]
  },
  {
   "cell_type": "code",
   "execution_count": 59,
   "id": "3fdf183c",
   "metadata": {},
   "outputs": [
    {
     "data": {
      "text/plain": [
       "Int64             273\n",
       "string             45\n",
       "Float64             6\n",
       "object              3\n",
       "datetime64[ns]      1\n",
       "dtype: int64"
      ]
     },
     "execution_count": 59,
     "metadata": {},
     "output_type": "execute_result"
    }
   ],
   "source": [
    "#  Infer best column dtype & add missing values to rows\n",
    "ufc_df = ufc_df.convert_dtypes()\n",
    "ufc_df.dtypes.value_counts()\n"
   ]
  },
  {
   "cell_type": "code",
   "execution_count": 60,
   "id": "a1f04a4b",
   "metadata": {},
   "outputs": [
    {
     "data": {
      "text/html": [
       "<div>\n",
       "<style scoped>\n",
       "    .dataframe tbody tr th:only-of-type {\n",
       "        vertical-align: middle;\n",
       "    }\n",
       "\n",
       "    .dataframe tbody tr th {\n",
       "        vertical-align: top;\n",
       "    }\n",
       "\n",
       "    .dataframe thead th {\n",
       "        text-align: right;\n",
       "    }\n",
       "</style>\n",
       "<table border=\"1\" class=\"dataframe\">\n",
       "  <thead>\n",
       "    <tr style=\"text-align: right;\">\n",
       "      <th></th>\n",
       "      <th>Event_Date</th>\n",
       "      <th>Weight_Class</th>\n",
       "      <th>Max_Rounds</th>\n",
       "      <th>Ending_Round</th>\n",
       "      <th>Winner</th>\n",
       "      <th>Win_By</th>\n",
       "      <th>B_Name</th>\n",
       "      <th>B_Age</th>\n",
       "      <th>B_Height</th>\n",
       "      <th>B_Weight</th>\n",
       "      <th>...</th>\n",
       "      <th>R_Round_Five_Leg_Significant_Strikes_Attempted</th>\n",
       "      <th>R_Round_Five_Leg_Significant_Strikes_Landed</th>\n",
       "      <th>R_Round_Five_Total_Strikes_Attempted</th>\n",
       "      <th>R_Round_Five_Total_Strikes_Landed</th>\n",
       "      <th>R_Round_Five_Takedowns_Attempted</th>\n",
       "      <th>R_Round_Five_Takedowns_Landed</th>\n",
       "      <th>R_Round_Five_Takedown_Perc</th>\n",
       "      <th>R_Round_Five_Submission_Attempts</th>\n",
       "      <th>R_Round_Five_Grappling_Reversals</th>\n",
       "      <th>R_Round_Five_Grappling_Control_Time</th>\n",
       "    </tr>\n",
       "  </thead>\n",
       "  <tbody>\n",
       "    <tr>\n",
       "      <th>0</th>\n",
       "      <td>2022-03-19</td>\n",
       "      <td>Heavyweight</td>\n",
       "      <td>5</td>\n",
       "      <td>1</td>\n",
       "      <td>Blue</td>\n",
       "      <td>SUB</td>\n",
       "      <td>Tom Aspinall</td>\n",
       "      <td>28</td>\n",
       "      <td>77</td>\n",
       "      <td>256</td>\n",
       "      <td>...</td>\n",
       "      <td>&lt;NA&gt;</td>\n",
       "      <td>&lt;NA&gt;</td>\n",
       "      <td>&lt;NA&gt;</td>\n",
       "      <td>&lt;NA&gt;</td>\n",
       "      <td>&lt;NA&gt;</td>\n",
       "      <td>&lt;NA&gt;</td>\n",
       "      <td>&lt;NA&gt;</td>\n",
       "      <td>&lt;NA&gt;</td>\n",
       "      <td>&lt;NA&gt;</td>\n",
       "      <td>&lt;NA&gt;</td>\n",
       "    </tr>\n",
       "    <tr>\n",
       "      <th>1</th>\n",
       "      <td>2022-03-19</td>\n",
       "      <td>Featherweight</td>\n",
       "      <td>3</td>\n",
       "      <td>1</td>\n",
       "      <td>Red</td>\n",
       "      <td>KO/TKO</td>\n",
       "      <td>Dan Hooker</td>\n",
       "      <td>32</td>\n",
       "      <td>72</td>\n",
       "      <td>145</td>\n",
       "      <td>...</td>\n",
       "      <td>&lt;NA&gt;</td>\n",
       "      <td>&lt;NA&gt;</td>\n",
       "      <td>&lt;NA&gt;</td>\n",
       "      <td>&lt;NA&gt;</td>\n",
       "      <td>&lt;NA&gt;</td>\n",
       "      <td>&lt;NA&gt;</td>\n",
       "      <td>&lt;NA&gt;</td>\n",
       "      <td>&lt;NA&gt;</td>\n",
       "      <td>&lt;NA&gt;</td>\n",
       "      <td>&lt;NA&gt;</td>\n",
       "    </tr>\n",
       "    <tr>\n",
       "      <th>2</th>\n",
       "      <td>2022-03-19</td>\n",
       "      <td>Lightweight</td>\n",
       "      <td>3</td>\n",
       "      <td>1</td>\n",
       "      <td>Red</td>\n",
       "      <td>SUB</td>\n",
       "      <td>Kazula Vargas</td>\n",
       "      <td>36</td>\n",
       "      <td>68</td>\n",
       "      <td>155</td>\n",
       "      <td>...</td>\n",
       "      <td>&lt;NA&gt;</td>\n",
       "      <td>&lt;NA&gt;</td>\n",
       "      <td>&lt;NA&gt;</td>\n",
       "      <td>&lt;NA&gt;</td>\n",
       "      <td>&lt;NA&gt;</td>\n",
       "      <td>&lt;NA&gt;</td>\n",
       "      <td>&lt;NA&gt;</td>\n",
       "      <td>&lt;NA&gt;</td>\n",
       "      <td>&lt;NA&gt;</td>\n",
       "      <td>&lt;NA&gt;</td>\n",
       "    </tr>\n",
       "    <tr>\n",
       "      <th>3</th>\n",
       "      <td>2022-03-19</td>\n",
       "      <td>Welterweight</td>\n",
       "      <td>3</td>\n",
       "      <td>3</td>\n",
       "      <td>Red</td>\n",
       "      <td>DEC</td>\n",
       "      <td>Takashi Sato</td>\n",
       "      <td>31</td>\n",
       "      <td>70</td>\n",
       "      <td>170</td>\n",
       "      <td>...</td>\n",
       "      <td>&lt;NA&gt;</td>\n",
       "      <td>&lt;NA&gt;</td>\n",
       "      <td>&lt;NA&gt;</td>\n",
       "      <td>&lt;NA&gt;</td>\n",
       "      <td>&lt;NA&gt;</td>\n",
       "      <td>&lt;NA&gt;</td>\n",
       "      <td>&lt;NA&gt;</td>\n",
       "      <td>&lt;NA&gt;</td>\n",
       "      <td>&lt;NA&gt;</td>\n",
       "      <td>&lt;NA&gt;</td>\n",
       "    </tr>\n",
       "    <tr>\n",
       "      <th>4</th>\n",
       "      <td>2022-03-19</td>\n",
       "      <td>Women's Flyweight</td>\n",
       "      <td>3</td>\n",
       "      <td>3</td>\n",
       "      <td>Red</td>\n",
       "      <td>KO/TKO</td>\n",
       "      <td>Luana Carolina</td>\n",
       "      <td>28</td>\n",
       "      <td>66</td>\n",
       "      <td>125</td>\n",
       "      <td>...</td>\n",
       "      <td>&lt;NA&gt;</td>\n",
       "      <td>&lt;NA&gt;</td>\n",
       "      <td>&lt;NA&gt;</td>\n",
       "      <td>&lt;NA&gt;</td>\n",
       "      <td>&lt;NA&gt;</td>\n",
       "      <td>&lt;NA&gt;</td>\n",
       "      <td>&lt;NA&gt;</td>\n",
       "      <td>&lt;NA&gt;</td>\n",
       "      <td>&lt;NA&gt;</td>\n",
       "      <td>&lt;NA&gt;</td>\n",
       "    </tr>\n",
       "  </tbody>\n",
       "</table>\n",
       "<p>5 rows × 328 columns</p>\n",
       "</div>"
      ],
      "text/plain": [
       "  Event_Date       Weight_Class  Max_Rounds  Ending_Round Winner  Win_By  \\\n",
       "0 2022-03-19        Heavyweight           5             1   Blue     SUB   \n",
       "1 2022-03-19      Featherweight           3             1    Red  KO/TKO   \n",
       "2 2022-03-19        Lightweight           3             1    Red     SUB   \n",
       "3 2022-03-19       Welterweight           3             3    Red     DEC   \n",
       "4 2022-03-19  Women's Flyweight           3             3    Red  KO/TKO   \n",
       "\n",
       "           B_Name  B_Age  B_Height  B_Weight  ...  \\\n",
       "0    Tom Aspinall     28        77       256  ...   \n",
       "1      Dan Hooker     32        72       145  ...   \n",
       "2   Kazula Vargas     36        68       155  ...   \n",
       "3    Takashi Sato     31        70       170  ...   \n",
       "4  Luana Carolina     28        66       125  ...   \n",
       "\n",
       "  R_Round_Five_Leg_Significant_Strikes_Attempted  \\\n",
       "0                                           <NA>   \n",
       "1                                           <NA>   \n",
       "2                                           <NA>   \n",
       "3                                           <NA>   \n",
       "4                                           <NA>   \n",
       "\n",
       "  R_Round_Five_Leg_Significant_Strikes_Landed  \\\n",
       "0                                        <NA>   \n",
       "1                                        <NA>   \n",
       "2                                        <NA>   \n",
       "3                                        <NA>   \n",
       "4                                        <NA>   \n",
       "\n",
       "   R_Round_Five_Total_Strikes_Attempted  R_Round_Five_Total_Strikes_Landed  \\\n",
       "0                                  <NA>                               <NA>   \n",
       "1                                  <NA>                               <NA>   \n",
       "2                                  <NA>                               <NA>   \n",
       "3                                  <NA>                               <NA>   \n",
       "4                                  <NA>                               <NA>   \n",
       "\n",
       "  R_Round_Five_Takedowns_Attempted R_Round_Five_Takedowns_Landed  \\\n",
       "0                             <NA>                          <NA>   \n",
       "1                             <NA>                          <NA>   \n",
       "2                             <NA>                          <NA>   \n",
       "3                             <NA>                          <NA>   \n",
       "4                             <NA>                          <NA>   \n",
       "\n",
       "   R_Round_Five_Takedown_Perc  R_Round_Five_Submission_Attempts  \\\n",
       "0                        <NA>                              <NA>   \n",
       "1                        <NA>                              <NA>   \n",
       "2                        <NA>                              <NA>   \n",
       "3                        <NA>                              <NA>   \n",
       "4                        <NA>                              <NA>   \n",
       "\n",
       "   R_Round_Five_Grappling_Reversals  R_Round_Five_Grappling_Control_Time  \n",
       "0                              <NA>                                 <NA>  \n",
       "1                              <NA>                                 <NA>  \n",
       "2                              <NA>                                 <NA>  \n",
       "3                              <NA>                                 <NA>  \n",
       "4                              <NA>                                 <NA>  \n",
       "\n",
       "[5 rows x 328 columns]"
      ]
     },
     "execution_count": 60,
     "metadata": {},
     "output_type": "execute_result"
    }
   ],
   "source": [
    "ufc_df.head()\n"
   ]
  },
  {
   "cell_type": "markdown",
   "id": "fbb87721",
   "metadata": {},
   "source": [
    "## Data Exploration\n"
   ]
  },
  {
   "cell_type": "markdown",
   "id": "cad348fe",
   "metadata": {},
   "source": [
    "### Winner (Red vs. Blue)\n"
   ]
  },
  {
   "cell_type": "code",
   "execution_count": 61,
   "id": "6a952d5c",
   "metadata": {
    "scrolled": true
   },
   "outputs": [
    {
     "data": {
      "image/png": "[encoded data removed]",
      "text/plain": [
       "<Figure size 432x288 with 1 Axes>"
      ]
     },
     "metadata": {},
     "output_type": "display_data"
    }
   ],
   "source": [
    "# Pie chart, Red vs. Blue win rate\n",
    "pie_labels = ufc_df[\"Winner\"].value_counts().index\n",
    "pie_values = ufc_df[\"Winner\"].value_counts().values\n",
    "explode = (0, 0.1)  # only \"explode\" the 2nd slice\n",
    "\n",
    "fig1, ax1 = plt.subplots()\n",
    "\n",
    "ax1.pie(\n",
    "    x=pie_values,\n",
    "    labels=pie_labels,\n",
    "    colors=[\"red\", \"blue\"],\n",
    "    explode=explode,\n",
    "    autopct=\"%1.1f%%\",\n",
    "    shadow=True,\n",
    "    startangle=90,\n",
    ")\n",
    "ax1.axis(\"equal\")  # Equal aspect ratio ensures that pie is drawn as a circle.\n",
    "ax1.axes.set_title(\"Win Rate (Red vs. Blue)\")\n",
    "\n",
    "plt.show()\n"
   ]
  },
  {
   "cell_type": "markdown",
   "id": "ed8eb407",
   "metadata": {},
   "source": [
    "### Age\n"
   ]
  },
  {
   "cell_type": "code",
   "execution_count": 62,
   "id": "11a58a2d",
   "metadata": {},
   "outputs": [
    {
     "data": {
      "text/html": [
       "<div>\n",
       "<style scoped>\n",
       "    .dataframe tbody tr th:only-of-type {\n",
       "        vertical-align: middle;\n",
       "    }\n",
       "\n",
       "    .dataframe tbody tr th {\n",
       "        vertical-align: top;\n",
       "    }\n",
       "\n",
       "    .dataframe thead th {\n",
       "        text-align: right;\n",
       "    }\n",
       "</style>\n",
       "<table border=\"1\" class=\"dataframe\">\n",
       "  <thead>\n",
       "    <tr style=\"text-align: right;\">\n",
       "      <th></th>\n",
       "      <th>R_Age</th>\n",
       "      <th>B_Age</th>\n",
       "    </tr>\n",
       "  </thead>\n",
       "  <tbody>\n",
       "    <tr>\n",
       "      <th>count</th>\n",
       "      <td>6100.000000</td>\n",
       "      <td>6100.000000</td>\n",
       "    </tr>\n",
       "    <tr>\n",
       "      <th>mean</th>\n",
       "      <td>29.765738</td>\n",
       "      <td>29.397869</td>\n",
       "    </tr>\n",
       "    <tr>\n",
       "      <th>std</th>\n",
       "      <td>4.178314</td>\n",
       "      <td>4.026584</td>\n",
       "    </tr>\n",
       "    <tr>\n",
       "      <th>min</th>\n",
       "      <td>19.000000</td>\n",
       "      <td>18.000000</td>\n",
       "    </tr>\n",
       "    <tr>\n",
       "      <th>25%</th>\n",
       "      <td>27.000000</td>\n",
       "      <td>27.000000</td>\n",
       "    </tr>\n",
       "    <tr>\n",
       "      <th>50%</th>\n",
       "      <td>30.000000</td>\n",
       "      <td>29.000000</td>\n",
       "    </tr>\n",
       "    <tr>\n",
       "      <th>75%</th>\n",
       "      <td>32.000000</td>\n",
       "      <td>32.000000</td>\n",
       "    </tr>\n",
       "    <tr>\n",
       "      <th>max</th>\n",
       "      <td>47.000000</td>\n",
       "      <td>47.000000</td>\n",
       "    </tr>\n",
       "  </tbody>\n",
       "</table>\n",
       "</div>"
      ],
      "text/plain": [
       "             R_Age        B_Age\n",
       "count  6100.000000  6100.000000\n",
       "mean     29.765738    29.397869\n",
       "std       4.178314     4.026584\n",
       "min      19.000000    18.000000\n",
       "25%      27.000000    27.000000\n",
       "50%      30.000000    29.000000\n",
       "75%      32.000000    32.000000\n",
       "max      47.000000    47.000000"
      ]
     },
     "execution_count": 62,
     "metadata": {},
     "output_type": "execute_result"
    }
   ],
   "source": [
    "# Generate descriptive statistics on Age columns (min, max, etc)\n",
    "ufc_df[[\"R_Age\", \"B_Age\"]].describe()\n"
   ]
  },
  {
   "cell_type": "code",
   "execution_count": 90,
   "id": "576cc011",
   "metadata": {},
   "outputs": [
    {
     "data": {
      "text/plain": [
       "<AxesSubplot:>"
      ]
     },
     "execution_count": 90,
     "metadata": {},
     "output_type": "execute_result"
    },
    {
     "data": {
      "image/png": "[encoded data removed]",
      "text/plain": [
       "<Figure size 432x288 with 1 Axes>"
      ]
     },
     "metadata": {
      "needs_background": "light"
     },
     "output_type": "display_data"
    }
   ],
   "source": [
    "# Use Box & Whisker plot to visualize Age outliers\n",
    "ufc_df.boxplot(column=[\"R_Age\", \"B_Age\"])\n"
   ]
  },
  {
   "cell_type": "markdown",
   "id": "19369aa4",
   "metadata": {},
   "source": [
    "### Height\n"
   ]
  },
  {
   "cell_type": "code",
   "execution_count": 64,
   "id": "ff978f88",
   "metadata": {
    "scrolled": true
   },
   "outputs": [
    {
     "data": {
      "text/html": [
       "<div>\n",
       "<style scoped>\n",
       "    .dataframe tbody tr th:only-of-type {\n",
       "        vertical-align: middle;\n",
       "    }\n",
       "\n",
       "    .dataframe tbody tr th {\n",
       "        vertical-align: top;\n",
       "    }\n",
       "\n",
       "    .dataframe thead th {\n",
       "        text-align: right;\n",
       "    }\n",
       "</style>\n",
       "<table border=\"1\" class=\"dataframe\">\n",
       "  <thead>\n",
       "    <tr style=\"text-align: right;\">\n",
       "      <th></th>\n",
       "      <th>R_Height</th>\n",
       "      <th>B_Height</th>\n",
       "    </tr>\n",
       "  </thead>\n",
       "  <tbody>\n",
       "    <tr>\n",
       "      <th>count</th>\n",
       "      <td>6100.000000</td>\n",
       "      <td>6100.000000</td>\n",
       "    </tr>\n",
       "    <tr>\n",
       "      <th>mean</th>\n",
       "      <td>70.334918</td>\n",
       "      <td>70.323443</td>\n",
       "    </tr>\n",
       "    <tr>\n",
       "      <th>std</th>\n",
       "      <td>3.519760</td>\n",
       "      <td>3.462417</td>\n",
       "    </tr>\n",
       "    <tr>\n",
       "      <th>min</th>\n",
       "      <td>60.000000</td>\n",
       "      <td>60.000000</td>\n",
       "    </tr>\n",
       "    <tr>\n",
       "      <th>25%</th>\n",
       "      <td>68.000000</td>\n",
       "      <td>68.000000</td>\n",
       "    </tr>\n",
       "    <tr>\n",
       "      <th>50%</th>\n",
       "      <td>70.000000</td>\n",
       "      <td>70.000000</td>\n",
       "    </tr>\n",
       "    <tr>\n",
       "      <th>75%</th>\n",
       "      <td>73.000000</td>\n",
       "      <td>73.000000</td>\n",
       "    </tr>\n",
       "    <tr>\n",
       "      <th>max</th>\n",
       "      <td>83.000000</td>\n",
       "      <td>83.000000</td>\n",
       "    </tr>\n",
       "  </tbody>\n",
       "</table>\n",
       "</div>"
      ],
      "text/plain": [
       "          R_Height     B_Height\n",
       "count  6100.000000  6100.000000\n",
       "mean     70.334918    70.323443\n",
       "std       3.519760     3.462417\n",
       "min      60.000000    60.000000\n",
       "25%      68.000000    68.000000\n",
       "50%      70.000000    70.000000\n",
       "75%      73.000000    73.000000\n",
       "max      83.000000    83.000000"
      ]
     },
     "execution_count": 64,
     "metadata": {},
     "output_type": "execute_result"
    }
   ],
   "source": [
    "# Generate descriptive statistics on Height columns (min, max, etc)\n",
    "ufc_df[[\"R_Height\", \"B_Height\"]].describe()\n"
   ]
  },
  {
   "cell_type": "code",
   "execution_count": 65,
   "id": "7c207a4e",
   "metadata": {
    "scrolled": true
   },
   "outputs": [
    {
     "data": {
      "text/plain": [
       "<AxesSubplot:>"
      ]
     },
     "execution_count": 65,
     "metadata": {},
     "output_type": "execute_result"
    },
    {
     "data": {
      "image/png": "[encoded data removed]",
      "text/plain": [
       "<Figure size 432x288 with 1 Axes>"
      ]
     },
     "metadata": {
      "needs_background": "light"
     },
     "output_type": "display_data"
    }
   ],
   "source": [
    "# Use Box & Whisker plot to visualize Height outliers\n",
    "ufc_df.boxplot(column=[\"R_Height\", \"B_Height\"])\n"
   ]
  },
  {
   "cell_type": "markdown",
   "id": "6a249120",
   "metadata": {},
   "source": [
    "### Weight\n"
   ]
  },
  {
   "cell_type": "code",
   "execution_count": 66,
   "id": "6bbbd280",
   "metadata": {},
   "outputs": [
    {
     "data": {
      "text/html": [
       "<div>\n",
       "<style scoped>\n",
       "    .dataframe tbody tr th:only-of-type {\n",
       "        vertical-align: middle;\n",
       "    }\n",
       "\n",
       "    .dataframe tbody tr th {\n",
       "        vertical-align: top;\n",
       "    }\n",
       "\n",
       "    .dataframe thead th {\n",
       "        text-align: right;\n",
       "    }\n",
       "</style>\n",
       "<table border=\"1\" class=\"dataframe\">\n",
       "  <thead>\n",
       "    <tr style=\"text-align: right;\">\n",
       "      <th></th>\n",
       "      <th>R_Weight</th>\n",
       "      <th>B_Weight</th>\n",
       "    </tr>\n",
       "  </thead>\n",
       "  <tbody>\n",
       "    <tr>\n",
       "      <th>count</th>\n",
       "      <td>6100.000000</td>\n",
       "      <td>6100.000000</td>\n",
       "    </tr>\n",
       "    <tr>\n",
       "      <th>mean</th>\n",
       "      <td>168.194098</td>\n",
       "      <td>167.780328</td>\n",
       "    </tr>\n",
       "    <tr>\n",
       "      <th>std</th>\n",
       "      <td>34.752299</td>\n",
       "      <td>34.561815</td>\n",
       "    </tr>\n",
       "    <tr>\n",
       "      <th>min</th>\n",
       "      <td>115.000000</td>\n",
       "      <td>115.000000</td>\n",
       "    </tr>\n",
       "    <tr>\n",
       "      <th>25%</th>\n",
       "      <td>145.000000</td>\n",
       "      <td>145.000000</td>\n",
       "    </tr>\n",
       "    <tr>\n",
       "      <th>50%</th>\n",
       "      <td>170.000000</td>\n",
       "      <td>168.000000</td>\n",
       "    </tr>\n",
       "    <tr>\n",
       "      <th>75%</th>\n",
       "      <td>185.000000</td>\n",
       "      <td>185.000000</td>\n",
       "    </tr>\n",
       "    <tr>\n",
       "      <th>max</th>\n",
       "      <td>265.000000</td>\n",
       "      <td>265.000000</td>\n",
       "    </tr>\n",
       "  </tbody>\n",
       "</table>\n",
       "</div>"
      ],
      "text/plain": [
       "          R_Weight     B_Weight\n",
       "count  6100.000000  6100.000000\n",
       "mean    168.194098   167.780328\n",
       "std      34.752299    34.561815\n",
       "min     115.000000   115.000000\n",
       "25%     145.000000   145.000000\n",
       "50%     170.000000   168.000000\n",
       "75%     185.000000   185.000000\n",
       "max     265.000000   265.000000"
      ]
     },
     "execution_count": 66,
     "metadata": {},
     "output_type": "execute_result"
    }
   ],
   "source": [
    "# Generate descriptive statistics on Weight columns (min, max, etc)\n",
    "ufc_df[[\"R_Weight\", \"B_Weight\"]].describe()\n"
   ]
  },
  {
   "cell_type": "code",
   "execution_count": 67,
   "id": "570c7e6b",
   "metadata": {},
   "outputs": [
    {
     "data": {
      "text/plain": [
       "<AxesSubplot:>"
      ]
     },
     "execution_count": 67,
     "metadata": {},
     "output_type": "execute_result"
    },
    {
     "data": {
      "image/png": "[encoded data removed]",
      "text/plain": [
       "<Figure size 432x288 with 1 Axes>"
      ]
     },
     "metadata": {
      "needs_background": "light"
     },
     "output_type": "display_data"
    }
   ],
   "source": [
    "# Use Box & Whisker plot to visualize Weight outliers\n",
    "ufc_df.boxplot(column=[\"R_Weight\", \"B_Weight\"])\n"
   ]
  },
  {
   "cell_type": "markdown",
   "id": "4d1f9ac2",
   "metadata": {},
   "source": [
    "## Feature Engineering\n"
   ]
  },
  {
   "cell_type": "markdown",
   "id": "52b8a474",
   "metadata": {},
   "source": [
    "### Feature Creation\n"
   ]
  },
  {
   "cell_type": "markdown",
   "id": "f09e9301",
   "metadata": {},
   "source": [
    "#### Age Bucket\n"
   ]
  },
  {
   "cell_type": "code",
   "execution_count": 68,
   "id": "0386d9f5",
   "metadata": {},
   "outputs": [],
   "source": [
    "# Create four equal-sized buckets for the Age columns based on sample quantiles\n",
    "\n",
    "ufc_df[\"R_Age_Bucket\"] = pd.qcut(\n",
    "    x=ufc_df[\"R_Age\"], q=4, labels=None, retbins=False, precision=3\n",
    ")\n",
    "\n",
    "\n",
    "ufc_df[\"B_Age_Bucket\"] = pd.qcut(\n",
    "    x=ufc_df[\"B_Age\"], q=4, labels=None, retbins=False, precision=3\n",
    ")\n",
    "\n",
    "\n",
    "# Drop age columns\n",
    "# ufc_df = ufc_df.drop(columns=[\"R_Age\", \"B_Age\"])\n"
   ]
  },
  {
   "cell_type": "code",
   "execution_count": 69,
   "id": "94d25ca2",
   "metadata": {},
   "outputs": [
    {
     "data": {
      "text/plain": [
       "<AxesSubplot:title={'center':'Red Age Buckets'}>"
      ]
     },
     "execution_count": 69,
     "metadata": {},
     "output_type": "execute_result"
    },
    {
     "data": {
      "image/png": "[encoded data removed]",
      "text/plain": [
       "<Figure size 432x288 with 1 Axes>"
      ]
     },
     "metadata": {
      "needs_background": "light"
     },
     "output_type": "display_data"
    }
   ],
   "source": [
    "# Create a bar graph to visualize R_Age_Bucket\n",
    "ufc_df[\"R_Age_Bucket\"].value_counts().plot(\n",
    "    kind=\"bar\", color=\"red\", rot=0, title=\"Red Age Buckets\"\n",
    ")\n"
   ]
  },
  {
   "cell_type": "code",
   "execution_count": 70,
   "id": "4a963000",
   "metadata": {},
   "outputs": [
    {
     "data": {
      "text/plain": [
       "<AxesSubplot:title={'center':'Blue Age Buckets'}>"
      ]
     },
     "execution_count": 70,
     "metadata": {},
     "output_type": "execute_result"
    },
    {
     "data": {
      "image/png": "[encoded data removed]",
      "text/plain": [
       "<Figure size 432x288 with 1 Axes>"
      ]
     },
     "metadata": {
      "needs_background": "light"
     },
     "output_type": "display_data"
    }
   ],
   "source": [
    "# Create a bar graph to visualize B_Age_Bucket\n",
    "ufc_df[\"B_Age_Bucket\"].value_counts().plot(\n",
    "    kind=\"bar\", color=\"blue\", rot=0, title=\"Blue Age Buckets\"\n",
    ")\n"
   ]
  },
  {
   "cell_type": "markdown",
   "id": "675e7c02",
   "metadata": {},
   "source": [
    "#### Height Bucket\n"
   ]
  },
  {
   "cell_type": "code",
   "execution_count": 71,
   "id": "b77f761f",
   "metadata": {},
   "outputs": [],
   "source": [
    "# Create four equal-sized buckets for the Height columns based on sample quantiles\n",
    "\n",
    "ufc_df[\"R_Height_Bucket\"] = pd.qcut(\n",
    "    x=ufc_df[\"R_Height\"], q=4, labels=None, retbins=False, precision=3\n",
    ")\n",
    "\n",
    "ufc_df[\"B_Height_Bucket\"] = pd.qcut(\n",
    "    x=ufc_df[\"B_Height\"], q=4, labels=None, retbins=False, precision=3\n",
    ")\n",
    "\n",
    "# Drop height columns\n",
    "# ufc_df = ufc_df.drop(columns=[\"R_Height\", \"B_Height\"])\n"
   ]
  },
  {
   "cell_type": "code",
   "execution_count": 72,
   "id": "64a9e7d0",
   "metadata": {},
   "outputs": [
    {
     "data": {
      "text/plain": [
       "<AxesSubplot:title={'center':'Red Height Buckets'}>"
      ]
     },
     "execution_count": 72,
     "metadata": {},
     "output_type": "execute_result"
    },
    {
     "data": {
      "image/png": "[encoded data removed]",
      "text/plain": [
       "<Figure size 432x288 with 1 Axes>"
      ]
     },
     "metadata": {
      "needs_background": "light"
     },
     "output_type": "display_data"
    }
   ],
   "source": [
    "# Create a bar graph to visualize R_Height_Bucket\n",
    "ufc_df[\"R_Height_Bucket\"].value_counts().plot(\n",
    "    kind=\"bar\", color=\"red\", rot=0, title=\"Red Height Buckets\"\n",
    ")\n"
   ]
  },
  {
   "cell_type": "code",
   "execution_count": 73,
   "id": "3bdccce5",
   "metadata": {},
   "outputs": [
    {
     "data": {
      "text/plain": [
       "<AxesSubplot:title={'center':'Blue Height Buckets'}>"
      ]
     },
     "execution_count": 73,
     "metadata": {},
     "output_type": "execute_result"
    },
    {
     "data": {
      "image/png": "[encoded data removed]",
      "text/plain": [
       "<Figure size 432x288 with 1 Axes>"
      ]
     },
     "metadata": {
      "needs_background": "light"
     },
     "output_type": "display_data"
    }
   ],
   "source": [
    "# Create a bar graph to visualize B_Height_Bucket\n",
    "ufc_df[\"B_Height_Bucket\"].value_counts().plot(\n",
    "    kind=\"bar\", color=\"blue\", rot=0, title=\"Blue Height Buckets\"\n",
    ")\n"
   ]
  },
  {
   "cell_type": "markdown",
   "id": "54e91880",
   "metadata": {},
   "source": [
    "#### Weight Class\n"
   ]
  },
  {
   "cell_type": "markdown",
   "id": "a8f9e3e6",
   "metadata": {},
   "source": [
    "|   Weight Class    | Minimum Weight (lb) | Maximum Weight (lb) |\n",
    "| :---------------: | :-----------------: | :-----------------: |\n",
    "|    Heavyweight    |         205         |         265         |\n",
    "| Light Heavyweight |         185         |         205         |\n",
    "|   Middleweight    |         170         |         185         |\n",
    "|   Welterweight    |         155         |         170         |\n",
    "|    Lightweight    |         145         |         155         |\n",
    "|   Featherweight   |         135         |         145         |\n",
    "|   Bantamweight    |         125         |         135         |\n",
    "|     Flyweight     |         115         |         125         |\n",
    "|   Strawweight\\*   |          0          |         115         |\n",
    "\n",
    "- \"The women’s UFC division is split into only 4 classes: strawweight, flyweight, bantamweight, and featherweight. The strawweight class is only used in the women’s division and men do not compete in it.\"\n"
   ]
  },
  {
   "cell_type": "code",
   "execution_count": 74,
   "id": "3fdfe449",
   "metadata": {},
   "outputs": [
    {
     "data": {
      "text/html": [
       "<div>\n",
       "<style scoped>\n",
       "    .dataframe tbody tr th:only-of-type {\n",
       "        vertical-align: middle;\n",
       "    }\n",
       "\n",
       "    .dataframe tbody tr th {\n",
       "        vertical-align: top;\n",
       "    }\n",
       "\n",
       "    .dataframe thead th {\n",
       "        text-align: right;\n",
       "    }\n",
       "</style>\n",
       "<table border=\"1\" class=\"dataframe\">\n",
       "  <thead>\n",
       "    <tr style=\"text-align: right;\">\n",
       "      <th></th>\n",
       "      <th>R_Weight</th>\n",
       "      <th>B_Weight</th>\n",
       "    </tr>\n",
       "  </thead>\n",
       "  <tbody>\n",
       "    <tr>\n",
       "      <th>count</th>\n",
       "      <td>6100.000000</td>\n",
       "      <td>6100.000000</td>\n",
       "    </tr>\n",
       "    <tr>\n",
       "      <th>mean</th>\n",
       "      <td>168.194098</td>\n",
       "      <td>167.780328</td>\n",
       "    </tr>\n",
       "    <tr>\n",
       "      <th>std</th>\n",
       "      <td>34.752299</td>\n",
       "      <td>34.561815</td>\n",
       "    </tr>\n",
       "    <tr>\n",
       "      <th>min</th>\n",
       "      <td>115.000000</td>\n",
       "      <td>115.000000</td>\n",
       "    </tr>\n",
       "    <tr>\n",
       "      <th>25%</th>\n",
       "      <td>145.000000</td>\n",
       "      <td>145.000000</td>\n",
       "    </tr>\n",
       "    <tr>\n",
       "      <th>50%</th>\n",
       "      <td>170.000000</td>\n",
       "      <td>168.000000</td>\n",
       "    </tr>\n",
       "    <tr>\n",
       "      <th>75%</th>\n",
       "      <td>185.000000</td>\n",
       "      <td>185.000000</td>\n",
       "    </tr>\n",
       "    <tr>\n",
       "      <th>max</th>\n",
       "      <td>265.000000</td>\n",
       "      <td>265.000000</td>\n",
       "    </tr>\n",
       "  </tbody>\n",
       "</table>\n",
       "</div>"
      ],
      "text/plain": [
       "          R_Weight     B_Weight\n",
       "count  6100.000000  6100.000000\n",
       "mean    168.194098   167.780328\n",
       "std      34.752299    34.561815\n",
       "min     115.000000   115.000000\n",
       "25%     145.000000   145.000000\n",
       "50%     170.000000   168.000000\n",
       "75%     185.000000   185.000000\n",
       "max     265.000000   265.000000"
      ]
     },
     "execution_count": 74,
     "metadata": {},
     "output_type": "execute_result"
    }
   ],
   "source": [
    "ufc_df[[\"R_Weight\", \"B_Weight\"]].describe()\n"
   ]
  },
  {
   "cell_type": "code",
   "execution_count": 75,
   "id": "d9fe64d3",
   "metadata": {},
   "outputs": [],
   "source": [
    "# Keep rows that contain standardized weight class\n",
    "ufc_df = ufc_df.loc[\n",
    "    (ufc_df.Weight_Class == \"Heavyweight\")\n",
    "    | (ufc_df.Weight_Class == \"Light Heavyweight\")\n",
    "    | (ufc_df.Weight_Class == \"Middleweight\")\n",
    "    | (ufc_df.Weight_Class == \"Welterweight\")\n",
    "    | (ufc_df.Weight_Class == \"Lightweight\")\n",
    "    | (ufc_df.Weight_Class == \"Featherweight\")\n",
    "    | (ufc_df.Weight_Class == \"Bantamweight\")\n",
    "    | (ufc_df.Weight_Class == \"Flyweight\")\n",
    "    | (ufc_df.Weight_Class == \"Strawweight\")\n",
    "    | (ufc_df.Weight_Class == \"Women's Strawweight\")\n",
    "    | (ufc_df.Weight_Class == \"Women's Flyweight\")\n",
    "    | (ufc_df.Weight_Class == \"Women's Bantamweight\")\n",
    "    | (ufc_df.Weight_Class == \"Women's Featherweight\")\n",
    "    # TODO: Should we exclude \"Catch Weight\", \"Super Heavyweight\", and \"Open Weight\"?\n",
    "    # | (ufc_df.Weight_Class == \"Catch Weight\")\n",
    "    # | (ufc_df.Weight_Class == \"Super Heavyweight\")\n",
    "    # | (ufc_df.Weight_Class == \"Open Weight\")\n",
    "    # TODO: Create `other` category for anything that does not fall in Weight_Class (?)\n",
    "    # | (ufc_df.Winnner == \"Other\")\n",
    "]\n"
   ]
  },
  {
   "cell_type": "markdown",
   "id": "2dc09e86",
   "metadata": {},
   "source": [
    "#### Gender\n"
   ]
  },
  {
   "cell_type": "code",
   "execution_count": 76,
   "id": "c3195daf",
   "metadata": {},
   "outputs": [],
   "source": [
    "# Create Gender Fight Class Column\n",
    "\n",
    "# TODO: There might be a *better* way of determining Gender, but this seems to works.\n",
    "# ufc_df[\"Gender\"] = np.where(\n",
    "#     ufc_df[\"Weight_Class\"].str.contains(\"Women's\"), \"Female\", \"Male\"\n",
    "# )\n",
    "\n",
    "ufc_df[\"Gender\"] = np.where(\n",
    "    ufc_df[\"Weight_Class\"].str.contains(\"Women's\"), 0, 1\n",
    ")  # Gender (sex) is 0 if female and 1 if male.\n"
   ]
  },
  {
   "cell_type": "code",
   "execution_count": 77,
   "id": "49562894",
   "metadata": {},
   "outputs": [
    {
     "data": {
      "text/plain": [
       "1    5212\n",
       "0     507\n",
       "Name: Gender, dtype: int64"
      ]
     },
     "execution_count": 77,
     "metadata": {},
     "output_type": "execute_result"
    }
   ],
   "source": [
    "# display(\n",
    "#     ufc_df.loc[\n",
    "#         (ufc_df.Weight_Class == \"Women's Strawweight\")\n",
    "#         | (ufc_df.Weight_Class == \"Women's Flyweight\")\n",
    "#         | (ufc_df.Weight_Class == \"Women's Bantamweight\")\n",
    "#         | (ufc_df.Weight_Class == \"Women's Featherweight\")\n",
    "#     ].shape[0]\n",
    "# )\n",
    "\n",
    "ufc_df[\"Gender\"].value_counts()\n"
   ]
  },
  {
   "cell_type": "markdown",
   "id": "eafaa80f",
   "metadata": {},
   "source": [
    "#### Body Mass Index (BMI)\n"
   ]
  },
  {
   "cell_type": "markdown",
   "id": "69c56f19",
   "metadata": {},
   "source": [
    "[Calculating BMI Using the English System](https://www.cdc.gov/nccdphp/dnpao/growthcharts/training/bmiage/page5_2.html)\n",
    "\n",
    "Formula:\n",
    "\n",
    "> **weight** (lb) / [**height** (in)]<sup>2</sup> \\* **703**\n"
   ]
  },
  {
   "cell_type": "markdown",
   "id": "4ec1b9db",
   "metadata": {},
   "source": [
    "> \"The normal BMI scores may not be accurate if you're very muscular because muscle can add extra kilos, resulting in a high BMI when you're not an unhealthy weight.\" ([National Health Service](https://www.nhs.uk/conditions/obesity/diagnosis/))\n"
   ]
  },
  {
   "cell_type": "code",
   "execution_count": 78,
   "id": "360c4df4",
   "metadata": {},
   "outputs": [],
   "source": [
    "# Divide weight by height twice, multiply by 703, and round to one decimal place\n",
    "\n",
    "# Calculate Red fighter BMI\n",
    "ufc_df[\"R_BMI\"] = round(ufc_df[\"R_Weight\"] / ufc_df[\"R_Height\"] ** 2 * 703, 1)\n",
    "\n",
    "# Calculate Blue fighter BMI\n",
    "ufc_df[\"B_BMI\"] = round(ufc_df[\"B_Weight\"] / ufc_df[\"B_Height\"] ** 2 * 703, 1)\n"
   ]
  },
  {
   "cell_type": "markdown",
   "id": "cd516fd1",
   "metadata": {},
   "source": [
    "#### Proposed new BMI\n"
   ]
  },
  {
   "cell_type": "markdown",
   "id": "22b5eb70",
   "metadata": {},
   "source": [
    "[Proposed formula](https://web.archive.org/web/20220321050055/https://people.maths.ox.ac.uk/trefethen/bmi.html) by Nick Trefethen, Professor of numerical analysis at University of Oxford.\n",
    "\n",
    "New formula:\n",
    "\n",
    "> **5734** \\* **weight** (lb) / [**height** (in)]<sup>2.5</sup>\n"
   ]
  },
  {
   "cell_type": "code",
   "execution_count": 79,
   "id": "4752d7a8",
   "metadata": {},
   "outputs": [],
   "source": [
    "# Calculate BMI with the new proposed formula.\n",
    "\n",
    "# Calculate Red fighter BMI under proposed BMI\n",
    "ufc_df[\"R_BMI_proposed\"] = round(\n",
    "    5734 * ufc_df[\"R_Weight\"] / ufc_df[\"R_Height\"] ** 2.5, 1\n",
    ")\n",
    "\n",
    "# Calculate Blue fighter BMI under proposed BMI\n",
    "ufc_df[\"B_BMI_proposed\"] = round(\n",
    "    5734 * ufc_df[\"B_Weight\"] / ufc_df[\"B_Height\"] ** 2.5, 1\n",
    ")\n"
   ]
  },
  {
   "cell_type": "markdown",
   "id": "397c502c",
   "metadata": {},
   "source": [
    "#### Estimation of Body Fat\n"
   ]
  },
  {
   "cell_type": "markdown",
   "id": "79007a56",
   "metadata": {},
   "source": [
    "Adult Body Fat Percentage\n",
    "\n",
    "Formula:\n",
    "\n",
    "> Body fat % = (1.39 \\* BMI) + (0.16 \\* Age) - (10.34 \\* Gender) - 9)\n",
    "\n",
    "- Where gender (sex) is 0 if female and 1 if male to account for the lower body fat percentage of men (International Journal of Obesity and Related Metabolic Disorders in 2002)\n"
   ]
  },
  {
   "cell_type": "code",
   "execution_count": 80,
   "id": "f4421c40",
   "metadata": {},
   "outputs": [],
   "source": [
    "# Estimate Red Fighter Body Fat Percentage\n",
    "ufc_df[\"R_Body_Fat_Percentage\"] = (1.39 * ufc_df[\"R_BMI\"]) + (0.16 * ufc_df[\"R_Age\"] - (10.34 * ufc_df[\"Gender\"]) - 9)\n",
    "\n",
    "# Estimate Blue Fighter Body Fat Percentage\n",
    "ufc_df[\"B_Body_Fat_Percentage\"] = (1.39 * ufc_df[\"R_BMI\"]) + (0.16 * ufc_df[\"R_Age\"] - (10.34 * ufc_df[\"Gender\"]) - 9)\n"
   ]
  },
  {
   "cell_type": "markdown",
   "id": "2e9d67ee",
   "metadata": {},
   "source": [
    "#### Lean Body Mass\n"
   ]
  },
  {
   "cell_type": "markdown",
   "id": "d7ae01dc",
   "metadata": {},
   "source": [
    "\"For calculating lean body mass, body fat percentage was subtracted from 100 to get the lean mass percentage and lean mass percentage was divided by 100 to calculate the decimal for lean mass percentage, and then lean mass decimal was multiplied with total body weight.\" [(Prakash KO, Choudhary R, Singh G. Lean body mass, body fat percentage, and handgrip strength as predictors of bone mineral density in postmenopausal women. J Mid-life Health 2021;12:299-303)](https://www.jmidlifehealth.org/text.asp?2021/12/4/299/336149)\n",
    "\n",
    "Formula(s):\n",
    "\n",
    "> Lean Mass Percentage = 100 - Body Fat Percentage\n",
    "\n",
    "> Lean Mass Decimal = Lean Mass Percentage / 100\n",
    "\n",
    "> Lean Body Mass = Lean Mass Decimal \\* Total Body Weight\n",
    "\n",
    "> Lean Body Mass = ((100 - Body Fat Percentage) / 100) \\* Total Body Weight\n"
   ]
  },
  {
   "cell_type": "code",
   "execution_count": 81,
   "id": "18f71bde",
   "metadata": {},
   "outputs": [],
   "source": [
    "# Estimate Red Fighter Lean Body Mass\n",
    "ufc_df[\"R_Lean_Body_Mass\"] = ((100 - ufc_df[\"R_Body_Fat_Percentage\"]) / 100) * ufc_df[\"R_Weight\"]\n",
    "\n",
    "# Estimate Blue Fighter Lean Body Mass\n",
    "ufc_df[\"B_Lean_Body_Mass\"] = ((100 - ufc_df[\"B_Body_Fat_Percentage\"]) / 100) * ufc_df[\"B_Weight\"]\n"
   ]
  },
  {
   "cell_type": "markdown",
   "id": "1689477d",
   "metadata": {},
   "source": [
    "### Set Categories\n"
   ]
  },
  {
   "cell_type": "code",
   "execution_count": 82,
   "id": "79f6a0b9",
   "metadata": {},
   "outputs": [],
   "source": [
    "# Convert `winby` column into a category dtype\n",
    "ufc_df[\"Win_By\"] = ufc_df[\"Win_By\"].astype(\"category\")\n",
    "\n",
    "# Convert stances column into a category dtype\n",
    "ufc_df[\"R_Stance\"] = ufc_df[\"R_Stance\"].astype(\"category\")\n",
    "ufc_df[\"B_Stance\"] = ufc_df[\"B_Stance\"].astype(\"category\")\n",
    "\n",
    "# Convert Weight_Class column into a category dtype\n",
    "ufc_df[\"Weight_Class\"] = ufc_df[\"Weight_Class\"].astype(\"category\")\n",
    "\n",
    "# Convert Gender column into a category dtype\n",
    "ufc_df[\"Gender\"] = ufc_df[\"Gender\"].astype(\"category\")\n",
    "ufc_df[\"Gender\"] = ufc_df[\"Gender\"].cat.rename_categories({0: \"Female\", 1: \"Male\"})\n"
   ]
  },
  {
   "cell_type": "markdown",
   "id": "b64f3ff9",
   "metadata": {},
   "source": [
    "### View Features\n"
   ]
  },
  {
   "cell_type": "code",
   "execution_count": 83,
   "id": "2908e86b",
   "metadata": {},
   "outputs": [
    {
     "data": {
      "text/plain": [
       "['Weight_Class',\n",
       " 'Win_By',\n",
       " 'B_Stance',\n",
       " 'R_Stance',\n",
       " 'R_Age_Bucket',\n",
       " 'B_Age_Bucket',\n",
       " 'R_Height_Bucket',\n",
       " 'B_Height_Bucket',\n",
       " 'Gender']"
      ]
     },
     "execution_count": 83,
     "metadata": {},
     "output_type": "execute_result"
    }
   ],
   "source": [
    "# View category dtypes\n",
    "ufc_df.select_dtypes(include=[\"category\"]).columns.tolist()\n"
   ]
  },
  {
   "cell_type": "code",
   "execution_count": 84,
   "id": "a2692394",
   "metadata": {},
   "outputs": [
    {
     "data": {
      "text/plain": [
       "['Max_Rounds',\n",
       " 'Ending_Round',\n",
       " 'B_Age',\n",
       " 'B_Height',\n",
       " 'B_Weight',\n",
       " 'B_Wins',\n",
       " 'B_Losses',\n",
       " 'B_Career_Significant_Strikes_Landed_PM',\n",
       " 'B_Career_Striking_Accuracy',\n",
       " 'B_Career_Significant_Strike_Defence',\n",
       " 'B_Career_Takedown_Average',\n",
       " 'B_Career_Takedown_Accuracy',\n",
       " 'B_Career_Takedown_Defence',\n",
       " 'B_Career_Submission_Average',\n",
       " 'B_Knockdowns',\n",
       " 'B_Significant_Strikes_Landed',\n",
       " 'B_Significant_Strikes_Attempted',\n",
       " 'B_Significant_Strikes_Distance_Landed',\n",
       " 'B_Significant_Strikes_Distance_Attempted',\n",
       " 'B_Significant_Strikes_Clinch_Landed',\n",
       " 'B_Significant_Strikes_Clinch_Attempted',\n",
       " 'B_Significant_Strikes_Ground_Landed',\n",
       " 'B_Significant_Strikes_Ground_Attempted',\n",
       " 'B_Head_Significant_Strikes_Attempted',\n",
       " 'B_Head_Significant_Strikes_Landed',\n",
       " 'B_Body_Significant_Strikes_Attempted',\n",
       " 'B_Body_Significant_Strikes_Landed',\n",
       " 'B_Leg_Significant_Strikes_Attempted',\n",
       " 'B_Leg_Significant_Strikes_Landed',\n",
       " 'B_Total_Strikes_Attempted',\n",
       " 'B_Total_Strikes_Landed',\n",
       " 'B_Takedowns_Attempted',\n",
       " 'B_Takedowns_Landed',\n",
       " 'B_Submission_Attempts',\n",
       " 'B_Grappling_Reversals',\n",
       " 'B_Round_One_Knockdowns',\n",
       " 'B_Round_One_Significant_Strikes_Landed',\n",
       " 'B_Round_One_Significant_Strikes_Attempted',\n",
       " 'B_Round_One_Significant_Strikes_Distance_Landed',\n",
       " 'B_Round_One_Significant_Strikes_Distance_Attempted',\n",
       " 'B_Round_One_Significant_Strikes_Clinch_Landed',\n",
       " 'B_Round_One_Significant_Strikes_Clinch_Attempted',\n",
       " 'B_Round_One_Significant_Strikes_Ground_Landed',\n",
       " 'B_Round_One_Significant_Strikes_Ground_Attempted',\n",
       " 'B_Round_One_Head_Significant_Strikes_Attempted',\n",
       " 'B_Round_One_Head_Significant_Strikes_Landed',\n",
       " 'B_Round_One_Body_Significant_Strikes_Attempted',\n",
       " 'B_Round_One_Body_Significant_Strikes_Landed',\n",
       " 'B_Round_One_Leg_Significant_Strikes_Attempted',\n",
       " 'B_Round_One_Leg_Significant_Strikes_Landed',\n",
       " 'B_Round_One_Total_Strikes_Attempted',\n",
       " 'B_Round_One_Total_Strikes_Landed',\n",
       " 'B_Round_One_Takedowns_Attempted',\n",
       " 'B_Round_One_Takedowns_Landed',\n",
       " 'B_Round_One_Submission_Attempts',\n",
       " 'B_Round_One_Grappling_Reversals',\n",
       " 'B_Round_Two_Knockdowns',\n",
       " 'B_Round_Two_Significant_Strikes_Landed',\n",
       " 'B_Round_Two_Significant_Strikes_Attempted',\n",
       " 'B_Round_Two_Significant_Strikes_Distance_Landed',\n",
       " 'B_Round_Two_Significant_Strikes_Distance_Attempted',\n",
       " 'B_Round_Two_Significant_Strikes_Clinch_Landed',\n",
       " 'B_Round_Two_Significant_Strikes_Clinch_Attempted',\n",
       " 'B_Round_Two_Significant_Strikes_Ground_Landed',\n",
       " 'B_Round_Two_Significant_Strikes_Ground_Attempted',\n",
       " 'B_Round_Two_Head_Significant_Strikes_Attempted',\n",
       " 'B_Round_Two_Head_Significant_Strikes_Landed',\n",
       " 'B_Round_Two_Body_Significant_Strikes_Attempted',\n",
       " 'B_Round_Two_Body_Significant_Strikes_Landed',\n",
       " 'B_Round_Two_Leg_Significant_Strikes_Attempted',\n",
       " 'B_Round_Two_Leg_Significant_Strikes_Landed',\n",
       " 'B_Round_Two_Total_Strikes_Attempted',\n",
       " 'B_Round_Two_Total_Strikes_Landed',\n",
       " 'B_Round_Two_Takedowns_Attempted',\n",
       " 'B_Round_Two_Takedowns_Landed',\n",
       " 'B_Round_Two_Submission_Attempts',\n",
       " 'B_Round_Two_Grappling_Reversals',\n",
       " 'B_Round_Three_Knockdowns',\n",
       " 'B_Round_Three_Significant_Strikes_Landed',\n",
       " 'B_Round_Three_Significant_Strikes_Attempted',\n",
       " 'B_Round_Three_Significant_Strikes_Distance_Landed',\n",
       " 'B_Round_Three_Significant_Strikes_Distance_Attempted',\n",
       " 'B_Round_Three_Significant_Strikes_Clinch_Landed',\n",
       " 'B_Round_Three_Significant_Strikes_Clinch_Attempted',\n",
       " 'B_Round_Three_Significant_Strikes_Ground_Landed',\n",
       " 'B_Round_Three_Significant_Strikes_Ground_Attempted',\n",
       " 'B_Round_Three_Head_Significant_Strikes_Attempted',\n",
       " 'B_Round_Three_Head_Significant_Strikes_Landed',\n",
       " 'B_Round_Three_Body_Significant_Strikes_Attempted',\n",
       " 'B_Round_Three_Body_Significant_Strikes_Landed',\n",
       " 'B_Round_Three_Leg_Significant_Strikes_Attempted',\n",
       " 'B_Round_Three_Leg_Significant_Strikes_Landed',\n",
       " 'B_Round_Three_Total_Strikes_Attempted',\n",
       " 'B_Round_Three_Total_Strikes_Landed',\n",
       " 'B_Round_Three_Takedowns_Attempted',\n",
       " 'B_Round_Three_Takedowns_Landed',\n",
       " 'B_Round_Three_Submission_Attempts',\n",
       " 'B_Round_Three_Grappling_Reversals',\n",
       " 'B_Round_Four_Knockdowns',\n",
       " 'B_Round_Four_Significant_Strikes_Landed',\n",
       " 'B_Round_Four_Significant_Strikes_Attempted',\n",
       " 'B_Round_Four_Significant_Strikes_Distance_Landed',\n",
       " 'B_Round_Four_Significant_Strikes_Distance_Attempted',\n",
       " 'B_Round_Four_Significant_Strikes_Clinch_Landed',\n",
       " 'B_Round_Four_Significant_Strikes_Clinch_Attempted',\n",
       " 'B_Round_Four_Significant_Strikes_Ground_Landed',\n",
       " 'B_Round_Four_Significant_Strikes_Ground_Attempted',\n",
       " 'B_Round_Four_Head_Significant_Strikes_Attempted',\n",
       " 'B_Round_Four_Head_Significant_Strikes_Landed',\n",
       " 'B_Round_Four_Body_Significant_Strikes_Attempted',\n",
       " 'B_Round_Four_Body_Significant_Strikes_Landed',\n",
       " 'B_Round_Four_Leg_Significant_Strikes_Attempted',\n",
       " 'B_Round_Four_Leg_Significant_Strikes_Landed',\n",
       " 'B_Round_Four_Total_Strikes_Attempted',\n",
       " 'B_Round_Four_Total_Strikes_Landed',\n",
       " 'B_Round_Four_Takedowns_Attempted',\n",
       " 'B_Round_Four_Takedowns_Landed',\n",
       " 'B_Round_Four_Submission_Attempts',\n",
       " 'B_Round_Four_Grappling_Reversals',\n",
       " 'B_Round_Five_Knockdowns',\n",
       " 'B_Round_Five_Significant_Strikes_Landed',\n",
       " 'B_Round_Five_Significant_Strikes_Attempted',\n",
       " 'B_Round_Five_Significant_Strikes_Distance_Landed',\n",
       " 'B_Round_Five_Significant_Strikes_Distance_Attempted',\n",
       " 'B_Round_Five_Significant_Strikes_Clinch_Landed',\n",
       " 'B_Round_Five_Significant_Strikes_Clinch_Attempted',\n",
       " 'B_Round_Five_Significant_Strikes_Ground_Landed',\n",
       " 'B_Round_Five_Significant_Strikes_Ground_Attempted',\n",
       " 'B_Round_Five_Head_Significant_Strikes_Attempted',\n",
       " 'B_Round_Five_Head_Significant_Strikes_Landed',\n",
       " 'B_Round_Five_Body_Significant_Strikes_Attempted',\n",
       " 'B_Round_Five_Body_Significant_Strikes_Landed',\n",
       " 'B_Round_Five_Leg_Significant_Strikes_Attempted',\n",
       " 'B_Round_Five_Leg_Significant_Strikes_Landed',\n",
       " 'B_Round_Five_Total_Strikes_Attempted',\n",
       " 'B_Round_Five_Total_Strikes_Landed',\n",
       " 'B_Round_Five_Takedowns_Attempted',\n",
       " 'B_Round_Five_Takedowns_Landed',\n",
       " 'B_Round_Five_Submission_Attempts',\n",
       " 'B_Round_Five_Grappling_Reversals',\n",
       " 'R_Age',\n",
       " 'R_Height',\n",
       " 'R_Weight',\n",
       " 'R_Wins',\n",
       " 'R_Losses',\n",
       " 'R_Career_Significant_Strikes_Landed_PM',\n",
       " 'R_Career_Striking_Accuracy',\n",
       " 'R_Career_Significant_Strike_Defence',\n",
       " 'R_Career_Takedown_Average',\n",
       " 'R_Career_Takedown_Accuracy',\n",
       " 'R_Career_Takedown_Defence',\n",
       " 'R_Career_Submission_Average',\n",
       " 'R_Knockdowns',\n",
       " 'R_Significant_Strikes_Landed',\n",
       " 'R_Significant_Strikes_Attempted',\n",
       " 'R_Significant_Strikes_Distance_Landed',\n",
       " 'R_Significant_Strikes_Distance_Attempted',\n",
       " 'R_Significant_Strikes_Clinch_Landed',\n",
       " 'R_Significant_Strikes_Clinch_Attempted',\n",
       " 'R_Significant_Strikes_Ground_Landed',\n",
       " 'R_Significant_Strikes_Ground_Attempted',\n",
       " 'R_Head_Significant_Strikes_Attempted',\n",
       " 'R_Head_Significant_Strikes_Landed',\n",
       " 'R_Body_Significant_Strikes_Attempted',\n",
       " 'R_Body_Significant_Strikes_Landed',\n",
       " 'R_Leg_Significant_Strikes_Attempted',\n",
       " 'R_Leg_Significant_Strikes_Landed',\n",
       " 'R_Total_Strikes_Attempted',\n",
       " 'R_Total_Strikes_Landed',\n",
       " 'R_Takedowns_Attempted',\n",
       " 'R_Takedowns_Landed',\n",
       " 'R_Submission_Attempts',\n",
       " 'R_Grappling_Reversals',\n",
       " 'R_Round_One_Knockdowns',\n",
       " 'R_Round_One_Significant_Strikes_Landed',\n",
       " 'R_Round_One_Significant_Strikes_Attempted',\n",
       " 'R_Round_One_Significant_Strikes_Distance_Attempted',\n",
       " 'R_Round_One_Significant_Strikes_Distance_Landed',\n",
       " 'R_Round_One_Significant_Strikes_Clinch_Attempted',\n",
       " 'R_Round_One_Significant_Strikes_Clinch_Landed',\n",
       " 'R_Round_One_Significant_Strikes_Ground_Attempted',\n",
       " 'R_Round_One_Significant_Strikes_Ground_Landed',\n",
       " 'R_Round_One_Head_Significant_Strikes_Attempted',\n",
       " 'R_Round_One_Head_Significant_Strikes_Landed',\n",
       " 'R_Round_One_Body_Significant_Strikes_Attempted',\n",
       " 'R_Round_One_Body_Significant_Strikes_Landed',\n",
       " 'R_Round_One_Leg_Significant_Strikes_Attempted',\n",
       " 'R_Round_One_Leg_Significant_Strikes_Landed',\n",
       " 'R_Round_One_Total_Strikes_Attempted',\n",
       " 'R_Round_One_Total_Strikes_Landed',\n",
       " 'R_Round_One_Takedowns_Attempted',\n",
       " 'R_Round_One_Takedowns_Landed',\n",
       " 'R_Round_One_Submission_Attempts',\n",
       " 'R_Round_One_Grappling_Reversals',\n",
       " 'R_Round_Two_Knockdowns',\n",
       " 'R_Round_Two_Significant_Strikes_Landed',\n",
       " 'R_Round_Two_Significant_Strikes_Attempted',\n",
       " 'R_Round_Two_Significant_Strikes_Distance_Attempted',\n",
       " 'R_Round_Two_Significant_Strikes_Distance_Landed',\n",
       " 'R_Round_Two_Significant_Strikes_Clinch_Attempted',\n",
       " 'R_Round_Two_Significant_Strikes_Clinch_Landed',\n",
       " 'R_Round_Two_Significant_Strikes_Ground_Attempted',\n",
       " 'R_Round_Two_Significant_Strikes_Ground_Landed',\n",
       " 'R_Round_Two_Head_Significant_Strikes_Attempted',\n",
       " 'R_Round_Two_Head_Significant_Strikes_Landed',\n",
       " 'R_Round_Two_Body_Significant_Strikes_Attempted',\n",
       " 'R_Round_Two_Body_Significant_Strikes_Landed',\n",
       " 'R_Round_Two_Leg_Significant_Strikes_Attempted',\n",
       " 'R_Round_Two_Leg_Significant_Strikes_Landed',\n",
       " 'R_Round_Two_Total_Strikes_Attempted',\n",
       " 'R_Round_Two_Total_Strikes_Landed',\n",
       " 'R_Round_Two_Takedowns_Attempted',\n",
       " 'R_Round_Two_Takedowns_Landed',\n",
       " 'R_Round_Two_Submission_Attempts',\n",
       " 'R_Round_Two_Grappling_Reversals',\n",
       " 'R_Round_Three_Knockdowns',\n",
       " 'R_Round_Three_Significant_Strikes_Landed',\n",
       " 'R_Round_Three_Significant_Strikes_Attempted',\n",
       " 'R_Round_Three_Significant_Strikes_Distance_Attempted',\n",
       " 'R_Round_Three_Significant_Strikes_Distance_Landed',\n",
       " 'R_Round_Three_Significant_Strikes_Clinch_Attempted',\n",
       " 'R_Round_Three_Significant_Strikes_Clinch_Landed',\n",
       " 'R_Round_Three_Significant_Strikes_Ground_Attempted',\n",
       " 'R_Round_Three_Significant_Strikes_Ground_Landed',\n",
       " 'R_Round_Three_Head_Significant_Strikes_Attempted',\n",
       " 'R_Round_Three_Head_Significant_Strikes_Landed',\n",
       " 'R_Round_Three_Body_Significant_Strikes_Attempted',\n",
       " 'R_Round_Three_Body_Significant_Strikes_Landed',\n",
       " 'R_Round_Three_Leg_Significant_Strikes_Attempted',\n",
       " 'R_Round_Three_Leg_Significant_Strikes_Landed',\n",
       " 'R_Round_Three_Total_Strikes_Attempted',\n",
       " 'R_Round_Three_Total_Strikes_Landed',\n",
       " 'R_Round_Three_Takedowns_Attempted',\n",
       " 'R_Round_Three_Takedowns_Landed',\n",
       " 'R_Round_Three_Submission_Attempts',\n",
       " 'R_Round_Three_Grappling_Reversals',\n",
       " 'R_Round_Four_Knockdowns',\n",
       " 'R_Round_Four_Significant_Strikes_Landed',\n",
       " 'R_Round_Four_Significant_Strikes_Attempted',\n",
       " 'R_Round_Four_Significant_Strike_Perc',\n",
       " 'R_Round_Four_Significant_Strikes_Distance_Attempted',\n",
       " 'R_Round_Four_Significant_Strikes_Distance_Landed',\n",
       " 'R_Round_Four_Significant_Strikes_Clinch_Attempted',\n",
       " 'R_Round_Four_Significant_Strikes_Clinch_Landed',\n",
       " 'R_Round_Four_Significant_Strikes_Ground_Attempted',\n",
       " 'R_Round_Four_Significant_Strikes_Ground_Landed',\n",
       " 'R_Round_Four_Head_Significant_Strikes_Attempted',\n",
       " 'R_Round_Four_Head_Significant_Strikes_Landed',\n",
       " 'R_Round_Four_Body_Significant_Strikes_Attempted',\n",
       " 'R_Round_Four_Body_Significant_Strikes_Landed',\n",
       " 'R_Round_Four_Leg_Significant_Strikes_Attempted',\n",
       " 'R_Round_Four_Leg_Significant_Strikes_Landed',\n",
       " 'R_Round_Four_Total_Strikes_Attempted',\n",
       " 'R_Round_Four_Total_Strikes_Landed',\n",
       " 'R_Round_Four_Takedowns_Attempted',\n",
       " 'R_Round_Four_Takedowns_Landed',\n",
       " 'R_Round_Four_Submission_Attempts',\n",
       " 'R_Round_Four_Grappling_Reversals',\n",
       " 'R_Round_Five_Knockdowns',\n",
       " 'R_Round_Five_Significant_Strikes_Landed',\n",
       " 'R_Round_Five_Significant_Strikes_Attempted',\n",
       " 'R_Round_Five_Significant_Strikes_Distance_Attempted',\n",
       " 'R_Round_Five_Significant_Strikes_Distance_Landed',\n",
       " 'R_Round_Five_Significant_Strikes_Clinch_Attempted',\n",
       " 'R_Round_Five_Significant_Strikes_Clinch_Landed',\n",
       " 'R_Round_Five_Significant_Strikes_Ground_Attempted',\n",
       " 'R_Round_Five_Significant_Strikes_Ground_Landed',\n",
       " 'R_Round_Five_Head_Significant_Strikes_Attempted',\n",
       " 'R_Round_Five_Head_Significant_Strikes_Landed',\n",
       " 'R_Round_Five_Body_Significant_Strikes_Attempted',\n",
       " 'R_Round_Five_Body_Significant_Strikes_Landed',\n",
       " 'R_Round_Five_Leg_Significant_Strikes_Attempted',\n",
       " 'R_Round_Five_Leg_Significant_Strikes_Landed',\n",
       " 'R_Round_Five_Total_Strikes_Attempted',\n",
       " 'R_Round_Five_Total_Strikes_Landed',\n",
       " 'R_Round_Five_Takedowns_Attempted',\n",
       " 'R_Round_Five_Takedowns_Landed',\n",
       " 'R_Round_Five_Submission_Attempts',\n",
       " 'R_Round_Five_Grappling_Reversals',\n",
       " 'R_BMI',\n",
       " 'B_BMI',\n",
       " 'R_BMI_proposed',\n",
       " 'B_BMI_proposed',\n",
       " 'R_Body_Fat_Percentage',\n",
       " 'B_Body_Fat_Percentage',\n",
       " 'R_Lean_Body_Mass',\n",
       " 'B_Lean_Body_Mass']"
      ]
     },
     "execution_count": 84,
     "metadata": {},
     "output_type": "execute_result"
    }
   ],
   "source": [
    "# View numerical values\n",
    "ufc_df.select_dtypes(include=[\"number\"]).columns.tolist()\n"
   ]
  },
  {
   "cell_type": "code",
   "execution_count": 85,
   "id": "6f056937",
   "metadata": {},
   "outputs": [
    {
     "data": {
      "text/plain": [
       "['Winner',\n",
       " 'B_Name',\n",
       " 'B_Reach',\n",
       " 'B_Draws',\n",
       " 'B_No_Contest',\n",
       " 'B_Significant_Strike_Perc',\n",
       " 'B_Takedown_Perc',\n",
       " 'B_Grappling_Control_Time',\n",
       " 'B_Round_One_Significant_Strike_Perc',\n",
       " 'B_Round_One_Takedown_Perc',\n",
       " 'B_Round_One_Grappling_Control_Time',\n",
       " 'B_Round_Two_Significant_Strike_Perc',\n",
       " 'B_Round_Two_Takedown_Perc',\n",
       " 'B_Round_Two_Grappling_Control_Time',\n",
       " 'B_Round_Three_Significant_Strike_Perc',\n",
       " 'B_Round_Three_Takedown_Perc',\n",
       " 'B_Round_Three_Grappling_Control_Time',\n",
       " 'B_Round_Four_Takedown_Perc',\n",
       " 'B_Round_Four_Grappling_Control_Time',\n",
       " 'B_Round_Five_Takedown_Perc',\n",
       " 'B_Round_Five_Grappling_Control_Time',\n",
       " 'R_Name',\n",
       " 'R_Reach',\n",
       " 'R_Draws',\n",
       " 'R_No_Contest',\n",
       " 'R_Significant_Strike_Perc',\n",
       " 'R_Takedown_Perc',\n",
       " 'R_Grappling_Control_Time',\n",
       " 'R_Round_One_Significant_Strike_Perc',\n",
       " 'R_Round_One_Takedown_Perc',\n",
       " 'R_Round_One_Grappling_Control_Time',\n",
       " 'R_Round_Two_Significant_Strike_Perc',\n",
       " 'R_Round_Two_Takedown_Perc',\n",
       " 'R_Round_Two_Grappling_Control_Time',\n",
       " 'R_Round_Three_Significant_Strike_Perc',\n",
       " 'R_Round_Three_Takedown_Perc',\n",
       " 'R_Round_Three_Grappling_Control_Time',\n",
       " 'R_Round_Four_Takedown_Perc',\n",
       " 'R_Round_Four_Grappling_Control_Time',\n",
       " 'R_Round_Five_Takedown_Perc',\n",
       " 'R_Round_Five_Grappling_Control_Time']"
      ]
     },
     "metadata": {},
     "output_type": "display_data"
    },
    {
     "data": {
      "text/plain": [
       "['B_Round_Four_Significant_Strike_Perc',\n",
       " 'B_Round_Five_Significant_Strike_Perc',\n",
       " 'R_Round_Five_Significant_Strike_Perc']"
      ]
     },
     "metadata": {},
     "output_type": "display_data"
    }
   ],
   "source": [
    "# TODO: Evaluate why some of these columns are inferred as strings\n",
    "display(ufc_df.select_dtypes(include=[\"string\"]).columns.tolist())\n",
    "\n",
    "# TODO: Evaluate why some of these columns are inferred as object\n",
    "display(ufc_df.select_dtypes(include=[\"object\"]).columns.tolist())\n"
   ]
  },
  {
   "cell_type": "code",
   "execution_count": 86,
   "id": "c2a069d5",
   "metadata": {
    "pycharm": {
     "name": "#%%\n"
    }
   },
   "outputs": [],
   "source": [
    "# Converting blue corner values to the correct dtype (Categorical or numeric)\n",
    "ufc_df = ufc_df.astype(\n",
    "    {\n",
    "        \"B_Reach\": \"float\",\n",
    "        \"B_Name\": \"category\",\n",
    "        \"B_Significant_Strike_Perc\": \"float\",\n",
    "        \"B_Takedown_Perc\": \"float\",\n",
    "        \"B_Round_One_Significant_Strike_Perc\": \"float\",\n",
    "        \"B_Round_One_Takedown_Perc\": \"float\",\n",
    "        \"B_Round_Two_Significant_Strike_Perc\": \"float\",\n",
    "        \"B_Round_Two_Takedown_Perc\": \"float\",\n",
    "        \"B_Round_Three_Significant_Strike_Perc\": \"float\",\n",
    "        \"B_Round_Three_Takedown_Perc\": \"float\",\n",
    "        \"B_Round_Four_Takedown_Perc\": \"float\",\n",
    "        \"B_Round_Five_Takedown_Perc\": \"float\",\n",
    "        \"B_Round_Four_Significant_Strike_Perc\": \"float\",\n",
    "        \"B_Round_Five_Significant_Strike_Perc\": \"float\",\n",
    "        \"B_Draws\": \"float\",\n",
    "        \"B_No_Contest\": \"float\",\n",
    "    }\n",
    ")\n"
   ]
  },
  {
   "cell_type": "code",
   "execution_count": 87,
   "id": "e81dc163",
   "metadata": {
    "pycharm": {
     "name": "#%%\n"
    }
   },
   "outputs": [],
   "source": [
    "# Converting red corner values to the correct dtype (Categorical or numeric)\n",
    "ufc_df = ufc_df.astype(\n",
    "    {\n",
    "        \"R_Name\": \"category\",\n",
    "        \"R_Reach\": \"float\",\n",
    "        \"R_Significant_Strike_Perc\": \"float\",\n",
    "        \"R_Takedown_Perc\": \"float\",\n",
    "        \"R_Round_One_Significant_Strike_Perc\": \"float\",\n",
    "        \"R_Round_One_Takedown_Perc\": \"float\",\n",
    "        \"R_Round_Two_Significant_Strike_Perc\": \"float\",\n",
    "        \"R_Round_Two_Takedown_Perc\": \"float\",\n",
    "        \"R_Round_Three_Significant_Strike_Perc\": \"float\",\n",
    "        \"R_Round_Three_Takedown_Perc\": \"float\",\n",
    "        \"R_Round_Four_Takedown_Perc\": \"float\",\n",
    "        \"R_Round_Five_Takedown_Perc\": \"float\",\n",
    "        \"R_Round_Five_Significant_Strike_Perc\": \"float\",\n",
    "        \"R_Draws\": \"float\",\n",
    "        \"R_No_Contest\": \"float\",\n",
    "    }\n",
    ")\n"
   ]
  },
  {
   "cell_type": "code",
   "execution_count": 88,
   "id": "1278c8ee",
   "metadata": {
    "pycharm": {
     "name": "#%%\n"
    }
   },
   "outputs": [
    {
     "ename": "TypeError",
     "evalue": "can only insert Interval objects and NA into an IntervalArray",
     "output_type": "error",
     "traceback": [
      "\u001b[0;31m---------------------------------------------------------------------------\u001b[0m",
      "\u001b[0;31mTypeError\u001b[0m                                 Traceback (most recent call last)",
      "\u001b[0;32m/var/folders/mq/wg6dg8r9037_fwnm9jjlmff40000gn/T/ipykernel_7629/2798000571.py\u001b[0m in \u001b[0;36m<module>\u001b[0;34m\u001b[0m\n\u001b[0;32m----> 1\u001b[0;31m \u001b[0mufc_df\u001b[0m\u001b[0;34m.\u001b[0m\u001b[0mto_csv\u001b[0m\u001b[0;34m(\u001b[0m\u001b[0;34m\"Resources/clean_scraped_data.csv\"\u001b[0m\u001b[0;34m)\u001b[0m\u001b[0;34m\u001b[0m\u001b[0;34m\u001b[0m\u001b[0m\n\u001b[0m",
      "\u001b[0;32m/opt/anaconda3/lib/python3.8/site-packages/pandas/core/generic.py\u001b[0m in \u001b[0;36mto_csv\u001b[0;34m(self, path_or_buf, sep, na_rep, float_format, columns, header, index, index_label, mode, encoding, compression, quoting, quotechar, line_terminator, chunksize, date_format, doublequote, escapechar, decimal, errors, storage_options)\u001b[0m\n\u001b[1;32m   3561\u001b[0m         )\n\u001b[1;32m   3562\u001b[0m \u001b[0;34m\u001b[0m\u001b[0m\n\u001b[0;32m-> 3563\u001b[0;31m         return DataFrameRenderer(formatter).to_csv(\n\u001b[0m\u001b[1;32m   3564\u001b[0m             \u001b[0mpath_or_buf\u001b[0m\u001b[0;34m,\u001b[0m\u001b[0;34m\u001b[0m\u001b[0;34m\u001b[0m\u001b[0m\n\u001b[1;32m   3565\u001b[0m             \u001b[0mline_terminator\u001b[0m\u001b[0;34m=\u001b[0m\u001b[0mline_terminator\u001b[0m\u001b[0;34m,\u001b[0m\u001b[0;34m\u001b[0m\u001b[0;34m\u001b[0m\u001b[0m\n",
      "\u001b[0;32m/opt/anaconda3/lib/python3.8/site-packages/pandas/io/formats/format.py\u001b[0m in \u001b[0;36mto_csv\u001b[0;34m(self, path_or_buf, encoding, sep, columns, index_label, mode, compression, quoting, quotechar, line_terminator, chunksize, date_format, doublequote, escapechar, errors, storage_options)\u001b[0m\n\u001b[1;32m   1178\u001b[0m             \u001b[0mformatter\u001b[0m\u001b[0;34m=\u001b[0m\u001b[0mself\u001b[0m\u001b[0;34m.\u001b[0m\u001b[0mfmt\u001b[0m\u001b[0;34m,\u001b[0m\u001b[0;34m\u001b[0m\u001b[0;34m\u001b[0m\u001b[0m\n\u001b[1;32m   1179\u001b[0m         )\n\u001b[0;32m-> 1180\u001b[0;31m         \u001b[0mcsv_formatter\u001b[0m\u001b[0;34m.\u001b[0m\u001b[0msave\u001b[0m\u001b[0;34m(\u001b[0m\u001b[0;34m)\u001b[0m\u001b[0;34m\u001b[0m\u001b[0;34m\u001b[0m\u001b[0m\n\u001b[0m\u001b[1;32m   1181\u001b[0m \u001b[0;34m\u001b[0m\u001b[0m\n\u001b[1;32m   1182\u001b[0m         \u001b[0;32mif\u001b[0m \u001b[0mcreated_buffer\u001b[0m\u001b[0;34m:\u001b[0m\u001b[0;34m\u001b[0m\u001b[0;34m\u001b[0m\u001b[0m\n",
      "\u001b[0;32m/opt/anaconda3/lib/python3.8/site-packages/pandas/io/formats/csvs.py\u001b[0m in \u001b[0;36msave\u001b[0;34m(self)\u001b[0m\n\u001b[1;32m    259\u001b[0m             )\n\u001b[1;32m    260\u001b[0m \u001b[0;34m\u001b[0m\u001b[0m\n\u001b[0;32m--> 261\u001b[0;31m             \u001b[0mself\u001b[0m\u001b[0;34m.\u001b[0m\u001b[0m_save\u001b[0m\u001b[0;34m(\u001b[0m\u001b[0;34m)\u001b[0m\u001b[0;34m\u001b[0m\u001b[0;34m\u001b[0m\u001b[0m\n\u001b[0m\u001b[1;32m    262\u001b[0m \u001b[0;34m\u001b[0m\u001b[0m\n\u001b[1;32m    263\u001b[0m     \u001b[0;32mdef\u001b[0m \u001b[0m_save\u001b[0m\u001b[0;34m(\u001b[0m\u001b[0mself\u001b[0m\u001b[0;34m)\u001b[0m \u001b[0;34m->\u001b[0m \u001b[0;32mNone\u001b[0m\u001b[0;34m:\u001b[0m\u001b[0;34m\u001b[0m\u001b[0;34m\u001b[0m\u001b[0m\n",
      "\u001b[0;32m/opt/anaconda3/lib/python3.8/site-packages/pandas/io/formats/csvs.py\u001b[0m in \u001b[0;36m_save\u001b[0;34m(self)\u001b[0m\n\u001b[1;32m    264\u001b[0m         \u001b[0;32mif\u001b[0m \u001b[0mself\u001b[0m\u001b[0;34m.\u001b[0m\u001b[0m_need_to_save_header\u001b[0m\u001b[0;34m:\u001b[0m\u001b[0;34m\u001b[0m\u001b[0;34m\u001b[0m\u001b[0m\n\u001b[1;32m    265\u001b[0m             \u001b[0mself\u001b[0m\u001b[0;34m.\u001b[0m\u001b[0m_save_header\u001b[0m\u001b[0;34m(\u001b[0m\u001b[0;34m)\u001b[0m\u001b[0;34m\u001b[0m\u001b[0;34m\u001b[0m\u001b[0m\n\u001b[0;32m--> 266\u001b[0;31m         \u001b[0mself\u001b[0m\u001b[0;34m.\u001b[0m\u001b[0m_save_body\u001b[0m\u001b[0;34m(\u001b[0m\u001b[0;34m)\u001b[0m\u001b[0;34m\u001b[0m\u001b[0;34m\u001b[0m\u001b[0m\n\u001b[0m\u001b[1;32m    267\u001b[0m \u001b[0;34m\u001b[0m\u001b[0m\n\u001b[1;32m    268\u001b[0m     \u001b[0;32mdef\u001b[0m \u001b[0m_save_header\u001b[0m\u001b[0;34m(\u001b[0m\u001b[0mself\u001b[0m\u001b[0;34m)\u001b[0m \u001b[0;34m->\u001b[0m \u001b[0;32mNone\u001b[0m\u001b[0;34m:\u001b[0m\u001b[0;34m\u001b[0m\u001b[0;34m\u001b[0m\u001b[0m\n",
      "\u001b[0;32m/opt/anaconda3/lib/python3.8/site-packages/pandas/io/formats/csvs.py\u001b[0m in \u001b[0;36m_save_body\u001b[0;34m(self)\u001b[0m\n\u001b[1;32m    302\u001b[0m             \u001b[0;32mif\u001b[0m \u001b[0mstart_i\u001b[0m \u001b[0;34m>=\u001b[0m \u001b[0mend_i\u001b[0m\u001b[0;34m:\u001b[0m\u001b[0;34m\u001b[0m\u001b[0;34m\u001b[0m\u001b[0m\n\u001b[1;32m    303\u001b[0m                 \u001b[0;32mbreak\u001b[0m\u001b[0;34m\u001b[0m\u001b[0;34m\u001b[0m\u001b[0m\n\u001b[0;32m--> 304\u001b[0;31m             \u001b[0mself\u001b[0m\u001b[0;34m.\u001b[0m\u001b[0m_save_chunk\u001b[0m\u001b[0;34m(\u001b[0m\u001b[0mstart_i\u001b[0m\u001b[0;34m,\u001b[0m \u001b[0mend_i\u001b[0m\u001b[0;34m)\u001b[0m\u001b[0;34m\u001b[0m\u001b[0;34m\u001b[0m\u001b[0m\n\u001b[0m\u001b[1;32m    305\u001b[0m \u001b[0;34m\u001b[0m\u001b[0m\n\u001b[1;32m    306\u001b[0m     \u001b[0;32mdef\u001b[0m \u001b[0m_save_chunk\u001b[0m\u001b[0;34m(\u001b[0m\u001b[0mself\u001b[0m\u001b[0;34m,\u001b[0m \u001b[0mstart_i\u001b[0m\u001b[0;34m:\u001b[0m \u001b[0mint\u001b[0m\u001b[0;34m,\u001b[0m \u001b[0mend_i\u001b[0m\u001b[0;34m:\u001b[0m \u001b[0mint\u001b[0m\u001b[0;34m)\u001b[0m \u001b[0;34m->\u001b[0m \u001b[0;32mNone\u001b[0m\u001b[0;34m:\u001b[0m\u001b[0;34m\u001b[0m\u001b[0;34m\u001b[0m\u001b[0m\n",
      "\u001b[0;32m/opt/anaconda3/lib/python3.8/site-packages/pandas/io/formats/csvs.py\u001b[0m in \u001b[0;36m_save_chunk\u001b[0;34m(self, start_i, end_i)\u001b[0m\n\u001b[1;32m    309\u001b[0m         \u001b[0mdf\u001b[0m \u001b[0;34m=\u001b[0m \u001b[0mself\u001b[0m\u001b[0;34m.\u001b[0m\u001b[0mobj\u001b[0m\u001b[0;34m.\u001b[0m\u001b[0miloc\u001b[0m\u001b[0;34m[\u001b[0m\u001b[0mslicer\u001b[0m\u001b[0;34m]\u001b[0m\u001b[0;34m\u001b[0m\u001b[0;34m\u001b[0m\u001b[0m\n\u001b[1;32m    310\u001b[0m \u001b[0;34m\u001b[0m\u001b[0m\n\u001b[0;32m--> 311\u001b[0;31m         \u001b[0mres\u001b[0m \u001b[0;34m=\u001b[0m \u001b[0mdf\u001b[0m\u001b[0;34m.\u001b[0m\u001b[0m_mgr\u001b[0m\u001b[0;34m.\u001b[0m\u001b[0mto_native_types\u001b[0m\u001b[0;34m(\u001b[0m\u001b[0;34m**\u001b[0m\u001b[0mself\u001b[0m\u001b[0;34m.\u001b[0m\u001b[0m_number_format\u001b[0m\u001b[0;34m)\u001b[0m\u001b[0;34m\u001b[0m\u001b[0;34m\u001b[0m\u001b[0m\n\u001b[0m\u001b[1;32m    312\u001b[0m         \u001b[0mdata\u001b[0m \u001b[0;34m=\u001b[0m \u001b[0;34m[\u001b[0m\u001b[0mres\u001b[0m\u001b[0;34m.\u001b[0m\u001b[0miget_values\u001b[0m\u001b[0;34m(\u001b[0m\u001b[0mi\u001b[0m\u001b[0;34m)\u001b[0m \u001b[0;32mfor\u001b[0m \u001b[0mi\u001b[0m \u001b[0;32min\u001b[0m \u001b[0mrange\u001b[0m\u001b[0;34m(\u001b[0m\u001b[0mlen\u001b[0m\u001b[0;34m(\u001b[0m\u001b[0mres\u001b[0m\u001b[0;34m.\u001b[0m\u001b[0mitems\u001b[0m\u001b[0;34m)\u001b[0m\u001b[0;34m)\u001b[0m\u001b[0;34m]\u001b[0m\u001b[0;34m\u001b[0m\u001b[0;34m\u001b[0m\u001b[0m\n\u001b[1;32m    313\u001b[0m \u001b[0;34m\u001b[0m\u001b[0m\n",
      "\u001b[0;32m/opt/anaconda3/lib/python3.8/site-packages/pandas/core/internals/managers.py\u001b[0m in \u001b[0;36mto_native_types\u001b[0;34m(self, **kwargs)\u001b[0m\n\u001b[1;32m    471\u001b[0m         \u001b[0;32min\u001b[0m \u001b[0mformatting\u001b[0m \u001b[0;34m(\u001b[0m\u001b[0mrepr\u001b[0m \u001b[0;34m/\u001b[0m \u001b[0mcsv\u001b[0m\u001b[0;34m)\u001b[0m\u001b[0;34m.\u001b[0m\u001b[0;34m\u001b[0m\u001b[0;34m\u001b[0m\u001b[0m\n\u001b[1;32m    472\u001b[0m         \"\"\"\n\u001b[0;32m--> 473\u001b[0;31m         \u001b[0;32mreturn\u001b[0m \u001b[0mself\u001b[0m\u001b[0;34m.\u001b[0m\u001b[0mapply\u001b[0m\u001b[0;34m(\u001b[0m\u001b[0;34m\"to_native_types\"\u001b[0m\u001b[0;34m,\u001b[0m \u001b[0;34m**\u001b[0m\u001b[0mkwargs\u001b[0m\u001b[0;34m)\u001b[0m\u001b[0;34m\u001b[0m\u001b[0;34m\u001b[0m\u001b[0m\n\u001b[0m\u001b[1;32m    474\u001b[0m \u001b[0;34m\u001b[0m\u001b[0m\n\u001b[1;32m    475\u001b[0m     \u001b[0;34m@\u001b[0m\u001b[0mproperty\u001b[0m\u001b[0;34m\u001b[0m\u001b[0;34m\u001b[0m\u001b[0m\n",
      "\u001b[0;32m/opt/anaconda3/lib/python3.8/site-packages/pandas/core/internals/managers.py\u001b[0m in \u001b[0;36mapply\u001b[0;34m(self, f, align_keys, ignore_failures, **kwargs)\u001b[0m\n\u001b[1;32m    302\u001b[0m                     \u001b[0mapplied\u001b[0m \u001b[0;34m=\u001b[0m \u001b[0mb\u001b[0m\u001b[0;34m.\u001b[0m\u001b[0mapply\u001b[0m\u001b[0;34m(\u001b[0m\u001b[0mf\u001b[0m\u001b[0;34m,\u001b[0m \u001b[0;34m**\u001b[0m\u001b[0mkwargs\u001b[0m\u001b[0;34m)\u001b[0m\u001b[0;34m\u001b[0m\u001b[0;34m\u001b[0m\u001b[0m\n\u001b[1;32m    303\u001b[0m                 \u001b[0;32melse\u001b[0m\u001b[0;34m:\u001b[0m\u001b[0;34m\u001b[0m\u001b[0;34m\u001b[0m\u001b[0m\n\u001b[0;32m--> 304\u001b[0;31m                     \u001b[0mapplied\u001b[0m \u001b[0;34m=\u001b[0m \u001b[0mgetattr\u001b[0m\u001b[0;34m(\u001b[0m\u001b[0mb\u001b[0m\u001b[0;34m,\u001b[0m \u001b[0mf\u001b[0m\u001b[0;34m)\u001b[0m\u001b[0;34m(\u001b[0m\u001b[0;34m**\u001b[0m\u001b[0mkwargs\u001b[0m\u001b[0;34m)\u001b[0m\u001b[0;34m\u001b[0m\u001b[0;34m\u001b[0m\u001b[0m\n\u001b[0m\u001b[1;32m    305\u001b[0m             \u001b[0;32mexcept\u001b[0m \u001b[0;34m(\u001b[0m\u001b[0mTypeError\u001b[0m\u001b[0;34m,\u001b[0m \u001b[0mNotImplementedError\u001b[0m\u001b[0;34m)\u001b[0m\u001b[0;34m:\u001b[0m\u001b[0;34m\u001b[0m\u001b[0;34m\u001b[0m\u001b[0m\n\u001b[1;32m    306\u001b[0m                 \u001b[0;32mif\u001b[0m \u001b[0;32mnot\u001b[0m \u001b[0mignore_failures\u001b[0m\u001b[0;34m:\u001b[0m\u001b[0;34m\u001b[0m\u001b[0;34m\u001b[0m\u001b[0m\n",
      "\u001b[0;32m/opt/anaconda3/lib/python3.8/site-packages/pandas/core/internals/blocks.py\u001b[0m in \u001b[0;36mto_native_types\u001b[0;34m(self, na_rep, quoting, **kwargs)\u001b[0m\n\u001b[1;32m    632\u001b[0m     \u001b[0;32mdef\u001b[0m \u001b[0mto_native_types\u001b[0m\u001b[0;34m(\u001b[0m\u001b[0mself\u001b[0m\u001b[0;34m,\u001b[0m \u001b[0mna_rep\u001b[0m\u001b[0;34m=\u001b[0m\u001b[0;34m\"nan\"\u001b[0m\u001b[0;34m,\u001b[0m \u001b[0mquoting\u001b[0m\u001b[0;34m=\u001b[0m\u001b[0;32mNone\u001b[0m\u001b[0;34m,\u001b[0m \u001b[0;34m**\u001b[0m\u001b[0mkwargs\u001b[0m\u001b[0;34m)\u001b[0m\u001b[0;34m:\u001b[0m\u001b[0;34m\u001b[0m\u001b[0;34m\u001b[0m\u001b[0m\n\u001b[1;32m    633\u001b[0m         \u001b[0;34m\"\"\"convert to our native types format\"\"\"\u001b[0m\u001b[0;34m\u001b[0m\u001b[0;34m\u001b[0m\u001b[0m\n\u001b[0;32m--> 634\u001b[0;31m         \u001b[0mresult\u001b[0m \u001b[0;34m=\u001b[0m \u001b[0mto_native_types\u001b[0m\u001b[0;34m(\u001b[0m\u001b[0mself\u001b[0m\u001b[0;34m.\u001b[0m\u001b[0mvalues\u001b[0m\u001b[0;34m,\u001b[0m \u001b[0mna_rep\u001b[0m\u001b[0;34m=\u001b[0m\u001b[0mna_rep\u001b[0m\u001b[0;34m,\u001b[0m \u001b[0mquoting\u001b[0m\u001b[0;34m=\u001b[0m\u001b[0mquoting\u001b[0m\u001b[0;34m,\u001b[0m \u001b[0;34m**\u001b[0m\u001b[0mkwargs\u001b[0m\u001b[0;34m)\u001b[0m\u001b[0;34m\u001b[0m\u001b[0;34m\u001b[0m\u001b[0m\n\u001b[0m\u001b[1;32m    635\u001b[0m         \u001b[0;32mreturn\u001b[0m \u001b[0mself\u001b[0m\u001b[0;34m.\u001b[0m\u001b[0mmake_block\u001b[0m\u001b[0;34m(\u001b[0m\u001b[0mresult\u001b[0m\u001b[0;34m)\u001b[0m\u001b[0;34m\u001b[0m\u001b[0;34m\u001b[0m\u001b[0m\n\u001b[1;32m    636\u001b[0m \u001b[0;34m\u001b[0m\u001b[0m\n",
      "\u001b[0;32m/opt/anaconda3/lib/python3.8/site-packages/pandas/core/internals/blocks.py\u001b[0m in \u001b[0;36mto_native_types\u001b[0;34m(values, na_rep, quoting, float_format, decimal, **kwargs)\u001b[0m\n\u001b[1;32m   2145\u001b[0m     \u001b[0;32mif\u001b[0m \u001b[0misinstance\u001b[0m\u001b[0;34m(\u001b[0m\u001b[0mvalues\u001b[0m\u001b[0;34m,\u001b[0m \u001b[0mCategorical\u001b[0m\u001b[0;34m)\u001b[0m\u001b[0;34m:\u001b[0m\u001b[0;34m\u001b[0m\u001b[0;34m\u001b[0m\u001b[0m\n\u001b[1;32m   2146\u001b[0m         \u001b[0;31m# GH#40754 Convert categorical datetimes to datetime array\u001b[0m\u001b[0;34m\u001b[0m\u001b[0;34m\u001b[0m\u001b[0;34m\u001b[0m\u001b[0m\n\u001b[0;32m-> 2147\u001b[0;31m         values = take_nd(\n\u001b[0m\u001b[1;32m   2148\u001b[0m             \u001b[0mvalues\u001b[0m\u001b[0;34m.\u001b[0m\u001b[0mcategories\u001b[0m\u001b[0;34m.\u001b[0m\u001b[0m_values\u001b[0m\u001b[0;34m,\u001b[0m\u001b[0;34m\u001b[0m\u001b[0;34m\u001b[0m\u001b[0m\n\u001b[1;32m   2149\u001b[0m             \u001b[0mensure_platform_int\u001b[0m\u001b[0;34m(\u001b[0m\u001b[0mvalues\u001b[0m\u001b[0;34m.\u001b[0m\u001b[0m_codes\u001b[0m\u001b[0;34m)\u001b[0m\u001b[0;34m,\u001b[0m\u001b[0;34m\u001b[0m\u001b[0;34m\u001b[0m\u001b[0m\n",
      "\u001b[0;32m/opt/anaconda3/lib/python3.8/site-packages/pandas/core/array_algos/take.py\u001b[0m in \u001b[0;36mtake_nd\u001b[0;34m(arr, indexer, axis, fill_value, allow_fill)\u001b[0m\n\u001b[1;32m    112\u001b[0m             )\n\u001b[1;32m    113\u001b[0m \u001b[0;34m\u001b[0m\u001b[0m\n\u001b[0;32m--> 114\u001b[0;31m         \u001b[0;32mreturn\u001b[0m \u001b[0marr\u001b[0m\u001b[0;34m.\u001b[0m\u001b[0mtake\u001b[0m\u001b[0;34m(\u001b[0m\u001b[0mindexer\u001b[0m\u001b[0;34m,\u001b[0m \u001b[0mfill_value\u001b[0m\u001b[0;34m=\u001b[0m\u001b[0mfill_value\u001b[0m\u001b[0;34m,\u001b[0m \u001b[0mallow_fill\u001b[0m\u001b[0;34m=\u001b[0m\u001b[0mallow_fill\u001b[0m\u001b[0;34m)\u001b[0m\u001b[0;34m\u001b[0m\u001b[0;34m\u001b[0m\u001b[0m\n\u001b[0m\u001b[1;32m    115\u001b[0m \u001b[0;34m\u001b[0m\u001b[0m\n\u001b[1;32m    116\u001b[0m     \u001b[0marr\u001b[0m \u001b[0;34m=\u001b[0m \u001b[0mnp\u001b[0m\u001b[0;34m.\u001b[0m\u001b[0masarray\u001b[0m\u001b[0;34m(\u001b[0m\u001b[0marr\u001b[0m\u001b[0;34m)\u001b[0m\u001b[0;34m\u001b[0m\u001b[0;34m\u001b[0m\u001b[0m\n",
      "\u001b[0;32m/opt/anaconda3/lib/python3.8/site-packages/pandas/core/arrays/interval.py\u001b[0m in \u001b[0;36mtake\u001b[0;34m(self, indices, allow_fill, fill_value, axis, **kwargs)\u001b[0m\n\u001b[1;32m   1058\u001b[0m         \u001b[0mfill_left\u001b[0m \u001b[0;34m=\u001b[0m \u001b[0mfill_right\u001b[0m \u001b[0;34m=\u001b[0m \u001b[0mfill_value\u001b[0m\u001b[0;34m\u001b[0m\u001b[0;34m\u001b[0m\u001b[0m\n\u001b[1;32m   1059\u001b[0m         \u001b[0;32mif\u001b[0m \u001b[0mallow_fill\u001b[0m\u001b[0;34m:\u001b[0m\u001b[0;34m\u001b[0m\u001b[0;34m\u001b[0m\u001b[0m\n\u001b[0;32m-> 1060\u001b[0;31m             \u001b[0mfill_left\u001b[0m\u001b[0;34m,\u001b[0m \u001b[0mfill_right\u001b[0m \u001b[0;34m=\u001b[0m \u001b[0mself\u001b[0m\u001b[0;34m.\u001b[0m\u001b[0m_validate_scalar\u001b[0m\u001b[0;34m(\u001b[0m\u001b[0mfill_value\u001b[0m\u001b[0;34m)\u001b[0m\u001b[0;34m\u001b[0m\u001b[0;34m\u001b[0m\u001b[0m\n\u001b[0m\u001b[1;32m   1061\u001b[0m \u001b[0;34m\u001b[0m\u001b[0m\n\u001b[1;32m   1062\u001b[0m         left_take = take(\n",
      "\u001b[0;32m/opt/anaconda3/lib/python3.8/site-packages/pandas/core/arrays/interval.py\u001b[0m in \u001b[0;36m_validate_scalar\u001b[0;34m(self, value)\u001b[0m\n\u001b[1;32m   1100\u001b[0m             \u001b[0mleft\u001b[0m \u001b[0;34m=\u001b[0m \u001b[0mright\u001b[0m \u001b[0;34m=\u001b[0m \u001b[0mvalue\u001b[0m\u001b[0;34m\u001b[0m\u001b[0;34m\u001b[0m\u001b[0m\n\u001b[1;32m   1101\u001b[0m         \u001b[0;32melse\u001b[0m\u001b[0;34m:\u001b[0m\u001b[0;34m\u001b[0m\u001b[0;34m\u001b[0m\u001b[0m\n\u001b[0;32m-> 1102\u001b[0;31m             raise TypeError(\n\u001b[0m\u001b[1;32m   1103\u001b[0m                 \u001b[0;34m\"can only insert Interval objects and NA into an IntervalArray\"\u001b[0m\u001b[0;34m\u001b[0m\u001b[0;34m\u001b[0m\u001b[0m\n\u001b[1;32m   1104\u001b[0m             )\n",
      "\u001b[0;31mTypeError\u001b[0m: can only insert Interval objects and NA into an IntervalArray"
     ]
    }
   ],
   "source": [
    "ufc_df.to_csv(\"Resources/clean_scraped_data.csv\")"
   ]
  },
  {
   "cell_type": "markdown",
   "id": "ba643290",
   "metadata": {},
   "source": [
    "### Select Features\n"
   ]
  },
  {
   "cell_type": "code",
   "execution_count": null,
   "id": "85274821",
   "metadata": {},
   "outputs": [],
   "source": [
    "numerical_cols = [\n",
    "    \"Max_Rounds\",\n",
    "    \"Ending_Round\",\n",
    "    \"B_Age\",\n",
    "    \"R_Age\",\n",
    "    \"B_Reach\",\n",
    "    \"R_Reach\",\n",
    "    \"B_Height\",\n",
    "    \"R_Height\",\n",
    "    \"B_Weight\",\n",
    "    \"R_Weight\",\n",
    "    \"R_BMI\",\n",
    "    \"B_BMI\",\n",
    "    # \"R_BMI_proposed\",\n",
    "    # \"B_BMI_proposed\",\n",
    "    \"R_Body_Fat_Percentage\",\n",
    "    \"B_Body_Fat_Percentage\",\n",
    "    \"R_Lean_Body_Mass\",\n",
    "    \"B_Lean_Body_Mass\",\n",
    "    \"B_Career_Significant_Strikes_Landed_PM\",\n",
    "    \"R_Career_Significant_Strikes_Landed_PM\",\n",
    "    \"R_Career_Striking_Accuracy\",\n",
    "    \"R_Career_Significant_Strike_Defence\",\n",
    "    \"R_Career_Takedown_Average\",\n",
    "    \"R_Career_Takedown_Accuracy\",\n",
    "    \"R_Career_Takedown_Defence\",\n",
    "    \"R_Career_Submission_Average\",\n",
    "    \"B_Career_Striking_Accuracy\",\n",
    "    \"B_Career_Significant_Strike_Defence\",\n",
    "    \"B_Career_Takedown_Average\",\n",
    "    \"B_Career_Takedown_Accuracy\",\n",
    "    \"B_Career_Takedown_Defence\",\n",
    "    \"B_Career_Submission_Average\",\n",
    "]\n",
    "categorical_cols = [\"Win_By\", \"B_Stance\", \"R_Stance\", \"Weight_Class\", \"Gender\"]\n",
    "\n",
    "# numerical_cols = selector(dtype_include=\"number\")\n",
    "# categorical_cols = selector(dtype_include=\"category\")\n",
    "\n",
    "target = \"Winner\"\n"
   ]
  },
  {
   "cell_type": "markdown",
   "id": "64bb0159",
   "metadata": {},
   "source": [
    "## Split Train-Test\n"
   ]
  },
  {
   "cell_type": "code",
   "execution_count": null,
   "id": "ed187a1d",
   "metadata": {},
   "outputs": [],
   "source": [
    "X = ufc_df.drop(target, axis=1)\n",
    "y = ufc_df[target]\n",
    "\n",
    "X_train, X_test, y_train, y_test = train_test_split(X, y, test_size=0.2, random_state=1)\n"
   ]
  },
  {
   "cell_type": "markdown",
   "id": "841f3b01",
   "metadata": {},
   "source": [
    "## Machine Learning Model\n"
   ]
  },
  {
   "cell_type": "markdown",
   "id": "d0c13209",
   "metadata": {},
   "source": [
    "### Logistic Regression Pipeline\n"
   ]
  },
  {
   "cell_type": "code",
   "execution_count": null,
   "id": "df604031",
   "metadata": {},
   "outputs": [],
   "source": [
    "# Imputation transformer to replace missing values using null values along each column.\n",
    "# Standardize features by removing the mean and scaling to unit variance with `StandardScalar()`.\n",
    "numeric_transformer = Pipeline(\n",
    "    steps=[\n",
    "        (\"imputer\", SimpleImputer(strategy=\"constant\", add_indicator=True)),\n",
    "        (\"scaler\", StandardScaler()),\n",
    "    ]\n",
    ")\n",
    "\n",
    "# categorical_transformer = OneHotEncoder(handle_unknown=\"ignore\")\n",
    "categorical_transformer = Pipeline(\n",
    "    steps=[\n",
    "        (\"onehot\", OneHotEncoder(handle_unknown=\"ignore\")),\n",
    "    ]\n",
    ")\n",
    "\n",
    "\n",
    "preprocessor = ColumnTransformer(\n",
    "    transformers=[\n",
    "        (\"num\", numeric_transformer, numerical_cols),\n",
    "        (\"cat\", categorical_transformer, categorical_cols),\n",
    "    ]\n",
    ")\n",
    "\n",
    "# Append classifier to preprocessing pipeline.\n",
    "# Now we have a full prediction pipeline.\n",
    "clf = Pipeline(\n",
    "    steps=[\n",
    "        (\"preprocessor\", preprocessor),\n",
    "        (\"classifier\", LogisticRegression(max_iter=500)),\n",
    "    ]\n",
    ")\n",
    "\n",
    "\n",
    "clf.fit(X_train, y_train)\n",
    "print(\"model score: %.3f\" % clf.score(X_test, y_test))\n"
   ]
  },
  {
   "cell_type": "markdown",
   "id": "e5115714",
   "metadata": {},
   "source": [
    "### Display Diagram of Pipeline\n"
   ]
  },
  {
   "cell_type": "code",
   "execution_count": null,
   "id": "00ddddfd",
   "metadata": {},
   "outputs": [],
   "source": [
    "set_config(display=\"diagram\")\n",
    "clf\n"
   ]
  },
  {
   "cell_type": "markdown",
   "id": "558f902c",
   "metadata": {},
   "source": [
    "### Classification Report\n"
   ]
  },
  {
   "cell_type": "code",
   "execution_count": null,
   "id": "ac143585",
   "metadata": {},
   "outputs": [],
   "source": [
    "y_pred = clf.predict(X_test)\n",
    "print(classification_report(y_test, y_pred))\n"
   ]
  },
  {
   "cell_type": "markdown",
   "id": "a6d72481",
   "metadata": {},
   "source": [
    "### Confusion Matrix\n"
   ]
  },
  {
   "cell_type": "code",
   "execution_count": null,
   "id": "193aae49",
   "metadata": {},
   "outputs": [],
   "source": [
    "disp = ConfusionMatrixDisplay.from_predictions(\n",
    "    y_test, y_pred, cmap=\"Blues\", values_format=\"d\"\n",
    ")\n",
    "plt.show()\n"
   ]
  },
  {
   "cell_type": "markdown",
   "id": "6f5a5e75",
   "metadata": {},
   "source": [
    "### Model Persistence\n"
   ]
  },
  {
   "cell_type": "code",
   "execution_count": null,
   "id": "0aaa082e",
   "metadata": {},
   "outputs": [],
   "source": [
    "# from joblib import dump, load\n",
    "\n",
    "# dump(clf, \"clf.joblib\")\n",
    "\n",
    "# !!! WARNING: DO NOT LOAD RANDOM OBJECTS !!!\n",
    "# clf = load(\"clf.joblib\")\n",
    "\n",
    "# # Prediction based on saved pipeline.\n",
    "# selection = X.iloc[[5]]\n",
    "# clf.predict(selection)\n"
   ]
  },
  {
   "cell_type": "markdown",
   "id": "e2ccbc2b",
   "metadata": {},
   "source": [
    "## Export Dataset\n"
   ]
  },
  {
   "cell_type": "code",
   "execution_count": null,
   "id": "ed615f9a",
   "metadata": {},
   "outputs": [],
   "source": [
    "# Export dataset to CSV\n",
    "ufc_df.to_csv(\"Resources/new_data.csv\", index=False)\n"
   ]
  }
 ],
 "metadata": {
  "interpreter": {
   "hash": "6d13ba43a92555a83a91537475403bd0fdb075d2524ba3a00b200fd1cb72e7c9"
  },
  "kernelspec": {
   "display_name": "Python 3 (ipykernel)",
   "language": "python",
   "name": "python3"
  },
  "language_info": {
   "codemirror_mode": {
    "name": "ipython",
    "version": 3
   },
   "file_extension": ".py",
   "mimetype": "text/x-python",
   "name": "python",
   "nbconvert_exporter": "python",
   "pygments_lexer": "ipython3",
   "version": "3.8.8"
  }
 },
 "nbformat": 4,
 "nbformat_minor": 5
}
