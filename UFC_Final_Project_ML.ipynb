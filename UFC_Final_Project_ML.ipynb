{
 "cells": [
  {
   "cell_type": "markdown",
   "id": "757fdbd2",
   "metadata": {},
   "source": [
    "## UFC Fight Model"
   ]
  },
  {
   "cell_type": "code",
   "execution_count": null,
   "id": "339731aa",
   "metadata": {},
   "outputs": [],
   "source": [
    "# Run this to make sure your versions are the same as below.\n",
    "import sys; print(\"Python\", sys.version)\n",
    "import numpy; print(\"NumPy\", numpy.__version__)\n",
    "import scipy; print(\"SciPy\", scipy.__version__)\n",
    "import sklearn; print(\"SciKit\", sklearn.__version__)\n",
    "import xgboost; print(\"XGBoost\", xgboost.__version__)"
   ]
  },
  {
   "cell_type": "markdown",
   "id": "a9904aeb",
   "metadata": {},
   "source": [
    "Python 3.7.11 (default, Jul 27 2021, 09:42:29) [MSC v.1916 64 bit (AMD64)]\n",
    "NumPy 1.20.3\n",
    "SciPy 1.7.3\n",
    "SciKit 1.0.2\n",
    "XGBoost 1.5.1"
   ]
  },
  {
   "cell_type": "code",
   "execution_count": null,
   "id": "2b4fae9e",
   "metadata": {},
   "outputs": [],
   "source": [
    "# Import dependencies\n",
    "import pandas as pd\n",
    "import matplotlib.pyplot as plt\n",
    "import os\n",
    "import numpy as np\n",
    "from sklearn.model_selection import train_test_split\n",
    "from sklearn.compose import ColumnTransformer\n",
    "from sklearn.pipeline import Pipeline\n",
    "from sklearn.impute import SimpleImputer\n",
    "from sklearn.preprocessing import StandardScaler, OneHotEncoder\n",
    "from sklearn.compose import make_column_selector as selector\n",
    "from sklearn import set_config\n",
    "from sklearn.metrics import accuracy_score\n",
    "from sklearn.metrics import classification_report\n",
    "from sklearn.metrics import ConfusionMatrixDisplay\n",
    "from sklearn.ensemble import GradientBoostingClassifier, RandomForestClassifier, VotingClassifier\n",
    "from sklearn.neural_network import MLPClassifier\n",
    "from sklearn.svm import SVC\n",
    "from xgboost import XGBClassifier\n",
    "from sklearn.model_selection import GridSearchCV\n"
   ]
  },
  {
   "cell_type": "code",
   "execution_count": null,
   "id": "1faf8e79",
   "metadata": {
    "scrolled": true
   },
   "outputs": [],
   "source": [
    "# Do not uncomment to prevent dtypes from changing. Read in the CSV file (data.csv) as a DataFrame\n",
    "# ufc_df = pd.read_csv(\"Resources/clean_scraped_data.csv\", low_memory=False, index_col=0)\n",
    "# ufc_df\n",
    "\n",
    "# Load cleaned dataset. Do not upload file to repo. \n",
    "from joblib import load\n",
    "ufc_df = load(\"Resources/clean_scraped_data.joblib\")\n",
    "ufc_df"
   ]
  },
  {
   "cell_type": "markdown",
   "id": "19362973",
   "metadata": {},
   "source": [
    "## Select Features"
   ]
  },
  {
   "cell_type": "code",
   "execution_count": null,
   "id": "85274821",
   "metadata": {},
   "outputs": [],
   "source": [
    "numerical_cols = selector(dtype_include=\"number\")\n",
    "categorical_cols = selector(dtype_include=\"category\")"
   ]
  },
  {
   "cell_type": "markdown",
   "id": "64bb0159",
   "metadata": {},
   "source": [
    "## Split Train-Test\n"
   ]
  },
  {
   "cell_type": "code",
   "execution_count": null,
   "id": "ed187a1d",
   "metadata": {},
   "outputs": [],
   "source": [
    "X = ufc_df.drop(\"Winner\", axis=1)\n",
    "y = ufc_df[\"Winner\"]\n",
    "\n",
    "X_train, X_test, y_train, y_test = train_test_split(X, y, test_size=0.2, random_state=1)\n"
   ]
  },
  {
   "cell_type": "markdown",
   "id": "a360396e",
   "metadata": {},
   "source": [
    "## VotingClassifier Pipeline"
   ]
  },
  {
   "cell_type": "markdown",
   "id": "74210c07",
   "metadata": {},
   "source": [
    "### Soft voting"
   ]
  },
  {
   "cell_type": "code",
   "execution_count": null,
   "id": "2a5b7c75",
   "metadata": {},
   "outputs": [],
   "source": [
    "# Imputation transformer to replace missing values using null values along each column.\n",
    "# Standardize features by removing the mean and scaling to unit variance with `StandardScalar()`.\n",
    "numeric_transformer = Pipeline(\n",
    "    steps=[\n",
    "        (\"imputer\", SimpleImputer(strategy=\"constant\", add_indicator=True)),\n",
    "        (\"scaler\", StandardScaler()),\n",
    "    ]\n",
    ")\n",
    "\n",
    "# categorical_transformer = OneHotEncoder(handle_unknown=\"ignore\")\n",
    "categorical_transformer = Pipeline(\n",
    "    steps=[\n",
    "        (\"onehot\", OneHotEncoder(handle_unknown=\"ignore\")),\n",
    "    ]\n",
    ")\n",
    "\n",
    "\n",
    "preprocessor = ColumnTransformer(\n",
    "    transformers=[\n",
    "        (\"num\", numeric_transformer, numerical_cols),\n",
    "        (\"cat\", categorical_transformer, categorical_cols),\n",
    "    ]\n",
    ")\n",
    "\n",
    "# Append classifier to preprocessing pipeline.\n",
    "# Now we have a full prediction pipeline.\n",
    "clf = Pipeline(\n",
    "    steps=[\n",
    "        (\"preprocessor\", preprocessor),\n",
    "        (\"classifier\", VotingClassifier(estimators=[\n",
    "            (\"gbc\", GradientBoostingClassifier(random_state=0)),\n",
    "            (\"rf\", RandomForestClassifier(random_state=0)), \n",
    "            (\"mlp\", MLPClassifier(random_state=0)),\n",
    "            (\"svc\", SVC(random_state=0, probability=True)),\n",
    "            (\"xgb\", XGBClassifier(random_state=0))], voting=\"soft\")),\n",
    "    ]\n",
    ")\n",
    "\n",
    "clf.fit(X_train, y_train)\n",
    "y_pred = clf.predict(X_test)\n",
    "score = accuracy_score(y_test, y_pred)\n",
    "print(\"Soft Voting Score: %.3f\" % score)"
   ]
  },
  {
   "cell_type": "markdown",
   "id": "236fe256",
   "metadata": {},
   "source": [
    "## GridSearch"
   ]
  },
  {
   "cell_type": "code",
   "execution_count": null,
   "id": "bec36282",
   "metadata": {},
   "outputs": [],
   "source": [
    "# Uncomment to run GridSearchCV on selected columns.\n",
    "# IMPORTANT: each parameter was run separately due to time constraints.\n",
    "# Running GridSearch with the whole param_grid will take many hours.\n",
    "\n",
    "# Features\n",
    "# numerical_cols = [\n",
    "        # \"B_Age\",\n",
    "        # \"B_Height\",\n",
    "        # \"B_Weight\",\n",
    "        # \"B_Reach\",\n",
    "        # \"B_Wins\",\n",
    "        # \"B_Losses\",\n",
    "        # \"B_Draws\",\n",
    "        # \"B_No_Contest\",\n",
    "        # \"B_Career_Significant_Strikes_Landed_PM\",\n",
    "        # \"B_Career_Striking_Accuracy\",\n",
    "        # \"B_Career_Significant_Strike_Defence\",\n",
    "        # \"B_Career_Takedown_Average\",\n",
    "        # \"B_Career_Takedown_Accuracy\",\n",
    "        # \"B_Career_Takedown_Defence\",\n",
    "        # \"B_Career_Submission_Average\",\n",
    "        # \"B_Knockdowns\",\n",
    "        # \"R_Age\",\n",
    "        # \"R_Height\",\n",
    "        # \"R_Weight\",\n",
    "        # \"R_Reach\",\n",
    "        # \"R_Wins\",\n",
    "        # \"R_Losses\",\n",
    "        # \"R_Draws\",\n",
    "        # \"R_No_Contest\",\n",
    "        # \"R_Career_Significant_Strikes_Landed_PM\",\n",
    "        # \"R_Career_Striking_Accuracy\",\n",
    "        # \"R_Career_Significant_Strike_Defence\",\n",
    "        # \"R_Career_Takedown_Average\",\n",
    "        # \"R_Career_Takedown_Accuracy\",\n",
    "        # \"R_Career_Takedown_Defence\",\n",
    "        # \"R_Career_Submission_Average\",\n",
    "        # \"R_Knockdowns\"]\n",
    "\n",
    "# categorical_cols = [\"B_Stance\", \"R_Stance\"]\n",
    "\n",
    "# Train-Test split\n",
    "# X = ufc_df.drop(\"Winner\", axis=1)\n",
    "# y = ufc_df[\"Winner\"]\n",
    "\n",
    "# X_train, X_test, y_train, y_test = train_test_split(X, y, test_size=0.2, random_state=1)\n",
    "\n",
    "# Apply pipeline\n",
    "# numeric_transformer = Pipeline(\n",
    "    # steps=[\n",
    "        # (\"imputer\", SimpleImputer(strategy=\"constant\", add_indicator=True)),\n",
    "        # (\"scaler\", StandardScaler()),\n",
    "    # ]\n",
    "# )\n",
    "\n",
    "# categorical_transformer = Pipeline(\n",
    "    # steps=[\n",
    "        # (\"onehot\", OneHotEncoder(handle_unknown=\"ignore\")),\n",
    "    # ]\n",
    "# )\n",
    "\n",
    "# preprocessor = ColumnTransformer(\n",
    "    # transformers=[\n",
    "        # (\"num\", numeric_transformer, numerical_cols),\n",
    "        # (\"cat\", categorical_transformer, categorical_cols),\n",
    "    # ]\n",
    "# )\n",
    "\n",
    "# clf = Pipeline(\n",
    "    # steps=[\n",
    "        # (\"preprocessor\", preprocessor),\n",
    "        # (\"classifier\", VotingClassifier(estimators=[\n",
    "            # (\"gbc\", GradientBoostingClassifier(random_state=0)),\n",
    "            # (\"rf\", RandomForestClassifier(random_state=0)), \n",
    "            # (\"mlp\", MLPClassifier(random_state=0)),\n",
    "            # (\"svc\", SVC(random_state=0, probability=True)),\n",
    "            # (\"xgb\", XGBClassifier(random_state=0))], voting=\"soft\")),\n",
    "    # ]\n",
    "# )\n",
    "\n",
    "# clf.fit(X_train, y_train)\n",
    "\n",
    "# param_grid = {\n",
    "    # \"classifier__gbc__learning_rate\": [0.05, 0.1, 0.5],\n",
    "    # \"classifier__gbc__loss\": [\"deviance\", \"exponential\"],\n",
    "    # \"classifier__gbc__random_state\": [0, 1],\n",
    "    # \"classifier__rf__n_estimators\": [100, 200, 250, 300, 500, 700],\n",
    "    # \"classifier__rf__max_features\": [\"auto\", \"sqrt\"],\n",
    "    # \"classifier__rf__random_state\": [0, 1],\n",
    "    # \"classifier__mlp__alpha\": [0.0001, 0.001, 0.005],\n",
    "    # \"classifier__mlp__activation\": [\"tanh\", \"relu\"],\n",
    "    # \"classifier__mlp__random_state\": [0, 1],\n",
    "    # \"classifier__svc__C\": [0.05, 0.1, 0.5],\n",
    "    # \"classifier__svc__random_state\": [0, 1],\n",
    "    # \"classifier__xgb__base_score\": [0.3, 0.5],\n",
    "    # \"classifier__xgb__booster\": [\"gbtree\", \"gblinear\"],\n",
    "    # \"classifier__xgb__max_depth\": [3, 5, 7],\n",
    "    # \"classifier__xgb__random_state\": [0, 1]\n",
    "# }\n",
    "\n",
    "# grid = GridSearchCV(clf, param_grid=param_grid, cv=5)\n",
    "# grid = grid.fit(X_train, y_train)\n",
    "# print (grid.best_params_)"
   ]
  },
  {
   "cell_type": "markdown",
   "id": "cbe1aec9",
   "metadata": {},
   "source": [
    "## VotingClassifier with modified parameters"
   ]
  },
  {
   "cell_type": "code",
   "execution_count": null,
   "id": "53e8fe84",
   "metadata": {},
   "outputs": [],
   "source": [
    "# Features\n",
    "numerical_cols = selector(dtype_include=\"number\")\n",
    "categorical_cols = selector(dtype_include=\"category\")\n",
    "\n",
    "# Train-Test split\n",
    "X = ufc_df.drop(\"Winner\", axis=1)\n",
    "y = ufc_df[\"Winner\"]\n",
    "\n",
    "X_train, X_test, y_train, y_test = train_test_split(X, y, test_size=0.2, random_state=1)\n",
    "\n",
    "# Apply pipeline\n",
    "numeric_transformer = Pipeline(\n",
    "    steps=[\n",
    "        (\"imputer\", SimpleImputer(strategy=\"constant\", add_indicator=True)),\n",
    "        (\"scaler\", StandardScaler()),\n",
    "    ]\n",
    ")\n",
    "\n",
    "categorical_transformer = Pipeline(\n",
    "    steps=[\n",
    "        (\"onehot\", OneHotEncoder(handle_unknown=\"ignore\")),\n",
    "    ]\n",
    ")\n",
    "\n",
    "preprocessor = ColumnTransformer(\n",
    "    transformers=[\n",
    "        (\"num\", numeric_transformer, numerical_cols),\n",
    "        (\"cat\", categorical_transformer, categorical_cols),\n",
    "    ]\n",
    ")\n",
    "\n",
    "clf = Pipeline(\n",
    "    steps=[\n",
    "        (\"preprocessor\", preprocessor),\n",
    "        (\"classifier\", VotingClassifier(estimators=[\n",
    "            (\"gbc\", GradientBoostingClassifier(learning_rate=0.1, loss=\"deviance\", random_state=1)),\n",
    "            (\"rf\", RandomForestClassifier(max_features=\"auto\", n_estimators=500, random_state=0)), \n",
    "            (\"mlp\", MLPClassifier(alpha=0.001, activation=\"relu\", random_state=1)),\n",
    "            (\"svc\", SVC(C=0.1, probability=True, random_state=0)),\n",
    "            (\"xgb\", XGBClassifier(base_score=0.3, booster=\"gbtree\", max_depth=5, random_state=0))], voting=\"soft\"))\n",
    "    ]\n",
    ")\n",
    "\n",
    "clf.fit(X_train, y_train)\n",
    "y_pred = clf.predict(X_test)\n",
    "score = accuracy_score(y_test, y_pred)\n",
    "print(\"Soft Voting Score: %.3f\" % score)"
   ]
  },
  {
   "cell_type": "markdown",
   "id": "0aa05b64",
   "metadata": {},
   "source": [
    "### Display Diagram of Pipeline"
   ]
  },
  {
   "cell_type": "code",
   "execution_count": null,
   "id": "f727cdef",
   "metadata": {},
   "outputs": [],
   "source": [
    "set_config(display=\"diagram\")\n",
    "clf"
   ]
  },
  {
   "cell_type": "markdown",
   "id": "f0743860",
   "metadata": {},
   "source": [
    "### Classification Report"
   ]
  },
  {
   "cell_type": "code",
   "execution_count": null,
   "id": "ef37caf5",
   "metadata": {},
   "outputs": [],
   "source": [
    "y_pred = clf.predict(X_test)\n",
    "print(classification_report(y_test, y_pred))"
   ]
  },
  {
   "cell_type": "markdown",
   "id": "78471866",
   "metadata": {},
   "source": [
    "### Confusion Matrix"
   ]
  },
  {
   "cell_type": "code",
   "execution_count": null,
   "id": "4afddc6a",
   "metadata": {},
   "outputs": [],
   "source": [
    "disp = ConfusionMatrixDisplay.from_predictions(\n",
    "    y_test, y_pred, cmap=\"Blues\", values_format=\"d\"\n",
    ")\n",
    "plt.show()"
   ]
  },
  {
   "cell_type": "markdown",
   "id": "6f5a5e75",
   "metadata": {},
   "source": [
    "### Model Persistence\n"
   ]
  },
  {
   "cell_type": "code",
   "execution_count": null,
   "id": "0aaa082e",
   "metadata": {},
   "outputs": [],
   "source": [
    "# Uncomment to create save classifier. Do not upload file to repo. \n",
    "# from joblib import dump\n",
    "# dump(clf, \"Resources/clf.joblib\")\n"
   ]
  },
  {
   "cell_type": "code",
   "execution_count": null,
   "id": "365d67e4",
   "metadata": {},
   "outputs": [],
   "source": []
  }
 ],
 "metadata": {
  "interpreter": {
   "hash": "206f93c7eca5629e8e34ac967bba2d37c63fcec66bfcbae7e8bd97a1236c9e23"
  },
  "kernelspec": {
   "display_name": "Python 3 (ipykernel)",
   "language": "python",
   "name": "python3"
  },
  "language_info": {
   "codemirror_mode": {
    "name": "ipython",
    "version": 3
   },
   "file_extension": ".py",
   "mimetype": "text/x-python",
   "name": "python",
   "nbconvert_exporter": "python",
   "pygments_lexer": "ipython3",
   "version": "3.7.11"
  }
 },
 "nbformat": 4,
 "nbformat_minor": 5
}
